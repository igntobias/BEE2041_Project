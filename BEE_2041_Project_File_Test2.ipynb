{
 "cells": [
  {
   "cell_type": "code",
   "execution_count": 1,
   "id": "6392af7c",
   "metadata": {},
   "outputs": [],
   "source": [
    "from bs4 import BeautifulSoup\n",
    "from urllib.request import urlopen\n",
    "import numpy as np\n",
    "import pandas as pd\n",
    "import matplotlib.pyplot as plt"
   ]
  },
  {
   "cell_type": "code",
   "execution_count": 2,
   "id": "19e5513e",
   "metadata": {},
   "outputs": [],
   "source": [
    "import requests"
   ]
  },
  {
   "cell_type": "code",
   "execution_count": 101,
   "id": "fd0c13dd",
   "metadata": {},
   "outputs": [],
   "source": [
    "#url = \"https://genshin-impact.fandom.com/wiki/Arataki_Itto\"\n",
    "#page = requests.get(url)\n",
    "#print(page.text)\n",
    "#soup = BeautifulSoup(page.text, \"html.parser\")"
   ]
  },
  {
   "cell_type": "markdown",
   "id": "7138b1fd",
   "metadata": {},
   "source": [
    "### Obtaining all Names"
   ]
  },
  {
   "cell_type": "code",
   "execution_count": 103,
   "id": "466395df",
   "metadata": {},
   "outputs": [],
   "source": [
    "#urlnames = \"https://game8.co/games/Genshin-Impact/archives/296707\"\n",
    "\n",
    "#Web scraping the wikia for Genshin's playable character list.\n",
    "\n",
    "urlnames = \"https://genshin-impact.fandom.com/wiki/Category:Playable_Characters\"\n",
    "\n",
    "pagenames = requests.get(urlnames)\n",
    "\n",
    "soupname = BeautifulSoup(pagenames.text, \"html.parser\")"
   ]
  },
  {
   "cell_type": "code",
   "execution_count": 114,
   "id": "ebfd149f",
   "metadata": {},
   "outputs": [
    {
     "name": "stdout",
     "output_type": "stream",
     "text": [
      "{'wds-is-not-scrollable wds-dropdown__content', 'global-explore-navigation__item global-explore-navigation__tab-item', 'client-nojs', 'category-page__alphabet-shortcut', 'global-footer__link', 'global-top-navigation__link global-top-navigation__start-new-wiki__anchor', 'trfc-147__item', 'notifications-placeholder', 'wds-collapsible-panel wds-is-collapsed page-footer__categories', 'wds-icon wds-icon-small sign-in__icon', 'global-top-navigation__item global-top-navigation__start-new-wiki', 'category-page__trending-page-thumbnail', 'wds-button wds-is-full-width global-action__register-link', 'trfc-147__content', 'wikiabar-button', 'fandom-community-header__community-name', 'ad-slot-placeholder bottom-leaderboard is-loading', 'wds-icon global-top-navigation__start-new-wiki__icon', 'wds-button wds-is-full-width wds-is-secondary global-navigation__signin-link', 'wds-dropdown wds-open-to-right is-attached-to-bottom is-anon-dropdown', 'global-footer__icon', 'fandom-community-header__background cover header', 'wds-dropdown-level-nested__toggle', 'page-footer', 'page-header__title-wrapper', 'category-page__members-for-char', 'wds-button wds-is-text wiki-tools__theme-switch', 'fandom-community-header__image', 'global-explore-navigation__icon', 'global-explore-navigation__icon wds-avatar wds-avatar--square', 'global-footer__links', 'wiki-tools wds-button-group', 'category-page__trending-pages', 'trfc-147__link', 'page-header', 'global-navigation__icon has-border', 'WikiaBarCollapseWrapper', 'category-page__first-char', 'wikia-bar wikia-bar-anon', 'global-footer__link-icon', 'global-navigation__link', 'WikiaBarWrapper hidden', 'fandom-community-header__top-container', 'global-footer__header-logo', 'wds-dropdown__toggle', 'wds-dropdown-level-nested', 'global-navigation__nav', 'fandom-sticky-header__logo', 'global-footer__bottom', 'global-footer__switch-view global-footer__switch-to-mobile', 'category normal', 'global-navigation__icon', 'global-navigation__logo', 'global-footer', 'wds-icon wds-icon-tiny wds-dropdown__toggle-chevron', 'category-page__total-number', 'fandom-community-header', 'article-categories CategorySelect articlePage', 'wds-button wds-is-secondary global__signin-link', 'wds-avatar__image', 'category-page__alphabet-shortcuts', 'page-header__meta', 'page-header__actions', 'global-action__button-label sign-in__label', 'global-navigation', 'bottom-ads-container', 'wds-tabs__tab-label wds-dropdown__toggle first-level-item', 'wds-icon wds-icon-small', 'wds-button wds-is-text page-header__action-button has-label', 'resizable-container', 'global-footer__section global-footer__section-fandom-overview', 'category-page__members-wrapper', 'sign-in__register-text', 'wds-button global__register-link', 'wds-is-not-scrollable wds-dropdown-level-nested__content', 'wds-avatar__badge', 'global-top-navigation__fandom-logo', 'wds-dropdown wds-open-to-right', 'page-header__page-subtitle', 'wds-icon-tiny wds-icon', 'global-footer__link ot-sdk-show-settings', 'category-page__trending-pages-header', 'page__main', 'category-page__member-left', 'message', 'global-navigation__icon has-background', 'community-header-wrapper', 'top-ads-container', 'category-page__member-thumbnail', 'wds-dropdown__content', 'wikia-bar-collapse', 'fandom-community-header__local-navigation', 'category-page__members', 'community-navigation fandom-sticky-header', 'category-page__member', 'category-page__trending-page', 'banner-notifications-placeholder', 'wds-button wds-is-full-width wds-is-secondary global-action__sign-in-link', 'global-registration-buttons', 'wds-icon-tiny wds-icon navigation-item-icon', 'search-container', 'mw-parser-output', 'global-navigation__top', 'community-navigation__fandom-heart', 'page-counter', 'wds-icon wds-icon-small category-page__member-left-icon', 'trfc-147__header', 'global-navigation__register-text', 'global-action__link wds-button sign-in__anchor', 'categoriesLink', 'page-side-tools__wrapper', 'special-categories-label', 'global-navigation__links', 'tool removeCategory', 'categories', 'page-header__top', 'container', 'global-navigation__label', 'global-explore-navigation__item global-explore-navigation__item--with-icon global-explore-navigation__explore global-explore-navigation__tab-item', 'global-action__item sign-in', 'wiki-tools', 'page-header__bottom', 'global-footer__section global-footer__section-fandom-stores', 'wds-list wds-is-linked', 'global-navigation__search global-navigation__icon', 'global-explore-navigation__current-wiki global-explore-navigation__divider', 'ad-slot-placeholder top-leaderboard is-loading', 'wds-dropdown__toggle wds-button wds-is-text page-header__action-button', 'wds-icon wds-icon-tiny wds-dropdown-chevron', 'page__right-rail', 'wds-collapsible-panel__header', 'global-explore-navigation__label', 'license-description', 'mediawiki ltr sitedir-ltr mw-hide-empty-elt ns-14 ns-subject page-Category_Playable_Characters rootpage-Category_Playable_Characters skin-fandomdesktop action-view ooui-theme-fandomooui wiki-gensinimpact theme-fandomdesktop-dark', 'global-footer__section-header', 'wds-button wds-is-secondary', 'name', 'wds-banner-notification__container', 'global-explore-navigation', 'global-explore-navigation__button', 'ae-translatable-label', 'global-navigation__bottom', 'global-footer__section global-footer__section-advertise', 'global-top-navigation__action-wrapper', 'wds-avatar wds-avatar--square', 'page-header__categories', 'page-header__categories-in', 'page-header__title', 'category-page__member-link', 'global-footer__section global-footer__section-community', 'global-navigation__beta-badge', 'page-side-tools', 'global-footer__content', 'community-navigation__fandom-heart__link', 'mw-redirect category-page__member-link', 'page-side-tool page-side-edit', 'global-explore-navigation__top', 'page-content', 'global-footer__section global-footer__section-social-links', 'trfc-147__list', 'fandom-sticky-header__sitename', 'wds-dropdown sign-in__dropdown', 'wds-tabs', 'page-footer__trfc-147 trfc-147', 'wds-icon wds-icon-small close-icon', 'global-top-navigation', 'page has-right-rail', 'new', 'wds-dropdown__content wds-is-right-aligned wds-is-not-scrollable', 'wds-collapsible-panel__content', 'wds-icon', 'wds-button wds-is-text', 'global-footer__header', 'global-explore-navigation__label global-explore-navigation__label--main', 'global-footer__section global-footer__section-fandom-apps', 'global-footer__section global-footer__section-site-overview', 'wds-button wds-is-secondary wiki-tools__theme-switch', 'global-top-navigation__button-label global-top-navigation__start-new-wiki__label', 'wds-button wds-is-secondary is-hidden-on-smaller-breakpoints wiki-tools__search', 'global-explore-navigation__nav', 'wds-dropdown__content wds-is-not-scrollable wds-is-right-aligned sign-in__dropdown-content', 'global-explore-navigation__tab-container', 'category-page__trending-page-title', 'page-counter__value', 'fandom-community-header__community-name-wrapper', 'page-counter__label', 'main-container', 'page-side-tool content-size-toggle', 'global-footer__link-icon wds-icon wds-icon-small', 'fandom-sticky-header', 'mw-body-content mw-content-ltr', 'wds-button wds-is-full-width global-navigation__register-link', 'wds-dropdown', 'arrow', 'global-explore-navigation__recently-visited', 'wds-dropdown explore-menu', 'right-rail-wrapper WikiaRail'}\n"
     ]
    }
   ],
   "source": [
    "#Obtaining list of all classes used in the \"Names\" web page for the Genshin Characters\n",
    "\n",
    "# class list set \n",
    "class_list = set() \n",
    "\n",
    "# Page content from Website URL \n",
    "page = requests.get(urlnames) \n",
    "\n",
    "# parse html content \n",
    "soup = BeautifulSoup(page.content , 'html.parser') \n",
    "\n",
    "# get all tags \n",
    "tags = {tag.name for tag in soup.find_all()} \n",
    "\n",
    "\n",
    "for tag in tags:                       # iterate all tags \n",
    "\n",
    "    for i in soup.find_all( tag ):     # find all element of tag \n",
    " \n",
    "        if i.has_attr( \"class\" ):      # if tag has attribute of class\n",
    "\n",
    "            if len( i['class'] ) != 0: \n",
    "                class_list.add(\" \".join( i['class'])) \n",
    "\n",
    "print(class_list) "
   ]
  },
  {
   "cell_type": "code",
   "execution_count": 106,
   "id": "9b13c3c3",
   "metadata": {},
   "outputs": [
    {
     "data": {
      "text/plain": [
       "[<a class=\"category-page__member-link\" href=\"/wiki/Category:Crossover_Characters\" title=\"Category:Crossover Characters\">Category:Crossover Characters</a>,\n",
       " <a class=\"category-page__member-link\" href=\"/wiki/Category:Event-Exclusive_Characters\" title=\"Category:Event-Exclusive Characters\">Category:Event-Exclusive Characters</a>,\n",
       " <a class=\"category-page__member-link\" href=\"/wiki/Category:Non-Wish_Characters\" title=\"Category:Non-Wish Characters\">Category:Non-Wish Characters</a>,\n",
       " <a class=\"category-page__member-link\" href=\"/wiki/Category:Playable_Characters_by_Region\" title=\"Category:Playable Characters by Region\">Category:Playable Characters by Region</a>,\n",
       " <a class=\"category-page__member-link\" href=\"/wiki/Category:Standard_Wish_Characters\" title=\"Category:Standard Wish Characters\">Category:Standard Wish Characters</a>,\n",
       " <a class=\"mw-redirect category-page__member-link\" href=\"/wiki/Aether\" title=\"Aether\">Aether</a>,\n",
       " <a class=\"category-page__member-link\" href=\"/wiki/Albedo\" title=\"Albedo\">Albedo</a>,\n",
       " <a class=\"category-page__member-link\" href=\"/wiki/Alhaitham\" title=\"Alhaitham\">Alhaitham</a>,\n",
       " <a class=\"category-page__member-link\" href=\"/wiki/Aloy\" title=\"Aloy\">Aloy</a>,\n",
       " <a class=\"category-page__member-link\" href=\"/wiki/Amber\" title=\"Amber\">Amber</a>,\n",
       " <a class=\"category-page__member-link\" href=\"/wiki/Arataki_Itto\" title=\"Arataki Itto\">Arataki Itto</a>,\n",
       " <a class=\"category-page__member-link\" href=\"/wiki/Baizhu\" title=\"Baizhu\">Baizhu</a>,\n",
       " <a class=\"category-page__member-link\" href=\"/wiki/Barbara\" title=\"Barbara\">Barbara</a>,\n",
       " <a class=\"category-page__member-link\" href=\"/wiki/Beidou\" title=\"Beidou\">Beidou</a>,\n",
       " <a class=\"category-page__member-link\" href=\"/wiki/Bennett\" title=\"Bennett\">Bennett</a>,\n",
       " <a class=\"category-page__member-link\" href=\"/wiki/Candace\" title=\"Candace\">Candace</a>,\n",
       " <a class=\"category-page__member-link\" href=\"/wiki/Charlotte\" title=\"Charlotte\">Charlotte</a>,\n",
       " <a class=\"category-page__member-link\" href=\"/wiki/Chevreuse\" title=\"Chevreuse\">Chevreuse</a>,\n",
       " <a class=\"category-page__member-link\" href=\"/wiki/Chiori\" title=\"Chiori\">Chiori</a>,\n",
       " <a class=\"category-page__member-link\" href=\"/wiki/Chongyun\" title=\"Chongyun\">Chongyun</a>,\n",
       " <a class=\"category-page__member-link\" href=\"/wiki/Collei\" title=\"Collei\">Collei</a>,\n",
       " <a class=\"category-page__member-link\" href=\"/wiki/Cyno\" title=\"Cyno\">Cyno</a>,\n",
       " <a class=\"category-page__member-link\" href=\"/wiki/Dehya\" title=\"Dehya\">Dehya</a>,\n",
       " <a class=\"category-page__member-link\" href=\"/wiki/Diluc\" title=\"Diluc\">Diluc</a>,\n",
       " <a class=\"category-page__member-link\" href=\"/wiki/Diona\" title=\"Diona\">Diona</a>,\n",
       " <a class=\"category-page__member-link\" href=\"/wiki/Dori\" title=\"Dori\">Dori</a>,\n",
       " <a class=\"category-page__member-link\" href=\"/wiki/Eula\" title=\"Eula\">Eula</a>,\n",
       " <a class=\"category-page__member-link\" href=\"/wiki/Faruzan\" title=\"Faruzan\">Faruzan</a>,\n",
       " <a class=\"category-page__member-link\" href=\"/wiki/Fischl\" title=\"Fischl\">Fischl</a>,\n",
       " <a class=\"category-page__member-link\" href=\"/wiki/Freminet\" title=\"Freminet\">Freminet</a>,\n",
       " <a class=\"category-page__member-link\" href=\"/wiki/Furina\" title=\"Furina\">Furina</a>,\n",
       " <a class=\"category-page__member-link\" href=\"/wiki/Gaming\" title=\"Gaming\">Gaming</a>,\n",
       " <a class=\"category-page__member-link\" href=\"/wiki/Ganyu\" title=\"Ganyu\">Ganyu</a>,\n",
       " <a class=\"category-page__member-link\" href=\"/wiki/Gorou\" title=\"Gorou\">Gorou</a>,\n",
       " <a class=\"category-page__member-link\" href=\"/wiki/Hu_Tao\" title=\"Hu Tao\">Hu Tao</a>,\n",
       " <a class=\"category-page__member-link\" href=\"/wiki/Jean\" title=\"Jean\">Jean</a>,\n",
       " <a class=\"category-page__member-link\" href=\"/wiki/Kaedehara_Kazuha\" title=\"Kaedehara Kazuha\">Kaedehara Kazuha</a>,\n",
       " <a class=\"category-page__member-link\" href=\"/wiki/Kaeya\" title=\"Kaeya\">Kaeya</a>,\n",
       " <a class=\"category-page__member-link\" href=\"/wiki/Kamisato_Ayaka\" title=\"Kamisato Ayaka\">Kamisato Ayaka</a>,\n",
       " <a class=\"category-page__member-link\" href=\"/wiki/Kamisato_Ayato\" title=\"Kamisato Ayato\">Kamisato Ayato</a>,\n",
       " <a class=\"category-page__member-link\" href=\"/wiki/Kaveh\" title=\"Kaveh\">Kaveh</a>,\n",
       " <a class=\"category-page__member-link\" href=\"/wiki/Keqing\" title=\"Keqing\">Keqing</a>,\n",
       " <a class=\"category-page__member-link\" href=\"/wiki/Kirara\" title=\"Kirara\">Kirara</a>,\n",
       " <a class=\"category-page__member-link\" href=\"/wiki/Klee\" title=\"Klee\">Klee</a>,\n",
       " <a class=\"category-page__member-link\" href=\"/wiki/Kujou_Sara\" title=\"Kujou Sara\">Kujou Sara</a>,\n",
       " <a class=\"category-page__member-link\" href=\"/wiki/Kuki_Shinobu\" title=\"Kuki Shinobu\">Kuki Shinobu</a>,\n",
       " <a class=\"category-page__member-link\" href=\"/wiki/Layla\" title=\"Layla\">Layla</a>,\n",
       " <a class=\"category-page__member-link\" href=\"/wiki/Lisa\" title=\"Lisa\">Lisa</a>,\n",
       " <a class=\"mw-redirect category-page__member-link\" href=\"/wiki/Lumine\" title=\"Lumine\">Lumine</a>,\n",
       " <a class=\"category-page__member-link\" href=\"/wiki/Lynette\" title=\"Lynette\">Lynette</a>,\n",
       " <a class=\"category-page__member-link\" href=\"/wiki/Lyney\" title=\"Lyney\">Lyney</a>,\n",
       " <a class=\"category-page__member-link\" href=\"/wiki/Mika\" title=\"Mika\">Mika</a>,\n",
       " <a class=\"category-page__member-link\" href=\"/wiki/Mona\" title=\"Mona\">Mona</a>,\n",
       " <a class=\"category-page__member-link\" href=\"/wiki/Nahida\" title=\"Nahida\">Nahida</a>,\n",
       " <a class=\"category-page__member-link\" href=\"/wiki/Navia\" title=\"Navia\">Navia</a>,\n",
       " <a class=\"category-page__member-link\" href=\"/wiki/Neuvillette\" title=\"Neuvillette\">Neuvillette</a>,\n",
       " <a class=\"category-page__member-link\" href=\"/wiki/Nilou\" title=\"Nilou\">Nilou</a>,\n",
       " <a class=\"category-page__member-link\" href=\"/wiki/Ningguang\" title=\"Ningguang\">Ningguang</a>,\n",
       " <a class=\"category-page__member-link\" href=\"/wiki/Noelle\" title=\"Noelle\">Noelle</a>,\n",
       " <a class=\"category-page__member-link\" href=\"/wiki/Qiqi\" title=\"Qiqi\">Qiqi</a>,\n",
       " <a class=\"category-page__member-link\" href=\"/wiki/Raiden_Shogun\" title=\"Raiden Shogun\">Raiden Shogun</a>,\n",
       " <a class=\"category-page__member-link\" href=\"/wiki/Razor\" title=\"Razor\">Razor</a>,\n",
       " <a class=\"category-page__member-link\" href=\"/wiki/Rosaria\" title=\"Rosaria\">Rosaria</a>,\n",
       " <a class=\"category-page__member-link\" href=\"/wiki/Sangonomiya_Kokomi\" title=\"Sangonomiya Kokomi\">Sangonomiya Kokomi</a>,\n",
       " <a class=\"category-page__member-link\" href=\"/wiki/Sayu\" title=\"Sayu\">Sayu</a>,\n",
       " <a class=\"category-page__member-link\" href=\"/wiki/Shenhe\" title=\"Shenhe\">Shenhe</a>,\n",
       " <a class=\"category-page__member-link\" href=\"/wiki/Shikanoin_Heizou\" title=\"Shikanoin Heizou\">Shikanoin Heizou</a>,\n",
       " <a class=\"category-page__member-link\" href=\"/wiki/Sucrose\" title=\"Sucrose\">Sucrose</a>,\n",
       " <a class=\"category-page__member-link\" href=\"/wiki/Tartaglia\" title=\"Tartaglia\">Tartaglia</a>,\n",
       " <a class=\"category-page__member-link\" href=\"/wiki/Thoma\" title=\"Thoma\">Thoma</a>,\n",
       " <a class=\"category-page__member-link\" href=\"/wiki/Tighnari\" title=\"Tighnari\">Tighnari</a>,\n",
       " <a class=\"category-page__member-link\" href=\"/wiki/Traveler\" title=\"Traveler\">Traveler</a>,\n",
       " <a class=\"category-page__member-link\" href=\"/wiki/Traveler_(Anemo)\" title=\"Traveler (Anemo)\">Traveler (Anemo)</a>,\n",
       " <a class=\"category-page__member-link\" href=\"/wiki/Traveler_(Dendro)\" title=\"Traveler (Dendro)\">Traveler (Dendro)</a>,\n",
       " <a class=\"category-page__member-link\" href=\"/wiki/Traveler_(Electro)\" title=\"Traveler (Electro)\">Traveler (Electro)</a>,\n",
       " <a class=\"category-page__member-link\" href=\"/wiki/Traveler_(Geo)\" title=\"Traveler (Geo)\">Traveler (Geo)</a>,\n",
       " <a class=\"category-page__member-link\" href=\"/wiki/Traveler_(Hydro)\" title=\"Traveler (Hydro)\">Traveler (Hydro)</a>,\n",
       " <a class=\"category-page__member-link\" href=\"/wiki/Traveler_(Unaligned)\" title=\"Traveler (Unaligned)\">Traveler (Unaligned)</a>,\n",
       " <a class=\"category-page__member-link\" href=\"/wiki/Venti\" title=\"Venti\">Venti</a>,\n",
       " <a class=\"category-page__member-link\" href=\"/wiki/Wanderer\" title=\"Wanderer\">Wanderer</a>,\n",
       " <a class=\"category-page__member-link\" href=\"/wiki/Wriothesley\" title=\"Wriothesley\">Wriothesley</a>,\n",
       " <a class=\"category-page__member-link\" href=\"/wiki/Xiangling\" title=\"Xiangling\">Xiangling</a>,\n",
       " <a class=\"category-page__member-link\" href=\"/wiki/Xianyun\" title=\"Xianyun\">Xianyun</a>,\n",
       " <a class=\"category-page__member-link\" href=\"/wiki/Xiao\" title=\"Xiao\">Xiao</a>,\n",
       " <a class=\"category-page__member-link\" href=\"/wiki/Xingqiu\" title=\"Xingqiu\">Xingqiu</a>,\n",
       " <a class=\"category-page__member-link\" href=\"/wiki/Xinyan\" title=\"Xinyan\">Xinyan</a>,\n",
       " <a class=\"category-page__member-link\" href=\"/wiki/Yae_Miko\" title=\"Yae Miko\">Yae Miko</a>,\n",
       " <a class=\"category-page__member-link\" href=\"/wiki/Yanfei\" title=\"Yanfei\">Yanfei</a>,\n",
       " <a class=\"category-page__member-link\" href=\"/wiki/Yaoyao\" title=\"Yaoyao\">Yaoyao</a>,\n",
       " <a class=\"category-page__member-link\" href=\"/wiki/Yelan\" title=\"Yelan\">Yelan</a>,\n",
       " <a class=\"category-page__member-link\" href=\"/wiki/Yoimiya\" title=\"Yoimiya\">Yoimiya</a>,\n",
       " <a class=\"category-page__member-link\" href=\"/wiki/Yun_Jin\" title=\"Yun Jin\">Yun Jin</a>,\n",
       " <a class=\"category-page__member-link\" href=\"/wiki/Zhongli\" title=\"Zhongli\">Zhongli</a>]"
      ]
     },
     "execution_count": 106,
     "metadata": {},
     "output_type": "execute_result"
    }
   ],
   "source": [
    "#Scraping through to get the html, identifying which class and identifier to find the names\n",
    "\n",
    "imgtag = soupname.find_all(\"a\", class_=\"category-page__member-link\")\n",
    "imgtag"
   ]
  },
  {
   "cell_type": "code",
   "execution_count": 126,
   "id": "954f9ca3",
   "metadata": {},
   "outputs": [
    {
     "data": {
      "text/plain": [
       "['Albedo',\n",
       " 'Alhaitham',\n",
       " 'Aloy',\n",
       " 'Amber',\n",
       " 'Arataki Itto',\n",
       " 'Baizhu',\n",
       " 'Barbara',\n",
       " 'Beidou',\n",
       " 'Bennett',\n",
       " 'Candace',\n",
       " 'Charlotte',\n",
       " 'Chevreuse',\n",
       " 'Chiori',\n",
       " 'Chongyun',\n",
       " 'Collei',\n",
       " 'Cyno',\n",
       " 'Dehya',\n",
       " 'Diluc',\n",
       " 'Diona',\n",
       " 'Dori',\n",
       " 'Eula',\n",
       " 'Faruzan',\n",
       " 'Fischl',\n",
       " 'Freminet',\n",
       " 'Furina',\n",
       " 'Gaming',\n",
       " 'Ganyu',\n",
       " 'Gorou',\n",
       " 'Hu Tao',\n",
       " 'Jean',\n",
       " 'Kaedehara Kazuha',\n",
       " 'Kaeya',\n",
       " 'Kamisato Ayaka',\n",
       " 'Kamisato Ayato',\n",
       " 'Kaveh',\n",
       " 'Keqing',\n",
       " 'Kirara',\n",
       " 'Klee',\n",
       " 'Kujou Sara',\n",
       " 'Kuki Shinobu',\n",
       " 'Layla',\n",
       " 'Lisa',\n",
       " 'Lumine',\n",
       " 'Lynette',\n",
       " 'Lyney',\n",
       " 'Mika',\n",
       " 'Mona',\n",
       " 'Nahida',\n",
       " 'Navia',\n",
       " 'Neuvillette',\n",
       " 'Nilou',\n",
       " 'Ningguang',\n",
       " 'Noelle',\n",
       " 'Qiqi',\n",
       " 'Raiden Shogun',\n",
       " 'Razor',\n",
       " 'Rosaria',\n",
       " 'Sangonomiya Kokomi',\n",
       " 'Sayu',\n",
       " 'Shenhe',\n",
       " 'Shikanoin Heizou',\n",
       " 'Sucrose',\n",
       " 'Tartaglia',\n",
       " 'Thoma',\n",
       " 'Tighnari',\n",
       " 'Traveler',\n",
       " 'Traveler (Anemo)',\n",
       " 'Traveler (Dendro)',\n",
       " 'Traveler (Electro)',\n",
       " 'Traveler (Geo)',\n",
       " 'Traveler (Hydro)',\n",
       " 'Traveler (Unaligned)',\n",
       " 'Venti',\n",
       " 'Wanderer',\n",
       " 'Wriothesley',\n",
       " 'Xiangling',\n",
       " 'Xianyun',\n",
       " 'Xiao',\n",
       " 'Xingqiu',\n",
       " 'Xinyan',\n",
       " 'Yae Miko',\n",
       " 'Yanfei',\n",
       " 'Yaoyao',\n",
       " 'Yelan',\n",
       " 'Yoimiya',\n",
       " 'Yun Jin',\n",
       " 'Zhongli']"
      ]
     },
     "metadata": {},
     "output_type": "display_data"
    },
    {
     "name": "stdout",
     "output_type": "stream",
     "text": [
      "['Albedo', 'Alhaitham', 'Aloy', 'Amber', 'Arataki_Itto', 'Baizhu', 'Barbara', 'Beidou', 'Bennett', 'Candace', 'Charlotte', 'Chevreuse', 'Chiori', 'Chongyun', 'Collei', 'Cyno', 'Dehya', 'Diluc', 'Diona', 'Dori', 'Eula', 'Faruzan', 'Fischl', 'Freminet', 'Furina', 'Gaming', 'Ganyu', 'Gorou', 'Hu_Tao', 'Jean', 'Kaedehara_Kazuha', 'Kaeya', 'Kamisato_Ayaka', 'Kamisato_Ayato', 'Kaveh', 'Keqing', 'Kirara', 'Klee', 'Kujou_Sara', 'Kuki_Shinobu', 'Layla', 'Lisa', 'Lumine', 'Lynette', 'Lyney', 'Mika', 'Mona', 'Nahida', 'Navia', 'Neuvillette', 'Nilou', 'Ningguang', 'Noelle', 'Qiqi', 'Raiden_Shogun', 'Razor', 'Rosaria', 'Sangonomiya_Kokomi', 'Sayu', 'Shenhe', 'Shikanoin_Heizou', 'Sucrose', 'Tartaglia', 'Thoma', 'Tighnari', 'Traveler', 'Traveler_(Anemo)', 'Traveler_(Dendro)', 'Traveler_(Electro)', 'Traveler_(Geo)', 'Traveler_(Hydro)', 'Traveler_(Unaligned)', 'Venti', 'Wanderer', 'Wriothesley', 'Xiangling', 'Xianyun', 'Xiao', 'Xingqiu', 'Xinyan', 'Yae_Miko', 'Yanfei', 'Yaoyao', 'Yelan', 'Yoimiya', 'Yun_Jin', 'Zhongli']\n"
     ]
    }
   ],
   "source": [
    "#Converting the soup into a usable List\n",
    "\n",
    "type(imgtag)\n",
    "\n",
    "titles = [tag['title'] for tag in imgtag]\n",
    "characters = titles[6:]\n",
    "display(characters)\n",
    "type(characters)\n",
    "\n",
    "\n",
    "#Replacing spaces with underscores for it to be usable in iterating through the wikia pages\n",
    "\n",
    "converter = lambda x: x.replace(' ', '_')\n",
    "characters = list(map(converter, characters))\n",
    "print(characters)"
   ]
  },
  {
   "cell_type": "code",
   "execution_count": 210,
   "id": "56ab7891",
   "metadata": {},
   "outputs": [
    {
     "data": {
      "text/plain": [
       "[<li>Constellation Level 1, <span class=\"item constellation\"><span class=\"item-image\"><span class=\"hidden\" style=\"height:20px;width:20px\"><a href=\"/wiki/Flower_of_Eden\" title=\"Flower of Eden\"><img alt=\"Flower of Eden\" class=\"lazyload\" data-image-key=\"Constellation_Flower_of_Eden.png\" data-image-name=\"Constellation Flower of Eden.png\" data-relevant=\"0\" data-src=\"https://static.wikia.nocookie.net/gensin-impact/images/2/29/Constellation_Flower_of_Eden.png/revision/latest/scale-to-width-down/20?cb=20210607082757\" decoding=\"async\" height=\"20\" loading=\"lazy\" src=\"data:image/gif;base64,R0lGODlhAQABAIABAAAAAP///yH5BAEAAAEALAAAAAABAAEAQAICTAEAOw%3D%3D\" width=\"20\"/></a></span><span class=\"mobile-only\"><a href=\"/wiki/Flower_of_Eden\" title=\"Flower of Eden\"><img alt=\"Flower of Eden\" class=\"lazyload\" data-image-key=\"Constellation_Flower_of_Eden.png\" data-image-name=\"Constellation Flower of Eden.png\" data-relevant=\"0\" data-src=\"https://static.wikia.nocookie.net/gensin-impact/images/2/29/Constellation_Flower_of_Eden.png/revision/latest/scale-to-width-down/30?cb=20210607082757\" decoding=\"async\" height=\"30\" loading=\"lazy\" src=\"data:image/gif;base64,R0lGODlhAQABAIABAAAAAP///yH5BAEAAAEALAAAAAABAAEAQAICTAEAOw%3D%3D\" width=\"30\"/></a></span></span><span class=\"item-text\"> <a href=\"/wiki/Flower_of_Eden\" title=\"Flower of Eden\">Flower of Eden</a></span></span>: \"Transient Blossoms generated by Albedo's <a href=\"/wiki/Abiogenesis:_Solar_Isotoma\" title=\"Abiogenesis: Solar Isotoma\">Abiogenesis: Solar Isotoma</a> regenerate 1.2 Energy for Albedo.\"</li>,\n",
       " <li>Constellation Level 2, <span class=\"item constellation\"><span class=\"item-image\"><span class=\"hidden\" style=\"height:20px;width:20px\"><a href=\"/wiki/Opening_of_Phanerozoic\" title=\"Opening of Phanerozoic\"><img alt=\"Opening of Phanerozoic\" class=\"lazyload\" data-image-key=\"Constellation_Opening_of_Phanerozoic.png\" data-image-name=\"Constellation Opening of Phanerozoic.png\" data-relevant=\"0\" data-src=\"https://static.wikia.nocookie.net/gensin-impact/images/d/d8/Constellation_Opening_of_Phanerozoic.png/revision/latest/scale-to-width-down/20?cb=20210607083632\" decoding=\"async\" height=\"20\" loading=\"lazy\" src=\"data:image/gif;base64,R0lGODlhAQABAIABAAAAAP///yH5BAEAAAEALAAAAAABAAEAQAICTAEAOw%3D%3D\" width=\"20\"/></a></span><span class=\"mobile-only\"><a href=\"/wiki/Opening_of_Phanerozoic\" title=\"Opening of Phanerozoic\"><img alt=\"Opening of Phanerozoic\" class=\"lazyload\" data-image-key=\"Constellation_Opening_of_Phanerozoic.png\" data-image-name=\"Constellation Opening of Phanerozoic.png\" data-relevant=\"0\" data-src=\"https://static.wikia.nocookie.net/gensin-impact/images/d/d8/Constellation_Opening_of_Phanerozoic.png/revision/latest/scale-to-width-down/30?cb=20210607083632\" decoding=\"async\" height=\"30\" loading=\"lazy\" src=\"data:image/gif;base64,R0lGODlhAQABAIABAAAAAP///yH5BAEAAAEALAAAAAABAAEAQAICTAEAOw%3D%3D\" width=\"30\"/></a></span></span><span class=\"item-text\"> <a href=\"/wiki/Opening_of_Phanerozoic\" title=\"Opening of Phanerozoic\">Opening of Phanerozoic</a></span></span>: Albedo gains one stack of Fatal Reckoning for each Transient Blossom generated from Abiogenesis: Solar Isotoma, up to a maximum of 4 stacks. Upon using <a href=\"/wiki/Rite_of_Progeniture:_Tectonic_Tide\" title=\"Rite of Progeniture: Tectonic Tide\">Rite of Progeniture: Tectonic Tide</a>, all stacks of Fatal Reckoning are consumed, with each stack consumed increasing all damage dealt by Rite of Progeniture: Tectonic Tide (including Fatal Blossom damage) by 30% of Albedo's DEF.</li>,\n",
       " <li>Constellation Level 3, <span class=\"item constellation\"><span class=\"item-image\"><span class=\"hidden\" style=\"height:20px;width:20px\"><a href=\"/wiki/Grace_of_Helios\" title=\"Grace of Helios\"><img alt=\"Grace of Helios\" class=\"lazyload\" data-image-key=\"Constellation_Grace_of_Helios.png\" data-image-name=\"Constellation Grace of Helios.png\" data-relevant=\"0\" data-src=\"https://static.wikia.nocookie.net/gensin-impact/images/e/e8/Constellation_Grace_of_Helios.png/revision/latest/scale-to-width-down/20?cb=20210607083002\" decoding=\"async\" height=\"20\" loading=\"lazy\" src=\"data:image/gif;base64,R0lGODlhAQABAIABAAAAAP///yH5BAEAAAEALAAAAAABAAEAQAICTAEAOw%3D%3D\" width=\"20\"/></a></span><span class=\"mobile-only\"><a href=\"/wiki/Grace_of_Helios\" title=\"Grace of Helios\"><img alt=\"Grace of Helios\" class=\"lazyload\" data-image-key=\"Constellation_Grace_of_Helios.png\" data-image-name=\"Constellation Grace of Helios.png\" data-relevant=\"0\" data-src=\"https://static.wikia.nocookie.net/gensin-impact/images/e/e8/Constellation_Grace_of_Helios.png/revision/latest/scale-to-width-down/30?cb=20210607083002\" decoding=\"async\" height=\"30\" loading=\"lazy\" src=\"data:image/gif;base64,R0lGODlhAQABAIABAAAAAP///yH5BAEAAAEALAAAAAABAAEAQAICTAEAOw%3D%3D\" width=\"30\"/></a></span></span><span class=\"item-text\"> <a href=\"/wiki/Grace_of_Helios\" title=\"Grace of Helios\">Grace of Helios</a></span></span>: Increases this talent's level by 3, up to a maximum of 15.</li>,\n",
       " <li>Constellation Level 4, <span class=\"item constellation\"><span class=\"item-image\"><span class=\"hidden\" style=\"height:20px;width:20px\"><a href=\"/wiki/Descent_of_Divinity\" title=\"Descent of Divinity\"><img alt=\"Descent of Divinity\" class=\"lazyload\" data-image-key=\"Constellation_Descent_of_Divinity.png\" data-image-name=\"Constellation Descent of Divinity.png\" data-relevant=\"0\" data-src=\"https://static.wikia.nocookie.net/gensin-impact/images/8/8f/Constellation_Descent_of_Divinity.png/revision/latest/scale-to-width-down/20?cb=20210607082330\" decoding=\"async\" height=\"20\" loading=\"lazy\" src=\"data:image/gif;base64,R0lGODlhAQABAIABAAAAAP///yH5BAEAAAEALAAAAAABAAEAQAICTAEAOw%3D%3D\" width=\"20\"/></a></span><span class=\"mobile-only\"><a href=\"/wiki/Descent_of_Divinity\" title=\"Descent of Divinity\"><img alt=\"Descent of Divinity\" class=\"lazyload\" data-image-key=\"Constellation_Descent_of_Divinity.png\" data-image-name=\"Constellation Descent of Divinity.png\" data-relevant=\"0\" data-src=\"https://static.wikia.nocookie.net/gensin-impact/images/8/8f/Constellation_Descent_of_Divinity.png/revision/latest/scale-to-width-down/30?cb=20210607082330\" decoding=\"async\" height=\"30\" loading=\"lazy\" src=\"data:image/gif;base64,R0lGODlhAQABAIABAAAAAP///yH5BAEAAAEALAAAAAABAAEAQAICTAEAOw%3D%3D\" width=\"30\"/></a></span></span><span class=\"item-text\"> <a href=\"/wiki/Descent_of_Divinity\" title=\"Descent of Divinity\">Descent of Divinity</a></span></span>: \"Active party members within the Solar Isotoma field have their <a href=\"/wiki/Plunging_Attack\" title=\"Plunging Attack\">Plunging Attack</a> DMG increased by 30%.\"</li>,\n",
       " <li>Constellation Level 6, <span class=\"item constellation\"><span class=\"item-image\"><span class=\"hidden\" style=\"height:20px;width:20px\"><a href=\"/wiki/Dust_of_Purification\" title=\"Dust of Purification\"><img alt=\"Dust of Purification\" class=\"lazyload\" data-image-key=\"Constellation_Dust_of_Purification.png\" data-image-name=\"Constellation Dust of Purification.png\" data-relevant=\"0\" data-src=\"https://static.wikia.nocookie.net/gensin-impact/images/5/52/Constellation_Dust_of_Purification.png/revision/latest/scale-to-width-down/20?cb=20210607082447\" decoding=\"async\" height=\"20\" loading=\"lazy\" src=\"data:image/gif;base64,R0lGODlhAQABAIABAAAAAP///yH5BAEAAAEALAAAAAABAAEAQAICTAEAOw%3D%3D\" width=\"20\"/></a></span><span class=\"mobile-only\"><a href=\"/wiki/Dust_of_Purification\" title=\"Dust of Purification\"><img alt=\"Dust of Purification\" class=\"lazyload\" data-image-key=\"Constellation_Dust_of_Purification.png\" data-image-name=\"Constellation Dust of Purification.png\" data-relevant=\"0\" data-src=\"https://static.wikia.nocookie.net/gensin-impact/images/5/52/Constellation_Dust_of_Purification.png/revision/latest/scale-to-width-down/30?cb=20210607082447\" decoding=\"async\" height=\"30\" loading=\"lazy\" src=\"data:image/gif;base64,R0lGODlhAQABAIABAAAAAP///yH5BAEAAAEALAAAAAABAAEAQAICTAEAOw%3D%3D\" width=\"30\"/></a></span></span><span class=\"item-text\"> <a href=\"/wiki/Dust_of_Purification\" title=\"Dust of Purification\">Dust of Purification</a></span></span>: \"Active party members within the Solar Isotoma field who are protected by a shield created by Crystallize have their DMG increased by 17%.\"</li>]"
      ]
     },
     "execution_count": 210,
     "metadata": {},
     "output_type": "execute_result"
    }
   ],
   "source": [
    "#Testing with character \"Albedo\" how to scrape the constellation data\n",
    "\n",
    "url_albedo = \"https://genshin-impact.fandom.com/wiki/\"+characters[0]\n",
    "\n",
    "page_albedo = requests.get(url_albedo)\n",
    "\n",
    "soup_albedo = BeautifulSoup(page_albedo.content, \"html.parser\")\n",
    "\n",
    "\n",
    "#Obtaining the constellation html info\n",
    "\n",
    "cons1 = soup_albedo.find_all(class_ = \"item constellation\")\n",
    "cons2 = [con.find_parents(\"li\")[0] for con in cons1]\n",
    "cons2 = cons2[0:5]\n",
    "\n",
    "cons2"
   ]
  },
  {
   "cell_type": "code",
   "execution_count": 218,
   "id": "9054308e",
   "metadata": {},
   "outputs": [
    {
     "name": "stdout",
     "output_type": "stream",
     "text": [
      "<class 'bs4.element.Tag'>\n",
      "Constellation Level 1,  Flower of Eden: \"Transient Blossoms generated by Albedo's Abiogenesis: Solar Isotoma regenerate 1.2 Energy for Albedo.\"\n",
      "<class 'bs4.element.Tag'>\n",
      "Constellation Level 2,  Opening of Phanerozoic: Albedo gains one stack of Fatal Reckoning for each Transient Blossom generated from Abiogenesis: Solar Isotoma, up to a maximum of 4 stacks. Upon using Rite of Progeniture: Tectonic Tide, all stacks of Fatal Reckoning are consumed, with each stack consumed increasing all damage dealt by Rite of Progeniture: Tectonic Tide (including Fatal Blossom damage) by 30% of Albedo's DEF.\n",
      "<class 'bs4.element.Tag'>\n",
      "Constellation Level 3,  Grace of Helios: Increases this talent's level by 3, up to a maximum of 15.\n",
      "<class 'bs4.element.Tag'>\n",
      "Constellation Level 4,  Descent of Divinity: \"Active party members within the Solar Isotoma field have their Plunging Attack DMG increased by 30%.\"\n",
      "<class 'bs4.element.Tag'>\n",
      "Constellation Level 6,  Dust of Purification: \"Active party members within the Solar Isotoma field who are protected by a shield created by Crystallize have their DMG increased by 17%.\"\n"
     ]
    }
   ],
   "source": [
    "type(cons2[0])\n",
    "\n",
    "#Individually getting the text out of the html part of cons2\n",
    "\n",
    "for data in cons2:\n",
    "\n",
    "    #soup = BeautifulSoup(data, 'html.parser')\n",
    "    \n",
    "    print(type(data))\n",
    "    #li_tag = data.find('li')\n",
    "\n",
    "    if data:\n",
    "        data = data.text.strip()\n",
    "        print(data)\n",
    "    else:\n",
    "        print(\"No <li> tag found.\")"
   ]
  },
  {
   "cell_type": "code",
   "execution_count": 207,
   "id": "65043d5b",
   "metadata": {},
   "outputs": [],
   "source": [
    "#cons1 = soup_albedo.find_all(class_ = \"item constellation\")\n",
    "#cons2 = [con.parent for con in cons1] \n",
    "\n",
    "#cons2"
   ]
  },
  {
   "cell_type": "code",
   "execution_count": 193,
   "id": "d0c0d239",
   "metadata": {},
   "outputs": [],
   "source": [
    "#cons1.parents\n",
    "\n",
    "#cons_albedo = soup_albedo.find_all(\"span\", class_=\"item constellation\")\n",
    "\n",
    "#cons_albedo = soup_albedo.find_all(\"li\", class_=\"item constellation\")\n",
    "#cons_albedo"
   ]
  },
  {
   "cell_type": "code",
   "execution_count": 195,
   "id": "60fef5d0",
   "metadata": {
    "scrolled": true
   },
   "outputs": [],
   "source": [
    "#soup_albedo_li = soup_albedo.find_all(\"li\")\n",
    "#soup_albedo_li"
   ]
  },
  {
   "cell_type": "code",
   "execution_count": 191,
   "id": "765ab6d1",
   "metadata": {},
   "outputs": [],
   "source": [
    "#div_list = []\n",
    "\n",
    "#for ul in soup_albedo.find_all('li'):\n",
    "#    div_list.extend(ul.find_all('span', {'class' : 'item constellation'}))\n",
    "\n",
    "#print(div_list)"
   ]
  },
  {
   "cell_type": "code",
   "execution_count": 174,
   "id": "3f04fff2",
   "metadata": {
    "scrolled": true
   },
   "outputs": [],
   "source": [
    "#for li in soup_albedo_li:\n",
    "#    if li:\n",
    "#        li_text = li.text.strip()\n",
    "#        print(li_text)\n",
    "#    else:\n",
    "#        print(\"None\")"
   ]
  },
  {
   "cell_type": "code",
   "execution_count": 146,
   "id": "315683e8",
   "metadata": {},
   "outputs": [
    {
     "name": "stdout",
     "output_type": "stream",
     "text": [
      "{'trfc-147__item', 'notifications-placeholder', 'wds-collapsible-panel wds-is-collapsed page-footer__categories', 'talent-table-container', 'mcf-card-wiki-placeholder', 'mw-references-wrap', 'fandom-community-header__community-name', 'global-footer__icon', 'page-header__languages', 'fandom-community-header__background cover header', 'wds-dropdown-level-nested__toggle', 'page-footer', 'fandom-community-header__image', 'global-explore-navigation__icon', 'text-new', 'mcf-header', 'wikia-bar wikia-bar-anon', 'WikiaBarWrapper hidden', 'fandom-community-header__top-container', 'wds-dropdown__toggle', 'mcf-en', 'fandom-sticky-header__logo', 'global-footer__bottom', 'card-text card-font', 'wds-icon wds-icon-tiny wds-dropdown__toggle-chevron', 'fandom-community-header', 'references', 'mcf-content', 'wikitable talent-table', 'sign-in__register-text', 'card-list-container card-mobile-list', 'card-body', 'wds-avatar__badge', 'global-top-navigation__fandom-logo', 'page__main', 'global-navigation__icon has-background', 'pi-image-collection wds-tabber', 'community-header-wrapper', 'wds-dropdown__content', 'wikia-bar-collapse', 'image image-thumbnail', 'community-navigation fandom-sticky-header', 'global-navigation__top', 'community-navigation__fandom-heart', 'toclevel-1 tocsection-9', 'global-navigation__register-text', 'global-navigation__links', 'categories', 'navbox-list navbox-even navbox-list-top', 'container', 'global-navigation__label', 'item constellation', 'page-header__bottom', 'card-image card-rarity-4', 'card-image card-rarity-2', 'ad-slot-placeholder top-leaderboard is-loading', 'wds-dropdown__toggle wds-button wds-is-text page-header__action-button', 'active-tab', 'wds-collapsible-panel__header', 'name', 'global-navigation__bottom', 'card-image card-rarity-0', 'page-header__categories-in', 'navbox-list navbox-odd navbox-list-top', 'trfc-147__list', 'page has-right-rail', 'new', 'wds-button wds-is-text', 'global-footer__header', 'tocnumber', 'global-top-navigation__button-label global-top-navigation__start-new-wiki__label', 'card-mobile-text', 'wds-tabs__tab wds-is-current', 'page-counter__value', 'toclevel-1 tocsection-10', 'preview-gallery-item', 'main-container', 'lazyload', 'arrow', 'text', 'wds-dropdown explore-menu', 'mw-collapsible-content custom-tt', 'global-explore-navigation__item global-explore-navigation__tab-item', 'toclevel-1 tocsection-6', 'toclevel-3 tocsection-4', 'pi-item pi-panel pi-border-color wds-tabber', 'wds-icon wds-icon-small sign-in__icon', 'notice hatnote context-link about dablink', 'giw-collapsible mw-collapsible mw-collapsed', 'trfc-147__content', 'wikiabar-button', 'wds-icon global-top-navigation__start-new-wiki__icon', 'reference', 'wikitable', 'wds-button wds-is-text wiki-tools__theme-switch', 'global-footer__links', 'wiki-tools wds-button-group', 'custom-tabs-default custom-tabs', 'caption', 'global-footer__link-icon', 'thumb tnone show-info-icon', 'global-navigation__link', 'mediawiki ltr sitedir-ltr mw-hide-empty-elt ns-0 ns-subject page-Albedo rootpage-Albedo skin-fandomdesktop action-view ooui-theme-fandomooui wiki-gensinimpact theme-fandomdesktop-dark', 'global-footer__header-logo', 'global-navigation__nav', 'global-footer__switch-view global-footer__switch-to-mobile', 'item', 'category normal', 'wds-tabs__tab', 'toclevel-2 tocsection-7', 'wds-collapsible-panel wds-is-collapsed page-footer__languages', 'pi-item pi-item-spacing pi-title pi-secondary-background', 'article-categories CategorySelect articlePage', 'wds-dropdown__content page-header__categories-dropdown-content wds-is-left-aligned', 'page-header__meta', 'change-history', 'global-action__button-label sign-in__label', 'wds-icon wds-icon-small', 'toclevel-2 tocsection-3', 'wds-is-not-scrollable wds-dropdown-level-nested__content', 'mw-selflink selflink', 'item-text', 'wds-dropdown wds-open-to-right', 'toctext', 'pi-horizontal-group-item pi-data-label pi-secondary-font pi-border-color pi-item-spacing', 'message', 'looppreview', 'hidden', 'banner-notifications-placeholder', 'video hidden mobileHide', 'article-table', 'mw-redirect', 'page-counter', 'global-action__link wds-button sign-in__anchor', 'categoriesLink', 'page-side-tools__wrapper', 'mcf-card-wiki-articles__header-text', 'mw-headline', 'global-footer__section global-footer__section-fandom-stores', 'global-action__item sign-in', 'custom-tt-wrapper mobile-only toggle-tooltip mw-collapsible mw-made-collapsible mw-collapsed giw-collapsible', 'card-image card-rarity-5', 'wds-icon wds-icon-tiny wds-dropdown-chevron', 'page__right-rail', 'global-footer__section-header', 'toclevel-2 tocsection-5', 'references-small', 'global-top-navigation__action-wrapper', 'page-header__title', 'wds-tabs__tab-label', 'global-explore-navigation__top', 'toclevel-1 tocsection-1', 'fandom-sticky-header__sitename', 'wds-tabs', 'mcf-card-wiki-articles__header', 'card-list-container', 'pi-item pi-group pi-border-color', 'wds-icon', 'wds-tab__content', 'global-footer__section global-footer__section-fandom-apps', 'image', 'navbox-group', 'wds-button wds-is-secondary wiki-tools__theme-switch', 'wds-button wds-is-secondary is-hidden-on-smaller-breakpoints wiki-tools__search', 'hidden looppreview-hover-preference', 'wds-dropdown__content wds-is-not-scrollable wds-is-right-aligned sign-in__dropdown-content', 'fandom-community-header__community-name-wrapper', 'mw-body-content mw-content-ltr', 'wds-is-not-scrollable wds-dropdown__content', 'card-container mini-card', 'button-counter', 'pi-item pi-image', 'global-top-navigation__link global-top-navigation__start-new-wiki__anchor', 'global-top-navigation__item global-top-navigation__start-new-wiki', 'wds-button wds-is-full-width global-action__register-link', 'thumbimage', 'alternating2', 'wds-button wds-is-full-width wds-is-secondary global-navigation__signin-link', 'mcf-card mcf-card-wiki-articles', 'pi-horizontal-group-item pi-data-value pi-font pi-border-color pi-item-spacing', 'toctogglecheckbox', 'global-explore-navigation__icon wds-avatar wds-avatar--square', 'mcf-mosaic', 'trfc-147__link', 'mobile-only', 'page-header', 'global-navigation__icon has-border', 'mcf-wrapper', 'card-icon', 'navbox-title', 'global-navigation__logo', 'wds-avatar__image', 'toclevel-2 tocsection-8', 'global-navigation', 'wds-button global__register-link', 'pi-item pi-data pi-item-spacing pi-border-color', 'card-wrapper', 'top-ads-container', 'wikitable ascension-stats', 'reference-text', 'fandom-community-header__local-navigation', 'center', 'mcf-column', 'global-registration-buttons', 'wds-button wds-is-full-width wds-is-secondary global-action__sign-in-link', 'wds-icon-tiny wds-icon navigation-item-icon', 'change-history-header', 'search-container', 'mw-parser-output', 'toctitle', 'wds-tab__content wds-is-current', 'thumbimage lazyload', 'global-explore-navigation__item global-explore-navigation__item--with-icon global-explore-navigation__explore global-explore-navigation__tab-item', 'mcf-card-wiki-articles__list', 'toc', 'mcf-card-wiki-articles__item', 'global-explore-navigation__current-wiki global-explore-navigation__divider', 'text-old', 'wds-button wds-is-text page-header__action-button', 'wds-banner-notification__container', 'global-explore-navigation__button', 'global-footer__section global-footer__section-advertise', 'toclevel-1 tocsection-11', 'wds-avatar wds-avatar--square', 'page-header__categories', 'global-footer__section global-footer__section-community', 'global-navigation__beta-badge', 'toclevel-1 tocsection-12', 'global-footer__content', 'community-navigation__fandom-heart__link', 'toctogglespan', 'page-side-tool page-side-edit', 'pi-data-value pi-font', 'item talent', 'page-content', 'wds-dropdown sign-in__dropdown', 'no-wrap', 'preview', 'mw-collapsible-content', 'wds-dropdown__content wds-is-right-aligned wds-is-not-scrollable', 'wds-collapsible-panel__content', 'internal', 'info-icon', 'mw-collapsible-toggle mw-collapsible-toggle-default mw-collapsible-toggle-collapsed custom-tt toggle-tooltip', 'pi-item pi-header pi-secondary-font pi-item-spacing pi-secondary-background', 'page-counter__label', 'hidden looppreview-hover-label', 'global-footer__link-icon wds-icon wds-icon-small', 'fandom-sticky-header', 'right-rail-wrapper WikiaRail', 'card-container', 'client-nojs', 'inactive-tab', 'global-footer__link', 'card-image card-rarity-5a', 'article-table sortable tdc1 tdc4', 'ad-slot-placeholder bottom-leaderboard is-loading', 'wds-dropdown wds-open-to-right is-attached-to-bottom is-anon-dropdown', 'alternating1', 'featured-video-player-container', 'nowraplinks hlist mw-collapsible navbox-inner', 'page-header__title-wrapper', 'text-tooltip hover-tooltip', 'wds-tabs__wrapper', 'WikiaBarCollapseWrapper', 'wds-dropdown-level-nested', 'pi-horizontal-group', 'global-navigation__icon', 'global-footer', 'bg-highlight', 'navbox-border navbox', 'wds-button wds-is-secondary global__signin-link', 'wikitable constellation-table', 'card-image card-rarity-3', 'page-header__actions', 'bottom-ads-container', 'wds-tabs__tab-label wds-dropdown__toggle first-level-item', 'pi-image-thumbnail', 'wds-button wds-is-text page-header__action-button has-label', 'resizable-container', 'global-footer__section global-footer__section-fandom-overview', 'mcf-card-wiki-articles__item-link', 'card-caption', 'thumbcaption', 'wds-icon-tiny wds-icon', 'global-footer__link ot-sdk-show-settings', 'ascension mw-collapsible', 'mcf-card-wiki-articles__circle', 'toctogglelabel', 'trfc-147__header', 'toclevel-2 tocsection-2', 'special-categories-label', 'card-image card-rarity-1', 'tool removeCategory', 'mw-page-title-main', 'page-header__top', 'wiki-tools', 'wds-list wds-is-linked', 'global-navigation__search global-navigation__icon', 'text-geo', 'pi-data-label pi-secondary-font', 'extiw', 'global-explore-navigation__label', 'mw-redirect mw-disambig', 'license-description', 'wds-button wds-is-secondary', 'mcf-card-wiki-articles__title', 'wds-dropdown page-header__categories-dropdown', 'global-explore-navigation', 'ae-translatable-label', 'page-side-tools', 'global-footer__section global-footer__section-social-links', 'item-image', 'page-footer__trfc-147 trfc-147', 'wds-icon wds-icon-small close-icon', 'mw-customtoggle-toggle-ascension wds-button', 'global-top-navigation', 'change-history-content standard-border', 'mw-cite-backlink', 'global-explore-navigation__label global-explore-navigation__label--main', 'global-footer__section global-footer__section-site-overview', 'global-explore-navigation__nav', 'portable-infobox pi-background pi-border-color pi-theme-char pi-layout-default', 'external text', 'global-explore-navigation__tab-container', 'preview-gallery caption-center', 'page-side-tool content-size-toggle', 'wds-button wds-is-full-width global-navigation__register-link', 'wds-dropdown', 'global-explore-navigation__recently-visited'}\n"
     ]
    }
   ],
   "source": [
    "#Obtaining list of all classes used in Albedo's web page\n",
    "\n",
    "# class list set \n",
    "class_list = set() \n",
    "\n",
    "# Page content from Website URL \n",
    "page = requests.get(url_albedo) \n",
    "\n",
    "# parse html content \n",
    "soup = BeautifulSoup(page.content , 'html.parser') \n",
    "\n",
    "# get all tags \n",
    "tags = {tag.name for tag in soup.find_all()} \n",
    "\n",
    "\n",
    "for tag in tags:                       # iterate all tags \n",
    "\n",
    "    for i in soup.find_all( tag ):     # find all element of tag \n",
    " \n",
    "        if i.has_attr( \"class\" ):      # if tag has attribute of class\n",
    "\n",
    "            if len( i['class'] ) != 0: \n",
    "                class_list.add(\" \".join( i['class'])) \n",
    "\n",
    "print(class_list) "
   ]
  },
  {
   "cell_type": "code",
   "execution_count": null,
   "id": "bcf5a405",
   "metadata": {},
   "outputs": [],
   "source": []
  }
 ],
 "metadata": {
  "kernelspec": {
   "display_name": "Python 3 (ipykernel)",
   "language": "python",
   "name": "python3"
  },
  "language_info": {
   "codemirror_mode": {
    "name": "ipython",
    "version": 3
   },
   "file_extension": ".py",
   "mimetype": "text/x-python",
   "name": "python",
   "nbconvert_exporter": "python",
   "pygments_lexer": "ipython3",
   "version": "3.9.13"
  }
 },
 "nbformat": 4,
 "nbformat_minor": 5
}
