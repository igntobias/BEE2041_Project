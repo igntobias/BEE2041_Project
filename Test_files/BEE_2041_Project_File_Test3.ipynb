{
 "cells": [
  {
   "cell_type": "code",
   "execution_count": 1,
   "id": "6392af7c",
   "metadata": {},
   "outputs": [],
   "source": [
    "from bs4 import BeautifulSoup\n",
    "from urllib.request import urlopen\n",
    "import numpy as np\n",
    "import pandas as pd\n",
    "import matplotlib.pyplot as plt\n",
    "from datetime import datetime\n",
    "import requests"
   ]
  },
  {
   "cell_type": "markdown",
   "id": "0eb7684f",
   "metadata": {},
   "source": [
    "### Obtaining all Names"
   ]
  },
  {
   "cell_type": "code",
   "execution_count": 2,
   "id": "8ad02c34",
   "metadata": {},
   "outputs": [],
   "source": [
    "#urlnames = \"https://game8.co/games/Genshin-Impact/archives/296707\"\n",
    "\n",
    "#Web scraping the wikia for Genshin's playable character list.\n",
    "\n",
    "urlnames = \"https://genshin-impact.fandom.com/wiki/Category:Playable_Characters\"\n",
    "\n",
    "pagenames = requests.get(urlnames)\n",
    "\n",
    "soupname = BeautifulSoup(pagenames.text, \"html.parser\")"
   ]
  },
  {
   "cell_type": "code",
   "execution_count": 3,
   "id": "89161a5b",
   "metadata": {},
   "outputs": [],
   "source": [
    "#Obtaining list of all classes used in the \"Names\" web page for the Genshin Characters\n",
    "\n",
    "# class list set \n",
    "class_list = set() \n",
    "\n",
    "# Page content from Website URL \n",
    "page = requests.get(urlnames) \n",
    "\n",
    "# parse html content \n",
    "soup = BeautifulSoup(page.content , 'html.parser') \n",
    "\n",
    "# get all tags \n",
    "tags = {tag.name for tag in soup.find_all()} \n",
    "\n",
    "\n",
    "for tag in tags:                       # iterate all tags \n",
    "\n",
    "    for i in soup.find_all( tag ):     # find all element of tag \n",
    " \n",
    "        if i.has_attr( \"class\" ):      # if tag has attribute of class\n",
    "\n",
    "            if len( i['class'] ) != 0: \n",
    "                class_list.add(\" \".join( i['class'])) \n",
    "\n",
    "#print(class_list) "
   ]
  },
  {
   "cell_type": "code",
   "execution_count": 4,
   "id": "a05a2ec1",
   "metadata": {},
   "outputs": [],
   "source": [
    "#Scraping through to get the html, identifying which class and identifier to find the names\n",
    "\n",
    "imgtag = soupname.find_all(\"a\", class_=\"category-page__member-link\")\n",
    "#imgtag"
   ]
  },
  {
   "cell_type": "code",
   "execution_count": 5,
   "id": "f326d3b5",
   "metadata": {},
   "outputs": [
    {
     "name": "stdout",
     "output_type": "stream",
     "text": [
      "['Albedo', 'Alhaitham', 'Aloy', 'Amber', 'Arataki_Itto', 'Baizhu', 'Barbara', 'Beidou', 'Bennett', 'Candace', 'Charlotte', 'Chevreuse', 'Chiori', 'Chongyun', 'Collei', 'Cyno', 'Dehya', 'Diluc', 'Diona', 'Dori', 'Eula', 'Faruzan', 'Fischl', 'Freminet', 'Furina', 'Gaming', 'Ganyu', 'Gorou', 'Hu_Tao', 'Jean', 'Kaedehara_Kazuha', 'Kaeya', 'Kamisato_Ayaka', 'Kamisato_Ayato', 'Kaveh', 'Keqing', 'Kirara', 'Klee', 'Kujou_Sara', 'Kuki_Shinobu', 'Layla', 'Lisa', 'Lumine', 'Lynette', 'Lyney', 'Mika', 'Mona', 'Nahida', 'Navia', 'Neuvillette', 'Nilou', 'Ningguang', 'Noelle', 'Qiqi', 'Raiden_Shogun', 'Razor', 'Rosaria', 'Sangonomiya_Kokomi', 'Sayu', 'Shenhe', 'Shikanoin_Heizou', 'Sucrose', 'Tartaglia', 'Thoma', 'Tighnari', 'Traveler', 'Traveler_(Anemo)', 'Traveler_(Dendro)', 'Traveler_(Electro)', 'Traveler_(Geo)', 'Traveler_(Hydro)', 'Traveler_(Unaligned)', 'Venti', 'Wanderer', 'Wriothesley', 'Xiangling', 'Xianyun', 'Xiao', 'Xingqiu', 'Xinyan', 'Yae_Miko', 'Yanfei', 'Yaoyao', 'Yelan', 'Yoimiya', 'Yun_Jin', 'Zhongli']\n"
     ]
    }
   ],
   "source": [
    "#Converting the soup into a usable List\n",
    "\n",
    "type(imgtag)\n",
    "\n",
    "titles = [tag['title'] for tag in imgtag]\n",
    "characters = titles[6:]\n",
    "#display(characters)\n",
    "type(characters)\n",
    "\n",
    "\n",
    "#Replacing spaces with underscores for it to be usable in iterating through the wikia pages\n",
    "\n",
    "converter = lambda x: x.replace(' ', '_')\n",
    "characters = list(map(converter, characters))\n",
    "print(characters)"
   ]
  },
  {
   "cell_type": "markdown",
   "id": "19c8c0ce",
   "metadata": {},
   "source": [
    "### Testing with characters how to scrape the constellation data"
   ]
  },
  {
   "cell_type": "code",
   "execution_count": 60,
   "id": "a8c1266e",
   "metadata": {},
   "outputs": [],
   "source": [
    "#Web scraping and parsing only the albedo site. Utilise regex and loop.functions in the final to complete.\n",
    "\n",
    "url_chara = \"https://genshin-impact.fandom.com/wiki/\"+characters[14]\n",
    "\n",
    "#url_chara = \"https://genshin-impact.fandom.com/wiki/\"+\"Rosaria\"\n",
    "\n",
    "page_chara = requests.get(url_chara)\n",
    "\n",
    "soup_chara = BeautifulSoup(page_chara.content, \"html.parser\")\n",
    "\n",
    "\n",
    "#Obtaining the constellation html info\n",
    "\n",
    "cons1 = soup_chara.find_all(class_ = \"item constellation\")\n",
    "cons2 = [con.find_parents(\"li\")[0] for con in cons1]\n",
    "cons2 = list(set(cons2))"
   ]
  },
  {
   "cell_type": "code",
   "execution_count": 49,
   "id": "b3cf64df",
   "metadata": {},
   "outputs": [],
   "source": [
    "#cons2"
   ]
  },
  {
   "cell_type": "code",
   "execution_count": 52,
   "id": "a0b4d9f1",
   "metadata": {},
   "outputs": [],
   "source": [
    "#Obtaining list of all classes used in Character's html page\n",
    "\n",
    "# class list set \n",
    "class_list = set() \n",
    "\n",
    "# Page content from Website URL \n",
    "page = requests.get(url_chara) \n",
    "\n",
    "# parse html content \n",
    "soup = BeautifulSoup(page.content , 'html.parser') \n",
    "\n",
    "# get all tags \n",
    "tags = {tag.name for tag in soup.find_all()} \n",
    "\n",
    "\n",
    "for tag in tags:                       # iterate all tags \n",
    "\n",
    "    for i in soup.find_all( tag ):     # find all element of tag \n",
    " \n",
    "        if i.has_attr( \"class\" ):      # if tag has attribute of class\n",
    "\n",
    "            if len( i['class'] ) != 0: \n",
    "                class_list.add(\" \".join( i['class'])) "
   ]
  },
  {
   "cell_type": "code",
   "execution_count": 53,
   "id": "03f0404e",
   "metadata": {},
   "outputs": [],
   "source": [
    "#print(class_list) "
   ]
  },
  {
   "cell_type": "code",
   "execution_count": 62,
   "id": "6728f173",
   "metadata": {},
   "outputs": [],
   "source": [
    "#Creating a list of the character's constellations.\n",
    "\n",
    "cons3 = []\n",
    "\n",
    "for data in cons2:\n",
    "    \n",
    "    #soup = BeautifulSoup(data, 'html.parser')\n",
    "    #print(type(data))\n",
    "    #li_tag = data.find('li')\n",
    "    \n",
    "    if data:\n",
    "        data = data.text.strip()\n",
    "        #print(data)\n",
    "        \n",
    "        data = data\n",
    "        cons3.append(data)\n",
    "    else:\n",
    "        print(\"No tag found.\")"
   ]
  },
  {
   "cell_type": "code",
   "execution_count": 63,
   "id": "e032793e",
   "metadata": {},
   "outputs": [
    {
     "data": {
      "text/plain": [
       "['Constellation Level 2,  Through Hill and Copse: If Floral Sidewinder is unlocked, then the Sprout effect becomes guaranteed on return of the Floral Ring, and triggering an elemental reaction involving Dendro before it returns now extends the duration of the Sprout effect by 3 seconds.\\nDuration extension from this constellation allows the Sprout effect to deal damage 2 more times.',\n",
       " \"Constellation Level 3,  Scent of Summer: Increases this talent's level by 3, up to a maximum of 15.\",\n",
       " 'Constellation Level 4,  Gift of the Woods: \"Using Trump-Card Kitty will increase all nearby characters\\' Elemental Mastery by 60 for 12s (not including Collei herself).\"',\n",
       " 'Constellation Level 6,  Forest of Falling Arrows: \"When the Floral Ring hits, it will create a miniature Cuilein-Anbar that will deal 200% of Collei\\'s ATK as Dendro DMG. Each Floral Brush can only create one such miniature Cuilein-Anbar.\"',\n",
       " \"Constellation Level 5,  All Embers: Increases this talent's level by 3, up to a maximum of 15.\",\n",
       " \"Floral Sidewinder is also affected by Collei's Constellation Level 2,  Through Hill and Copse: If Floral Sidewinder is unlocked, then the Sprout effect becomes guaranteed on return of the Floral Ring, and triggering an elemental reaction involving Dendro before it returns now extends the duration of the Sprout effect by 3 seconds.\"]"
      ]
     },
     "execution_count": 63,
     "metadata": {},
     "output_type": "execute_result"
    }
   ],
   "source": [
    "#print(cons3)\n",
    "\n",
    "#cons3 = list(set(cons3))[0:6]\n",
    "cons3"
   ]
  },
  {
   "cell_type": "code",
   "execution_count": 61,
   "id": "16ae2235",
   "metadata": {},
   "outputs": [
    {
     "name": "stdout",
     "output_type": "stream",
     "text": [
      "Release Date: 2022-08-24\n"
     ]
    }
   ],
   "source": [
    "#Obtaining the release date of the Character\n",
    "\n",
    "release_date_div = soup_chara.find('div', {'data-source': 'releaseDate'})\n",
    "\n",
    "#print(release_date_div)\n",
    "\n",
    "\n",
    "if release_date_div:\n",
    "    release_date_text = release_date_div.find('div', class_='pi-data-value')\n",
    "    release_date_text = release_date_text.get_text(strip=True).split(' ')\n",
    "    \n",
    "    #print(release_date_text)\n",
    "    #str(release_date_text)\n",
    "        \n",
    "    output = release_date_text[0:3]\n",
    "    \n",
    "    if len(output) >= 3:  # Check if there are at least 3 elements in the list\n",
    "        output[2] = output[2][:-1]\n",
    "\n",
    "    output = ' '.join(output)\n",
    "    output = datetime.strptime(output, \"%B %d, %Y\").date()\n",
    "    \n",
    "    #output\n",
    "    \n",
    "    print(\"Release Date:\", output)\n",
    "    \n",
    "else:\n",
    "    print(\"No release date found.\")"
   ]
  },
  {
   "cell_type": "code",
   "execution_count": 34,
   "id": "0872cf2d",
   "metadata": {},
   "outputs": [
    {
     "data": {
      "text/plain": [
       "{datetime.date(2023, 1, 18): ['Constellation Level 6,  Structuration: \"Alhaitham gains the following effects:2 seconds after Particular Field: Fetters of Phenomena is unleashed, he will generate 3 Chisel-Light Mirrors regardless of the number of mirrors consumed.If Alhaitham generates Chisel-Light Mirrors when their numbers have already maxed out, his CRIT Rate and CRIT DMG will increase by 10% and 70% respectively for 6s. If this effect is triggered again during its initial duration, the duration remaining will be increased by 6s.\"',\n",
       "  \"Constellation Level 3,  Negation: Increases this talent's level by 3, up to a maximum of 15.\",\n",
       "  \"Constellation Level 6,  Structuration: Changes the number of Chisel-Light Mirrors generated after casting this talent to always be 3, regardless of how many were consumed.\\nAdditionally, generating Chisel-Light Mirrors when 3 already exist will now increase Alhaitham's CRIT Rate and CRIT DMG by 10% and 70% respectively for 6s.\",\n",
       "  \"Constellation Level 5,  Sagacity: Increases this talent's level by 3, up to a maximum of 15.\",\n",
       "  'Constellation Level 2,  Debate: \"When Alhaitham generates a Chisel-Light Mirror, his Elemental Mastery will be increased by 50 for 8 seconds, max 4 stacks. Each stack\\'s duration is counted independently. This effect can be triggered even when the maximum number of Chisel-Light Mirrors has been reached.\"',\n",
       "  'Constellation Level 1,  Intuition: \"When a Projection Attack hits an opponent, Universality: An Elaboration on Form\\'s CD is decreased by 1.2s. This effect can be triggered once every 1s.\"',\n",
       "  'Constellation Level 4,  Elucidation: After casting this talent, grants nearby party members 30 Elemental Mastery per Chisel-Light Mirror consumed and Alhaitham 10% Dendro DMG Bonus per Mirror generated. These buffs last for 15 seconds after the Mirrors are consumed or generated.']}"
      ]
     },
     "execution_count": 34,
     "metadata": {},
     "output_type": "execute_result"
    }
   ],
   "source": [
    "cons_dict = {output: cons3}\n",
    "cons_dict"
   ]
  },
  {
   "cell_type": "code",
   "execution_count": null,
   "id": "033504c9",
   "metadata": {},
   "outputs": [],
   "source": []
  }
 ],
 "metadata": {
  "kernelspec": {
   "display_name": "Python 3 (ipykernel)",
   "language": "python",
   "name": "python3"
  },
  "language_info": {
   "codemirror_mode": {
    "name": "ipython",
    "version": 3
   },
   "file_extension": ".py",
   "mimetype": "text/x-python",
   "name": "python",
   "nbconvert_exporter": "python",
   "pygments_lexer": "ipython3",
   "version": "3.9.13"
  }
 },
 "nbformat": 4,
 "nbformat_minor": 5
}
