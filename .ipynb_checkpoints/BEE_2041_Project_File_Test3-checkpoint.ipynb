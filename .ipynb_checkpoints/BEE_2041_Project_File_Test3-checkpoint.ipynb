{
 "cells": [
  {
   "cell_type": "code",
   "execution_count": 1,
   "id": "6392af7c",
   "metadata": {},
   "outputs": [],
   "source": [
    "from bs4 import BeautifulSoup\n",
    "from urllib.request import urlopen\n",
    "import numpy as np\n",
    "import pandas as pd\n",
    "import matplotlib.pyplot as plt"
   ]
  },
  {
   "cell_type": "code",
   "execution_count": 2,
   "id": "19e5513e",
   "metadata": {},
   "outputs": [],
   "source": [
    "import requests"
   ]
  },
  {
   "cell_type": "code",
   "execution_count": 3,
   "id": "99abc532",
   "metadata": {},
   "outputs": [],
   "source": [
    "#url = \"https://genshin-impact.fandom.com/wiki/Arataki_Itto\"\n",
    "#page = requests.get(url)\n",
    "#print(page.text)\n",
    "#soup = BeautifulSoup(page.text, \"html.parser\")"
   ]
  },
  {
   "cell_type": "markdown",
   "id": "0eb7684f",
   "metadata": {},
   "source": [
    "### Obtaining all Names"
   ]
  },
  {
   "cell_type": "code",
   "execution_count": 4,
   "id": "8ad02c34",
   "metadata": {},
   "outputs": [],
   "source": [
    "#urlnames = \"https://game8.co/games/Genshin-Impact/archives/296707\"\n",
    "\n",
    "#Web scraping the wikia for Genshin's playable character list.\n",
    "\n",
    "urlnames = \"https://genshin-impact.fandom.com/wiki/Category:Playable_Characters\"\n",
    "\n",
    "pagenames = requests.get(urlnames)\n",
    "\n",
    "soupname = BeautifulSoup(pagenames.text, \"html.parser\")"
   ]
  },
  {
   "cell_type": "code",
   "execution_count": 5,
   "id": "89161a5b",
   "metadata": {},
   "outputs": [
    {
     "name": "stdout",
     "output_type": "stream",
     "text": [
      "{'global-explore-navigation__button', 'wds-list wds-is-linked', 'banner-notifications-placeholder', 'wds-collapsible-panel__content', 'community-navigation fandom-sticky-header', 'global-navigation', 'page-header__categories-in', 'global-top-navigation__fandom-logo', 'page-header__page-subtitle', 'global-explore-navigation__icon wds-avatar wds-avatar--square', 'global-navigation__link', 'wds-icon-tiny wds-icon', 'category-page__trending-page', 'global-explore-navigation__top', 'wds-icon wds-icon-tiny wds-dropdown__toggle-chevron', 'global-navigation__links', 'wds-dropdown__toggle', 'global-action__link wds-button sign-in__anchor', 'category-page__members-for-char', 'sign-in__register-text', 'wds-button wds-is-secondary is-hidden-on-smaller-breakpoints wiki-tools__search', 'container', 'global-explore-navigation', 'global-explore-navigation__item global-explore-navigation__item--with-icon global-explore-navigation__explore global-explore-navigation__tab-item', 'global-footer__link-icon wds-icon wds-icon-small', 'wds-button global__register-link', 'wds-button wds-is-text page-header__action-button has-label', 'wds-button wds-is-text', 'page__main', 'category-page__alphabet-shortcuts', 'page-side-tool page-side-edit', 'article-categories CategorySelect articlePage', 'wds-button wds-is-secondary', 'wds-dropdown-level-nested__toggle', 'resizable-container', 'global-footer__section global-footer__section-fandom-overview', 'fandom-community-header__image', 'community-header-wrapper', 'wds-collapsible-panel__header', 'page-header__top', 'global-explore-navigation__current-wiki global-explore-navigation__divider', 'page-header__bottom', 'wds-tabs', 'wds-icon wds-icon-small', 'page-header__meta', 'global-footer__icon', 'category-page__trending-pages', 'fandom-sticky-header', 'ad-slot-placeholder bottom-leaderboard is-loading', 'category-page__total-number', 'wds-dropdown', 'global-registration-buttons', 'message', 'fandom-community-header', 'category-page__members-wrapper', 'notifications-placeholder', 'wds-is-not-scrollable wds-dropdown__content', 'mediawiki ltr sitedir-ltr mw-hide-empty-elt ns-14 ns-subject page-Category_Playable_Characters rootpage-Category_Playable_Characters skin-fandomdesktop action-view ooui-theme-fandomooui wiki-gensinimpact theme-fandomdesktop-dark', 'global-footer__links', 'wds-button wds-is-full-width global-action__register-link', 'wds-icon wds-icon-tiny wds-dropdown-chevron', 'page-footer', 'global-footer__bottom', 'global-navigation__icon', 'wds-banner-notification__container', 'global-top-navigation', 'bottom-ads-container', 'page has-right-rail', 'global-footer__section global-footer__section-fandom-apps', 'category-page__member-link', 'page-counter__value', 'global-navigation__bottom', 'community-navigation__fandom-heart__link', 'global-explore-navigation__nav', 'trfc-147__list', 'mw-parser-output', 'wds-icon wds-icon-small close-icon', 'right-rail-wrapper WikiaRail', 'categoriesLink', 'global-footer__section global-footer__section-social-links', 'global-navigation__nav', 'fandom-community-header__local-navigation', 'WikiaBarWrapper hidden', 'page-header__title-wrapper', 'global-footer', 'wds-tabs__tab-label wds-dropdown__toggle first-level-item', 'fandom-community-header__community-name', 'fandom-community-header__background cover header', 'page-footer__trfc-147 trfc-147', 'global-navigation__icon has-background', 'global-navigation__register-text', 'wds-avatar wds-avatar--square', 'global-footer__section global-footer__section-fandom-stores', 'category-page__trending-page-thumbnail', 'global-navigation__logo', 'global-footer__section-header', 'global-footer__section global-footer__section-advertise', 'mw-body-content mw-content-ltr', 'wds-avatar__image', 'page-header__actions', 'global-explore-navigation__tab-container', 'wikia-bar wikia-bar-anon', 'global-footer__section global-footer__section-community', 'fandom-sticky-header__logo', 'wds-is-not-scrollable wds-dropdown-level-nested__content', 'wds-dropdown wds-open-to-right is-attached-to-bottom is-anon-dropdown', 'page-side-tools__wrapper', 'wiki-tools wds-button-group', 'page-header__categories', 'wds-dropdown wds-open-to-right', 'trfc-147__link', 'page-header', 'trfc-147__header', 'global-top-navigation__action-wrapper', 'global-top-navigation__button-label global-top-navigation__start-new-wiki__label', 'wds-icon wds-icon-small sign-in__icon', 'global-footer__header-logo', 'special-categories-label', 'wds-icon', 'global-explore-navigation__label', 'wds-button wds-is-full-width wds-is-secondary global-action__sign-in-link', 'global-footer__header', 'wds-avatar__badge', 'wds-button wds-is-secondary wiki-tools__theme-switch', 'categories', 'wiki-tools', 'page-counter', 'category-page__trending-pages-header', 'global-footer__section global-footer__section-site-overview', 'global-navigation__top', 'wds-icon wds-icon-small category-page__member-left-icon', 'global-action__button-label sign-in__label', 'global-footer__link ot-sdk-show-settings', 'wds-icon global-top-navigation__start-new-wiki__icon', 'wds-dropdown explore-menu', 'tool removeCategory', 'wds-dropdown-level-nested', 'page-counter__label', 'mw-redirect category-page__member-link', 'category-page__first-char', 'global-footer__content', 'global-navigation__label', 'fandom-community-header__top-container', 'wds-dropdown sign-in__dropdown', 'category-page__member-thumbnail', 'trfc-147__item', 'wds-button wds-is-full-width global-navigation__register-link', 'global-explore-navigation__label global-explore-navigation__label--main', 'wds-button wds-is-full-width wds-is-secondary global-navigation__signin-link', 'wds-button wds-is-secondary global__signin-link', 'category-page__alphabet-shortcut', 'wds-dropdown__content', 'global-top-navigation__item global-top-navigation__start-new-wiki', 'search-container', 'category-page__member', 'category-page__members', 'category normal', 'global-action__item sign-in', 'global-navigation__beta-badge', 'wds-collapsible-panel wds-is-collapsed page-footer__categories', 'page__right-rail', 'wds-dropdown__toggle wds-button wds-is-text page-header__action-button', 'WikiaBarCollapseWrapper', 'global-explore-navigation__recently-visited', 'wds-button wds-is-text wiki-tools__theme-switch', 'page-header__title', 'main-container', 'trfc-147__content', 'global-top-navigation__link global-top-navigation__start-new-wiki__anchor', 'new', 'wikia-bar-collapse', 'arrow', 'wds-dropdown__content wds-is-right-aligned wds-is-not-scrollable', 'global-explore-navigation__icon', 'ad-slot-placeholder top-leaderboard is-loading', 'category-page__member-left', 'global-navigation__icon has-border', 'wds-icon-tiny wds-icon navigation-item-icon', 'global-footer__link-icon', 'page-side-tools', 'community-navigation__fandom-heart', 'ae-translatable-label', 'page-content', 'category-page__trending-page-title', 'wikiabar-button', 'fandom-sticky-header__sitename', 'top-ads-container', 'global-navigation__search global-navigation__icon', 'name', 'wds-dropdown__content wds-is-not-scrollable wds-is-right-aligned sign-in__dropdown-content', 'license-description', 'global-footer__switch-view global-footer__switch-to-mobile', 'global-explore-navigation__item global-explore-navigation__tab-item', 'client-nojs', 'global-footer__link', 'fandom-community-header__community-name-wrapper', 'page-side-tool content-size-toggle'}\n"
     ]
    }
   ],
   "source": [
    "#Obtaining list of all classes used in the \"Names\" web page for the Genshin Characters\n",
    "\n",
    "# class list set \n",
    "class_list = set() \n",
    "\n",
    "# Page content from Website URL \n",
    "page = requests.get(urlnames) \n",
    "\n",
    "# parse html content \n",
    "soup = BeautifulSoup(page.content , 'html.parser') \n",
    "\n",
    "# get all tags \n",
    "tags = {tag.name for tag in soup.find_all()} \n",
    "\n",
    "\n",
    "for tag in tags:                       # iterate all tags \n",
    "\n",
    "    for i in soup.find_all( tag ):     # find all element of tag \n",
    " \n",
    "        if i.has_attr( \"class\" ):      # if tag has attribute of class\n",
    "\n",
    "            if len( i['class'] ) != 0: \n",
    "                class_list.add(\" \".join( i['class'])) \n",
    "\n",
    "print(class_list) "
   ]
  },
  {
   "cell_type": "code",
   "execution_count": 6,
   "id": "a05a2ec1",
   "metadata": {},
   "outputs": [
    {
     "data": {
      "text/plain": [
       "[<a class=\"category-page__member-link\" href=\"/wiki/Category:Crossover_Characters\" title=\"Category:Crossover Characters\">Category:Crossover Characters</a>,\n",
       " <a class=\"category-page__member-link\" href=\"/wiki/Category:Event-Exclusive_Characters\" title=\"Category:Event-Exclusive Characters\">Category:Event-Exclusive Characters</a>,\n",
       " <a class=\"category-page__member-link\" href=\"/wiki/Category:Non-Wish_Characters\" title=\"Category:Non-Wish Characters\">Category:Non-Wish Characters</a>,\n",
       " <a class=\"category-page__member-link\" href=\"/wiki/Category:Playable_Characters_by_Region\" title=\"Category:Playable Characters by Region\">Category:Playable Characters by Region</a>,\n",
       " <a class=\"category-page__member-link\" href=\"/wiki/Category:Standard_Wish_Characters\" title=\"Category:Standard Wish Characters\">Category:Standard Wish Characters</a>,\n",
       " <a class=\"mw-redirect category-page__member-link\" href=\"/wiki/Aether\" title=\"Aether\">Aether</a>,\n",
       " <a class=\"category-page__member-link\" href=\"/wiki/Albedo\" title=\"Albedo\">Albedo</a>,\n",
       " <a class=\"category-page__member-link\" href=\"/wiki/Alhaitham\" title=\"Alhaitham\">Alhaitham</a>,\n",
       " <a class=\"category-page__member-link\" href=\"/wiki/Aloy\" title=\"Aloy\">Aloy</a>,\n",
       " <a class=\"category-page__member-link\" href=\"/wiki/Amber\" title=\"Amber\">Amber</a>,\n",
       " <a class=\"category-page__member-link\" href=\"/wiki/Arataki_Itto\" title=\"Arataki Itto\">Arataki Itto</a>,\n",
       " <a class=\"category-page__member-link\" href=\"/wiki/Baizhu\" title=\"Baizhu\">Baizhu</a>,\n",
       " <a class=\"category-page__member-link\" href=\"/wiki/Barbara\" title=\"Barbara\">Barbara</a>,\n",
       " <a class=\"category-page__member-link\" href=\"/wiki/Beidou\" title=\"Beidou\">Beidou</a>,\n",
       " <a class=\"category-page__member-link\" href=\"/wiki/Bennett\" title=\"Bennett\">Bennett</a>,\n",
       " <a class=\"category-page__member-link\" href=\"/wiki/Candace\" title=\"Candace\">Candace</a>,\n",
       " <a class=\"category-page__member-link\" href=\"/wiki/Charlotte\" title=\"Charlotte\">Charlotte</a>,\n",
       " <a class=\"category-page__member-link\" href=\"/wiki/Chevreuse\" title=\"Chevreuse\">Chevreuse</a>,\n",
       " <a class=\"category-page__member-link\" href=\"/wiki/Chiori\" title=\"Chiori\">Chiori</a>,\n",
       " <a class=\"category-page__member-link\" href=\"/wiki/Chongyun\" title=\"Chongyun\">Chongyun</a>,\n",
       " <a class=\"category-page__member-link\" href=\"/wiki/Collei\" title=\"Collei\">Collei</a>,\n",
       " <a class=\"category-page__member-link\" href=\"/wiki/Cyno\" title=\"Cyno\">Cyno</a>,\n",
       " <a class=\"category-page__member-link\" href=\"/wiki/Dehya\" title=\"Dehya\">Dehya</a>,\n",
       " <a class=\"category-page__member-link\" href=\"/wiki/Diluc\" title=\"Diluc\">Diluc</a>,\n",
       " <a class=\"category-page__member-link\" href=\"/wiki/Diona\" title=\"Diona\">Diona</a>,\n",
       " <a class=\"category-page__member-link\" href=\"/wiki/Dori\" title=\"Dori\">Dori</a>,\n",
       " <a class=\"category-page__member-link\" href=\"/wiki/Eula\" title=\"Eula\">Eula</a>,\n",
       " <a class=\"category-page__member-link\" href=\"/wiki/Faruzan\" title=\"Faruzan\">Faruzan</a>,\n",
       " <a class=\"category-page__member-link\" href=\"/wiki/Fischl\" title=\"Fischl\">Fischl</a>,\n",
       " <a class=\"category-page__member-link\" href=\"/wiki/Freminet\" title=\"Freminet\">Freminet</a>,\n",
       " <a class=\"category-page__member-link\" href=\"/wiki/Furina\" title=\"Furina\">Furina</a>,\n",
       " <a class=\"category-page__member-link\" href=\"/wiki/Gaming\" title=\"Gaming\">Gaming</a>,\n",
       " <a class=\"category-page__member-link\" href=\"/wiki/Ganyu\" title=\"Ganyu\">Ganyu</a>,\n",
       " <a class=\"category-page__member-link\" href=\"/wiki/Gorou\" title=\"Gorou\">Gorou</a>,\n",
       " <a class=\"category-page__member-link\" href=\"/wiki/Hu_Tao\" title=\"Hu Tao\">Hu Tao</a>,\n",
       " <a class=\"category-page__member-link\" href=\"/wiki/Jean\" title=\"Jean\">Jean</a>,\n",
       " <a class=\"category-page__member-link\" href=\"/wiki/Kaedehara_Kazuha\" title=\"Kaedehara Kazuha\">Kaedehara Kazuha</a>,\n",
       " <a class=\"category-page__member-link\" href=\"/wiki/Kaeya\" title=\"Kaeya\">Kaeya</a>,\n",
       " <a class=\"category-page__member-link\" href=\"/wiki/Kamisato_Ayaka\" title=\"Kamisato Ayaka\">Kamisato Ayaka</a>,\n",
       " <a class=\"category-page__member-link\" href=\"/wiki/Kamisato_Ayato\" title=\"Kamisato Ayato\">Kamisato Ayato</a>,\n",
       " <a class=\"category-page__member-link\" href=\"/wiki/Kaveh\" title=\"Kaveh\">Kaveh</a>,\n",
       " <a class=\"category-page__member-link\" href=\"/wiki/Keqing\" title=\"Keqing\">Keqing</a>,\n",
       " <a class=\"category-page__member-link\" href=\"/wiki/Kirara\" title=\"Kirara\">Kirara</a>,\n",
       " <a class=\"category-page__member-link\" href=\"/wiki/Klee\" title=\"Klee\">Klee</a>,\n",
       " <a class=\"category-page__member-link\" href=\"/wiki/Kujou_Sara\" title=\"Kujou Sara\">Kujou Sara</a>,\n",
       " <a class=\"category-page__member-link\" href=\"/wiki/Kuki_Shinobu\" title=\"Kuki Shinobu\">Kuki Shinobu</a>,\n",
       " <a class=\"category-page__member-link\" href=\"/wiki/Layla\" title=\"Layla\">Layla</a>,\n",
       " <a class=\"category-page__member-link\" href=\"/wiki/Lisa\" title=\"Lisa\">Lisa</a>,\n",
       " <a class=\"mw-redirect category-page__member-link\" href=\"/wiki/Lumine\" title=\"Lumine\">Lumine</a>,\n",
       " <a class=\"category-page__member-link\" href=\"/wiki/Lynette\" title=\"Lynette\">Lynette</a>,\n",
       " <a class=\"category-page__member-link\" href=\"/wiki/Lyney\" title=\"Lyney\">Lyney</a>,\n",
       " <a class=\"category-page__member-link\" href=\"/wiki/Mika\" title=\"Mika\">Mika</a>,\n",
       " <a class=\"category-page__member-link\" href=\"/wiki/Mona\" title=\"Mona\">Mona</a>,\n",
       " <a class=\"category-page__member-link\" href=\"/wiki/Nahida\" title=\"Nahida\">Nahida</a>,\n",
       " <a class=\"category-page__member-link\" href=\"/wiki/Navia\" title=\"Navia\">Navia</a>,\n",
       " <a class=\"category-page__member-link\" href=\"/wiki/Neuvillette\" title=\"Neuvillette\">Neuvillette</a>,\n",
       " <a class=\"category-page__member-link\" href=\"/wiki/Nilou\" title=\"Nilou\">Nilou</a>,\n",
       " <a class=\"category-page__member-link\" href=\"/wiki/Ningguang\" title=\"Ningguang\">Ningguang</a>,\n",
       " <a class=\"category-page__member-link\" href=\"/wiki/Noelle\" title=\"Noelle\">Noelle</a>,\n",
       " <a class=\"category-page__member-link\" href=\"/wiki/Qiqi\" title=\"Qiqi\">Qiqi</a>,\n",
       " <a class=\"category-page__member-link\" href=\"/wiki/Raiden_Shogun\" title=\"Raiden Shogun\">Raiden Shogun</a>,\n",
       " <a class=\"category-page__member-link\" href=\"/wiki/Razor\" title=\"Razor\">Razor</a>,\n",
       " <a class=\"category-page__member-link\" href=\"/wiki/Rosaria\" title=\"Rosaria\">Rosaria</a>,\n",
       " <a class=\"category-page__member-link\" href=\"/wiki/Sangonomiya_Kokomi\" title=\"Sangonomiya Kokomi\">Sangonomiya Kokomi</a>,\n",
       " <a class=\"category-page__member-link\" href=\"/wiki/Sayu\" title=\"Sayu\">Sayu</a>,\n",
       " <a class=\"category-page__member-link\" href=\"/wiki/Shenhe\" title=\"Shenhe\">Shenhe</a>,\n",
       " <a class=\"category-page__member-link\" href=\"/wiki/Shikanoin_Heizou\" title=\"Shikanoin Heizou\">Shikanoin Heizou</a>,\n",
       " <a class=\"category-page__member-link\" href=\"/wiki/Sucrose\" title=\"Sucrose\">Sucrose</a>,\n",
       " <a class=\"category-page__member-link\" href=\"/wiki/Tartaglia\" title=\"Tartaglia\">Tartaglia</a>,\n",
       " <a class=\"category-page__member-link\" href=\"/wiki/Thoma\" title=\"Thoma\">Thoma</a>,\n",
       " <a class=\"category-page__member-link\" href=\"/wiki/Tighnari\" title=\"Tighnari\">Tighnari</a>,\n",
       " <a class=\"category-page__member-link\" href=\"/wiki/Traveler\" title=\"Traveler\">Traveler</a>,\n",
       " <a class=\"category-page__member-link\" href=\"/wiki/Traveler_(Anemo)\" title=\"Traveler (Anemo)\">Traveler (Anemo)</a>,\n",
       " <a class=\"category-page__member-link\" href=\"/wiki/Traveler_(Dendro)\" title=\"Traveler (Dendro)\">Traveler (Dendro)</a>,\n",
       " <a class=\"category-page__member-link\" href=\"/wiki/Traveler_(Electro)\" title=\"Traveler (Electro)\">Traveler (Electro)</a>,\n",
       " <a class=\"category-page__member-link\" href=\"/wiki/Traveler_(Geo)\" title=\"Traveler (Geo)\">Traveler (Geo)</a>,\n",
       " <a class=\"category-page__member-link\" href=\"/wiki/Traveler_(Hydro)\" title=\"Traveler (Hydro)\">Traveler (Hydro)</a>,\n",
       " <a class=\"category-page__member-link\" href=\"/wiki/Traveler_(Unaligned)\" title=\"Traveler (Unaligned)\">Traveler (Unaligned)</a>,\n",
       " <a class=\"category-page__member-link\" href=\"/wiki/Venti\" title=\"Venti\">Venti</a>,\n",
       " <a class=\"category-page__member-link\" href=\"/wiki/Wanderer\" title=\"Wanderer\">Wanderer</a>,\n",
       " <a class=\"category-page__member-link\" href=\"/wiki/Wriothesley\" title=\"Wriothesley\">Wriothesley</a>,\n",
       " <a class=\"category-page__member-link\" href=\"/wiki/Xiangling\" title=\"Xiangling\">Xiangling</a>,\n",
       " <a class=\"category-page__member-link\" href=\"/wiki/Xianyun\" title=\"Xianyun\">Xianyun</a>,\n",
       " <a class=\"category-page__member-link\" href=\"/wiki/Xiao\" title=\"Xiao\">Xiao</a>,\n",
       " <a class=\"category-page__member-link\" href=\"/wiki/Xingqiu\" title=\"Xingqiu\">Xingqiu</a>,\n",
       " <a class=\"category-page__member-link\" href=\"/wiki/Xinyan\" title=\"Xinyan\">Xinyan</a>,\n",
       " <a class=\"category-page__member-link\" href=\"/wiki/Yae_Miko\" title=\"Yae Miko\">Yae Miko</a>,\n",
       " <a class=\"category-page__member-link\" href=\"/wiki/Yanfei\" title=\"Yanfei\">Yanfei</a>,\n",
       " <a class=\"category-page__member-link\" href=\"/wiki/Yaoyao\" title=\"Yaoyao\">Yaoyao</a>,\n",
       " <a class=\"category-page__member-link\" href=\"/wiki/Yelan\" title=\"Yelan\">Yelan</a>,\n",
       " <a class=\"category-page__member-link\" href=\"/wiki/Yoimiya\" title=\"Yoimiya\">Yoimiya</a>,\n",
       " <a class=\"category-page__member-link\" href=\"/wiki/Yun_Jin\" title=\"Yun Jin\">Yun Jin</a>,\n",
       " <a class=\"category-page__member-link\" href=\"/wiki/Zhongli\" title=\"Zhongli\">Zhongli</a>]"
      ]
     },
     "execution_count": 6,
     "metadata": {},
     "output_type": "execute_result"
    }
   ],
   "source": [
    "#Scraping through to get the html, identifying which class and identifier to find the names\n",
    "\n",
    "imgtag = soupname.find_all(\"a\", class_=\"category-page__member-link\")\n",
    "imgtag"
   ]
  },
  {
   "cell_type": "code",
   "execution_count": 7,
   "id": "f326d3b5",
   "metadata": {},
   "outputs": [
    {
     "data": {
      "text/plain": [
       "['Albedo',\n",
       " 'Alhaitham',\n",
       " 'Aloy',\n",
       " 'Amber',\n",
       " 'Arataki Itto',\n",
       " 'Baizhu',\n",
       " 'Barbara',\n",
       " 'Beidou',\n",
       " 'Bennett',\n",
       " 'Candace',\n",
       " 'Charlotte',\n",
       " 'Chevreuse',\n",
       " 'Chiori',\n",
       " 'Chongyun',\n",
       " 'Collei',\n",
       " 'Cyno',\n",
       " 'Dehya',\n",
       " 'Diluc',\n",
       " 'Diona',\n",
       " 'Dori',\n",
       " 'Eula',\n",
       " 'Faruzan',\n",
       " 'Fischl',\n",
       " 'Freminet',\n",
       " 'Furina',\n",
       " 'Gaming',\n",
       " 'Ganyu',\n",
       " 'Gorou',\n",
       " 'Hu Tao',\n",
       " 'Jean',\n",
       " 'Kaedehara Kazuha',\n",
       " 'Kaeya',\n",
       " 'Kamisato Ayaka',\n",
       " 'Kamisato Ayato',\n",
       " 'Kaveh',\n",
       " 'Keqing',\n",
       " 'Kirara',\n",
       " 'Klee',\n",
       " 'Kujou Sara',\n",
       " 'Kuki Shinobu',\n",
       " 'Layla',\n",
       " 'Lisa',\n",
       " 'Lumine',\n",
       " 'Lynette',\n",
       " 'Lyney',\n",
       " 'Mika',\n",
       " 'Mona',\n",
       " 'Nahida',\n",
       " 'Navia',\n",
       " 'Neuvillette',\n",
       " 'Nilou',\n",
       " 'Ningguang',\n",
       " 'Noelle',\n",
       " 'Qiqi',\n",
       " 'Raiden Shogun',\n",
       " 'Razor',\n",
       " 'Rosaria',\n",
       " 'Sangonomiya Kokomi',\n",
       " 'Sayu',\n",
       " 'Shenhe',\n",
       " 'Shikanoin Heizou',\n",
       " 'Sucrose',\n",
       " 'Tartaglia',\n",
       " 'Thoma',\n",
       " 'Tighnari',\n",
       " 'Traveler',\n",
       " 'Traveler (Anemo)',\n",
       " 'Traveler (Dendro)',\n",
       " 'Traveler (Electro)',\n",
       " 'Traveler (Geo)',\n",
       " 'Traveler (Hydro)',\n",
       " 'Traveler (Unaligned)',\n",
       " 'Venti',\n",
       " 'Wanderer',\n",
       " 'Wriothesley',\n",
       " 'Xiangling',\n",
       " 'Xianyun',\n",
       " 'Xiao',\n",
       " 'Xingqiu',\n",
       " 'Xinyan',\n",
       " 'Yae Miko',\n",
       " 'Yanfei',\n",
       " 'Yaoyao',\n",
       " 'Yelan',\n",
       " 'Yoimiya',\n",
       " 'Yun Jin',\n",
       " 'Zhongli']"
      ]
     },
     "metadata": {},
     "output_type": "display_data"
    },
    {
     "name": "stdout",
     "output_type": "stream",
     "text": [
      "['Albedo', 'Alhaitham', 'Aloy', 'Amber', 'Arataki_Itto', 'Baizhu', 'Barbara', 'Beidou', 'Bennett', 'Candace', 'Charlotte', 'Chevreuse', 'Chiori', 'Chongyun', 'Collei', 'Cyno', 'Dehya', 'Diluc', 'Diona', 'Dori', 'Eula', 'Faruzan', 'Fischl', 'Freminet', 'Furina', 'Gaming', 'Ganyu', 'Gorou', 'Hu_Tao', 'Jean', 'Kaedehara_Kazuha', 'Kaeya', 'Kamisato_Ayaka', 'Kamisato_Ayato', 'Kaveh', 'Keqing', 'Kirara', 'Klee', 'Kujou_Sara', 'Kuki_Shinobu', 'Layla', 'Lisa', 'Lumine', 'Lynette', 'Lyney', 'Mika', 'Mona', 'Nahida', 'Navia', 'Neuvillette', 'Nilou', 'Ningguang', 'Noelle', 'Qiqi', 'Raiden_Shogun', 'Razor', 'Rosaria', 'Sangonomiya_Kokomi', 'Sayu', 'Shenhe', 'Shikanoin_Heizou', 'Sucrose', 'Tartaglia', 'Thoma', 'Tighnari', 'Traveler', 'Traveler_(Anemo)', 'Traveler_(Dendro)', 'Traveler_(Electro)', 'Traveler_(Geo)', 'Traveler_(Hydro)', 'Traveler_(Unaligned)', 'Venti', 'Wanderer', 'Wriothesley', 'Xiangling', 'Xianyun', 'Xiao', 'Xingqiu', 'Xinyan', 'Yae_Miko', 'Yanfei', 'Yaoyao', 'Yelan', 'Yoimiya', 'Yun_Jin', 'Zhongli']\n"
     ]
    }
   ],
   "source": [
    "#Converting the soup into a usable List\n",
    "\n",
    "type(imgtag)\n",
    "\n",
    "titles = [tag['title'] for tag in imgtag]\n",
    "characters = titles[6:]\n",
    "display(characters)\n",
    "type(characters)\n",
    "\n",
    "\n",
    "#Replacing spaces with underscores for it to be usable in iterating through the wikia pages\n",
    "\n",
    "converter = lambda x: x.replace(' ', '_')\n",
    "characters = list(map(converter, characters))\n",
    "print(characters)"
   ]
  },
  {
   "cell_type": "markdown",
   "id": "19c8c0ce",
   "metadata": {},
   "source": [
    "### Testing with character \"Albedo\" how to scrape the constellation data"
   ]
  },
  {
   "cell_type": "code",
   "execution_count": 8,
   "id": "a8c1266e",
   "metadata": {},
   "outputs": [],
   "source": [
    "#Web scraping and parsing only the albedo site. Utilise regex and loop.functions in the final to complete.\n",
    "\n",
    "url_albedo = \"https://genshin-impact.fandom.com/wiki/\"+characters[0]\n",
    "\n",
    "page_albedo = requests.get(url_albedo)\n",
    "\n",
    "soup_albedo = BeautifulSoup(page_albedo.content, \"html.parser\")\n",
    "\n",
    "\n",
    "#Obtaining the constellation html info\n",
    "\n",
    "cons1 = soup_albedo.find_all(class_ = \"item constellation\")\n",
    "cons2 = [con.find_parents(\"li\")[0] for con in cons1]\n",
    "cons2 = cons2[0:5]\n",
    "#cons2"
   ]
  },
  {
   "cell_type": "code",
   "execution_count": 16,
   "id": "a0b4d9f1",
   "metadata": {},
   "outputs": [
    {
     "name": "stdout",
     "output_type": "stream",
     "text": [
      "{'global-explore-navigation__button', 'banner-notifications-placeholder', 'card-body', 'community-navigation fandom-sticky-header', 'mw-redirect', 'global-top-navigation__fandom-logo', 'card-image card-rarity-0', 'tocnumber', 'global-explore-navigation__top', 'global-navigation__links', 'container', 'global-explore-navigation', 'global-footer__link-icon wds-icon wds-icon-small', 'card-image card-rarity-4', 'article-categories CategorySelect articlePage', 'pi-image-thumbnail', 'pi-data-value pi-font', 'page-header__meta', 'thumbimage', 'mcf-content', 'ad-slot-placeholder bottom-leaderboard is-loading', 'mcf-card-wiki-placeholder', 'wds-button wds-is-full-width global-action__register-link', 'item-image', 'internal', 'preview', 'toclevel-2 tocsection-2', 'right-rail-wrapper WikiaRail', 'global-footer__section global-footer__section-social-links', 'WikiaBarWrapper hidden', 'page-header__title-wrapper', 'wds-tabs__tab-label wds-dropdown__toggle first-level-item', 'fandom-community-header__background cover header', 'page-footer__trfc-147 trfc-147', 'global-navigation__icon has-background', 'mw-redirect mw-disambig', 'text-geo', 'card-text card-font', 'page-side-tools__wrapper', 'mw-page-title-main', 'notice hatnote context-link about dablink', 'page-header__categories', 'toc', 'giw-collapsible mw-collapsible mw-collapsed', 'wds-tab__content', 'global-footer__header-logo', 'wds-button wds-is-full-width wds-is-secondary global-action__sign-in-link', 'toclevel-1 tocsection-9', 'card-list-container card-mobile-list', 'global-footer__header', 'page-counter', 'mcf-card-wiki-articles__item-link', 'wds-dropdown explore-menu', 'wds-button wds-is-full-width global-navigation__register-link', 'search-container', 'info-icon', 'category normal', 'global-action__item sign-in', 'reference-text', 'change-history-content standard-border', 'global-navigation__beta-badge', 'pi-item pi-item-spacing pi-title pi-secondary-background', 'wds-collapsible-panel wds-is-collapsed page-footer__languages', 'mcf-wrapper', 'toclevel-1 tocsection-1', 'alternating2', 'main-container', 'trfc-147__content', 'new', 'arrow', 'nowraplinks hlist mw-collapsible navbox-inner', 'global-navigation__icon has-border', 'text', 'wds-tabs__tab', 'global-navigation__search global-navigation__icon', 'wds-dropdown__content wds-is-not-scrollable wds-is-right-aligned sign-in__dropdown-content', 'global-footer__switch-view global-footer__switch-to-mobile', 'toctogglecheckbox', 'global-explore-navigation__item global-explore-navigation__tab-item', 'pi-item pi-group pi-border-color', 'card-container mini-card', 'card-image card-rarity-5a', 'featured-video-player-container', 'fandom-community-header__community-name-wrapper', 'wds-collapsible-panel__content', 'page-header__categories-in', 'global-explore-navigation__icon wds-avatar wds-avatar--square', 'global-explore-navigation__item global-explore-navigation__item--with-icon global-explore-navigation__explore global-explore-navigation__tab-item', 'caption', 'wds-dropdown-level-nested__toggle', 'resizable-container', 'mcf-mosaic', 'community-header-wrapper', 'page-header__bottom', 'global-explore-navigation__current-wiki global-explore-navigation__divider', 'card-image card-rarity-2', 'wds-icon wds-icon-small', 'global-registration-buttons', 'message', 'global-footer__bottom', 'global-top-navigation', 'text-new', 'wikitable constellation-table', 'global-navigation__bottom', 'card-icon', 'change-history-header', 'wds-icon wds-icon-small close-icon', 'toclevel-3 tocsection-4', 'categoriesLink', 'article-table sortable tdc1 tdc4', 'card-list-container', 'references', 'card-image card-rarity-1', 'wds-tabs__tab-label', 'global-footer', 'thumb tnone show-info-icon', 'ascension mw-collapsible', 'fandom-community-header__community-name', 'wds-avatar wds-avatar--square', 'global-navigation__register-text', 'pi-item pi-image', 'global-navigation__logo', 'mw-body-content mw-content-ltr', 'wikia-bar wikia-bar-anon', 'global-footer__section global-footer__section-community', 'wds-is-not-scrollable wds-dropdown-level-nested__content', 'toclevel-2 tocsection-7', 'trfc-147__link', 'page-header', 'mcf-header', 'toctogglelabel', 'global-top-navigation__button-label global-top-navigation__start-new-wiki__label', 'wds-icon wds-icon-small sign-in__icon', 'wds-icon', 'card-caption', 'wds-avatar__badge', 'active-tab', 'categories', 'mw-cite-backlink', 'text-old', 'global-navigation__top', 'navbox-title', 'trfc-147__item', 'global-explore-navigation__label global-explore-navigation__label--main', 'wds-button wds-is-secondary global__signin-link', 'global-top-navigation__item global-top-navigation__start-new-wiki', 'wds-button wds-is-text page-header__action-button', 'global-explore-navigation__recently-visited', 'card-image card-rarity-5', 'mcf-card-wiki-articles__circle', 'wds-dropdown__content wds-is-right-aligned wds-is-not-scrollable', 'toclevel-2 tocsection-8', 'global-explore-navigation__icon', 'center', 'global-footer__link-icon', 'community-navigation__fandom-heart', 'wikiabar-button', 'fandom-sticky-header__sitename', 'bg-highlight', 'pi-data-label pi-secondary-font', 'global-footer__link', 'mw-customtoggle-toggle-ascension wds-button', 'hidden looppreview-hover-label', 'talent-table-container', 'button-counter', 'global-navigation', 'wds-icon-tiny wds-icon', 'wds-icon wds-icon-tiny wds-dropdown__toggle-chevron', 'thumbimage lazyload', 'page-header__languages', 'global-action__link wds-button sign-in__anchor', 'sign-in__register-text', 'wds-button wds-is-secondary is-hidden-on-smaller-breakpoints wiki-tools__search', 'wds-button global__register-link', 'card-container', 'wds-button wds-is-secondary', 'reference', 'global-footer__section global-footer__section-fandom-overview', 'item constellation', 'fandom-community-header__image', 'wds-collapsible-panel__header', 'page-header__top', 'toctitle', 'fandom-sticky-header', 'wikitable talent-table', 'wds-dropdown', 'mw-selflink selflink', 'mcf-card-wiki-articles__list', 'wds-dropdown__content page-header__categories-dropdown-content wds-is-left-aligned', 'page has-right-rail', 'trfc-147__list', 'item', 'mcf-card-wiki-articles__header', 'global-navigation__nav', 'fandom-community-header__local-navigation', 'card-image card-rarity-3', 'text-tooltip hover-tooltip', 'mcf-card-wiki-articles__item', 'toclevel-1 tocsection-12', 'global-footer__section global-footer__section-fandom-stores', 'extiw', 'toclevel-1 tocsection-11', 'wds-avatar__image', 'page-header__actions', 'fandom-sticky-header__logo', 'video hidden mobileHide', 'wds-dropdown wds-open-to-right', 'global-top-navigation__action-wrapper', 'special-categories-label', 'pi-item pi-data pi-item-spacing pi-border-color', 'mediawiki ltr sitedir-ltr mw-hide-empty-elt ns-0 ns-subject page-Albedo rootpage-Albedo skin-fandomdesktop action-view ooui-theme-fandomooui wiki-gensinimpact theme-fandomdesktop-dark', 'custom-tt-wrapper mobile-only toggle-tooltip mw-collapsible mw-made-collapsible mw-collapsed giw-collapsible', 'wds-tab__content wds-is-current', 'mw-headline', 'card-wrapper', 'global-footer__section global-footer__section-site-overview', 'mw-collapsible-content', 'wds-icon global-top-navigation__start-new-wiki__icon', 'looppreview', 'navbox-list navbox-even navbox-list-top', 'preview-gallery-item', 'global-footer__content', 'toctogglespan', 'global-navigation__label', 'mw-collapsible-content custom-tt', 'wds-dropdown sign-in__dropdown', 'wds-button wds-is-full-width wds-is-secondary global-navigation__signin-link', 'card-mobile-text', 'wds-dropdown__content', 'toclevel-2 tocsection-3', 'image image-thumbnail', 'lazyload', 'wds-collapsible-panel wds-is-collapsed page-footer__categories', 'toclevel-1 tocsection-6', 'wds-dropdown__toggle wds-button wds-is-text page-header__action-button', 'WikiaBarCollapseWrapper', 'wds-button wds-is-text wiki-tools__theme-switch', 'page-header__title', 'mcf-card mcf-card-wiki-articles', 'global-top-navigation__link global-top-navigation__start-new-wiki__anchor', 'ad-slot-placeholder top-leaderboard is-loading', 'pi-horizontal-group-item pi-data-label pi-secondary-font pi-border-color pi-item-spacing', 'page-side-tools', 'ae-translatable-label', 'page-content', 'wds-dropdown page-header__categories-dropdown', 'top-ads-container', 'name', 'license-description', 'client-nojs', 'mcf-card-wiki-articles__title', 'article-table', 'page-side-tool content-size-toggle', 'wds-list wds-is-linked', 'global-navigation__link', 'change-history', 'wds-dropdown__toggle', 'no-wrap', 'wds-button wds-is-text page-header__action-button has-label', 'toctext', 'wds-button wds-is-text', 'page__main', 'external text', 'page-side-tool page-side-edit', 'navbox-group', 'mw-references-wrap', 'portable-infobox pi-background pi-border-color pi-theme-char pi-layout-default', 'hidden looppreview-hover-preference', 'wds-tabs', 'global-footer__icon', 'mcf-en', 'wikitable ascension-stats', 'fandom-community-header', 'notifications-placeholder', 'wds-is-not-scrollable wds-dropdown__content', 'global-footer__links', 'wds-icon wds-icon-tiny wds-dropdown-chevron', 'page-footer', 'global-navigation__icon', 'wds-banner-notification__container', 'bottom-ads-container', 'wds-tabs__wrapper', 'navbox-border navbox', 'global-footer__section global-footer__section-fandom-apps', 'page-counter__value', 'community-navigation__fandom-heart__link', 'global-explore-navigation__nav', 'mw-parser-output', 'toclevel-1 tocsection-10', 'mcf-column', 'thumbcaption', 'global-footer__section-header', 'global-footer__section global-footer__section-advertise', 'mw-collapsible-toggle mw-collapsible-toggle-default mw-collapsible-toggle-collapsed custom-tt toggle-tooltip', 'global-explore-navigation__tab-container', 'pi-image-collection wds-tabber', 'wds-dropdown wds-open-to-right is-attached-to-bottom is-anon-dropdown', 'wiki-tools wds-button-group', 'hidden', 'trfc-147__header', 'global-explore-navigation__label', 'alternating1', 'mobile-only', 'wds-button wds-is-secondary wiki-tools__theme-switch', 'wiki-tools', 'pi-horizontal-group', 'item talent', 'wds-tabs__tab wds-is-current', 'global-action__button-label sign-in__label', 'custom-tabs-default custom-tabs', 'global-footer__link ot-sdk-show-settings', 'tool removeCategory', 'wds-dropdown-level-nested', 'page-counter__label', 'inactive-tab', 'pi-item pi-panel pi-border-color wds-tabber', 'fandom-community-header__top-container', 'pi-item pi-header pi-secondary-font pi-item-spacing pi-secondary-background', 'image', 'page__right-rail', 'wikia-bar-collapse', 'preview-gallery caption-center', 'wds-icon-tiny wds-icon navigation-item-icon', 'wikitable', 'mcf-card-wiki-articles__header-text', 'pi-horizontal-group-item pi-data-value pi-font pi-border-color pi-item-spacing', 'toclevel-2 tocsection-5', 'references-small', 'navbox-list navbox-odd navbox-list-top', 'item-text'}\n"
     ]
    }
   ],
   "source": [
    "#Obtaining list of all classes used in Albedo's web page\n",
    "\n",
    "# class list set \n",
    "class_list = set() \n",
    "\n",
    "# Page content from Website URL \n",
    "page = requests.get(url_albedo) \n",
    "\n",
    "# parse html content \n",
    "soup = BeautifulSoup(page.content , 'html.parser') \n",
    "\n",
    "# get all tags \n",
    "tags = {tag.name for tag in soup.find_all()} \n",
    "\n",
    "\n",
    "for tag in tags:                       # iterate all tags \n",
    "\n",
    "    for i in soup.find_all( tag ):     # find all element of tag \n",
    " \n",
    "        if i.has_attr( \"class\" ):      # if tag has attribute of class\n",
    "\n",
    "            if len( i['class'] ) != 0: \n",
    "                class_list.add(\" \".join( i['class'])) \n",
    "\n",
    "print(class_list) "
   ]
  },
  {
   "cell_type": "code",
   "execution_count": 29,
   "id": "6728f173",
   "metadata": {},
   "outputs": [
    {
     "name": "stdout",
     "output_type": "stream",
     "text": [
      "['Constellation Level 1,  Flower of Eden: \"Transient Blossoms generated by Albedo\\'s Abiogenesis: Solar Isotoma regenerate 1.2 Energy for Albedo.\"', \"Constellation Level 2,  Opening of Phanerozoic: Albedo gains one stack of Fatal Reckoning for each Transient Blossom generated from Abiogenesis: Solar Isotoma, up to a maximum of 4 stacks. Upon using Rite of Progeniture: Tectonic Tide, all stacks of Fatal Reckoning are consumed, with each stack consumed increasing all damage dealt by Rite of Progeniture: Tectonic Tide (including Fatal Blossom damage) by 30% of Albedo's DEF.\", \"Constellation Level 3,  Grace of Helios: Increases this talent's level by 3, up to a maximum of 15.\", 'Constellation Level 4,  Descent of Divinity: \"Active party members within the Solar Isotoma field have their Plunging Attack DMG increased by 30%.\"', 'Constellation Level 6,  Dust of Purification: \"Active party members within the Solar Isotoma field who are protected by a shield created by Crystallize have their DMG increased by 17%.\"']\n"
     ]
    }
   ],
   "source": [
    "type(cons2[0])\n",
    "\n",
    "#Individually getting the text out of the html part of cons2. This will then be used as the basis of all con data.\n",
    "\n",
    "cons3 = []\n",
    "\n",
    "for data in cons2:\n",
    "    \n",
    "    #soup = BeautifulSoup(data, 'html.parser')\n",
    "    #print(type(data))\n",
    "    #li_tag = data.find('li')\n",
    "    \n",
    "    if data:\n",
    "        data = data.text.strip()\n",
    "        #print(data)\n",
    "        cons3.append(data)\n",
    "    else:\n",
    "        print(\"No tag found.\")\n",
    "        \n",
    "print(cons3)"
   ]
  },
  {
   "cell_type": "code",
   "execution_count": 10,
   "id": "93f4c639",
   "metadata": {},
   "outputs": [],
   "source": [
    "#cons1 = soup_albedo.find_all(class_ = \"item constellation\")\n",
    "#cons2 = [con.parent for con in cons1] \n",
    "\n",
    "#cons2"
   ]
  },
  {
   "cell_type": "code",
   "execution_count": 11,
   "id": "33f18e82",
   "metadata": {},
   "outputs": [],
   "source": [
    "#cons1.parents\n",
    "\n",
    "#cons_albedo = soup_albedo.find_all(\"span\", class_=\"item constellation\")\n",
    "\n",
    "#cons_albedo = soup_albedo.find_all(\"li\", class_=\"item constellation\")\n",
    "#cons_albedo"
   ]
  },
  {
   "cell_type": "code",
   "execution_count": 12,
   "id": "5aa4b038",
   "metadata": {
    "scrolled": true
   },
   "outputs": [],
   "source": [
    "#soup_albedo_li = soup_albedo.find_all(\"li\")\n",
    "#soup_albedo_li"
   ]
  },
  {
   "cell_type": "code",
   "execution_count": 13,
   "id": "88be6f92",
   "metadata": {},
   "outputs": [],
   "source": [
    "#div_list = []\n",
    "\n",
    "#for ul in soup_albedo.find_all('li'):\n",
    "#    div_list.extend(ul.find_all('span', {'class' : 'item constellation'}))\n",
    "\n",
    "#print(div_list)"
   ]
  },
  {
   "cell_type": "code",
   "execution_count": 14,
   "id": "f3bda25b",
   "metadata": {
    "scrolled": true
   },
   "outputs": [],
   "source": [
    "#for li in soup_albedo_li:\n",
    "#    if li:\n",
    "#        li_text = li.text.strip()\n",
    "#        print(li_text)\n",
    "#    else:\n",
    "#        print(\"None\")"
   ]
  },
  {
   "cell_type": "code",
   "execution_count": null,
   "id": "e6c523e1",
   "metadata": {},
   "outputs": [],
   "source": []
  }
 ],
 "metadata": {
  "kernelspec": {
   "display_name": "Python 3 (ipykernel)",
   "language": "python",
   "name": "python3"
  },
  "language_info": {
   "codemirror_mode": {
    "name": "ipython",
    "version": 3
   },
   "file_extension": ".py",
   "mimetype": "text/x-python",
   "name": "python",
   "nbconvert_exporter": "python",
   "pygments_lexer": "ipython3",
   "version": "3.9.13"
  }
 },
 "nbformat": 4,
 "nbformat_minor": 5
}
