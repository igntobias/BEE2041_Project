{
 "cells": [
  {
   "cell_type": "code",
   "execution_count": 1,
   "id": "6392af7c",
   "metadata": {},
   "outputs": [],
   "source": [
    "from bs4 import BeautifulSoup\n",
    "from urllib.request import urlopen\n",
    "import numpy as np\n",
    "import pandas as pd\n",
    "import matplotlib.pyplot as plt"
   ]
  },
  {
   "cell_type": "code",
   "execution_count": 2,
   "id": "19e5513e",
   "metadata": {},
   "outputs": [],
   "source": [
    "import requests"
   ]
  },
  {
   "cell_type": "markdown",
   "id": "0eb7684f",
   "metadata": {},
   "source": [
    "### Obtaining all Names"
   ]
  },
  {
   "cell_type": "code",
   "execution_count": 3,
   "id": "8ad02c34",
   "metadata": {},
   "outputs": [],
   "source": [
    "#urlnames = \"https://game8.co/games/Genshin-Impact/archives/296707\"\n",
    "\n",
    "#Web scraping the wikia for Genshin's playable character list.\n",
    "\n",
    "urlnames = \"https://genshin-impact.fandom.com/wiki/Category:Playable_Characters\"\n",
    "\n",
    "pagenames = requests.get(urlnames)\n",
    "\n",
    "soupname = BeautifulSoup(pagenames.text, \"html.parser\")"
   ]
  },
  {
   "cell_type": "code",
   "execution_count": 4,
   "id": "89161a5b",
   "metadata": {},
   "outputs": [],
   "source": [
    "#Obtaining list of all classes used in the \"Names\" web page for the Genshin Characters\n",
    "\n",
    "# class list set \n",
    "class_list = set() \n",
    "\n",
    "# Page content from Website URL \n",
    "page = requests.get(urlnames) \n",
    "\n",
    "# parse html content \n",
    "soup = BeautifulSoup(page.content , 'html.parser') \n",
    "\n",
    "# get all tags \n",
    "tags = {tag.name for tag in soup.find_all()} \n",
    "\n",
    "\n",
    "for tag in tags:                       # iterate all tags \n",
    "\n",
    "    for i in soup.find_all( tag ):     # find all element of tag \n",
    " \n",
    "        if i.has_attr( \"class\" ):      # if tag has attribute of class\n",
    "\n",
    "            if len( i['class'] ) != 0: \n",
    "                class_list.add(\" \".join( i['class'])) \n",
    "\n",
    "#print(class_list) "
   ]
  },
  {
   "cell_type": "code",
   "execution_count": 5,
   "id": "a05a2ec1",
   "metadata": {},
   "outputs": [],
   "source": [
    "#Scraping through to get the html, identifying which class and identifier to find the names\n",
    "\n",
    "imgtag = soupname.find_all(\"a\", class_=\"category-page__member-link\")\n",
    "#imgtag"
   ]
  },
  {
   "cell_type": "code",
   "execution_count": 6,
   "id": "f326d3b5",
   "metadata": {},
   "outputs": [
    {
     "name": "stdout",
     "output_type": "stream",
     "text": [
      "['Albedo', 'Alhaitham', 'Aloy', 'Amber', 'Arataki_Itto', 'Baizhu', 'Barbara', 'Beidou', 'Bennett', 'Candace', 'Charlotte', 'Chevreuse', 'Chiori', 'Chongyun', 'Collei', 'Cyno', 'Dehya', 'Diluc', 'Diona', 'Dori', 'Eula', 'Faruzan', 'Fischl', 'Freminet', 'Furina', 'Gaming', 'Ganyu', 'Gorou', 'Hu_Tao', 'Jean', 'Kaedehara_Kazuha', 'Kaeya', 'Kamisato_Ayaka', 'Kamisato_Ayato', 'Kaveh', 'Keqing', 'Kirara', 'Klee', 'Kujou_Sara', 'Kuki_Shinobu', 'Layla', 'Lisa', 'Lumine', 'Lynette', 'Lyney', 'Mika', 'Mona', 'Nahida', 'Navia', 'Neuvillette', 'Nilou', 'Ningguang', 'Noelle', 'Qiqi', 'Raiden_Shogun', 'Razor', 'Rosaria', 'Sangonomiya_Kokomi', 'Sayu', 'Shenhe', 'Shikanoin_Heizou', 'Sucrose', 'Tartaglia', 'Thoma', 'Tighnari', 'Traveler', 'Traveler_(Anemo)', 'Traveler_(Dendro)', 'Traveler_(Electro)', 'Traveler_(Geo)', 'Traveler_(Hydro)', 'Traveler_(Unaligned)', 'Venti', 'Wanderer', 'Wriothesley', 'Xiangling', 'Xianyun', 'Xiao', 'Xingqiu', 'Xinyan', 'Yae_Miko', 'Yanfei', 'Yaoyao', 'Yelan', 'Yoimiya', 'Yun_Jin', 'Zhongli']\n"
     ]
    }
   ],
   "source": [
    "#Converting the soup into a usable List\n",
    "\n",
    "type(imgtag)\n",
    "\n",
    "titles = [tag['title'] for tag in imgtag]\n",
    "characters = titles[6:]\n",
    "#display(characters)\n",
    "type(characters)\n",
    "\n",
    "\n",
    "#Replacing spaces with underscores for it to be usable in iterating through the wikia pages\n",
    "\n",
    "converter = lambda x: x.replace(' ', '_')\n",
    "characters = list(map(converter, characters))\n",
    "print(characters)"
   ]
  },
  {
   "cell_type": "markdown",
   "id": "19c8c0ce",
   "metadata": {},
   "source": [
    "### Testing with character \"Albedo\" how to scrape the constellation data"
   ]
  },
  {
   "cell_type": "code",
   "execution_count": 13,
   "id": "a8c1266e",
   "metadata": {},
   "outputs": [],
   "source": [
    "#Web scraping and parsing only the albedo site. Utilise regex and loop.functions in the final to complete.\n",
    "\n",
    "url_chara = \"https://genshin-impact.fandom.com/wiki/\"+characters[1]\n",
    "\n",
    "page_chara = requests.get(url_chara)\n",
    "\n",
    "soup_chara = BeautifulSoup(page_chara.content, \"html.parser\")\n",
    "\n",
    "\n",
    "#Obtaining the constellation html info\n",
    "\n",
    "cons1 = soup_chara.find_all(class_ = \"item constellation\")\n",
    "cons2 = [con.find_parents(\"li\")[0] for con in cons1]\n",
    "cons2 = cons2[0:5]\n",
    "#cons2"
   ]
  },
  {
   "cell_type": "code",
   "execution_count": 14,
   "id": "a0b4d9f1",
   "metadata": {},
   "outputs": [
    {
     "name": "stdout",
     "output_type": "stream",
     "text": [
      "{'toclevel-1 tocsection-1', 'ad-slot-placeholder top-leaderboard is-loading', 'global-footer__link', 'mobile-only', 'text', 'wds-icon wds-icon-small sign-in__icon', 'global-footer__switch-view global-footer__switch-to-mobile', 'global-footer__content', 'new', 'global-explore-navigation__label global-explore-navigation__label--main', 'external text', 'navbox-title', 'wds-dropdown page-header__categories-dropdown', 'references', 'global-footer__icon', 'wds-list wds-is-linked', 'card-image card-rarity-0', 'message', 'page-counter__value', 'global-action__link wds-button sign-in__anchor', 'fandom-community-header__local-navigation', 'card-body', 'global-footer__section global-footer__section-social-links', 'wds-dropdown explore-menu', 'thumbcaption', 'center', 'reference', 'card-container', 'navbox-list navbox-even navbox-list-top', 'WikiaBarWrapper hidden', 'mw-cite-backlink', 'wds-tabs__tab-label', 'pi-item pi-image', 'page-header__title', 'container', 'thumbimage lazyload', 'global-footer__section global-footer__section-fandom-apps', 'global-action__item sign-in', 'global-footer__section-header', 'item-image', 'wds-tabs__tab', 'wds-dropdown__content wds-is-not-scrollable wds-is-right-aligned sign-in__dropdown-content', 'page-header__title-wrapper', 'pi-item pi-group pi-border-color', 'mw-page-title-main', 'nowraplinks hlist mw-collapsible navbox-inner', 'card-list-container', 'mcf-card-wiki-articles__header', 'community-navigation__fandom-heart', 'article-table', 'wds-avatar wds-avatar--square', 'wds-tabs__wrapper', 'alternating1', 'wikia-bar wikia-bar-anon', 'name', 'global-explore-navigation__nav', 'page-header__categories', 'mw-collapsible-toggle mw-collapsible-toggle-default mw-collapsible-toggle-collapsed custom-tt toggle-tooltip', 'special-categories-label', 'wikiabar-button', 'client-nojs', 'reference-text', 'preview-gallery caption-center', 'global-footer__bottom', 'global-footer__header-logo', 'wds-icon wds-icon-tiny wds-dropdown__toggle-chevron', 'global-navigation__icon has-background', 'custom-tabs-default custom-tabs', 'pi-image-thumbnail', 'page-side-tool page-side-edit', 'wds-button wds-is-full-width wds-is-secondary global-navigation__signin-link', 'resizable-container', 'wds-avatar__badge', 'global-top-navigation__fandom-logo', 'global-navigation__bottom', 'page-side-tools__wrapper', 'wds-button wds-is-secondary wiki-tools__theme-switch', 'trfc-147__list', 'lazyload', 'wds-avatar__image', 'global-explore-navigation__item global-explore-navigation__item--with-icon global-explore-navigation__explore global-explore-navigation__tab-item', 'button-counter', 'global-footer__link-icon', 'trfc-147__item', 'change-history-content standard-border', 'no-wrap', 'article-table sortable tdc1 tdc4', 'wds-dropdown wds-open-to-right', 'global-navigation', 'toctogglecheckbox', 'card-image card-rarity-2', 'categories', 'mw-parser-output', 'card-icon', 'talent-table-container', 'internal', 'text-dendro', 'ae-translatable-label', 'item talent', 'banner-notifications-placeholder', 'fandom-community-header__community-name-wrapper', 'hidden looppreview-hover-preference', 'hidden looppreview-hover-label', 'page-counter__label', 'wds-tabs__tab wds-is-current', 'item-text', 'fandom-community-header__image', 'global-navigation__link', 'mcf-header', 'global-footer__link ot-sdk-show-settings', 'tocnumber', 'global-top-navigation__link global-top-navigation__start-new-wiki__anchor', 'wds-button wds-is-secondary global__signin-link', 'wds-tab__content', 'page-header', 'pi-item pi-data pi-item-spacing pi-border-color', 'inactive-tab', 'fandom-sticky-header', 'global-footer__link-icon wds-icon wds-icon-small', 'mcf-card-wiki-articles__title', 'mcf-content', 'global-explore-navigation__current-wiki global-explore-navigation__divider', 'trfc-147__content', 'mw-customtoggle-toggle-ascension wds-button', 'wikia-bar-collapse', 'article-categories CategorySelect articlePage', 'mcf-card mcf-card-wiki-articles', 'wds-button wds-is-full-width global-navigation__register-link', 'global-explore-navigation', 'preview', 'wds-dropdown-level-nested', 'card-image card-rarity-1', 'pi-item pi-item-spacing pi-title pi-secondary-background', 'page__right-rail', 'wds-collapsible-panel__content', 'wikitable constellation-table', 'global-action__button-label sign-in__label', 'looppreview', 'wds-icon wds-icon-tiny wds-dropdown-chevron', 'wds-dropdown wds-open-to-right is-attached-to-bottom is-anon-dropdown', 'global-explore-navigation__tab-container', 'global-footer__section global-footer__section-fandom-overview', 'page has-right-rail', 'mcf-card-wiki-placeholder', 'toclevel-3 tocsection-4', 'page-header__categories-in', 'notifications-placeholder', 'mcf-card-wiki-articles__list', 'bottom-ads-container', 'wds-tab__content wds-is-current', 'wds-button wds-is-text wiki-tools__theme-switch', 'global-top-navigation__action-wrapper', 'toclevel-1 tocsection-10', 'mw-collapsible-content custom-tt', 'wiki-tools', 'navbox-group', 'mw-references-wrap', 'pi-horizontal-group-item pi-data-value pi-font pi-border-color pi-item-spacing', 'global-explore-navigation__label', 'wds-icon wds-icon-small', 'ascension mw-collapsible', 'wds-button global__register-link', 'page-header__top', 'global-footer__header', 'toctogglelabel', 'card-mobile-text', 'thumb tnone show-info-icon', 'wds-is-not-scrollable wds-dropdown__content', 'page-header__actions', 'card-image card-rarity-4', 'extiw', 'wds-dropdown-level-nested__toggle', 'mcf-card-wiki-articles__item', 'toclevel-2 tocsection-8', 'global-top-navigation', 'global-footer__section global-footer__section-fandom-stores', 'featured-video-player-container', 'mcf-card-wiki-articles__header-text', 'pi-data-value pi-font', 'global-navigation__nav', 'wds-collapsible-panel__header', 'wikitable', 'global-navigation__icon', 'global-navigation__label', 'thumbimage', 'pi-item pi-panel pi-border-color wds-tabber', 'wds-dropdown__toggle wds-button wds-is-text page-header__action-button', 'pi-horizontal-group', 'mcf-en', 'global-explore-navigation__recently-visited', 'pi-horizontal-group-item pi-data-label pi-secondary-font pi-border-color pi-item-spacing', 'wds-button wds-is-secondary is-hidden-on-smaller-breakpoints wiki-tools__search', 'image', 'page-content', 'global-explore-navigation__icon', 'global-top-navigation__item global-top-navigation__start-new-wiki', 'ad-slot-placeholder bottom-leaderboard is-loading', 'toclevel-1 tocsection-9', 'mw-headline', 'global-navigation__top', 'global-explore-navigation__icon wds-avatar wds-avatar--square', 'global-registration-buttons', 'wds-icon', 'change-history-header', 'wds-dropdown__toggle', 'custom-tt-wrapper mobile-only toggle-tooltip mw-collapsible mw-made-collapsible mw-collapsed giw-collapsible', 'alternating2', 'top-ads-container', 'toclevel-1 tocsection-12', 'card-image card-rarity-5', 'page-header__meta', 'caption', 'wds-dropdown__content wds-is-right-aligned wds-is-not-scrollable', 'navbox-border navbox', 'wds-dropdown__content', 'wikitable ascension-stats', 'wds-button wds-is-text page-header__action-button has-label', 'fandom-community-header__top-container', 'global-footer__section global-footer__section-community', 'wds-tabs__tab-label wds-dropdown__toggle first-level-item', 'global-navigation__search global-navigation__icon', 'toclevel-2 tocsection-3', 'page-side-tools', 'right-rail-wrapper WikiaRail', 'mcf-card-wiki-articles__circle', 'wiki-tools wds-button-group', 'fandom-sticky-header__sitename', 'portable-infobox pi-background pi-border-color pi-theme-char pi-layout-default', 'text-tooltip hover-tooltip', 'card-list-container card-mobile-list', 'mw-collapsible-content', 'references-small', 'search-container', 'global-footer__section global-footer__section-site-overview', 'wds-button wds-is-full-width global-action__register-link', 'toclevel-1 tocsection-6', 'page-counter', 'wds-icon-tiny wds-icon', 'global-navigation__register-text', 'global-navigation__beta-badge', 'mcf-wrapper', 'info-icon', 'toctitle', 'card-image card-rarity-5a', 'main-container', 'mcf-card-wiki-articles__item-link', 'hidden', 'category normal', 'change-history', 'mw-redirect', 'wds-dropdown sign-in__dropdown', 'wds-collapsible-panel wds-is-collapsed page-footer__categories', 'card-text card-font', 'global-navigation__links', 'community-navigation__fandom-heart__link', 'global-explore-navigation__item global-explore-navigation__tab-item', 'global-footer__links', 'card-caption', 'wds-button wds-is-secondary', 'wds-is-not-scrollable wds-dropdown-level-nested__content', 'page-footer', 'toctext', 'fandom-community-header__community-name', 'video hidden mobileHide', 'global-footer__section global-footer__section-advertise', 'pi-image-collection wds-tabber', 'toc', 'community-header-wrapper', 'toclevel-1 tocsection-11', 'toclevel-2 tocsection-5', 'license-description', 'item', 'navbox-list navbox-odd navbox-list-top', 'tool removeCategory', 'card-wrapper', 'page-header__bottom', 'wikitable talent-table', 'arrow', 'wds-button wds-is-full-width wds-is-secondary global-action__sign-in-link', 'page-side-tool content-size-toggle', 'toclevel-2 tocsection-7', 'categoriesLink', 'mcf-mosaic', 'mw-selflink selflink', 'wds-dropdown__content page-header__categories-dropdown-content wds-is-left-aligned', 'toctogglespan', 'mcf-column', 'card-image card-rarity-3', 'global-navigation__logo', 'global-navigation__icon has-border', 'wds-button wds-is-text', 'sign-in__register-text', 'giw-collapsible mw-collapsible mw-collapsed', 'page-footer__trfc-147 trfc-147', 'global-explore-navigation__button', 'fandom-community-header', 'trfc-147__header', 'global-top-navigation__button-label global-top-navigation__start-new-wiki__label', 'mw-body-content mw-content-ltr', 'page-header__languages', 'wds-button wds-is-text page-header__action-button', 'WikiaBarCollapseWrapper', 'active-tab', 'pi-data-label pi-secondary-font', 'wds-banner-notification__container', 'wds-dropdown', 'wds-collapsible-panel wds-is-collapsed page-footer__languages', 'page__main', 'toclevel-2 tocsection-2', 'wds-icon-tiny wds-icon navigation-item-icon', 'mediawiki ltr sitedir-ltr mw-hide-empty-elt ns-0 ns-subject page-Alhaitham rootpage-Alhaitham skin-fandomdesktop action-view ooui-theme-fandomooui wiki-gensinimpact theme-fandomdesktop-dark', 'pi-item pi-header pi-secondary-font pi-item-spacing pi-secondary-background', 'notice hatnote context-link about dablink', 'global-explore-navigation__top', 'item constellation', 'global-footer', 'fandom-community-header__background cover header', 'fandom-sticky-header__logo', 'image image-thumbnail', 'community-navigation fandom-sticky-header', 'card-container mini-card', 'wds-icon global-top-navigation__start-new-wiki__icon', 'preview-gallery-item', 'trfc-147__link', 'wds-icon wds-icon-small close-icon', 'wds-tabs'}\n"
     ]
    }
   ],
   "source": [
    "#Obtaining list of all classes used in Character's web page\n",
    "\n",
    "# class list set \n",
    "class_list = set() \n",
    "\n",
    "# Page content from Website URL \n",
    "page = requests.get(url_chara) \n",
    "\n",
    "# parse html content \n",
    "soup = BeautifulSoup(page.content , 'html.parser') \n",
    "\n",
    "# get all tags \n",
    "tags = {tag.name for tag in soup.find_all()} \n",
    "\n",
    "\n",
    "for tag in tags:                       # iterate all tags \n",
    "\n",
    "    for i in soup.find_all( tag ):     # find all element of tag \n",
    " \n",
    "        if i.has_attr( \"class\" ):      # if tag has attribute of class\n",
    "\n",
    "            if len( i['class'] ) != 0: \n",
    "                class_list.add(\" \".join( i['class'])) \n",
    "\n",
    "print(class_list) "
   ]
  },
  {
   "cell_type": "code",
   "execution_count": 15,
   "id": "6728f173",
   "metadata": {},
   "outputs": [
    {
     "name": "stdout",
     "output_type": "stream",
     "text": [
      "['Constellation Level 1,  Intuition: \"When a Projection Attack hits an opponent, Universality: An Elaboration on Form\\'s CD is decreased by 1.2s. This effect can be triggered once every 1s.\"', 'Constellation Level 2,  Debate: \"When Alhaitham generates a Chisel-Light Mirror, his Elemental Mastery will be increased by 50 for 8 seconds, max 4 stacks. Each stack\\'s duration is counted independently. This effect can be triggered even when the maximum number of Chisel-Light Mirrors has been reached.\"', \"Constellation Level 3,  Negation: Increases this talent's level by 3, up to a maximum of 15.\", 'Constellation Level 6,  Structuration: \"Alhaitham gains the following effects:2 seconds after Particular Field: Fetters of Phenomena is unleashed, he will generate 3 Chisel-Light Mirrors regardless of the number of mirrors consumed.If Alhaitham generates Chisel-Light Mirrors when their numbers have already maxed out, his CRIT Rate and CRIT DMG will increase by 10% and 70% respectively for 6s. If this effect is triggered again during its initial duration, the duration remaining will be increased by 6s.\"', 'Constellation Level 4,  Elucidation: After casting this talent, grants nearby party members 30 Elemental Mastery per Chisel-Light Mirror consumed and Alhaitham 10% Dendro DMG Bonus per Mirror generated. These buffs last for 15 seconds after the Mirrors are consumed or generated.']\n"
     ]
    }
   ],
   "source": [
    "type(cons2[0])\n",
    "\n",
    "#Creating a list of the character's constellations.\n",
    "\n",
    "cons3 = []\n",
    "\n",
    "for data in cons2:\n",
    "    \n",
    "    #soup = BeautifulSoup(data, 'html.parser')\n",
    "    #print(type(data))\n",
    "    #li_tag = data.find('li')\n",
    "    \n",
    "    if data:\n",
    "        data = data.text.strip()\n",
    "        #print(data)\n",
    "        cons3.append(data)\n",
    "    else:\n",
    "        print(\"No tag found.\")\n",
    "        \n",
    "print(cons3)"
   ]
  },
  {
   "cell_type": "code",
   "execution_count": null,
   "id": "16ae2235",
   "metadata": {},
   "outputs": [],
   "source": []
  }
 ],
 "metadata": {
  "kernelspec": {
   "display_name": "Python 3 (ipykernel)",
   "language": "python",
   "name": "python3"
  },
  "language_info": {
   "codemirror_mode": {
    "name": "ipython",
    "version": 3
   },
   "file_extension": ".py",
   "mimetype": "text/x-python",
   "name": "python",
   "nbconvert_exporter": "python",
   "pygments_lexer": "ipython3",
   "version": "3.9.13"
  }
 },
 "nbformat": 4,
 "nbformat_minor": 5
}
