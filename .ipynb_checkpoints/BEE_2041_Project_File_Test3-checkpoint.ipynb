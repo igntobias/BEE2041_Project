{
 "cells": [
  {
   "cell_type": "code",
   "execution_count": 1,
   "id": "6392af7c",
   "metadata": {},
   "outputs": [],
   "source": [
    "from bs4 import BeautifulSoup\n",
    "from urllib.request import urlopen\n",
    "import numpy as np\n",
    "import pandas as pd\n",
    "import matplotlib.pyplot as plt"
   ]
  },
  {
   "cell_type": "code",
   "execution_count": 2,
   "id": "19e5513e",
   "metadata": {},
   "outputs": [],
   "source": [
    "import requests"
   ]
  },
  {
   "cell_type": "markdown",
   "id": "0eb7684f",
   "metadata": {},
   "source": [
    "### Obtaining all Names"
   ]
  },
  {
   "cell_type": "code",
   "execution_count": 3,
   "id": "8ad02c34",
   "metadata": {},
   "outputs": [],
   "source": [
    "#urlnames = \"https://game8.co/games/Genshin-Impact/archives/296707\"\n",
    "\n",
    "#Web scraping the wikia for Genshin's playable character list.\n",
    "\n",
    "urlnames = \"https://genshin-impact.fandom.com/wiki/Category:Playable_Characters\"\n",
    "\n",
    "pagenames = requests.get(urlnames)\n",
    "\n",
    "soupname = BeautifulSoup(pagenames.text, \"html.parser\")"
   ]
  },
  {
   "cell_type": "code",
   "execution_count": 4,
   "id": "89161a5b",
   "metadata": {},
   "outputs": [],
   "source": [
    "#Obtaining list of all classes used in the \"Names\" web page for the Genshin Characters\n",
    "\n",
    "# class list set \n",
    "class_list = set() \n",
    "\n",
    "# Page content from Website URL \n",
    "page = requests.get(urlnames) \n",
    "\n",
    "# parse html content \n",
    "soup = BeautifulSoup(page.content , 'html.parser') \n",
    "\n",
    "# get all tags \n",
    "tags = {tag.name for tag in soup.find_all()} \n",
    "\n",
    "\n",
    "for tag in tags:                       # iterate all tags \n",
    "\n",
    "    for i in soup.find_all( tag ):     # find all element of tag \n",
    " \n",
    "        if i.has_attr( \"class\" ):      # if tag has attribute of class\n",
    "\n",
    "            if len( i['class'] ) != 0: \n",
    "                class_list.add(\" \".join( i['class'])) \n",
    "\n",
    "#print(class_list) "
   ]
  },
  {
   "cell_type": "code",
   "execution_count": 5,
   "id": "a05a2ec1",
   "metadata": {},
   "outputs": [],
   "source": [
    "#Scraping through to get the html, identifying which class and identifier to find the names\n",
    "\n",
    "imgtag = soupname.find_all(\"a\", class_=\"category-page__member-link\")\n",
    "#imgtag"
   ]
  },
  {
   "cell_type": "code",
   "execution_count": 6,
   "id": "f326d3b5",
   "metadata": {},
   "outputs": [
    {
     "name": "stdout",
     "output_type": "stream",
     "text": [
      "['Albedo', 'Alhaitham', 'Aloy', 'Amber', 'Arataki_Itto', 'Baizhu', 'Barbara', 'Beidou', 'Bennett', 'Candace', 'Charlotte', 'Chevreuse', 'Chiori', 'Chongyun', 'Collei', 'Cyno', 'Dehya', 'Diluc', 'Diona', 'Dori', 'Eula', 'Faruzan', 'Fischl', 'Freminet', 'Furina', 'Gaming', 'Ganyu', 'Gorou', 'Hu_Tao', 'Jean', 'Kaedehara_Kazuha', 'Kaeya', 'Kamisato_Ayaka', 'Kamisato_Ayato', 'Kaveh', 'Keqing', 'Kirara', 'Klee', 'Kujou_Sara', 'Kuki_Shinobu', 'Layla', 'Lisa', 'Lumine', 'Lynette', 'Lyney', 'Mika', 'Mona', 'Nahida', 'Navia', 'Neuvillette', 'Nilou', 'Ningguang', 'Noelle', 'Qiqi', 'Raiden_Shogun', 'Razor', 'Rosaria', 'Sangonomiya_Kokomi', 'Sayu', 'Shenhe', 'Shikanoin_Heizou', 'Sucrose', 'Tartaglia', 'Thoma', 'Tighnari', 'Traveler', 'Traveler_(Anemo)', 'Traveler_(Dendro)', 'Traveler_(Electro)', 'Traveler_(Geo)', 'Traveler_(Hydro)', 'Traveler_(Unaligned)', 'Venti', 'Wanderer', 'Wriothesley', 'Xiangling', 'Xianyun', 'Xiao', 'Xingqiu', 'Xinyan', 'Yae_Miko', 'Yanfei', 'Yaoyao', 'Yelan', 'Yoimiya', 'Yun_Jin', 'Zhongli']\n"
     ]
    }
   ],
   "source": [
    "#Converting the soup into a usable List\n",
    "\n",
    "type(imgtag)\n",
    "\n",
    "titles = [tag['title'] for tag in imgtag]\n",
    "characters = titles[6:]\n",
    "#display(characters)\n",
    "type(characters)\n",
    "\n",
    "\n",
    "#Replacing spaces with underscores for it to be usable in iterating through the wikia pages\n",
    "\n",
    "converter = lambda x: x.replace(' ', '_')\n",
    "characters = list(map(converter, characters))\n",
    "print(characters)"
   ]
  },
  {
   "cell_type": "markdown",
   "id": "19c8c0ce",
   "metadata": {},
   "source": [
    "### Testing with characters how to scrape the constellation data"
   ]
  },
  {
   "cell_type": "code",
   "execution_count": 7,
   "id": "a8c1266e",
   "metadata": {},
   "outputs": [],
   "source": [
    "#Web scraping and parsing only the albedo site. Utilise regex and loop.functions in the final to complete.\n",
    "\n",
    "url_chara = \"https://genshin-impact.fandom.com/wiki/\"+characters[1]\n",
    "\n",
    "page_chara = requests.get(url_chara)\n",
    "\n",
    "soup_chara = BeautifulSoup(page_chara.content, \"html.parser\")\n",
    "\n",
    "\n",
    "#Obtaining the constellation html info\n",
    "\n",
    "cons1 = soup_chara.find_all(class_ = \"item constellation\")\n",
    "cons2 = [con.find_parents(\"li\")[0] for con in cons1]\n",
    "cons2 = cons2[0:5]\n",
    "#cons2"
   ]
  },
  {
   "cell_type": "code",
   "execution_count": 8,
   "id": "a0b4d9f1",
   "metadata": {},
   "outputs": [
    {
     "name": "stdout",
     "output_type": "stream",
     "text": [
      "{'card-list-container card-mobile-list', 'page-header__categories', 'mcf-content', 'page-header', 'global-explore-navigation__label', 'card-image card-rarity-4', 'reference-text', 'wds-avatar wds-avatar--square', 'change-history-content standard-border', 'global-navigation__logo', 'card-image card-rarity-5', 'global-navigation__links', 'wds-icon global-top-navigation__start-new-wiki__icon', 'card-image card-rarity-2', 'wds-icon', 'global-explore-navigation__recently-visited', 'mcf-card-wiki-articles__header', 'fandom-sticky-header__logo', 'global-registration-buttons', 'global-top-navigation__link global-top-navigation__start-new-wiki__anchor', 'global-footer__section global-footer__section-fandom-overview', 'toclevel-1 tocsection-10', 'mcf-card-wiki-articles__list', 'wds-button wds-is-text', 'mw-headline', 'global-navigation__register-text', 'page-counter__label', 'image', 'mw-customtoggle-toggle-ascension wds-button', 'top-ads-container', 'mcf-card-wiki-articles__header-text', 'global-footer__header-logo', 'looppreview', 'categories', 'page-header__categories-in', 'wds-list wds-is-linked', 'mcf-card-wiki-articles__item', 'page-counter__value', 'global-footer__section global-footer__section-advertise', 'new', 'wds-button wds-is-text page-header__action-button', 'wds-icon wds-icon-tiny wds-dropdown__toggle-chevron', 'toctogglecheckbox', 'global-explore-navigation__nav', 'notifications-placeholder', 'external text', 'toclevel-1 tocsection-1', 'change-history', 'reference', 'name', 'card-list-container', 'wds-icon wds-icon-small sign-in__icon', 'global-footer__section-header', 'global-navigation__icon has-background', 'fandom-community-header__local-navigation', 'wds-button wds-is-text wiki-tools__theme-switch', 'page-footer', 'global-navigation__link', 'wds-tabs__tab-label', 'wds-button wds-is-text page-header__action-button has-label', 'item', 'internal', 'mw-selflink selflink', 'banner-notifications-placeholder', 'sign-in__register-text', 'global-top-navigation__item global-top-navigation__start-new-wiki', 'wds-tab__content wds-is-current', 'trfc-147__list', 'mcf-en', 'ad-slot-placeholder bottom-leaderboard is-loading', 'fandom-community-header__image', 'toclevel-2 tocsection-5', 'page-side-tool content-size-toggle', 'card-image card-rarity-5a', 'wds-is-not-scrollable wds-dropdown-level-nested__content', 'page-footer__trfc-147 trfc-147', 'community-navigation fandom-sticky-header', 'toclevel-2 tocsection-8', 'global-footer__section global-footer__section-fandom-stores', 'wds-button wds-is-full-width wds-is-secondary global-action__sign-in-link', 'wds-button wds-is-secondary global__signin-link', 'wds-banner-notification__container', 'mcf-card mcf-card-wiki-articles', 'item constellation', 'navbox-title', 'navbox-border navbox', 'no-wrap', 'global-navigation__nav', 'inactive-tab', 'global-navigation__beta-badge', 'card-image card-rarity-1', 'global-footer__link-icon wds-icon wds-icon-small', 'global-explore-navigation__icon wds-avatar wds-avatar--square', 'wiki-tools', 'wds-collapsible-panel wds-is-collapsed page-footer__categories', 'search-container', 'trfc-147__content', 'wds-collapsible-panel wds-is-collapsed page-footer__languages', 'portable-infobox pi-background pi-border-color pi-theme-char pi-layout-default', 'global-top-navigation__fandom-logo', 'pi-item pi-panel pi-border-color wds-tabber', 'mcf-card-wiki-articles__title', 'fandom-sticky-header', 'wds-dropdown__content', 'global-explore-navigation__icon', 'global-footer__bottom', 'main-container', 'giw-collapsible mw-collapsible mw-collapsed', 'wds-is-not-scrollable wds-dropdown__content', 'wds-icon wds-icon-small close-icon', 'ascension mw-collapsible', 'text-dendro', 'WikiaBarCollapseWrapper', 'wds-icon wds-icon-small', 'wds-dropdown sign-in__dropdown', 'global-explore-navigation__current-wiki global-explore-navigation__divider', 'mcf-mosaic', 'community-header-wrapper', 'tocnumber', 'info-icon', 'ad-slot-placeholder top-leaderboard is-loading', 'page has-right-rail', 'fandom-community-header', 'fandom-sticky-header__sitename', 'change-history-header', 'global-footer__section global-footer__section-fandom-apps', 'hidden looppreview-hover-label', 'navbox-list navbox-even navbox-list-top', 'global-footer__icon', 'custom-tabs-default custom-tabs', 'wds-dropdown__content wds-is-not-scrollable wds-is-right-aligned sign-in__dropdown-content', 'global-top-navigation__action-wrapper', 'page-side-tools', 'mw-body-content mw-content-ltr', 'pi-item pi-header pi-secondary-font pi-item-spacing pi-secondary-background', 'thumbimage', 'mw-page-title-main', 'toctitle', 'image image-thumbnail', 'wds-tabs__tab-label wds-dropdown__toggle first-level-item', 'wds-dropdown explore-menu', 'global-action__link wds-button sign-in__anchor', 'pi-item pi-group pi-border-color', 'wds-tabs', 'global-navigation__label', 'wds-tabs__tab wds-is-current', 'nowraplinks hlist mw-collapsible navbox-inner', 'page-header__actions', 'global-explore-navigation__top', 'page-side-tools__wrapper', 'pi-horizontal-group-item pi-data-label pi-secondary-font pi-border-color pi-item-spacing', 'card-container mini-card', 'community-navigation__fandom-heart__link', 'references-small', 'article-categories CategorySelect articlePage', 'mw-redirect', 'card-text card-font', 'thumbcaption', 'hidden looppreview-hover-preference', 'global-footer__content', 'toc', 'category normal', 'alternating2', 'message', 'mw-collapsible-content custom-tt', 'global-top-navigation__button-label global-top-navigation__start-new-wiki__label', 'fandom-community-header__top-container', 'custom-tt-wrapper mobile-only toggle-tooltip mw-collapsible mw-made-collapsible mw-collapsed giw-collapsible', 'global-navigation__bottom', 'tool removeCategory', 'page-counter', 'bottom-ads-container', 'page-header__bottom', 'wds-dropdown-level-nested__toggle', 'WikiaBarWrapper hidden', 'ae-translatable-label', 'wikitable ascension-stats', 'mcf-card-wiki-articles__circle', 'client-nojs', 'global-action__item sign-in', 'global-action__button-label sign-in__label', 'pi-item pi-item-spacing pi-title pi-secondary-background', 'wds-dropdown', 'wds-avatar__badge', 'wds-button global__register-link', 'wds-icon-tiny wds-icon', 'page-side-tool page-side-edit', 'pi-horizontal-group', 'wds-dropdown__content wds-is-right-aligned wds-is-not-scrollable', 'global-navigation__search global-navigation__icon', 'resizable-container', 'mw-parser-output', 'global-footer', 'card-icon', 'thumb tnone show-info-icon', 'wds-collapsible-panel__header', 'pi-item pi-data pi-item-spacing pi-border-color', 'card-image card-rarity-0', 'toclevel-2 tocsection-3', 'global-explore-navigation', 'mcf-wrapper', 'item talent', 'active-tab', 'page-content', 'article-table sortable tdc1 tdc4', 'toclevel-1 tocsection-9', 'navbox-list navbox-odd navbox-list-top', 'page-header__title-wrapper', 'card-body', 'card-container', 'preview-gallery caption-center', 'mw-collapsible-toggle mw-collapsible-toggle-default mw-collapsible-toggle-collapsed custom-tt toggle-tooltip', 'references', 'page-header__languages', 'wds-collapsible-panel__content', 'wds-avatar__image', 'global-footer__link-icon', 'wds-dropdown wds-open-to-right is-attached-to-bottom is-anon-dropdown', 'text', 'button-counter', 'wikitable constellation-table', 'global-navigation__icon', 'global-footer__link ot-sdk-show-settings', 'page__main', 'toctogglespan', 'wiki-tools wds-button-group', 'mcf-column', 'global-navigation__icon has-border', 'mw-cite-backlink', 'trfc-147__item', 'global-explore-navigation__button', 'item-text', 'card-image card-rarity-3', 'thumbimage lazyload', 'global-footer__link', 'global-footer__section global-footer__section-site-overview', 'wikitable', 'toctogglelabel', 'notice hatnote context-link about dablink', 'global-explore-navigation__item global-explore-navigation__tab-item', 'wikiabar-button', 'wds-dropdown wds-open-to-right', 'mcf-card-wiki-placeholder', 'mediawiki ltr sitedir-ltr mw-hide-empty-elt ns-0 ns-subject page-Alhaitham rootpage-Alhaitham skin-fandomdesktop action-view ooui-theme-fandomooui wiki-gensinimpact theme-fandomdesktop-dark', 'lazyload', 'card-mobile-text', 'wds-tabs__tab', 'wds-dropdown page-header__categories-dropdown', 'caption', 'wikitable talent-table', 'navbox-group', 'wds-button wds-is-full-width wds-is-secondary global-navigation__signin-link', 'global-footer__section global-footer__section-social-links', 'page-header__meta', 'mw-collapsible-content', 'arrow', 'fandom-community-header__background cover header', 'article-table', 'wds-icon wds-icon-tiny wds-dropdown-chevron', 'global-explore-navigation__tab-container', 'preview', 'fandom-community-header__community-name-wrapper', 'wds-button wds-is-secondary wiki-tools__theme-switch', 'global-navigation__top', 'page-header__title', 'wds-icon-tiny wds-icon navigation-item-icon', 'page-header__top', 'global-navigation', 'license-description', 'featured-video-player-container', 'wds-button wds-is-full-width global-navigation__register-link', 'extiw', 'toclevel-2 tocsection-7', 'mcf-card-wiki-articles__item-link', 'special-categories-label', 'talent-table-container', 'right-rail-wrapper WikiaRail', 'pi-item pi-image', 'card-caption', 'wds-dropdown-level-nested', 'global-footer__header', 'toclevel-1 tocsection-6', 'card-wrapper', 'container', 'community-navigation__fandom-heart', 'page__right-rail', 'toclevel-2 tocsection-2', 'trfc-147__link', 'global-footer__section global-footer__section-community', 'wds-button wds-is-secondary', 'pi-image-collection wds-tabber', 'wds-button wds-is-secondary is-hidden-on-smaller-breakpoints wiki-tools__search', 'categoriesLink', 'global-explore-navigation__label global-explore-navigation__label--main', 'wikia-bar wikia-bar-anon', 'mw-references-wrap', 'wds-dropdown__content page-header__categories-dropdown-content wds-is-left-aligned', 'item-image', 'pi-image-thumbnail', 'mcf-header', 'wds-tabs__wrapper', 'global-footer__switch-view global-footer__switch-to-mobile', 'global-explore-navigation__item global-explore-navigation__item--with-icon global-explore-navigation__explore global-explore-navigation__tab-item', 'video hidden mobileHide', 'trfc-147__header', 'mobile-only', 'center', 'hidden', 'wikia-bar-collapse', 'toclevel-3 tocsection-4', 'global-top-navigation', 'wds-button wds-is-full-width global-action__register-link', 'alternating1', 'preview-gallery-item', 'fandom-community-header__community-name', 'toclevel-1 tocsection-12', 'text-tooltip hover-tooltip', 'toclevel-1 tocsection-11', 'wds-dropdown__toggle wds-button wds-is-text page-header__action-button', 'pi-data-value pi-font', 'pi-data-label pi-secondary-font', 'wds-tab__content', 'toctext', 'wds-dropdown__toggle', 'pi-horizontal-group-item pi-data-value pi-font pi-border-color pi-item-spacing', 'global-footer__links'}\n"
     ]
    }
   ],
   "source": [
    "#Obtaining list of all classes used in Character's web page\n",
    "\n",
    "# class list set \n",
    "class_list = set() \n",
    "\n",
    "# Page content from Website URL \n",
    "page = requests.get(url_chara) \n",
    "\n",
    "# parse html content \n",
    "soup = BeautifulSoup(page.content , 'html.parser') \n",
    "\n",
    "# get all tags \n",
    "tags = {tag.name for tag in soup.find_all()} \n",
    "\n",
    "\n",
    "for tag in tags:                       # iterate all tags \n",
    "\n",
    "    for i in soup.find_all( tag ):     # find all element of tag \n",
    " \n",
    "        if i.has_attr( \"class\" ):      # if tag has attribute of class\n",
    "\n",
    "            if len( i['class'] ) != 0: \n",
    "                class_list.add(\" \".join( i['class'])) \n",
    "\n",
    "print(class_list) "
   ]
  },
  {
   "cell_type": "code",
   "execution_count": 9,
   "id": "6728f173",
   "metadata": {},
   "outputs": [
    {
     "name": "stdout",
     "output_type": "stream",
     "text": [
      "['Constellation Level 1,  Intuition: \"When a Projection Attack hits an opponent, Universality: An Elaboration on Form\\'s CD is decreased by 1.2s. This effect can be triggered once every 1s.\"', 'Constellation Level 2,  Debate: \"When Alhaitham generates a Chisel-Light Mirror, his Elemental Mastery will be increased by 50 for 8 seconds, max 4 stacks. Each stack\\'s duration is counted independently. This effect can be triggered even when the maximum number of Chisel-Light Mirrors has been reached.\"', \"Constellation Level 3,  Negation: Increases this talent's level by 3, up to a maximum of 15.\", 'Constellation Level 6,  Structuration: \"Alhaitham gains the following effects:2 seconds after Particular Field: Fetters of Phenomena is unleashed, he will generate 3 Chisel-Light Mirrors regardless of the number of mirrors consumed.If Alhaitham generates Chisel-Light Mirrors when their numbers have already maxed out, his CRIT Rate and CRIT DMG will increase by 10% and 70% respectively for 6s. If this effect is triggered again during its initial duration, the duration remaining will be increased by 6s.\"', 'Constellation Level 4,  Elucidation: After casting this talent, grants nearby party members 30 Elemental Mastery per Chisel-Light Mirror consumed and Alhaitham 10% Dendro DMG Bonus per Mirror generated. These buffs last for 15 seconds after the Mirrors are consumed or generated.']\n"
     ]
    }
   ],
   "source": [
    "type(cons2[0])\n",
    "\n",
    "#Creating a list of the character's constellations.\n",
    "\n",
    "cons3 = []\n",
    "\n",
    "for data in cons2:\n",
    "    \n",
    "    #soup = BeautifulSoup(data, 'html.parser')\n",
    "    #print(type(data))\n",
    "    #li_tag = data.find('li')\n",
    "    \n",
    "    if data:\n",
    "        data = data.text.strip()\n",
    "        #print(data)\n",
    "        cons3.append(data)\n",
    "    else:\n",
    "        print(\"No tag found.\")\n",
    "        \n",
    "print(cons3)"
   ]
  },
  {
   "cell_type": "code",
   "execution_count": null,
   "id": "16ae2235",
   "metadata": {},
   "outputs": [],
   "source": []
  }
 ],
 "metadata": {
  "kernelspec": {
   "display_name": "Python 3 (ipykernel)",
   "language": "python",
   "name": "python3"
  },
  "language_info": {
   "codemirror_mode": {
    "name": "ipython",
    "version": 3
   },
   "file_extension": ".py",
   "mimetype": "text/x-python",
   "name": "python",
   "nbconvert_exporter": "python",
   "pygments_lexer": "ipython3",
   "version": "3.9.13"
  }
 },
 "nbformat": 4,
 "nbformat_minor": 5
}
