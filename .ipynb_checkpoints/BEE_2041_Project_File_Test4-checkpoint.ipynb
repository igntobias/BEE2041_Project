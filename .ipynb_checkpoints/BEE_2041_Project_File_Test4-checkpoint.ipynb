{
 "cells": [
  {
   "cell_type": "code",
   "execution_count": 1,
   "id": "6392af7c",
   "metadata": {},
   "outputs": [],
   "source": [
    "from bs4 import BeautifulSoup\n",
    "from urllib.request import urlopen\n",
    "import numpy as np\n",
    "import pandas as pd\n",
    "import matplotlib.pyplot as plt\n",
    "from datetime import datetime\n",
    "import requests"
   ]
  },
  {
   "cell_type": "markdown",
   "id": "0eb7684f",
   "metadata": {},
   "source": [
    "### Obtaining all Names"
   ]
  },
  {
   "cell_type": "code",
   "execution_count": 2,
   "id": "8ad02c34",
   "metadata": {},
   "outputs": [],
   "source": [
    "#urlnames = \"https://game8.co/games/Genshin-Impact/archives/296707\"\n",
    "\n",
    "#Web scraping the wikia for Genshin's playable character list.\n",
    "\n",
    "urlnames = \"https://genshin.gg/\"\n",
    "\n",
    "pagenames = requests.get(urlnames)\n",
    "\n",
    "soupname = BeautifulSoup(pagenames.text, \"html.parser\")"
   ]
  },
  {
   "cell_type": "code",
   "execution_count": 3,
   "id": "89161a5b",
   "metadata": {},
   "outputs": [
    {
     "name": "stdout",
     "output_type": "stream",
     "text": [
      "{'toolbar-active', 'filters', 'hamburger-box', 'footer', 'mobile-games-item', 'character-type', 'footer-logo', 'search ml-auto', 'brand active', 'character-icon rarity-4', 'mobile-game', 'footer-link-list', 'mobile-link', 'search-icon', 'wrapper-lb1', 'character-portrait', 'hamburger-inner', 'nav', 'dropdown-menu', 'nav-link dropdown-toggle', 'mobile-menu', 'col-12 col-sm-6 col-md-2 offset-md-1', 'arrow down', 'footer-link-title', 'content-header', 'footer-copyright', 'filters-item', 'nav-item', 'wrapper-mpu1', 'footer-link', 'brand-icon', 'App d-flex flex-column GenshinImpact', 'footer-meta', 'character-name', 'nav-link', 'content-filters', 'col-12 col-md-5', 'footer-description', 'nav-item dropdown', 'new', 'header', 'mobile-games', 'character-list', 'nav-link active', 'search-close', 'content', 'toolbar', 'filters-list', 'toolbar-nav', 'content-title', 'mobile-link active', 'mobile-links', 'nav-links', 'filters-divider', 'character-icon rarity-5', 'mobile-item', 'container', 'row', 'search-input', 'toolbar-nav-item', 'footer-link-item', 'toolbar-game', 'hamburger', 'character-portrait character-new'}\n"
     ]
    }
   ],
   "source": [
    "#Obtaining list of all classes used in the \"Names\" web page for the Genshin Characters\n",
    "\n",
    "# class list set \n",
    "class_list = set() \n",
    "\n",
    "# Page content from Website URL \n",
    "page = requests.get(urlnames) \n",
    "\n",
    "# parse html content \n",
    "soup = BeautifulSoup(page.content , 'html.parser') \n",
    "\n",
    "# get all tags \n",
    "tags = {tag.name for tag in soup.find_all()} \n",
    "\n",
    "\n",
    "for tag in tags:                       # iterate all tags \n",
    "\n",
    "    for i in soup.find_all( tag ):     # find all element of tag \n",
    " \n",
    "        if i.has_attr( \"class\" ):      # if tag has attribute of class\n",
    "\n",
    "            if len( i['class'] ) != 0: \n",
    "                class_list.add(\" \".join( i['class'])) \n",
    "\n",
    "print(class_list) "
   ]
  },
  {
   "cell_type": "code",
   "execution_count": 4,
   "id": "a05a2ec1",
   "metadata": {},
   "outputs": [
    {
     "data": {
      "text/plain": [
       "[<h2 class=\"character-name\">Albedo</h2>,\n",
       " <h2 class=\"character-name\">Alhaitham</h2>,\n",
       " <h2 class=\"character-name\">Aloy</h2>,\n",
       " <h2 class=\"character-name\">Ayaka</h2>,\n",
       " <h2 class=\"character-name\">Ayato</h2>,\n",
       " <h2 class=\"character-name\">Baizhu</h2>,\n",
       " <h2 class=\"character-name\">Childe</h2>,\n",
       " <h2 class=\"character-name\">Chiori</h2>,\n",
       " <h2 class=\"character-name\">Cyno</h2>,\n",
       " <h2 class=\"character-name\">Dehya</h2>,\n",
       " <h2 class=\"character-name\">Diluc</h2>,\n",
       " <h2 class=\"character-name\">Eula</h2>,\n",
       " <h2 class=\"character-name\">Furina</h2>,\n",
       " <h2 class=\"character-name\">Ganyu</h2>,\n",
       " <h2 class=\"character-name\">Hu Tao</h2>,\n",
       " <h2 class=\"character-name\">Itto</h2>,\n",
       " <h2 class=\"character-name\">Jean</h2>,\n",
       " <h2 class=\"character-name\">Kazuha</h2>,\n",
       " <h2 class=\"character-name\">Keqing</h2>,\n",
       " <h2 class=\"character-name\">Klee</h2>,\n",
       " <h2 class=\"character-name\">Kokomi</h2>,\n",
       " <h2 class=\"character-name\">Lyney</h2>,\n",
       " <h2 class=\"character-name\">Mona</h2>,\n",
       " <h2 class=\"character-name\">Nahida</h2>,\n",
       " <h2 class=\"character-name\">Navia</h2>,\n",
       " <h2 class=\"character-name\">Neuvillette</h2>,\n",
       " <h2 class=\"character-name\">Nilou</h2>,\n",
       " <h2 class=\"character-name\">Qiqi</h2>,\n",
       " <h2 class=\"character-name\">Raiden</h2>,\n",
       " <h2 class=\"character-name\">Shenhe</h2>,\n",
       " <h2 class=\"character-name\">Tighnari</h2>,\n",
       " <h2 class=\"character-name\">Traveler (Anemo)</h2>,\n",
       " <h2 class=\"character-name\">Traveler (Dendro)</h2>,\n",
       " <h2 class=\"character-name\">Traveler (Electro)</h2>,\n",
       " <h2 class=\"character-name\">Traveler (Geo)</h2>,\n",
       " <h2 class=\"character-name\">Traveler (Hydro)</h2>,\n",
       " <h2 class=\"character-name\">Venti</h2>,\n",
       " <h2 class=\"character-name\">Wanderer</h2>,\n",
       " <h2 class=\"character-name\">Wriothesley</h2>,\n",
       " <h2 class=\"character-name\">Xianyun</h2>,\n",
       " <h2 class=\"character-name\">Xiao</h2>,\n",
       " <h2 class=\"character-name\">Yae Miko</h2>,\n",
       " <h2 class=\"character-name\">Yelan</h2>,\n",
       " <h2 class=\"character-name\">Yoimiya</h2>,\n",
       " <h2 class=\"character-name\">Zhongli</h2>,\n",
       " <h2 class=\"character-name\">Amber</h2>,\n",
       " <h2 class=\"character-name\">Barbara</h2>,\n",
       " <h2 class=\"character-name\">Beidou</h2>,\n",
       " <h2 class=\"character-name\">Bennett</h2>,\n",
       " <h2 class=\"character-name\">Candace</h2>,\n",
       " <h2 class=\"character-name\">Charlotte</h2>,\n",
       " <h2 class=\"character-name\">Chevreuse</h2>,\n",
       " <h2 class=\"character-name\">Chongyun</h2>,\n",
       " <h2 class=\"character-name\">Collei</h2>,\n",
       " <h2 class=\"character-name\">Diona</h2>,\n",
       " <h2 class=\"character-name\">Dori</h2>,\n",
       " <h2 class=\"character-name\">Faruzan</h2>,\n",
       " <h2 class=\"character-name\">Fischl</h2>,\n",
       " <h2 class=\"character-name\">Freminet</h2>,\n",
       " <h2 class=\"character-name\">Gaming</h2>,\n",
       " <h2 class=\"character-name\">Gorou</h2>,\n",
       " <h2 class=\"character-name\">Heizou</h2>,\n",
       " <h2 class=\"character-name\">Kaeya</h2>,\n",
       " <h2 class=\"character-name\">Kaveh</h2>,\n",
       " <h2 class=\"character-name\">Kirara</h2>,\n",
       " <h2 class=\"character-name\">Kuki Shinobu</h2>,\n",
       " <h2 class=\"character-name\">Layla</h2>,\n",
       " <h2 class=\"character-name\">Lisa</h2>,\n",
       " <h2 class=\"character-name\">Lynette</h2>,\n",
       " <h2 class=\"character-name\">Mika</h2>,\n",
       " <h2 class=\"character-name\">Ningguang</h2>,\n",
       " <h2 class=\"character-name\">Noelle</h2>,\n",
       " <h2 class=\"character-name\">Razor</h2>,\n",
       " <h2 class=\"character-name\">Rosaria</h2>,\n",
       " <h2 class=\"character-name\">Sara</h2>,\n",
       " <h2 class=\"character-name\">Sayu</h2>,\n",
       " <h2 class=\"character-name\">Sucrose</h2>,\n",
       " <h2 class=\"character-name\">Thoma</h2>,\n",
       " <h2 class=\"character-name\">Xiangling</h2>,\n",
       " <h2 class=\"character-name\">Xingqiu</h2>,\n",
       " <h2 class=\"character-name\">Xinyan</h2>,\n",
       " <h2 class=\"character-name\">Yanfei</h2>,\n",
       " <h2 class=\"character-name\">Yaoyao</h2>,\n",
       " <h2 class=\"character-name\">Yun Jin</h2>]"
      ]
     },
     "execution_count": 4,
     "metadata": {},
     "output_type": "execute_result"
    }
   ],
   "source": [
    "#Scraping through to get the html, identifying which class and identifier to find the names\n",
    "\n",
    "imgtag = soupname.find_all(\"h2\", class_= \"character-name\")\n",
    "imgtag"
   ]
  },
  {
   "cell_type": "code",
   "execution_count": 5,
   "id": "f326d3b5",
   "metadata": {
    "scrolled": true
   },
   "outputs": [
    {
     "data": {
      "text/plain": [
       "['albedo',\n",
       " 'alhaitham',\n",
       " 'aloy',\n",
       " 'ayaka',\n",
       " 'ayato',\n",
       " 'baizhu',\n",
       " 'childe',\n",
       " 'chiori',\n",
       " 'cyno',\n",
       " 'dehya',\n",
       " 'diluc',\n",
       " 'eula',\n",
       " 'furina',\n",
       " 'ganyu',\n",
       " 'hutao',\n",
       " 'itto',\n",
       " 'jean',\n",
       " 'kazuha',\n",
       " 'keqing',\n",
       " 'klee',\n",
       " 'kokomi',\n",
       " 'lyney',\n",
       " 'mona',\n",
       " 'nahida',\n",
       " 'navia',\n",
       " 'neuvillette',\n",
       " 'nilou',\n",
       " 'qiqi',\n",
       " 'raiden',\n",
       " 'shenhe',\n",
       " 'tighnari',\n",
       " 'traveler(anemo)',\n",
       " 'traveler(dendro)',\n",
       " 'traveler(electro)',\n",
       " 'traveler(geo)',\n",
       " 'traveler(hydro)',\n",
       " 'venti',\n",
       " 'wanderer',\n",
       " 'wriothesley',\n",
       " 'xianyun',\n",
       " 'xiao',\n",
       " 'yaemiko',\n",
       " 'yelan',\n",
       " 'yoimiya',\n",
       " 'zhongli',\n",
       " 'amber',\n",
       " 'barbara',\n",
       " 'beidou',\n",
       " 'bennett',\n",
       " 'candace',\n",
       " 'charlotte',\n",
       " 'chevreuse',\n",
       " 'chongyun',\n",
       " 'collei',\n",
       " 'diona',\n",
       " 'dori',\n",
       " 'faruzan',\n",
       " 'fischl',\n",
       " 'freminet',\n",
       " 'gaming',\n",
       " 'gorou',\n",
       " 'heizou',\n",
       " 'kaeya',\n",
       " 'kaveh',\n",
       " 'kirara',\n",
       " 'kukishinobu',\n",
       " 'layla',\n",
       " 'lisa',\n",
       " 'lynette',\n",
       " 'mika',\n",
       " 'ningguang',\n",
       " 'noelle',\n",
       " 'razor',\n",
       " 'rosaria',\n",
       " 'sara',\n",
       " 'sayu',\n",
       " 'sucrose',\n",
       " 'thoma',\n",
       " 'xiangling',\n",
       " 'xingqiu',\n",
       " 'xinyan',\n",
       " 'yanfei',\n",
       " 'yaoyao',\n",
       " 'yunjin']"
      ]
     },
     "execution_count": 5,
     "metadata": {},
     "output_type": "execute_result"
    }
   ],
   "source": [
    "#Converting the soup into a usable List\n",
    "\n",
    "type(imgtag)\n",
    "\n",
    "#titles = [tag['character-name'] for tag in imgtag]\n",
    "#characters = titles[6:]\n",
    "#display(characters)\n",
    "#type(characters)\n",
    "\n",
    "\n",
    "#Replacing spaces with underscores for it to be usable in iterating through the wikia pages\n",
    "\n",
    "#converter = lambda x: x.replace(' ', '_')\n",
    "\n",
    "\n",
    "#characters = list(map(converter, characters))\n",
    "#print(characters)\n",
    "\n",
    "#processed_names\n",
    "\n",
    "\n",
    "#names_list = []\n",
    "\n",
    "#for element in imgtag:\n",
    "#    name_tag = element.find('h2', class_='character-name')\n",
    "#    if name_tag:\n",
    "#        names_list.append(name_tag.text)\n",
    "#    else:\n",
    "#        names_list.append(\"Name not found\")\n",
    "        \n",
    "#imgtag.get_text()\n",
    "\n",
    "characters = [element.get_text() for element in imgtag]\n",
    "#characters\n",
    "\n",
    "def process_names(names_list):\n",
    "    return [name.replace(\" \", \"\").lower() for name in names_list]\n",
    "\n",
    "characters = process_names(characters)\n",
    "characters"
   ]
  },
  {
   "cell_type": "markdown",
   "id": "19c8c0ce",
   "metadata": {},
   "source": [
    "## Scraping Constellation Descriptions from Genshin gg"
   ]
  },
  {
   "cell_type": "code",
   "execution_count": 153,
   "id": "b773d64d",
   "metadata": {},
   "outputs": [
    {
     "data": {
      "text/plain": [
       "[\"When a Projection Attack hits an opponent, Universality: An Elaboration on Form's CD is decreased by 1.2s. This effect can be triggered once every 1s.\",\n",
       " \"When Alhaitham generates a Chisel-Light Mirror, his Elemental Mastery will be increased by 50 for 8 seconds, max 4 stacks. Each stack's duration is counted independently. This effect can be triggered even when the maximum number of Chisel-Light Mirrors has been reached.\",\n",
       " 'Increases the level of Universality: An Elaboration on Form by 3. Maximum upgrade level is 15.',\n",
       " 'When Particular Field: Fetters of Phenomena is unleashed, the following effects will become active based on the number of Chisel-Light Mirrors consumed and created this time around: Each Mirror consumed will increase the Elemental Mastery of all other nearby party members by 30 for 15s. Each Mirror generated will grant Alhaitham a 10% Dendro DMG Bonus for 15s. The pre-existing duration of the aforementioned effects will be cleared if you use Particular Field: Fetters of Phenomena again while they are in effect.',\n",
       " 'Increase the Particular Field: Fetters of Phenomena by 3. Maximum upgrade level is 15.',\n",
       " 'Alhaitham gains the following effects: 2 seconds after Particular Field: Fetters of Phenomena is unleashed, he will generate 3 Chisel-Light Mirrors regardless of the number of mirrors consumed. If Alhaitham generates Chisel-Light Mirrors when their numbers have already maxed out, his CRIT Rate and CRIT DMG will increase by 10% and 70% respectively for 6s. If this effect is triggered again during its initial duration, the duration remaining will be increased by 6s.']"
      ]
     },
     "execution_count": 153,
     "metadata": {},
     "output_type": "execute_result"
    }
   ],
   "source": [
    "#Obtaining Constellation Data from Genshin.gg - Complete\n",
    "\n",
    "url_chara = \"https://genshin.gg/characters/alhaitham/\"\n",
    "page_chara = requests.get(url_chara)\n",
    "soup_chara = BeautifulSoup(page_chara.content, \"html.parser\")\n",
    "\n",
    "cons1 = soup_chara.find(\"div\", id=\"constellations\").find_all(\"div\", class_=\"character-skill-description\")\n",
    "cons2 = [con.get_text() for con in cons1]\n",
    "cons2"
   ]
  },
  {
   "cell_type": "code",
   "execution_count": 158,
   "id": "c744b4cc",
   "metadata": {},
   "outputs": [
    {
     "data": {
      "text/plain": [
       "<div class=\"character-skills\" id=\"constellations\"><h2 class=\"character-category\">Alhaitham Constellations</h2><div class=\"character-skill\"><div class=\"character-skill-header\"><img alt=\"Intuition\" class=\"character-skill-icon\" src=\"https://rerollcdn.com/GENSHIN/Skill/1/Alhaitham/constellation_1.png\"/><h3 class=\"character-skill-title\">Constellation 1</h3></div><div class=\"character-skill-body\"><h4 class=\"character-skill-name\">Intuition</h4><div class=\"character-skill-description\">When a Projection Attack hits an opponent, Universality: An Elaboration on Form's CD is decreased by 1.2s. This effect can be triggered once every 1s.</div></div></div><div class=\"character-skill\"><div class=\"character-skill-header\"><img alt=\"Debate\" class=\"character-skill-icon\" src=\"https://rerollcdn.com/GENSHIN/Skill/1/Alhaitham/constellation_2.png\"/><h3 class=\"character-skill-title\">Constellation 2</h3></div><div class=\"character-skill-body\"><h4 class=\"character-skill-name\">Debate</h4><div class=\"character-skill-description\">When Alhaitham generates a Chisel-Light Mirror, his Elemental Mastery will be increased by 50 for 8 seconds, max 4 stacks. Each stack's duration is counted independently. This effect can be triggered even when the maximum number of Chisel-Light Mirrors has been reached.</div></div></div><div class=\"character-skill\"><div class=\"character-skill-header\"><img alt=\"Negation\" class=\"character-skill-icon\" src=\"https://rerollcdn.com/GENSHIN/Skill/1/Alhaitham/constellation_3.png\"/><h3 class=\"character-skill-title\">Constellation 3</h3></div><div class=\"character-skill-body\"><h4 class=\"character-skill-name\">Negation</h4><div class=\"character-skill-description\">Increases the level of Universality: An Elaboration on Form by 3. Maximum upgrade level is 15.</div></div></div><div class=\"character-skill\"><div class=\"character-skill-header\"><img alt=\"Elucidation\" class=\"character-skill-icon\" src=\"https://rerollcdn.com/GENSHIN/Skill/1/Alhaitham/constellation_4.png\"/><h3 class=\"character-skill-title\">Constellation 4</h3></div><div class=\"character-skill-body\"><h4 class=\"character-skill-name\">Elucidation</h4><div class=\"character-skill-description\">When Particular Field: Fetters of Phenomena is unleashed, the following effects will become active based on the number of Chisel-Light Mirrors consumed and created this time around: Each Mirror consumed will increase the Elemental Mastery of all other nearby party members by 30 for 15s. Each Mirror generated will grant Alhaitham a 10%<span class=\"dendro\"> Dendro </span>DMG Bonus for 15s. The pre-existing duration of the aforementioned effects will be cleared if you use Particular Field: Fetters of Phenomena again while they are in effect.</div></div></div><div class=\"character-skill\"><div class=\"character-skill-header\"><img alt=\"Sagacity\" class=\"character-skill-icon\" src=\"https://rerollcdn.com/GENSHIN/Skill/1/Alhaitham/constellation_5.png\"/><h3 class=\"character-skill-title\">Constellation 5</h3></div><div class=\"character-skill-body\"><h4 class=\"character-skill-name\">Sagacity</h4><div class=\"character-skill-description\">Increase the Particular Field: Fetters of Phenomena by 3. Maximum upgrade level is 15.</div></div></div><div class=\"character-skill\"><div class=\"character-skill-header\"><img alt=\"Structuration\" class=\"character-skill-icon\" src=\"https://rerollcdn.com/GENSHIN/Skill/1/Alhaitham/constellation_6.png\"/><h3 class=\"character-skill-title\">Constellation 6</h3></div><div class=\"character-skill-body\"><h4 class=\"character-skill-name\">Structuration</h4><div class=\"character-skill-description\">Alhaitham gains the following effects: 2 seconds after Particular Field: Fetters of Phenomena is unleashed, he will generate 3 Chisel-Light Mirrors regardless of the number of mirrors consumed. If Alhaitham generates Chisel-Light Mirrors when their numbers have already maxed out, his CRIT Rate and CRIT DMG will increase by 10% and 70% respectively for 6s. If this effect is triggered again during its initial duration, the duration remaining will be increased by 6s.</div></div></div></div>"
      ]
     },
     "execution_count": 158,
     "metadata": {},
     "output_type": "execute_result"
    }
   ],
   "source": [
    "title = soup_chara.find(\"div\", id=\"constellations\")\n",
    "title"
   ]
  },
  {
   "cell_type": "code",
   "execution_count": 18,
   "id": "a8c1266e",
   "metadata": {},
   "outputs": [],
   "source": [
    "#Web scraping and parsing only the albedo site. Utilise regex and loop.functions in the final to complete.\n",
    "\n",
    "url_chara = \"https://genshin.gg/characters/alhaitham/\"\n",
    "\n",
    "page_chara = requests.get(url_chara)\n",
    "\n",
    "soup_chara = BeautifulSoup(page_chara.content, \"html.parser\")\n",
    "\n",
    "\n",
    "#Obtaining the constellation html info\n",
    "\n",
    "#cons1 = soup_chara.find_all(class_ = \"item constellation\")\n",
    "#cons2 = [con.find_parents(\"li\")[0] for con in cons1]\n",
    "#cons2 = list(set(cons2))"
   ]
  },
  {
   "cell_type": "code",
   "execution_count": 101,
   "id": "8a3deb2c",
   "metadata": {},
   "outputs": [
    {
     "name": "stdout",
     "output_type": "stream",
     "text": [
      "[<h4 class=\"character-skill-name\">Abductive Reasoning</h4>, <h4 class=\"character-skill-name\">Universality: An Elaboration on Form</h4>, <h4 class=\"character-skill-name\">Particular Field: Fetters of Phenomena</h4>, <h4 class=\"character-skill-name\">Four-Causal Correction</h4>, <h4 class=\"character-skill-name\">Mysteries Laid Bare</h4>, <h4 class=\"character-skill-name\">Law of Reductive Overdetermination</h4>, <h4 class=\"character-skill-name\">Intuition</h4>, <h4 class=\"character-skill-name\">Debate</h4>, <h4 class=\"character-skill-name\">Negation</h4>, <h4 class=\"character-skill-name\">Elucidation</h4>, <h4 class=\"character-skill-name\">Sagacity</h4>, <h4 class=\"character-skill-name\">Structuration</h4>]\n"
     ]
    }
   ],
   "source": [
    "cons1 = soup_chara.find_all(\"h4\")\n",
    "print(cons1)\n",
    "\n",
    "#cons2 = [con.find_all(class_= \"character-skill-title\") for con in cons1]\n",
    "#cons2 = list(set(cons2))\n",
    "\n",
    "cons2 = [con.find_all(class_= \"character-skill-description\") for con in cons1]"
   ]
  },
  {
   "cell_type": "code",
   "execution_count": 154,
   "id": "071a6274",
   "metadata": {
    "scrolled": true
   },
   "outputs": [],
   "source": [
    "#soup_chara"
   ]
  },
  {
   "cell_type": "code",
   "execution_count": 135,
   "id": "5ad38e07",
   "metadata": {
    "scrolled": true
   },
   "outputs": [],
   "source": [
    "#soup_chara.get_text()"
   ]
  },
  {
   "cell_type": "code",
   "execution_count": 94,
   "id": "5c9b613a",
   "metadata": {
    "scrolled": false
   },
   "outputs": [
    {
     "data": {
      "text/plain": [
       "['Abductive Reasoning',\n",
       " 'Universality: An Elaboration on Form',\n",
       " 'Particular Field: Fetters of Phenomena',\n",
       " 'Four-Causal Correction',\n",
       " 'Mysteries Laid Bare',\n",
       " 'Law of Reductive Overdetermination',\n",
       " 'Intuition',\n",
       " 'Debate',\n",
       " 'Negation',\n",
       " 'Elucidation',\n",
       " 'Sagacity',\n",
       " 'Structuration']"
      ]
     },
     "execution_count": 94,
     "metadata": {},
     "output_type": "execute_result"
    }
   ],
   "source": [
    "#soup_chara.find_all(\"h3\", class_= \"character-skill-title\").next_element()\n",
    "\n",
    "cons2 = [con.get_text() for con in cons1]\n",
    "cons2"
   ]
  },
  {
   "cell_type": "code",
   "execution_count": 155,
   "id": "acd73284",
   "metadata": {
    "scrolled": false
   },
   "outputs": [],
   "source": [
    "#cons1 = soup_chara.find_all(\"div\", class_=\"character-skill-description\")\n",
    "\n",
    "#for element in cons1:\n",
    "#    print(element.prettify())\n",
    "\n",
    "#print(cons1)"
   ]
  },
  {
   "cell_type": "code",
   "execution_count": 8,
   "id": "a0b4d9f1",
   "metadata": {},
   "outputs": [],
   "source": [
    "#Obtaining list of all classes used in Character's html page\n",
    "\n",
    "# class list set \n",
    "class_list = set() \n",
    "\n",
    "# Page content from Website URL \n",
    "page = requests.get(url_chara) \n",
    "\n",
    "# parse html content \n",
    "soup = BeautifulSoup(page.content , 'html.parser') \n",
    "\n",
    "# get all tags \n",
    "tags = {tag.name for tag in soup.find_all()} \n",
    "\n",
    "\n",
    "for tag in tags:                       # iterate all tags \n",
    "\n",
    "    for i in soup.find_all( tag ):     # find all element of tag \n",
    " \n",
    "        if i.has_attr( \"class\" ):      # if tag has attribute of class\n",
    "\n",
    "            if len( i['class'] ) != 0: \n",
    "                class_list.add(\" \".join( i['class'])) "
   ]
  },
  {
   "cell_type": "code",
   "execution_count": 9,
   "id": "03f0404e",
   "metadata": {},
   "outputs": [],
   "source": [
    "#print(class_list) "
   ]
  },
  {
   "cell_type": "code",
   "execution_count": 62,
   "id": "6728f173",
   "metadata": {},
   "outputs": [
    {
     "name": "stdout",
     "output_type": "stream",
     "text": [
      "No tag found.\n",
      "No tag found.\n",
      "No tag found.\n",
      "No tag found.\n",
      "No tag found.\n",
      "No tag found.\n",
      "No tag found.\n",
      "No tag found.\n",
      "No tag found.\n",
      "No tag found.\n",
      "No tag found.\n",
      "No tag found.\n"
     ]
    }
   ],
   "source": [
    "#Creating a list of the character's constellations.\n",
    "\n",
    "cons3 = []\n",
    "\n",
    "for data in cons2:\n",
    "    \n",
    "    #soup = BeautifulSoup(data, 'html.parser')\n",
    "    #print(type(data))\n",
    "    #li_tag = data.find('li')\n",
    "    \n",
    "    if data:\n",
    "        data = data.text.strip()\n",
    "        #print(data)\n",
    "        \n",
    "        data = data\n",
    "        cons3.append(data)\n",
    "    else:\n",
    "        print(\"No tag found.\")"
   ]
  },
  {
   "cell_type": "code",
   "execution_count": 11,
   "id": "e032793e",
   "metadata": {},
   "outputs": [
    {
     "data": {
      "text/plain": [
       "['Constellation Level 1,  Crimson Bouquet: \"While in a Paramita Papilio state activated by Guide to Afterlife, Hu Tao\\'s Charged Attacks do not consume Stamina.\"',\n",
       " \"Constellation Level 5,  Floral Incense: Increases this talent's level by 3, up to a maximum of 15.\",\n",
       " 'Constellation Level 4,  Garden of Eternal Rest: \"Upon defeating an enemy affected by a Blood Blossom that Hu Tao applied herself, all nearby allies in the party (excluding Hu Tao herself) will have their CRIT Rate increased by 12% for 15s.\"',\n",
       " 'Constellation Level 2,  Ominous Rainfall: \"Increases the Blood Blossom DMG by an amount equal to 10% of Hu Tao\\'s Max HP at the time the effect is applied. Additionally, Spirit Soother will also apply the Blood Blossom effect.\"',\n",
       " \"Constellation Level 3,  Lingering Carmine: Increases this talent's level by 3, up to a maximum of 15.\",\n",
       " 'Constellation Level 2,  Ominous Rainfall: Using Spirit Soother will apply the Blood Blossom effect.']"
      ]
     },
     "execution_count": 11,
     "metadata": {},
     "output_type": "execute_result"
    }
   ],
   "source": [
    "#print(cons3)\n",
    "\n",
    "#cons3 = list(set(cons3))[0:6]\n",
    "cons3"
   ]
  },
  {
   "cell_type": "code",
   "execution_count": 12,
   "id": "16ae2235",
   "metadata": {},
   "outputs": [
    {
     "name": "stdout",
     "output_type": "stream",
     "text": [
      "Release Date: 2021-03-02\n"
     ]
    }
   ],
   "source": [
    "#Obtaining the release date of the Character\n",
    "\n",
    "release_date_div = soup_chara.find('div', {'data-source': 'releaseDate'})\n",
    "\n",
    "#print(release_date_div)\n",
    "\n",
    "\n",
    "if release_date_div:\n",
    "    release_date_text = release_date_div.find('div', class_='pi-data-value')\n",
    "    release_date_text = release_date_text.get_text(strip=True).split(' ')\n",
    "    \n",
    "    #print(release_date_text)\n",
    "    #str(release_date_text)\n",
    "        \n",
    "    output = release_date_text[0:3]\n",
    "    \n",
    "    if len(output) >= 3:  # Check if there are at least 3 elements in the list\n",
    "        output[2] = output[2][:-1]\n",
    "\n",
    "    output = ' '.join(output)\n",
    "    output = datetime.strptime(output, \"%B %d, %Y\").date()\n",
    "    \n",
    "    #output\n",
    "    \n",
    "    print(\"Release Date:\", output)\n",
    "    \n",
    "else:\n",
    "    print(\"No release date found.\")"
   ]
  },
  {
   "cell_type": "code",
   "execution_count": 13,
   "id": "0872cf2d",
   "metadata": {},
   "outputs": [
    {
     "data": {
      "text/plain": [
       "{datetime.date(2021, 3, 2): ['Constellation Level 1,  Crimson Bouquet: \"While in a Paramita Papilio state activated by Guide to Afterlife, Hu Tao\\'s Charged Attacks do not consume Stamina.\"',\n",
       "  \"Constellation Level 5,  Floral Incense: Increases this talent's level by 3, up to a maximum of 15.\",\n",
       "  'Constellation Level 4,  Garden of Eternal Rest: \"Upon defeating an enemy affected by a Blood Blossom that Hu Tao applied herself, all nearby allies in the party (excluding Hu Tao herself) will have their CRIT Rate increased by 12% for 15s.\"',\n",
       "  'Constellation Level 2,  Ominous Rainfall: \"Increases the Blood Blossom DMG by an amount equal to 10% of Hu Tao\\'s Max HP at the time the effect is applied. Additionally, Spirit Soother will also apply the Blood Blossom effect.\"',\n",
       "  \"Constellation Level 3,  Lingering Carmine: Increases this talent's level by 3, up to a maximum of 15.\",\n",
       "  'Constellation Level 2,  Ominous Rainfall: Using Spirit Soother will apply the Blood Blossom effect.']}"
      ]
     },
     "execution_count": 13,
     "metadata": {},
     "output_type": "execute_result"
    }
   ],
   "source": [
    "cons_dict = {output: cons3}\n",
    "cons_dict"
   ]
  },
  {
   "cell_type": "code",
   "execution_count": null,
   "id": "033504c9",
   "metadata": {},
   "outputs": [],
   "source": []
  }
 ],
 "metadata": {
  "kernelspec": {
   "display_name": "Python 3 (ipykernel)",
   "language": "python",
   "name": "python3"
  },
  "language_info": {
   "codemirror_mode": {
    "name": "ipython",
    "version": 3
   },
   "file_extension": ".py",
   "mimetype": "text/x-python",
   "name": "python",
   "nbconvert_exporter": "python",
   "pygments_lexer": "ipython3",
   "version": "3.9.13"
  }
 },
 "nbformat": 4,
 "nbformat_minor": 5
}
