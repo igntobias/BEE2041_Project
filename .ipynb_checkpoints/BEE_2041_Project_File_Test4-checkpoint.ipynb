{
 "cells": [
  {
   "cell_type": "code",
   "execution_count": 1,
   "id": "6392af7c",
   "metadata": {},
   "outputs": [],
   "source": [
    "from bs4 import BeautifulSoup\n",
    "from urllib.request import urlopen\n",
    "import numpy as np\n",
    "import pandas as pd\n",
    "import matplotlib.pyplot as plt\n",
    "from datetime import datetime\n",
    "import requests"
   ]
  },
  {
   "cell_type": "markdown",
   "id": "0eb7684f",
   "metadata": {},
   "source": [
    "### Obtaining all Names"
   ]
  },
  {
   "cell_type": "code",
   "execution_count": 13,
   "id": "8ad02c34",
   "metadata": {},
   "outputs": [],
   "source": [
    "#urlnames = \"https://game8.co/games/Genshin-Impact/archives/296707\"\n",
    "\n",
    "#Web scraping the wikia for Genshin's playable character list.\n",
    "\n",
    "urlnames = \"https://genshin.gg/\"\n",
    "\n",
    "pagenames = requests.get(urlnames)\n",
    "\n",
    "soupname = BeautifulSoup(pagenames.text, \"html.parser\")"
   ]
  },
  {
   "cell_type": "code",
   "execution_count": 14,
   "id": "89161a5b",
   "metadata": {},
   "outputs": [
    {
     "name": "stdout",
     "output_type": "stream",
     "text": [
      "{'content', 'content-title', 'footer-link-list', 'mobile-menu', 'content-header', 'mobile-link', 'toolbar-active', 'nav-link', 'character-portrait', 'footer-description', 'hamburger-box', 'App d-flex flex-column GenshinImpact', 'footer-link', 'header', 'nav-item dropdown', 'filters-item', 'mobile-game', 'new', 'row', 'mobile-item', 'wrapper-lb1', 'footer-copyright', 'hamburger', 'search-icon', 'filters-list', 'filters-divider', 'col-12 col-md-5', 'container', 'character-icon rarity-5', 'character-name', 'character-list', 'toolbar-nav-item', 'footer-link-title', 'toolbar', 'nav-links', 'wrapper-mpu1', 'footer', 'arrow down', 'footer-link-item', 'mobile-games', 'mobile-link active', 'nav-link active', 'mobile-links', 'dropdown-menu', 'content-filters', 'filters', 'toolbar-game', 'character-icon rarity-4', 'search ml-auto', 'col-12 col-sm-6 col-md-2 offset-md-1', 'nav-link dropdown-toggle', 'brand active', 'nav', 'brand-icon', 'footer-meta', 'character-type', 'mobile-games-item', 'toolbar-nav', 'hamburger-inner', 'footer-logo', 'character-portrait character-new', 'nav-item', 'search-input', 'search-close'}\n"
     ]
    }
   ],
   "source": [
    "#Obtaining list of all classes used in the \"Names\" web page for the Genshin Characters\n",
    "\n",
    "# class list set \n",
    "class_list = set() \n",
    "\n",
    "# Page content from Website URL \n",
    "page = requests.get(urlnames) \n",
    "\n",
    "# parse html content \n",
    "soup = BeautifulSoup(page.content , 'html.parser') \n",
    "\n",
    "# get all tags \n",
    "tags = {tag.name for tag in soup.find_all()} \n",
    "\n",
    "\n",
    "for tag in tags:                       # iterate all tags \n",
    "\n",
    "    for i in soup.find_all( tag ):     # find all element of tag \n",
    " \n",
    "        if i.has_attr( \"class\" ):      # if tag has attribute of class\n",
    "\n",
    "            if len( i['class'] ) != 0: \n",
    "                class_list.add(\" \".join( i['class'])) \n",
    "\n",
    "print(class_list) "
   ]
  },
  {
   "cell_type": "code",
   "execution_count": 38,
   "id": "a05a2ec1",
   "metadata": {},
   "outputs": [
    {
     "data": {
      "text/plain": [
       "[<h2 class=\"character-name\">Albedo</h2>,\n",
       " <h2 class=\"character-name\">Alhaitham</h2>,\n",
       " <h2 class=\"character-name\">Aloy</h2>,\n",
       " <h2 class=\"character-name\">Ayaka</h2>,\n",
       " <h2 class=\"character-name\">Ayato</h2>,\n",
       " <h2 class=\"character-name\">Baizhu</h2>,\n",
       " <h2 class=\"character-name\">Childe</h2>,\n",
       " <h2 class=\"character-name\">Chiori</h2>,\n",
       " <h2 class=\"character-name\">Cyno</h2>,\n",
       " <h2 class=\"character-name\">Dehya</h2>,\n",
       " <h2 class=\"character-name\">Diluc</h2>,\n",
       " <h2 class=\"character-name\">Eula</h2>,\n",
       " <h2 class=\"character-name\">Furina</h2>,\n",
       " <h2 class=\"character-name\">Ganyu</h2>,\n",
       " <h2 class=\"character-name\">Hu Tao</h2>,\n",
       " <h2 class=\"character-name\">Itto</h2>,\n",
       " <h2 class=\"character-name\">Jean</h2>,\n",
       " <h2 class=\"character-name\">Kazuha</h2>,\n",
       " <h2 class=\"character-name\">Keqing</h2>,\n",
       " <h2 class=\"character-name\">Klee</h2>,\n",
       " <h2 class=\"character-name\">Kokomi</h2>,\n",
       " <h2 class=\"character-name\">Lyney</h2>,\n",
       " <h2 class=\"character-name\">Mona</h2>,\n",
       " <h2 class=\"character-name\">Nahida</h2>,\n",
       " <h2 class=\"character-name\">Navia</h2>,\n",
       " <h2 class=\"character-name\">Neuvillette</h2>,\n",
       " <h2 class=\"character-name\">Nilou</h2>,\n",
       " <h2 class=\"character-name\">Qiqi</h2>,\n",
       " <h2 class=\"character-name\">Raiden</h2>,\n",
       " <h2 class=\"character-name\">Shenhe</h2>,\n",
       " <h2 class=\"character-name\">Tighnari</h2>,\n",
       " <h2 class=\"character-name\">Traveler (Anemo)</h2>,\n",
       " <h2 class=\"character-name\">Traveler (Dendro)</h2>,\n",
       " <h2 class=\"character-name\">Traveler (Electro)</h2>,\n",
       " <h2 class=\"character-name\">Traveler (Geo)</h2>,\n",
       " <h2 class=\"character-name\">Traveler (Hydro)</h2>,\n",
       " <h2 class=\"character-name\">Venti</h2>,\n",
       " <h2 class=\"character-name\">Wanderer</h2>,\n",
       " <h2 class=\"character-name\">Wriothesley</h2>,\n",
       " <h2 class=\"character-name\">Xianyun</h2>,\n",
       " <h2 class=\"character-name\">Xiao</h2>,\n",
       " <h2 class=\"character-name\">Yae Miko</h2>,\n",
       " <h2 class=\"character-name\">Yelan</h2>,\n",
       " <h2 class=\"character-name\">Yoimiya</h2>,\n",
       " <h2 class=\"character-name\">Zhongli</h2>,\n",
       " <h2 class=\"character-name\">Amber</h2>,\n",
       " <h2 class=\"character-name\">Barbara</h2>,\n",
       " <h2 class=\"character-name\">Beidou</h2>,\n",
       " <h2 class=\"character-name\">Bennett</h2>,\n",
       " <h2 class=\"character-name\">Candace</h2>,\n",
       " <h2 class=\"character-name\">Charlotte</h2>,\n",
       " <h2 class=\"character-name\">Chevreuse</h2>,\n",
       " <h2 class=\"character-name\">Chongyun</h2>,\n",
       " <h2 class=\"character-name\">Collei</h2>,\n",
       " <h2 class=\"character-name\">Diona</h2>,\n",
       " <h2 class=\"character-name\">Dori</h2>,\n",
       " <h2 class=\"character-name\">Faruzan</h2>,\n",
       " <h2 class=\"character-name\">Fischl</h2>,\n",
       " <h2 class=\"character-name\">Freminet</h2>,\n",
       " <h2 class=\"character-name\">Gaming</h2>,\n",
       " <h2 class=\"character-name\">Gorou</h2>,\n",
       " <h2 class=\"character-name\">Heizou</h2>,\n",
       " <h2 class=\"character-name\">Kaeya</h2>,\n",
       " <h2 class=\"character-name\">Kaveh</h2>,\n",
       " <h2 class=\"character-name\">Kirara</h2>,\n",
       " <h2 class=\"character-name\">Kuki Shinobu</h2>,\n",
       " <h2 class=\"character-name\">Layla</h2>,\n",
       " <h2 class=\"character-name\">Lisa</h2>,\n",
       " <h2 class=\"character-name\">Lynette</h2>,\n",
       " <h2 class=\"character-name\">Mika</h2>,\n",
       " <h2 class=\"character-name\">Ningguang</h2>,\n",
       " <h2 class=\"character-name\">Noelle</h2>,\n",
       " <h2 class=\"character-name\">Razor</h2>,\n",
       " <h2 class=\"character-name\">Rosaria</h2>,\n",
       " <h2 class=\"character-name\">Sara</h2>,\n",
       " <h2 class=\"character-name\">Sayu</h2>,\n",
       " <h2 class=\"character-name\">Sucrose</h2>,\n",
       " <h2 class=\"character-name\">Thoma</h2>,\n",
       " <h2 class=\"character-name\">Xiangling</h2>,\n",
       " <h2 class=\"character-name\">Xingqiu</h2>,\n",
       " <h2 class=\"character-name\">Xinyan</h2>,\n",
       " <h2 class=\"character-name\">Yanfei</h2>,\n",
       " <h2 class=\"character-name\">Yaoyao</h2>,\n",
       " <h2 class=\"character-name\">Yun Jin</h2>]"
      ]
     },
     "execution_count": 38,
     "metadata": {},
     "output_type": "execute_result"
    }
   ],
   "source": [
    "#Scraping through to get the html, identifying which class and identifier to find the names\n",
    "\n",
    "imgtag = soupname.find_all(\"h2\", class_= \"character-name\")\n",
    "imgtag"
   ]
  },
  {
   "cell_type": "code",
   "execution_count": 44,
   "id": "f326d3b5",
   "metadata": {},
   "outputs": [
    {
     "data": {
      "text/plain": [
       "['albedo',\n",
       " 'alhaitham',\n",
       " 'aloy',\n",
       " 'ayaka',\n",
       " 'ayato',\n",
       " 'baizhu',\n",
       " 'childe',\n",
       " 'chiori',\n",
       " 'cyno',\n",
       " 'dehya',\n",
       " 'diluc',\n",
       " 'eula',\n",
       " 'furina',\n",
       " 'ganyu',\n",
       " 'hutao',\n",
       " 'itto',\n",
       " 'jean',\n",
       " 'kazuha',\n",
       " 'keqing',\n",
       " 'klee',\n",
       " 'kokomi',\n",
       " 'lyney',\n",
       " 'mona',\n",
       " 'nahida',\n",
       " 'navia',\n",
       " 'neuvillette',\n",
       " 'nilou',\n",
       " 'qiqi',\n",
       " 'raiden',\n",
       " 'shenhe',\n",
       " 'tighnari',\n",
       " 'traveler(anemo)',\n",
       " 'traveler(dendro)',\n",
       " 'traveler(electro)',\n",
       " 'traveler(geo)',\n",
       " 'traveler(hydro)',\n",
       " 'venti',\n",
       " 'wanderer',\n",
       " 'wriothesley',\n",
       " 'xianyun',\n",
       " 'xiao',\n",
       " 'yaemiko',\n",
       " 'yelan',\n",
       " 'yoimiya',\n",
       " 'zhongli',\n",
       " 'amber',\n",
       " 'barbara',\n",
       " 'beidou',\n",
       " 'bennett',\n",
       " 'candace',\n",
       " 'charlotte',\n",
       " 'chevreuse',\n",
       " 'chongyun',\n",
       " 'collei',\n",
       " 'diona',\n",
       " 'dori',\n",
       " 'faruzan',\n",
       " 'fischl',\n",
       " 'freminet',\n",
       " 'gaming',\n",
       " 'gorou',\n",
       " 'heizou',\n",
       " 'kaeya',\n",
       " 'kaveh',\n",
       " 'kirara',\n",
       " 'kukishinobu',\n",
       " 'layla',\n",
       " 'lisa',\n",
       " 'lynette',\n",
       " 'mika',\n",
       " 'ningguang',\n",
       " 'noelle',\n",
       " 'razor',\n",
       " 'rosaria',\n",
       " 'sara',\n",
       " 'sayu',\n",
       " 'sucrose',\n",
       " 'thoma',\n",
       " 'xiangling',\n",
       " 'xingqiu',\n",
       " 'xinyan',\n",
       " 'yanfei',\n",
       " 'yaoyao',\n",
       " 'yunjin']"
      ]
     },
     "execution_count": 44,
     "metadata": {},
     "output_type": "execute_result"
    }
   ],
   "source": [
    "#Converting the soup into a usable List\n",
    "\n",
    "type(imgtag)\n",
    "\n",
    "#titles = [tag['character-name'] for tag in imgtag]\n",
    "#characters = titles[6:]\n",
    "#display(characters)\n",
    "#type(characters)\n",
    "\n",
    "\n",
    "#Replacing spaces with underscores for it to be usable in iterating through the wikia pages\n",
    "\n",
    "#converter = lambda x: x.replace(' ', '_')\n",
    "\n",
    "\n",
    "#characters = list(map(converter, characters))\n",
    "#print(characters)\n",
    "\n",
    "#processed_names\n",
    "\n",
    "\n",
    "#names_list = []\n",
    "\n",
    "#for element in imgtag:\n",
    "#    name_tag = element.find('h2', class_='character-name')\n",
    "#    if name_tag:\n",
    "#        names_list.append(name_tag.text)\n",
    "#    else:\n",
    "#        names_list.append(\"Name not found\")\n",
    "        \n",
    "#imgtag.get_text()\n",
    "\n",
    "characters = [element.get_text() for element in imgtag]\n",
    "#characters\n",
    "\n",
    "def process_names(names_list):\n",
    "    return [name.replace(\" \", \"\").lower() for name in names_list]\n",
    "\n",
    "characters = process_names(characters)\n",
    "characters"
   ]
  },
  {
   "cell_type": "markdown",
   "id": "19c8c0ce",
   "metadata": {},
   "source": [
    "### Testing with characters how to scrape the constellation data"
   ]
  },
  {
   "cell_type": "code",
   "execution_count": 60,
   "id": "a8c1266e",
   "metadata": {},
   "outputs": [],
   "source": [
    "#Web scraping and parsing only the albedo site. Utilise regex and loop.functions in the final to complete.\n",
    "\n",
    "url_chara = \"https://genshin-impact.fandom.com/wiki/\"+characters[14]\n",
    "\n",
    "page_chara = requests.get(url_chara)\n",
    "\n",
    "soup_chara = BeautifulSoup(page_chara.content, \"html.parser\")\n",
    "\n",
    "\n",
    "#Obtaining the constellation html info\n",
    "\n",
    "cons1 = soup_chara.find_all(class_ = \"item constellation\")\n",
    "cons2 = [con.find_parents(\"li\")[0] for con in cons1]\n",
    "cons2 = list(set(cons2))"
   ]
  },
  {
   "cell_type": "code",
   "execution_count": 49,
   "id": "b3cf64df",
   "metadata": {},
   "outputs": [],
   "source": [
    "#cons2"
   ]
  },
  {
   "cell_type": "code",
   "execution_count": 52,
   "id": "a0b4d9f1",
   "metadata": {},
   "outputs": [],
   "source": [
    "#Obtaining list of all classes used in Character's html page\n",
    "\n",
    "# class list set \n",
    "class_list = set() \n",
    "\n",
    "# Page content from Website URL \n",
    "page = requests.get(url_chara) \n",
    "\n",
    "# parse html content \n",
    "soup = BeautifulSoup(page.content , 'html.parser') \n",
    "\n",
    "# get all tags \n",
    "tags = {tag.name for tag in soup.find_all()} \n",
    "\n",
    "\n",
    "for tag in tags:                       # iterate all tags \n",
    "\n",
    "    for i in soup.find_all( tag ):     # find all element of tag \n",
    " \n",
    "        if i.has_attr( \"class\" ):      # if tag has attribute of class\n",
    "\n",
    "            if len( i['class'] ) != 0: \n",
    "                class_list.add(\" \".join( i['class'])) "
   ]
  },
  {
   "cell_type": "code",
   "execution_count": 53,
   "id": "03f0404e",
   "metadata": {},
   "outputs": [],
   "source": [
    "#print(class_list) "
   ]
  },
  {
   "cell_type": "code",
   "execution_count": 62,
   "id": "6728f173",
   "metadata": {},
   "outputs": [],
   "source": [
    "#Creating a list of the character's constellations.\n",
    "\n",
    "cons3 = []\n",
    "\n",
    "for data in cons2:\n",
    "    \n",
    "    #soup = BeautifulSoup(data, 'html.parser')\n",
    "    #print(type(data))\n",
    "    #li_tag = data.find('li')\n",
    "    \n",
    "    if data:\n",
    "        data = data.text.strip()\n",
    "        #print(data)\n",
    "        \n",
    "        data = data\n",
    "        cons3.append(data)\n",
    "    else:\n",
    "        print(\"No tag found.\")"
   ]
  },
  {
   "cell_type": "code",
   "execution_count": 63,
   "id": "e032793e",
   "metadata": {},
   "outputs": [
    {
     "data": {
      "text/plain": [
       "['Constellation Level 2,  Through Hill and Copse: If Floral Sidewinder is unlocked, then the Sprout effect becomes guaranteed on return of the Floral Ring, and triggering an elemental reaction involving Dendro before it returns now extends the duration of the Sprout effect by 3 seconds.\\nDuration extension from this constellation allows the Sprout effect to deal damage 2 more times.',\n",
       " \"Constellation Level 3,  Scent of Summer: Increases this talent's level by 3, up to a maximum of 15.\",\n",
       " 'Constellation Level 4,  Gift of the Woods: \"Using Trump-Card Kitty will increase all nearby characters\\' Elemental Mastery by 60 for 12s (not including Collei herself).\"',\n",
       " 'Constellation Level 6,  Forest of Falling Arrows: \"When the Floral Ring hits, it will create a miniature Cuilein-Anbar that will deal 200% of Collei\\'s ATK as Dendro DMG. Each Floral Brush can only create one such miniature Cuilein-Anbar.\"',\n",
       " \"Constellation Level 5,  All Embers: Increases this talent's level by 3, up to a maximum of 15.\",\n",
       " \"Floral Sidewinder is also affected by Collei's Constellation Level 2,  Through Hill and Copse: If Floral Sidewinder is unlocked, then the Sprout effect becomes guaranteed on return of the Floral Ring, and triggering an elemental reaction involving Dendro before it returns now extends the duration of the Sprout effect by 3 seconds.\"]"
      ]
     },
     "execution_count": 63,
     "metadata": {},
     "output_type": "execute_result"
    }
   ],
   "source": [
    "#print(cons3)\n",
    "\n",
    "#cons3 = list(set(cons3))[0:6]\n",
    "cons3"
   ]
  },
  {
   "cell_type": "code",
   "execution_count": 61,
   "id": "16ae2235",
   "metadata": {},
   "outputs": [
    {
     "name": "stdout",
     "output_type": "stream",
     "text": [
      "Release Date: 2022-08-24\n"
     ]
    }
   ],
   "source": [
    "#Obtaining the release date of the Character\n",
    "\n",
    "release_date_div = soup_chara.find('div', {'data-source': 'releaseDate'})\n",
    "\n",
    "#print(release_date_div)\n",
    "\n",
    "\n",
    "if release_date_div:\n",
    "    release_date_text = release_date_div.find('div', class_='pi-data-value')\n",
    "    release_date_text = release_date_text.get_text(strip=True).split(' ')\n",
    "    \n",
    "    #print(release_date_text)\n",
    "    #str(release_date_text)\n",
    "        \n",
    "    output = release_date_text[0:3]\n",
    "    \n",
    "    if len(output) >= 3:  # Check if there are at least 3 elements in the list\n",
    "        output[2] = output[2][:-1]\n",
    "\n",
    "    output = ' '.join(output)\n",
    "    output = datetime.strptime(output, \"%B %d, %Y\").date()\n",
    "    \n",
    "    #output\n",
    "    \n",
    "    print(\"Release Date:\", output)\n",
    "    \n",
    "else:\n",
    "    print(\"No release date found.\")"
   ]
  },
  {
   "cell_type": "code",
   "execution_count": 34,
   "id": "0872cf2d",
   "metadata": {},
   "outputs": [
    {
     "data": {
      "text/plain": [
       "{datetime.date(2023, 1, 18): ['Constellation Level 6,  Structuration: \"Alhaitham gains the following effects:2 seconds after Particular Field: Fetters of Phenomena is unleashed, he will generate 3 Chisel-Light Mirrors regardless of the number of mirrors consumed.If Alhaitham generates Chisel-Light Mirrors when their numbers have already maxed out, his CRIT Rate and CRIT DMG will increase by 10% and 70% respectively for 6s. If this effect is triggered again during its initial duration, the duration remaining will be increased by 6s.\"',\n",
       "  \"Constellation Level 3,  Negation: Increases this talent's level by 3, up to a maximum of 15.\",\n",
       "  \"Constellation Level 6,  Structuration: Changes the number of Chisel-Light Mirrors generated after casting this talent to always be 3, regardless of how many were consumed.\\nAdditionally, generating Chisel-Light Mirrors when 3 already exist will now increase Alhaitham's CRIT Rate and CRIT DMG by 10% and 70% respectively for 6s.\",\n",
       "  \"Constellation Level 5,  Sagacity: Increases this talent's level by 3, up to a maximum of 15.\",\n",
       "  'Constellation Level 2,  Debate: \"When Alhaitham generates a Chisel-Light Mirror, his Elemental Mastery will be increased by 50 for 8 seconds, max 4 stacks. Each stack\\'s duration is counted independently. This effect can be triggered even when the maximum number of Chisel-Light Mirrors has been reached.\"',\n",
       "  'Constellation Level 1,  Intuition: \"When a Projection Attack hits an opponent, Universality: An Elaboration on Form\\'s CD is decreased by 1.2s. This effect can be triggered once every 1s.\"',\n",
       "  'Constellation Level 4,  Elucidation: After casting this talent, grants nearby party members 30 Elemental Mastery per Chisel-Light Mirror consumed and Alhaitham 10% Dendro DMG Bonus per Mirror generated. These buffs last for 15 seconds after the Mirrors are consumed or generated.']}"
      ]
     },
     "execution_count": 34,
     "metadata": {},
     "output_type": "execute_result"
    }
   ],
   "source": [
    "cons_dict = {output: cons3}\n",
    "cons_dict"
   ]
  },
  {
   "cell_type": "code",
   "execution_count": null,
   "id": "033504c9",
   "metadata": {},
   "outputs": [],
   "source": []
  }
 ],
 "metadata": {
  "kernelspec": {
   "display_name": "Python 3 (ipykernel)",
   "language": "python",
   "name": "python3"
  },
  "language_info": {
   "codemirror_mode": {
    "name": "ipython",
    "version": 3
   },
   "file_extension": ".py",
   "mimetype": "text/x-python",
   "name": "python",
   "nbconvert_exporter": "python",
   "pygments_lexer": "ipython3",
   "version": "3.9.13"
  }
 },
 "nbformat": 4,
 "nbformat_minor": 5
}
