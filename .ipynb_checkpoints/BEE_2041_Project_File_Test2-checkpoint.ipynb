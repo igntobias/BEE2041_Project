{
 "cells": [
  {
   "cell_type": "code",
   "execution_count": 1,
   "id": "6392af7c",
   "metadata": {},
   "outputs": [],
   "source": [
    "from bs4 import BeautifulSoup\n",
    "from urllib.request import urlopen\n",
    "import numpy as np\n",
    "import pandas as pd\n",
    "import matplotlib.pyplot as plt"
   ]
  },
  {
   "cell_type": "code",
   "execution_count": 2,
   "id": "19e5513e",
   "metadata": {},
   "outputs": [],
   "source": [
    "import requests"
   ]
  },
  {
   "cell_type": "code",
   "execution_count": 3,
   "id": "34e2b3dc",
   "metadata": {},
   "outputs": [],
   "source": [
    "#url = \"https://genshin-impact.fandom.com/wiki/Arataki_Itto\"\n",
    "#page = requests.get(url)\n",
    "#print(page.text)\n",
    "#soup = BeautifulSoup(page.text, \"html.parser\")"
   ]
  },
  {
   "cell_type": "markdown",
   "id": "189222ef",
   "metadata": {},
   "source": [
    "### Obtaining all Names"
   ]
  },
  {
   "cell_type": "code",
   "execution_count": 4,
   "id": "83f452e2",
   "metadata": {},
   "outputs": [],
   "source": [
    "#urlnames = \"https://game8.co/games/Genshin-Impact/archives/296707\"\n",
    "\n",
    "#Web scraping the wikia for Genshin's playable character list.\n",
    "\n",
    "urlnames = \"https://genshin-impact.fandom.com/wiki/Category:Playable_Characters\"\n",
    "\n",
    "pagenames = requests.get(urlnames)\n",
    "\n",
    "soupname = BeautifulSoup(pagenames.text, \"html.parser\")"
   ]
  },
  {
   "cell_type": "code",
   "execution_count": 5,
   "id": "9af80776",
   "metadata": {},
   "outputs": [
    {
     "name": "stdout",
     "output_type": "stream",
     "text": [
      "{'wds-button wds-is-full-width global-navigation__register-link', 'fandom-sticky-header__sitename', 'license-description', 'global-explore-navigation', 'wds-collapsible-panel__content', 'global-top-navigation__item global-top-navigation__start-new-wiki', 'WikiaBarCollapseWrapper', 'mw-redirect category-page__member-link', 'page-counter', 'sign-in__register-text', 'wds-button wds-is-full-width wds-is-secondary global-action__sign-in-link', 'page__main', 'ad-slot-placeholder bottom-leaderboard is-loading', 'global-footer__section global-footer__section-fandom-stores', 'global-navigation__icon has-border', 'category-page__member', 'wds-dropdown wds-open-to-right', 'WikiaBarWrapper hidden', 'wds-icon wds-icon-tiny wds-dropdown__toggle-chevron', 'wds-dropdown__toggle wds-button wds-is-text page-header__action-button', 'wds-icon global-top-navigation__start-new-wiki__icon', 'right-rail-wrapper WikiaRail', 'trfc-147__list', 'global-explore-navigation__top', 'wds-list wds-is-linked', 'top-ads-container', 'page-side-tool content-size-toggle', 'fandom-community-header__top-container', 'special-categories-label', 'global-navigation__links', 'wikiabar-button', 'fandom-sticky-header', 'page-counter__value', 'wds-is-not-scrollable wds-dropdown__content', 'category-page__member-left', 'global-action__item sign-in', 'wikia-bar-collapse', 'categories', 'global-footer__header', 'page-header__bottom', 'wikia-bar wikia-bar-anon', 'fandom-community-header', 'category-page__first-char', 'global-registration-buttons', 'global-footer__icon', 'page-footer', 'category-page__trending-page-thumbnail', 'global-footer', 'global-navigation__nav', 'fandom-community-header__background cover header', 'global-footer__header-logo', 'global-footer__section global-footer__section-fandom-overview', 'global-footer__link', 'global-explore-navigation__current-wiki global-explore-navigation__divider', 'client-nojs', 'message', 'wds-icon-tiny wds-icon navigation-item-icon', 'global-navigation__label', 'global-navigation__bottom', 'global-explore-navigation__label', 'page__right-rail', 'global-explore-navigation__label global-explore-navigation__label--main', 'fandom-community-header__local-navigation', 'global-navigation__icon', 'global-footer__section global-footer__section-advertise', 'global-explore-navigation__recently-visited', 'global-top-navigation__fandom-logo', 'page-header__title-wrapper', 'wds-dropdown', 'global-footer__section global-footer__section-fandom-apps', 'tool removeCategory', 'category-page__total-number', 'wds-button wds-is-secondary', 'category-page__alphabet-shortcut', 'wds-dropdown__toggle', 'main-container', 'global-explore-navigation__icon', 'page-header__actions', 'global-explore-navigation__icon wds-avatar wds-avatar--square', 'page-header__top', 'global-footer__links', 'global-explore-navigation__nav', 'global-footer__section global-footer__section-social-links', 'wds-icon wds-icon-small', 'wds-dropdown__content', 'wds-dropdown-level-nested', 'global-navigation__beta-badge', 'global-footer__switch-view global-footer__switch-to-mobile', 'wds-dropdown__content wds-is-not-scrollable wds-is-right-aligned sign-in__dropdown-content', 'global-top-navigation__action-wrapper', 'page-header__title', 'wds-button wds-is-text', 'mediawiki ltr sitedir-ltr mw-hide-empty-elt ns-14 ns-subject page-Category_Playable_Characters rootpage-Category_Playable_Characters skin-fandomdesktop action-view ooui-theme-fandomooui wiki-gensinimpact theme-fandomdesktop-dark', 'global-explore-navigation__button', 'wds-button wds-is-secondary wiki-tools__theme-switch', 'category-page__member-thumbnail', 'wds-icon wds-icon-small sign-in__icon', 'fandom-community-header__community-name', 'wds-collapsible-panel wds-is-collapsed page-footer__categories', 'wds-avatar wds-avatar--square', 'global-footer__content', 'global-action__button-label sign-in__label', 'fandom-community-header__image', 'mw-parser-output', 'page-header__meta', 'wds-button wds-is-full-width wds-is-secondary global-navigation__signin-link', 'wds-dropdown explore-menu', 'trfc-147__header', 'global-top-navigation', 'global-footer__section global-footer__section-community', 'wds-tabs', 'wds-avatar__image', 'trfc-147__link', 'wds-tabs__tab-label wds-dropdown__toggle first-level-item', 'global-footer__link ot-sdk-show-settings', 'global-top-navigation__button-label global-top-navigation__start-new-wiki__label', 'wds-button wds-is-secondary is-hidden-on-smaller-breakpoints wiki-tools__search', 'wds-dropdown__content wds-is-right-aligned wds-is-not-scrollable', 'category-page__member-link', 'banner-notifications-placeholder', 'container', 'page-side-tools', 'wds-dropdown wds-open-to-right is-attached-to-bottom is-anon-dropdown', 'search-container', 'page-header', 'wds-dropdown sign-in__dropdown', 'fandom-community-header__community-name-wrapper', 'categoriesLink', 'global-navigation__search global-navigation__icon', 'page-header__categories', 'category-page__members-wrapper', 'global-footer__section global-footer__section-site-overview', 'wds-icon wds-icon-tiny wds-dropdown-chevron', 'wds-banner-notification__container', 'global-footer__link-icon wds-icon wds-icon-small', 'wds-button global__register-link', 'global-navigation__icon has-background', 'global-navigation', 'global-footer__section-header', 'ad-slot-placeholder top-leaderboard is-loading', 'page-content', 'global-footer__bottom', 'wds-button wds-is-full-width global-action__register-link', 'wds-button wds-is-text wiki-tools__theme-switch', 'global-navigation__logo', 'community-navigation fandom-sticky-header', 'trfc-147__item', 'category-page__trending-page-title', 'page has-right-rail', 'page-header__categories-in', 'new', 'trfc-147__content', 'page-header__page-subtitle', 'wds-icon-tiny wds-icon', 'category-page__trending-page', 'wds-button wds-is-secondary global__signin-link', 'category-page__trending-pages', 'arrow', 'wds-avatar__badge', 'wds-icon wds-icon-small close-icon', 'global-explore-navigation__item global-explore-navigation__item--with-icon global-explore-navigation__explore global-explore-navigation__tab-item', 'wds-collapsible-panel__header', 'global-navigation__register-text', 'global-explore-navigation__tab-container', 'wds-icon', 'page-counter__label', 'wiki-tools wds-button-group', 'community-navigation__fandom-heart__link', 'category-page__trending-pages-header', 'global-explore-navigation__item global-explore-navigation__tab-item', 'page-side-tools__wrapper', 'wds-is-not-scrollable wds-dropdown-level-nested__content', 'wds-icon wds-icon-small category-page__member-left-icon', 'article-categories CategorySelect articlePage', 'global-top-navigation__link global-top-navigation__start-new-wiki__anchor', 'community-navigation__fandom-heart', 'category-page__members-for-char', 'global-navigation__link', 'category-page__members', 'global-footer__link-icon', 'category-page__alphabet-shortcuts', 'wds-dropdown-level-nested__toggle', 'bottom-ads-container', 'mw-body-content mw-content-ltr', 'fandom-sticky-header__logo', 'resizable-container', 'name', 'category normal', 'community-header-wrapper', 'page-footer__trfc-147 trfc-147', 'global-action__link wds-button sign-in__anchor', 'page-side-tool page-side-edit', 'wds-button wds-is-text page-header__action-button has-label', 'global-navigation__top', 'ae-translatable-label', 'notifications-placeholder', 'wiki-tools'}\n"
     ]
    }
   ],
   "source": [
    "#Obtaining list of all classes used in the \"Names\" web page for the Genshin Characters\n",
    "\n",
    "# class list set \n",
    "class_list = set() \n",
    "\n",
    "# Page content from Website URL \n",
    "page = requests.get(urlnames) \n",
    "\n",
    "# parse html content \n",
    "soup = BeautifulSoup(page.content , 'html.parser') \n",
    "\n",
    "# get all tags \n",
    "tags = {tag.name for tag in soup.find_all()} \n",
    "\n",
    "\n",
    "for tag in tags:                       # iterate all tags \n",
    "\n",
    "    for i in soup.find_all( tag ):     # find all element of tag \n",
    " \n",
    "        if i.has_attr( \"class\" ):      # if tag has attribute of class\n",
    "\n",
    "            if len( i['class'] ) != 0: \n",
    "                class_list.add(\" \".join( i['class'])) \n",
    "\n",
    "print(class_list) "
   ]
  },
  {
   "cell_type": "code",
   "execution_count": 6,
   "id": "84eafa33",
   "metadata": {},
   "outputs": [
    {
     "data": {
      "text/plain": [
       "[<a class=\"category-page__member-link\" href=\"/wiki/Category:Crossover_Characters\" title=\"Category:Crossover Characters\">Category:Crossover Characters</a>,\n",
       " <a class=\"category-page__member-link\" href=\"/wiki/Category:Event-Exclusive_Characters\" title=\"Category:Event-Exclusive Characters\">Category:Event-Exclusive Characters</a>,\n",
       " <a class=\"category-page__member-link\" href=\"/wiki/Category:Non-Wish_Characters\" title=\"Category:Non-Wish Characters\">Category:Non-Wish Characters</a>,\n",
       " <a class=\"category-page__member-link\" href=\"/wiki/Category:Playable_Characters_by_Region\" title=\"Category:Playable Characters by Region\">Category:Playable Characters by Region</a>,\n",
       " <a class=\"category-page__member-link\" href=\"/wiki/Category:Standard_Wish_Characters\" title=\"Category:Standard Wish Characters\">Category:Standard Wish Characters</a>,\n",
       " <a class=\"mw-redirect category-page__member-link\" href=\"/wiki/Aether\" title=\"Aether\">Aether</a>,\n",
       " <a class=\"category-page__member-link\" href=\"/wiki/Albedo\" title=\"Albedo\">Albedo</a>,\n",
       " <a class=\"category-page__member-link\" href=\"/wiki/Alhaitham\" title=\"Alhaitham\">Alhaitham</a>,\n",
       " <a class=\"category-page__member-link\" href=\"/wiki/Aloy\" title=\"Aloy\">Aloy</a>,\n",
       " <a class=\"category-page__member-link\" href=\"/wiki/Amber\" title=\"Amber\">Amber</a>,\n",
       " <a class=\"category-page__member-link\" href=\"/wiki/Arataki_Itto\" title=\"Arataki Itto\">Arataki Itto</a>,\n",
       " <a class=\"category-page__member-link\" href=\"/wiki/Baizhu\" title=\"Baizhu\">Baizhu</a>,\n",
       " <a class=\"category-page__member-link\" href=\"/wiki/Barbara\" title=\"Barbara\">Barbara</a>,\n",
       " <a class=\"category-page__member-link\" href=\"/wiki/Beidou\" title=\"Beidou\">Beidou</a>,\n",
       " <a class=\"category-page__member-link\" href=\"/wiki/Bennett\" title=\"Bennett\">Bennett</a>,\n",
       " <a class=\"category-page__member-link\" href=\"/wiki/Candace\" title=\"Candace\">Candace</a>,\n",
       " <a class=\"category-page__member-link\" href=\"/wiki/Charlotte\" title=\"Charlotte\">Charlotte</a>,\n",
       " <a class=\"category-page__member-link\" href=\"/wiki/Chevreuse\" title=\"Chevreuse\">Chevreuse</a>,\n",
       " <a class=\"category-page__member-link\" href=\"/wiki/Chiori\" title=\"Chiori\">Chiori</a>,\n",
       " <a class=\"category-page__member-link\" href=\"/wiki/Chongyun\" title=\"Chongyun\">Chongyun</a>,\n",
       " <a class=\"category-page__member-link\" href=\"/wiki/Collei\" title=\"Collei\">Collei</a>,\n",
       " <a class=\"category-page__member-link\" href=\"/wiki/Cyno\" title=\"Cyno\">Cyno</a>,\n",
       " <a class=\"category-page__member-link\" href=\"/wiki/Dehya\" title=\"Dehya\">Dehya</a>,\n",
       " <a class=\"category-page__member-link\" href=\"/wiki/Diluc\" title=\"Diluc\">Diluc</a>,\n",
       " <a class=\"category-page__member-link\" href=\"/wiki/Diona\" title=\"Diona\">Diona</a>,\n",
       " <a class=\"category-page__member-link\" href=\"/wiki/Dori\" title=\"Dori\">Dori</a>,\n",
       " <a class=\"category-page__member-link\" href=\"/wiki/Eula\" title=\"Eula\">Eula</a>,\n",
       " <a class=\"category-page__member-link\" href=\"/wiki/Faruzan\" title=\"Faruzan\">Faruzan</a>,\n",
       " <a class=\"category-page__member-link\" href=\"/wiki/Fischl\" title=\"Fischl\">Fischl</a>,\n",
       " <a class=\"category-page__member-link\" href=\"/wiki/Freminet\" title=\"Freminet\">Freminet</a>,\n",
       " <a class=\"category-page__member-link\" href=\"/wiki/Furina\" title=\"Furina\">Furina</a>,\n",
       " <a class=\"category-page__member-link\" href=\"/wiki/Gaming\" title=\"Gaming\">Gaming</a>,\n",
       " <a class=\"category-page__member-link\" href=\"/wiki/Ganyu\" title=\"Ganyu\">Ganyu</a>,\n",
       " <a class=\"category-page__member-link\" href=\"/wiki/Gorou\" title=\"Gorou\">Gorou</a>,\n",
       " <a class=\"category-page__member-link\" href=\"/wiki/Hu_Tao\" title=\"Hu Tao\">Hu Tao</a>,\n",
       " <a class=\"category-page__member-link\" href=\"/wiki/Jean\" title=\"Jean\">Jean</a>,\n",
       " <a class=\"category-page__member-link\" href=\"/wiki/Kaedehara_Kazuha\" title=\"Kaedehara Kazuha\">Kaedehara Kazuha</a>,\n",
       " <a class=\"category-page__member-link\" href=\"/wiki/Kaeya\" title=\"Kaeya\">Kaeya</a>,\n",
       " <a class=\"category-page__member-link\" href=\"/wiki/Kamisato_Ayaka\" title=\"Kamisato Ayaka\">Kamisato Ayaka</a>,\n",
       " <a class=\"category-page__member-link\" href=\"/wiki/Kamisato_Ayato\" title=\"Kamisato Ayato\">Kamisato Ayato</a>,\n",
       " <a class=\"category-page__member-link\" href=\"/wiki/Kaveh\" title=\"Kaveh\">Kaveh</a>,\n",
       " <a class=\"category-page__member-link\" href=\"/wiki/Keqing\" title=\"Keqing\">Keqing</a>,\n",
       " <a class=\"category-page__member-link\" href=\"/wiki/Kirara\" title=\"Kirara\">Kirara</a>,\n",
       " <a class=\"category-page__member-link\" href=\"/wiki/Klee\" title=\"Klee\">Klee</a>,\n",
       " <a class=\"category-page__member-link\" href=\"/wiki/Kujou_Sara\" title=\"Kujou Sara\">Kujou Sara</a>,\n",
       " <a class=\"category-page__member-link\" href=\"/wiki/Kuki_Shinobu\" title=\"Kuki Shinobu\">Kuki Shinobu</a>,\n",
       " <a class=\"category-page__member-link\" href=\"/wiki/Layla\" title=\"Layla\">Layla</a>,\n",
       " <a class=\"category-page__member-link\" href=\"/wiki/Lisa\" title=\"Lisa\">Lisa</a>,\n",
       " <a class=\"mw-redirect category-page__member-link\" href=\"/wiki/Lumine\" title=\"Lumine\">Lumine</a>,\n",
       " <a class=\"category-page__member-link\" href=\"/wiki/Lynette\" title=\"Lynette\">Lynette</a>,\n",
       " <a class=\"category-page__member-link\" href=\"/wiki/Lyney\" title=\"Lyney\">Lyney</a>,\n",
       " <a class=\"category-page__member-link\" href=\"/wiki/Mika\" title=\"Mika\">Mika</a>,\n",
       " <a class=\"category-page__member-link\" href=\"/wiki/Mona\" title=\"Mona\">Mona</a>,\n",
       " <a class=\"category-page__member-link\" href=\"/wiki/Nahida\" title=\"Nahida\">Nahida</a>,\n",
       " <a class=\"category-page__member-link\" href=\"/wiki/Navia\" title=\"Navia\">Navia</a>,\n",
       " <a class=\"category-page__member-link\" href=\"/wiki/Neuvillette\" title=\"Neuvillette\">Neuvillette</a>,\n",
       " <a class=\"category-page__member-link\" href=\"/wiki/Nilou\" title=\"Nilou\">Nilou</a>,\n",
       " <a class=\"category-page__member-link\" href=\"/wiki/Ningguang\" title=\"Ningguang\">Ningguang</a>,\n",
       " <a class=\"category-page__member-link\" href=\"/wiki/Noelle\" title=\"Noelle\">Noelle</a>,\n",
       " <a class=\"category-page__member-link\" href=\"/wiki/Qiqi\" title=\"Qiqi\">Qiqi</a>,\n",
       " <a class=\"category-page__member-link\" href=\"/wiki/Raiden_Shogun\" title=\"Raiden Shogun\">Raiden Shogun</a>,\n",
       " <a class=\"category-page__member-link\" href=\"/wiki/Razor\" title=\"Razor\">Razor</a>,\n",
       " <a class=\"category-page__member-link\" href=\"/wiki/Rosaria\" title=\"Rosaria\">Rosaria</a>,\n",
       " <a class=\"category-page__member-link\" href=\"/wiki/Sangonomiya_Kokomi\" title=\"Sangonomiya Kokomi\">Sangonomiya Kokomi</a>,\n",
       " <a class=\"category-page__member-link\" href=\"/wiki/Sayu\" title=\"Sayu\">Sayu</a>,\n",
       " <a class=\"category-page__member-link\" href=\"/wiki/Shenhe\" title=\"Shenhe\">Shenhe</a>,\n",
       " <a class=\"category-page__member-link\" href=\"/wiki/Shikanoin_Heizou\" title=\"Shikanoin Heizou\">Shikanoin Heizou</a>,\n",
       " <a class=\"category-page__member-link\" href=\"/wiki/Sucrose\" title=\"Sucrose\">Sucrose</a>,\n",
       " <a class=\"category-page__member-link\" href=\"/wiki/Tartaglia\" title=\"Tartaglia\">Tartaglia</a>,\n",
       " <a class=\"category-page__member-link\" href=\"/wiki/Thoma\" title=\"Thoma\">Thoma</a>,\n",
       " <a class=\"category-page__member-link\" href=\"/wiki/Tighnari\" title=\"Tighnari\">Tighnari</a>,\n",
       " <a class=\"category-page__member-link\" href=\"/wiki/Traveler\" title=\"Traveler\">Traveler</a>,\n",
       " <a class=\"category-page__member-link\" href=\"/wiki/Traveler_(Anemo)\" title=\"Traveler (Anemo)\">Traveler (Anemo)</a>,\n",
       " <a class=\"category-page__member-link\" href=\"/wiki/Traveler_(Dendro)\" title=\"Traveler (Dendro)\">Traveler (Dendro)</a>,\n",
       " <a class=\"category-page__member-link\" href=\"/wiki/Traveler_(Electro)\" title=\"Traveler (Electro)\">Traveler (Electro)</a>,\n",
       " <a class=\"category-page__member-link\" href=\"/wiki/Traveler_(Geo)\" title=\"Traveler (Geo)\">Traveler (Geo)</a>,\n",
       " <a class=\"category-page__member-link\" href=\"/wiki/Traveler_(Hydro)\" title=\"Traveler (Hydro)\">Traveler (Hydro)</a>,\n",
       " <a class=\"category-page__member-link\" href=\"/wiki/Traveler_(Unaligned)\" title=\"Traveler (Unaligned)\">Traveler (Unaligned)</a>,\n",
       " <a class=\"category-page__member-link\" href=\"/wiki/Venti\" title=\"Venti\">Venti</a>,\n",
       " <a class=\"category-page__member-link\" href=\"/wiki/Wanderer\" title=\"Wanderer\">Wanderer</a>,\n",
       " <a class=\"category-page__member-link\" href=\"/wiki/Wriothesley\" title=\"Wriothesley\">Wriothesley</a>,\n",
       " <a class=\"category-page__member-link\" href=\"/wiki/Xiangling\" title=\"Xiangling\">Xiangling</a>,\n",
       " <a class=\"category-page__member-link\" href=\"/wiki/Xianyun\" title=\"Xianyun\">Xianyun</a>,\n",
       " <a class=\"category-page__member-link\" href=\"/wiki/Xiao\" title=\"Xiao\">Xiao</a>,\n",
       " <a class=\"category-page__member-link\" href=\"/wiki/Xingqiu\" title=\"Xingqiu\">Xingqiu</a>,\n",
       " <a class=\"category-page__member-link\" href=\"/wiki/Xinyan\" title=\"Xinyan\">Xinyan</a>,\n",
       " <a class=\"category-page__member-link\" href=\"/wiki/Yae_Miko\" title=\"Yae Miko\">Yae Miko</a>,\n",
       " <a class=\"category-page__member-link\" href=\"/wiki/Yanfei\" title=\"Yanfei\">Yanfei</a>,\n",
       " <a class=\"category-page__member-link\" href=\"/wiki/Yaoyao\" title=\"Yaoyao\">Yaoyao</a>,\n",
       " <a class=\"category-page__member-link\" href=\"/wiki/Yelan\" title=\"Yelan\">Yelan</a>,\n",
       " <a class=\"category-page__member-link\" href=\"/wiki/Yoimiya\" title=\"Yoimiya\">Yoimiya</a>,\n",
       " <a class=\"category-page__member-link\" href=\"/wiki/Yun_Jin\" title=\"Yun Jin\">Yun Jin</a>,\n",
       " <a class=\"category-page__member-link\" href=\"/wiki/Zhongli\" title=\"Zhongli\">Zhongli</a>]"
      ]
     },
     "execution_count": 6,
     "metadata": {},
     "output_type": "execute_result"
    }
   ],
   "source": [
    "#Scraping through to get the html, identifying which class and identifier to find the names\n",
    "\n",
    "imgtag = soupname.find_all(\"a\", class_=\"category-page__member-link\")\n",
    "imgtag"
   ]
  },
  {
   "cell_type": "code",
   "execution_count": 7,
   "id": "59973c3c",
   "metadata": {},
   "outputs": [
    {
     "data": {
      "text/plain": [
       "['Albedo',\n",
       " 'Alhaitham',\n",
       " 'Aloy',\n",
       " 'Amber',\n",
       " 'Arataki Itto',\n",
       " 'Baizhu',\n",
       " 'Barbara',\n",
       " 'Beidou',\n",
       " 'Bennett',\n",
       " 'Candace',\n",
       " 'Charlotte',\n",
       " 'Chevreuse',\n",
       " 'Chiori',\n",
       " 'Chongyun',\n",
       " 'Collei',\n",
       " 'Cyno',\n",
       " 'Dehya',\n",
       " 'Diluc',\n",
       " 'Diona',\n",
       " 'Dori',\n",
       " 'Eula',\n",
       " 'Faruzan',\n",
       " 'Fischl',\n",
       " 'Freminet',\n",
       " 'Furina',\n",
       " 'Gaming',\n",
       " 'Ganyu',\n",
       " 'Gorou',\n",
       " 'Hu Tao',\n",
       " 'Jean',\n",
       " 'Kaedehara Kazuha',\n",
       " 'Kaeya',\n",
       " 'Kamisato Ayaka',\n",
       " 'Kamisato Ayato',\n",
       " 'Kaveh',\n",
       " 'Keqing',\n",
       " 'Kirara',\n",
       " 'Klee',\n",
       " 'Kujou Sara',\n",
       " 'Kuki Shinobu',\n",
       " 'Layla',\n",
       " 'Lisa',\n",
       " 'Lumine',\n",
       " 'Lynette',\n",
       " 'Lyney',\n",
       " 'Mika',\n",
       " 'Mona',\n",
       " 'Nahida',\n",
       " 'Navia',\n",
       " 'Neuvillette',\n",
       " 'Nilou',\n",
       " 'Ningguang',\n",
       " 'Noelle',\n",
       " 'Qiqi',\n",
       " 'Raiden Shogun',\n",
       " 'Razor',\n",
       " 'Rosaria',\n",
       " 'Sangonomiya Kokomi',\n",
       " 'Sayu',\n",
       " 'Shenhe',\n",
       " 'Shikanoin Heizou',\n",
       " 'Sucrose',\n",
       " 'Tartaglia',\n",
       " 'Thoma',\n",
       " 'Tighnari',\n",
       " 'Traveler',\n",
       " 'Traveler (Anemo)',\n",
       " 'Traveler (Dendro)',\n",
       " 'Traveler (Electro)',\n",
       " 'Traveler (Geo)',\n",
       " 'Traveler (Hydro)',\n",
       " 'Traveler (Unaligned)',\n",
       " 'Venti',\n",
       " 'Wanderer',\n",
       " 'Wriothesley',\n",
       " 'Xiangling',\n",
       " 'Xianyun',\n",
       " 'Xiao',\n",
       " 'Xingqiu',\n",
       " 'Xinyan',\n",
       " 'Yae Miko',\n",
       " 'Yanfei',\n",
       " 'Yaoyao',\n",
       " 'Yelan',\n",
       " 'Yoimiya',\n",
       " 'Yun Jin',\n",
       " 'Zhongli']"
      ]
     },
     "metadata": {},
     "output_type": "display_data"
    },
    {
     "name": "stdout",
     "output_type": "stream",
     "text": [
      "['Albedo', 'Alhaitham', 'Aloy', 'Amber', 'Arataki_Itto', 'Baizhu', 'Barbara', 'Beidou', 'Bennett', 'Candace', 'Charlotte', 'Chevreuse', 'Chiori', 'Chongyun', 'Collei', 'Cyno', 'Dehya', 'Diluc', 'Diona', 'Dori', 'Eula', 'Faruzan', 'Fischl', 'Freminet', 'Furina', 'Gaming', 'Ganyu', 'Gorou', 'Hu_Tao', 'Jean', 'Kaedehara_Kazuha', 'Kaeya', 'Kamisato_Ayaka', 'Kamisato_Ayato', 'Kaveh', 'Keqing', 'Kirara', 'Klee', 'Kujou_Sara', 'Kuki_Shinobu', 'Layla', 'Lisa', 'Lumine', 'Lynette', 'Lyney', 'Mika', 'Mona', 'Nahida', 'Navia', 'Neuvillette', 'Nilou', 'Ningguang', 'Noelle', 'Qiqi', 'Raiden_Shogun', 'Razor', 'Rosaria', 'Sangonomiya_Kokomi', 'Sayu', 'Shenhe', 'Shikanoin_Heizou', 'Sucrose', 'Tartaglia', 'Thoma', 'Tighnari', 'Traveler', 'Traveler_(Anemo)', 'Traveler_(Dendro)', 'Traveler_(Electro)', 'Traveler_(Geo)', 'Traveler_(Hydro)', 'Traveler_(Unaligned)', 'Venti', 'Wanderer', 'Wriothesley', 'Xiangling', 'Xianyun', 'Xiao', 'Xingqiu', 'Xinyan', 'Yae_Miko', 'Yanfei', 'Yaoyao', 'Yelan', 'Yoimiya', 'Yun_Jin', 'Zhongli']\n"
     ]
    }
   ],
   "source": [
    "#Converting the soup into a usable List\n",
    "\n",
    "type(imgtag)\n",
    "\n",
    "titles = [tag['title'] for tag in imgtag]\n",
    "characters = titles[6:]\n",
    "display(characters)\n",
    "type(characters)\n",
    "\n",
    "\n",
    "#Replacing spaces with underscores for it to be usable in iterating through the wikia pages\n",
    "\n",
    "converter = lambda x: x.replace(' ', '_')\n",
    "characters = list(map(converter, characters))\n",
    "print(characters)"
   ]
  },
  {
   "cell_type": "markdown",
   "id": "9153ea83",
   "metadata": {},
   "source": [
    "### Testing with character \"Albedo\" how to scrape the constellation data"
   ]
  },
  {
   "cell_type": "code",
   "execution_count": 8,
   "id": "1ffd9115",
   "metadata": {},
   "outputs": [],
   "source": [
    "#Web scraping and parsing only the albedo site. Utilise regex and loop.functions in the final to complete.\n",
    "\n",
    "url_albedo = \"https://genshin-impact.fandom.com/wiki/\"+characters[0]\n",
    "\n",
    "page_albedo = requests.get(url_albedo)\n",
    "\n",
    "soup_albedo = BeautifulSoup(page_albedo.content, \"html.parser\")\n",
    "\n",
    "\n",
    "#Obtaining the constellation html info\n",
    "\n",
    "cons1 = soup_albedo.find_all(class_ = \"item constellation\")\n",
    "cons2 = [con.find_parents(\"li\")[0] for con in cons1]\n",
    "cons2 = cons2[0:5]\n",
    "#cons2"
   ]
  },
  {
   "cell_type": "code",
   "execution_count": 9,
   "id": "47c65718",
   "metadata": {},
   "outputs": [
    {
     "name": "stdout",
     "output_type": "stream",
     "text": [
      "{'wds-button wds-is-full-width global-navigation__register-link', 'fandom-sticky-header__sitename', 'WikiaBarCollapseWrapper', 'card-image card-rarity-0', 'text-new', 'wikitable', 'wds-tabs__tab wds-is-current', 'wds-icon global-top-navigation__start-new-wiki__icon', 'mcf-card-wiki-articles__circle', 'toclevel-2 tocsection-2', 'global-explore-navigation__top', 'wds-list wds-is-linked', 'top-ads-container', 'thumbcaption', 'navbox-title', 'special-categories-label', 'global-navigation__links', 'mediawiki ltr sitedir-ltr mw-hide-empty-elt ns-0 ns-subject page-Albedo rootpage-Albedo skin-fandomdesktop action-view ooui-theme-fandomooui wiki-gensinimpact theme-fandomdesktop-dark', 'giw-collapsible mw-collapsible mw-collapsed', 'wikiabar-button', 'fandom-sticky-header', 'page-counter__value', 'mcf-card-wiki-articles__item', 'categories', 'global-registration-buttons', 'mw-references-wrap', 'video hidden mobileHide', 'toctitle', 'internal', 'global-footer__header-logo', 'global-footer__link', 'global-footer__section global-footer__section-fandom-overview', 'message', 'wds-icon-tiny wds-icon navigation-item-icon', 'global-explore-navigation__label global-explore-navigation__label--main', 'toclevel-2 tocsection-5', 'fandom-community-header__local-navigation', 'global-footer__section global-footer__section-fandom-apps', 'tool removeCategory', 'looppreview', 'wds-dropdown__toggle', 'global-explore-navigation__icon', 'global-footer__links', 'toclevel-2 tocsection-7', 'mw-page-title-main', 'reference-text', 'caption', 'wds-button wds-is-secondary wiki-tools__theme-switch', 'card-text card-font', 'preview-gallery-item', 'references-small', 'global-footer__content', 'info-icon', 'global-footer__section global-footer__section-community', 'mobile-only', 'wds-collapsible-panel wds-is-collapsed page-footer__languages', 'wds-button wds-is-secondary is-hidden-on-smaller-breakpoints wiki-tools__search', 'wds-dropdown wds-open-to-right is-attached-to-bottom is-anon-dropdown', 'wds-icon wds-icon-tiny wds-dropdown-chevron', 'toclevel-1 tocsection-6', 'text', 'mw-redirect mw-disambig', 'mcf-card-wiki-articles__header', 'global-navigation__icon has-background', 'card-list-container card-mobile-list', 'mw-collapsible-content custom-tt', 'thumbimage', 'new', 'card-image card-rarity-5', 'mcf-card-wiki-articles__title', 'wds-avatar__badge', 'global-navigation__register-text', 'wds-icon', 'bottom-ads-container', 'wds-dropdown-level-nested__toggle', 'community-header-wrapper', 'mw-collapsible-content', 'alternating1', 'reference', 'wds-button wds-is-text page-header__action-button has-label', 'notifications-placeholder', 'page-footer', 'toclevel-2 tocsection-3', 'license-description', 'global-top-navigation__item global-top-navigation__start-new-wiki', 'page-counter', 'sign-in__register-text', 'ad-slot-placeholder bottom-leaderboard is-loading', 'page-header__languages', 'WikiaBarWrapper hidden', 'alternating2', 'pi-item pi-panel pi-border-color wds-tabber', 'item-text', 'mw-redirect', 'wds-tabs__wrapper', 'wds-tab__content', 'global-footer__icon', 'text-tooltip hover-tooltip', 'global-navigation__nav', 'mw-cite-backlink', 'wikitable constellation-table', 'global-explore-navigation__current-wiki global-explore-navigation__divider', 'client-nojs', 'toctogglelabel', 'pi-item pi-group pi-border-color', 'wds-dropdown', 'wds-tabs__tab', 'wds-dropdown__content', 'wds-dropdown-level-nested', 'item constellation', 'global-navigation__beta-badge', 'wds-button wds-is-text page-header__action-button', 'item', 'wds-button wds-is-text', 'fandom-community-header__community-name', 'fandom-community-header__image', 'wds-dropdown explore-menu', 'toctext', 'global-footer__link ot-sdk-show-settings', 'container', 'fandom-community-header__community-name-wrapper', 'bg-highlight', 'categoriesLink', 'wds-tab__content wds-is-current', 'article-table', 'toclevel-1 tocsection-10', 'global-footer__link-icon wds-icon wds-icon-small', 'mcf-content', 'toclevel-1 tocsection-9', 'card-icon', 'change-history-header', 'global-navigation', 'ad-slot-placeholder top-leaderboard is-loading', 'no-wrap', 'page has-right-rail', 'navbox-group', 'arrow', 'custom-tabs-default custom-tabs', 'card-container mini-card', 'wds-icon wds-icon-small close-icon', 'global-explore-navigation__item global-explore-navigation__item--with-icon global-explore-navigation__explore global-explore-navigation__tab-item', 'mcf-card-wiki-articles__item-link', 'card-list-container', 'page-counter__label', 'community-navigation__fandom-heart__link', 'page-side-tools__wrapper', 'wds-is-not-scrollable wds-dropdown-level-nested__content', 'article-categories CategorySelect articlePage', 'global-top-navigation__link global-top-navigation__start-new-wiki__anchor', 'community-navigation__fandom-heart', 'thumb tnone show-info-icon', 'mw-body-content mw-content-ltr', 'fandom-sticky-header__logo', 'card-image card-rarity-3', 'preview', 'wds-dropdown page-header__categories-dropdown', 'mw-customtoggle-toggle-ascension wds-button', 'global-navigation__top', 'wiki-tools', 'wikitable talent-table', 'hidden looppreview-hover-label', 'wds-tabs__tab-label', 'wikitable ascension-stats', 'mcf-wrapper', 'global-explore-navigation', 'hidden', 'mcf-card-wiki-articles__list', 'references', 'notice hatnote context-link about dablink', 'global-navigation__icon has-border', 'wds-icon wds-icon-tiny wds-dropdown__toggle-chevron', 'tocnumber', 'center', 'wds-dropdown__toggle wds-button wds-is-text page-header__action-button', 'item-image', 'right-rail-wrapper WikiaRail', 'nowraplinks hlist mw-collapsible navbox-inner', 'toctogglecheckbox', 'fandom-community-header__top-container', 'pi-horizontal-group-item pi-data-value pi-font pi-border-color pi-item-spacing', 'card-image card-rarity-2', 'toclevel-1 tocsection-11', 'mcf-card mcf-card-wiki-articles', 'wikia-bar-collapse', 'wikia-bar wikia-bar-anon', 'fandom-community-header', 'talent-table-container', 'global-footer', 'fandom-community-header__background cover header', 'global-explore-navigation__label', 'toclevel-3 tocsection-4', 'global-navigation__icon', 'article-table sortable tdc1 tdc4', 'global-explore-navigation__recently-visited', 'global-top-navigation__fandom-logo', 'page-header__title-wrapper', 'image image-thumbnail', 'wds-button wds-is-secondary', 'pi-item pi-data pi-item-spacing pi-border-color', 'main-container', 'page-header__actions', 'thumbimage lazyload', 'global-explore-navigation__nav', 'global-footer__section global-footer__section-social-links', 'card-body', 'wds-dropdown__content wds-is-not-scrollable wds-is-right-aligned sign-in__dropdown-content', 'global-top-navigation__action-wrapper', 'pi-horizontal-group', 'global-explore-navigation__button', 'card-image card-rarity-4', 'wds-icon wds-icon-small sign-in__icon', 'wds-dropdown__content page-header__categories-dropdown-content wds-is-left-aligned', 'wds-collapsible-panel wds-is-collapsed page-footer__categories', 'wds-avatar wds-avatar--square', 'mw-collapsible-toggle mw-collapsible-toggle-default mw-collapsible-toggle-collapsed custom-tt toggle-tooltip', 'card-wrapper', 'global-action__button-label sign-in__label', 'trfc-147__header', 'wds-button wds-is-full-width wds-is-secondary global-navigation__signin-link', 'card-image card-rarity-5a', 'global-top-navigation', 'wds-avatar__image', 'trfc-147__link', 'preview-gallery caption-center', 'wds-tabs__tab-label wds-dropdown__toggle first-level-item', 'mcf-card-wiki-placeholder', 'toc', 'wds-dropdown__content wds-is-right-aligned wds-is-not-scrollable', 'mcf-header', 'banner-notifications-placeholder', 'page-side-tools', 'search-container', 'pi-image-collection wds-tabber', 'ascension mw-collapsible', 'global-navigation__search global-navigation__icon', 'toclevel-1 tocsection-1', 'toclevel-1 tocsection-12', 'page-header__categories', 'wds-button global__register-link', 'community-navigation fandom-sticky-header', 'wds-button wds-is-text wiki-tools__theme-switch', 'global-navigation__logo', 'trfc-147__item', 'navbox-list navbox-even navbox-list-top', 'pi-image-thumbnail', 'pi-item pi-image', 'trfc-147__content', 'wds-button wds-is-secondary global__signin-link', 'wds-collapsible-panel__header', 'global-explore-navigation__tab-container', 'extiw', 'global-explore-navigation__item global-explore-navigation__tab-item', 'toclevel-2 tocsection-8', 'mcf-column', 'resizable-container', 'page-footer__trfc-147 trfc-147', 'global-action__link wds-button sign-in__anchor', 'page-side-tool page-side-edit', 'hidden looppreview-hover-preference', 'custom-tt-wrapper mobile-only toggle-tooltip mw-collapsible mw-made-collapsible mw-collapsed giw-collapsible', 'global-footer__section global-footer__section-site-overview', 'pi-item pi-item-spacing pi-title pi-secondary-background', 'wds-collapsible-panel__content', 'wds-button wds-is-full-width wds-is-secondary global-action__sign-in-link', 'page__main', 'pi-data-value pi-font', 'global-footer__section global-footer__section-fandom-stores', 'pi-data-label pi-secondary-font', 'wds-dropdown wds-open-to-right', 'trfc-147__list', 'portable-infobox pi-background pi-border-color pi-theme-char pi-layout-default', 'mcf-en', 'page-side-tool content-size-toggle', 'mw-headline', 'wds-is-not-scrollable wds-dropdown__content', 'featured-video-player-container', 'card-image card-rarity-1', 'global-action__item sign-in', 'global-footer__header', 'page-header__bottom', 'mcf-card-wiki-articles__header-text', 'toctogglespan', 'external text', 'mw-selflink selflink', 'global-navigation__label', 'global-navigation__bottom', 'page__right-rail', 'global-footer__section global-footer__section-advertise', 'global-explore-navigation__icon wds-avatar wds-avatar--square', 'page-header__top', 'item talent', 'mcf-mosaic', 'wds-icon wds-icon-small', 'card-container', 'inactive-tab', 'global-footer__switch-view global-footer__switch-to-mobile', 'page-header__title', 'mw-parser-output', 'text-geo', 'pi-item pi-header pi-secondary-font pi-item-spacing pi-secondary-background', 'page-header__meta', 'text-old', 'wds-tabs', 'navbox-list navbox-odd navbox-list-top', 'change-history-content standard-border', 'global-top-navigation__button-label global-top-navigation__start-new-wiki__label', 'change-history', 'page-header', 'button-counter', 'wds-dropdown sign-in__dropdown', 'lazyload', 'wds-banner-notification__container', 'image', 'page-content', 'global-footer__section-header', 'global-footer__bottom', 'card-caption', 'wds-button wds-is-full-width global-action__register-link', 'page-header__categories-in', 'wds-icon-tiny wds-icon', 'card-mobile-text', 'wiki-tools wds-button-group', 'pi-horizontal-group-item pi-data-label pi-secondary-font pi-border-color pi-item-spacing', 'global-navigation__link', 'global-footer__link-icon', 'name', 'category normal', 'navbox-border navbox', 'active-tab', 'ae-translatable-label'}\n"
     ]
    }
   ],
   "source": [
    "#Obtaining list of all classes used in Albedo's web page\n",
    "\n",
    "# class list set \n",
    "class_list = set() \n",
    "\n",
    "# Page content from Website URL \n",
    "page = requests.get(url_albedo) \n",
    "\n",
    "# parse html content \n",
    "soup = BeautifulSoup(page.content , 'html.parser') \n",
    "\n",
    "# get all tags \n",
    "tags = {tag.name for tag in soup.find_all()} \n",
    "\n",
    "\n",
    "for tag in tags:                       # iterate all tags \n",
    "\n",
    "    for i in soup.find_all( tag ):     # find all element of tag \n",
    " \n",
    "        if i.has_attr( \"class\" ):      # if tag has attribute of class\n",
    "\n",
    "            if len( i['class'] ) != 0: \n",
    "                class_list.add(\" \".join( i['class'])) \n",
    "\n",
    "print(class_list) "
   ]
  },
  {
   "cell_type": "code",
   "execution_count": 10,
   "id": "8a9fa433",
   "metadata": {},
   "outputs": [
    {
     "name": "stdout",
     "output_type": "stream",
     "text": [
      "['Constellation Level 1,  Flower of Eden: \"Transient Blossoms generated by Albedo\\'s Abiogenesis: Solar Isotoma regenerate 1.2 Energy for Albedo.\"', \"Constellation Level 2,  Opening of Phanerozoic: Albedo gains one stack of Fatal Reckoning for each Transient Blossom generated from Abiogenesis: Solar Isotoma, up to a maximum of 4 stacks. Upon using Rite of Progeniture: Tectonic Tide, all stacks of Fatal Reckoning are consumed, with each stack consumed increasing all damage dealt by Rite of Progeniture: Tectonic Tide (including Fatal Blossom damage) by 30% of Albedo's DEF.\", \"Constellation Level 3,  Grace of Helios: Increases this talent's level by 3, up to a maximum of 15.\", 'Constellation Level 4,  Descent of Divinity: \"Active party members within the Solar Isotoma field have their Plunging Attack DMG increased by 30%.\"', 'Constellation Level 6,  Dust of Purification: \"Active party members within the Solar Isotoma field who are protected by a shield created by Crystallize have their DMG increased by 17%.\"']\n"
     ]
    }
   ],
   "source": [
    "type(cons2[0])\n",
    "\n",
    "#Individually getting the text out of the html part of cons2. This will then be used as the basis of all con data.\n",
    "\n",
    "cons3 = []\n",
    "\n",
    "for data in cons2:\n",
    "    \n",
    "    #soup = BeautifulSoup(data, 'html.parser')\n",
    "    #print(type(data))\n",
    "    #li_tag = data.find('li')\n",
    "    \n",
    "    if data:\n",
    "        data = data.text.strip()\n",
    "        #print(data)\n",
    "        cons3.append(data)\n",
    "    else:\n",
    "        print(\"No tag found.\")\n",
    "        \n",
    "print(cons3)"
   ]
  },
  {
   "cell_type": "code",
   "execution_count": 79,
   "id": "950fb7e5",
   "metadata": {},
   "outputs": [
    {
     "name": "stdout",
     "output_type": "stream",
     "text": [
      "[<a href=\"/wiki/Character/List#Characters_by_Release_Date\" title=\"Character/List\">Release Date</a>]\n",
      "[None]\n"
     ]
    },
    {
     "data": {
      "text/plain": [
       "[<h3 class=\"pi-data-label pi-secondary-font\"><a href=\"/wiki/Birthday\" title=\"Birthday\">Birthday</a></h3>,\n",
       " <h3 class=\"pi-data-label pi-secondary-font\"><a href=\"#Constellation\">Constel­lation</a></h3>,\n",
       " <h3 class=\"pi-data-label pi-secondary-font\">Region</h3>,\n",
       " <h3 class=\"pi-data-label pi-secondary-font\">Affil­i­a­tions</h3>,\n",
       " <h3 class=\"pi-data-label pi-secondary-font\"><a href=\"/wiki/Food#List_of_Special_Dishes\" title=\"Food\">Special Dish</a></h3>,\n",
       " <h3 class=\"pi-data-label pi-secondary-font\"><a href=\"/wiki/Namecard\" title=\"Namecard\">Namecard</a></h3>,\n",
       " <h3 class=\"pi-data-label pi-secondary-font\"><a href=\"#Availability\">How to Obtain</a></h3>,\n",
       " <h3 class=\"pi-data-label pi-secondary-font\"><a href=\"/wiki/Wish/List#Event_Wishes\" title=\"Wish/List\">Featured</a></h3>,\n",
       " <h3 class=\"pi-data-label pi-secondary-font\"><a href=\"/wiki/Character/List#Characters_by_Release_Date\" title=\"Character/List\">Release Date</a></h3>,\n",
       " <h3 class=\"pi-data-label pi-secondary-font\"><a href=\"/wiki/Genius_Invokation_TCG\" title=\"Genius Invokation TCG\">Genius Invokation TCG</a></h3>,\n",
       " <h3 class=\"pi-data-label pi-secondary-font\">Mother</h3>,\n",
       " <h3 class=\"pi-data-label pi-secondary-font\">Siblings</h3>,\n",
       " <h3 class=\"pi-data-label pi-secondary-font\">English</h3>,\n",
       " <h3 class=\"pi-data-label pi-secondary-font\">Chinese</h3>,\n",
       " <h3 class=\"pi-data-label pi-secondary-font\">Japanese</h3>,\n",
       " <h3 class=\"pi-data-label pi-secondary-font\">Korean</h3>,\n",
       " <h3><span class=\"mw-headline\" id=\"Ascensions_and_Stats\">Ascensions and Stats</span></h3>,\n",
       " <h3><span class=\"mw-headline\" id=\"Talents\">Talents</span></h3>,\n",
       " <h3><span class=\"mw-headline\" id=\"Constellation\">Constellation</span></h3>,\n",
       " <h3><span class=\"mw-headline\" id=\"Character_Event_Wishes\">Character Event Wishes</span></h3>,\n",
       " <h3><span class=\"mw-headline\" id=\"Chronicled_Wishes\">Chronicled Wishes</span></h3>,\n",
       " <h3 class=\"global-footer__section-header\">Explore properties</h3>,\n",
       " <h3 class=\"global-footer__section-header\">Follow Us</h3>,\n",
       " <h3 class=\"global-footer__section-header\">Overview</h3>,\n",
       " <h3 class=\"global-footer__section-header\">Community</h3>,\n",
       " <h3 class=\"global-footer__section-header\">Advertise</h3>,\n",
       " <h3 class=\"global-footer__section-header\">Fandom Apps</h3>]"
      ]
     },
     "execution_count": 79,
     "metadata": {},
     "output_type": "execute_result"
    }
   ],
   "source": [
    "#releasedate1 = soup_albedo.find_all(class_ = \"pi-data-value pi-font\")\n",
    "#releasedate1\n",
    "\n",
    "releasedate1 = soup_albedo.find_all(\"h3\")\n",
    "\n",
    "releasedate2 = [date.find(\"a\", title=\"Character/List\") for date in releasedate1]\n",
    "releasedate2 = [x for x in releasedate2 if x is not None]\n",
    "print(releasedate2)\n",
    "\n",
    "releasedate3 = [date.find_next_sibling(\"pi-data-value pi-font\") for date in releasedate2]\n",
    "print(releasedate3)\n",
    "\n",
    "releasedate1"
   ]
  },
  {
   "cell_type": "code",
   "execution_count": 108,
   "id": "d7654439",
   "metadata": {},
   "outputs": [
    {
     "name": "stdout",
     "output_type": "stream",
     "text": [
      "<div class=\"pi-item pi-data pi-item-spacing pi-border-color\" data-source=\"releaseDate\">\n",
      "<h3 class=\"pi-data-label pi-secondary-font\"><a href=\"/wiki/Character/List#Characters_by_Release_Date\" title=\"Character/List\">Release Date</a></h3>\n",
      "<div class=\"pi-data-value pi-font\">December 23, 2020<br/>3 years, 3 months ago</div>\n",
      "</div>\n",
      "December 23, 20203 years, 3 months ago\n"
     ]
    }
   ],
   "source": [
    "release_date_div = soup_albedo.find('div', {'data-source': 'releaseDate'})\n",
    "print(release_date_div)\n",
    "\n",
    "\n",
    "if release_date_div:\n",
    "    release_date_text = release_date_div.find('div', class_='pi-data-value').get_text(strip=True)\n",
    "    #split('</ div>')\n",
    "    \n",
    "    #.get_text(strip=True)\n",
    "    \n",
    "    #release_date_text = release_date_text.split('<br/>')[0]\n",
    "    \n",
    "    #for val in release_date_text:\n",
    "        \n",
    "    \n",
    "    print(release_date_text)\n",
    "else:\n",
    "    print(\"No release date found.\")"
   ]
  },
  {
   "cell_type": "code",
   "execution_count": 31,
   "id": "dcc05791",
   "metadata": {},
   "outputs": [
    {
     "ename": "IndexError",
     "evalue": "list index out of range",
     "output_type": "error",
     "traceback": [
      "\u001b[0;31m---------------------------------------------------------------------------\u001b[0m",
      "\u001b[0;31mIndexError\u001b[0m                                Traceback (most recent call last)",
      "Input \u001b[0;32mIn [31]\u001b[0m, in \u001b[0;36m<cell line: 1>\u001b[0;34m()\u001b[0m\n\u001b[0;32m----> 1\u001b[0m releasedate2 \u001b[38;5;241m=\u001b[39m [date\u001b[38;5;241m.\u001b[39mfind_all(data_source \u001b[38;5;241m=\u001b[39m \u001b[38;5;124m\"\u001b[39m\u001b[38;5;124mRelease Date\u001b[39m\u001b[38;5;124m\"\u001b[39m)[\u001b[38;5;241m0\u001b[39m] \u001b[38;5;28;01mfor\u001b[39;00m date \u001b[38;5;129;01min\u001b[39;00m releasedate1]\n",
      "Input \u001b[0;32mIn [31]\u001b[0m, in \u001b[0;36m<listcomp>\u001b[0;34m(.0)\u001b[0m\n\u001b[0;32m----> 1\u001b[0m releasedate2 \u001b[38;5;241m=\u001b[39m [\u001b[43mdate\u001b[49m\u001b[38;5;241;43m.\u001b[39;49m\u001b[43mfind_all\u001b[49m\u001b[43m(\u001b[49m\u001b[43mdata_source\u001b[49m\u001b[43m \u001b[49m\u001b[38;5;241;43m=\u001b[39;49m\u001b[43m \u001b[49m\u001b[38;5;124;43m\"\u001b[39;49m\u001b[38;5;124;43mRelease Date\u001b[39;49m\u001b[38;5;124;43m\"\u001b[39;49m\u001b[43m)\u001b[49m\u001b[43m[\u001b[49m\u001b[38;5;241;43m0\u001b[39;49m\u001b[43m]\u001b[49m \u001b[38;5;28;01mfor\u001b[39;00m date \u001b[38;5;129;01min\u001b[39;00m releasedate1]\n",
      "\u001b[0;31mIndexError\u001b[0m: list index out of range"
     ]
    }
   ],
   "source": [
    "#releasedate2 = [date.find_all(data_source = \"Release Date\")[0] for date in releasedate1]\n",
    "\n",
    "#releasedate2 = [date.find_all_next(\"Release Date\")[0] for date in releasedate1]\n",
    "#releasedate2"
   ]
  },
  {
   "cell_type": "code",
   "execution_count": 11,
   "id": "fbcff4a6",
   "metadata": {},
   "outputs": [],
   "source": [
    "#cons1 = soup_albedo.find_all(class_ = \"item constellation\")\n",
    "#cons2 = [con.parent for con in cons1] \n",
    "\n",
    "#cons2"
   ]
  },
  {
   "cell_type": "code",
   "execution_count": 12,
   "id": "41c26080",
   "metadata": {},
   "outputs": [],
   "source": [
    "#cons1.parents\n",
    "\n",
    "#cons_albedo = soup_albedo.find_all(\"span\", class_=\"item constellation\")\n",
    "\n",
    "#cons_albedo = soup_albedo.find_all(\"li\", class_=\"item constellation\")\n",
    "#cons_albedo"
   ]
  },
  {
   "cell_type": "code",
   "execution_count": 13,
   "id": "2b5be679",
   "metadata": {
    "scrolled": true
   },
   "outputs": [],
   "source": [
    "#soup_albedo_li = soup_albedo.find_all(\"li\")\n",
    "#soup_albedo_li"
   ]
  },
  {
   "cell_type": "code",
   "execution_count": 14,
   "id": "54f23311",
   "metadata": {},
   "outputs": [],
   "source": [
    "#div_list = []\n",
    "\n",
    "#for ul in soup_albedo.find_all('li'):\n",
    "#    div_list.extend(ul.find_all('span', {'class' : 'item constellation'}))\n",
    "\n",
    "#print(div_list)"
   ]
  },
  {
   "cell_type": "code",
   "execution_count": 15,
   "id": "b812efac",
   "metadata": {
    "scrolled": true
   },
   "outputs": [],
   "source": [
    "#for li in soup_albedo_li:\n",
    "#    if li:\n",
    "#        li_text = li.text.strip()\n",
    "#        print(li_text)\n",
    "#    else:\n",
    "#        print(\"None\")"
   ]
  },
  {
   "cell_type": "code",
   "execution_count": null,
   "id": "7c62345a",
   "metadata": {},
   "outputs": [],
   "source": []
  }
 ],
 "metadata": {
  "kernelspec": {
   "display_name": "Python 3 (ipykernel)",
   "language": "python",
   "name": "python3"
  },
  "language_info": {
   "codemirror_mode": {
    "name": "ipython",
    "version": 3
   },
   "file_extension": ".py",
   "mimetype": "text/x-python",
   "name": "python",
   "nbconvert_exporter": "python",
   "pygments_lexer": "ipython3",
   "version": "3.9.13"
  }
 },
 "nbformat": 4,
 "nbformat_minor": 5
}
