{
 "cells": [
  {
   "cell_type": "code",
   "execution_count": 1,
   "id": "6392af7c",
   "metadata": {},
   "outputs": [],
   "source": [
    "from bs4 import BeautifulSoup\n",
    "from urllib.request import urlopen\n",
    "import numpy as np\n",
    "import pandas as pd\n",
    "import matplotlib.pyplot as plt\n",
    "from datetime import datetime\n",
    "import requests"
   ]
  },
  {
   "cell_type": "markdown",
   "id": "0eb7684f",
   "metadata": {},
   "source": [
    "### Obtaining all Names"
   ]
  },
  {
   "cell_type": "code",
   "execution_count": 2,
   "id": "8ad02c34",
   "metadata": {},
   "outputs": [],
   "source": [
    "#urlnames = \"https://game8.co/games/Genshin-Impact/archives/296707\"\n",
    "\n",
    "#Web scraping the wikia for Genshin's playable character list.\n",
    "\n",
    "urlnames = \"https://genshin-impact.fandom.com/wiki/Category:Playable_Characters\"\n",
    "\n",
    "pagenames = requests.get(urlnames)\n",
    "\n",
    "soupname = BeautifulSoup(pagenames.text, \"html.parser\")"
   ]
  },
  {
   "cell_type": "code",
   "execution_count": 3,
   "id": "89161a5b",
   "metadata": {},
   "outputs": [],
   "source": [
    "#Obtaining list of all classes used in the \"Names\" web page for the Genshin Characters\n",
    "\n",
    "# class list set \n",
    "class_list = set() \n",
    "\n",
    "# Page content from Website URL \n",
    "page = requests.get(urlnames) \n",
    "\n",
    "# parse html content \n",
    "soup = BeautifulSoup(page.content , 'html.parser') \n",
    "\n",
    "# get all tags \n",
    "tags = {tag.name for tag in soup.find_all()} \n",
    "\n",
    "\n",
    "for tag in tags:                       # iterate all tags \n",
    "\n",
    "    for i in soup.find_all( tag ):     # find all element of tag \n",
    " \n",
    "        if i.has_attr( \"class\" ):      # if tag has attribute of class\n",
    "\n",
    "            if len( i['class'] ) != 0: \n",
    "                class_list.add(\" \".join( i['class'])) \n",
    "\n",
    "#print(class_list) "
   ]
  },
  {
   "cell_type": "code",
   "execution_count": 4,
   "id": "a05a2ec1",
   "metadata": {},
   "outputs": [],
   "source": [
    "#Scraping through to get the html, identifying which class and identifier to find the names\n",
    "\n",
    "imgtag = soupname.find_all(\"a\", class_=\"category-page__member-link\")\n",
    "#imgtag"
   ]
  },
  {
   "cell_type": "code",
   "execution_count": 5,
   "id": "f326d3b5",
   "metadata": {},
   "outputs": [
    {
     "name": "stdout",
     "output_type": "stream",
     "text": [
      "['Albedo', 'Alhaitham', 'Aloy', 'Amber', 'Arataki_Itto', 'Baizhu', 'Barbara', 'Beidou', 'Bennett', 'Candace', 'Charlotte', 'Chevreuse', 'Chiori', 'Chongyun', 'Collei', 'Cyno', 'Dehya', 'Diluc', 'Diona', 'Dori', 'Eula', 'Faruzan', 'Fischl', 'Freminet', 'Furina', 'Gaming', 'Ganyu', 'Gorou', 'Hu_Tao', 'Jean', 'Kaedehara_Kazuha', 'Kaeya', 'Kamisato_Ayaka', 'Kamisato_Ayato', 'Kaveh', 'Keqing', 'Kirara', 'Klee', 'Kujou_Sara', 'Kuki_Shinobu', 'Layla', 'Lisa', 'Lumine', 'Lynette', 'Lyney', 'Mika', 'Mona', 'Nahida', 'Navia', 'Neuvillette', 'Nilou', 'Ningguang', 'Noelle', 'Qiqi', 'Raiden_Shogun', 'Razor', 'Rosaria', 'Sangonomiya_Kokomi', 'Sayu', 'Shenhe', 'Shikanoin_Heizou', 'Sucrose', 'Tartaglia', 'Thoma', 'Tighnari', 'Traveler', 'Traveler_(Anemo)', 'Traveler_(Dendro)', 'Traveler_(Electro)', 'Traveler_(Geo)', 'Traveler_(Hydro)', 'Traveler_(Unaligned)', 'Venti', 'Wanderer', 'Wriothesley', 'Xiangling', 'Xianyun', 'Xiao', 'Xingqiu', 'Xinyan', 'Yae_Miko', 'Yanfei', 'Yaoyao', 'Yelan', 'Yoimiya', 'Yun_Jin', 'Zhongli']\n"
     ]
    }
   ],
   "source": [
    "#Converting the soup into a usable List\n",
    "\n",
    "type(imgtag)\n",
    "\n",
    "titles = [tag['title'] for tag in imgtag]\n",
    "characters = titles[6:]\n",
    "#display(characters)\n",
    "type(characters)\n",
    "\n",
    "\n",
    "#Replacing spaces with underscores for it to be usable in iterating through the wikia pages\n",
    "\n",
    "converter = lambda x: x.replace(' ', '_')\n",
    "characters = list(map(converter, characters))\n",
    "print(characters)"
   ]
  },
  {
   "cell_type": "markdown",
   "id": "19c8c0ce",
   "metadata": {},
   "source": [
    "### Testing with characters how to scrape the constellation data"
   ]
  },
  {
   "cell_type": "code",
   "execution_count": 6,
   "id": "a8c1266e",
   "metadata": {},
   "outputs": [],
   "source": [
    "#Web scraping and parsing only the albedo site. Utilise regex and loop.functions in the final to complete.\n",
    "\n",
    "url_chara = \"https://genshin-impact.fandom.com/wiki/\"+characters[76]\n",
    "\n",
    "page_chara = requests.get(url_chara)\n",
    "\n",
    "soup_chara = BeautifulSoup(page_chara.content, \"html.parser\")\n",
    "\n",
    "\n",
    "#Obtaining the constellation html info\n",
    "\n",
    "cons1 = soup_chara.find_all(class_ = \"item constellation\")\n",
    "cons2 = [con.find_parents(\"li\")[0] for con in cons1]\n",
    "cons2 = list(set(cons2))"
   ]
  },
  {
   "cell_type": "code",
   "execution_count": 7,
   "id": "ac1afa12",
   "metadata": {},
   "outputs": [
    {
     "data": {
      "text/plain": [
       "[<li>Constellation Level 6, <span class=\"item constellation\"><span class=\"item-image\"><span class=\"hidden\" style=\"height:20px;width:20px\"><a href=\"/wiki/They_Call_Her_Cloud_Retainer\" title=\"They Call Her Cloud Retainer\"><img alt=\"They Call Her Cloud Retainer\" class=\"lazyload\" data-image-key=\"Constellation_They_Call_Her_Cloud_Retainer.png\" data-image-name=\"Constellation They Call Her Cloud Retainer.png\" data-relevant=\"0\" data-src=\"https://static.wikia.nocookie.net/gensin-impact/images/2/2a/Constellation_They_Call_Her_Cloud_Retainer.png/revision/latest/scale-to-width-down/20?cb=20240131021435\" decoding=\"async\" height=\"20\" loading=\"lazy\" src=\"data:image/gif;base64,R0lGODlhAQABAIABAAAAAP///yH5BAEAAAEALAAAAAABAAEAQAICTAEAOw%3D%3D\" width=\"20\"/></a></span><span class=\"mobile-only\"><a href=\"/wiki/They_Call_Her_Cloud_Retainer\" title=\"They Call Her Cloud Retainer\"><img alt=\"They Call Her Cloud Retainer\" class=\"lazyload\" data-image-key=\"Constellation_They_Call_Her_Cloud_Retainer.png\" data-image-name=\"Constellation They Call Her Cloud Retainer.png\" data-relevant=\"0\" data-src=\"https://static.wikia.nocookie.net/gensin-impact/images/2/2a/Constellation_They_Call_Her_Cloud_Retainer.png/revision/latest/scale-to-width-down/30?cb=20240131021435\" decoding=\"async\" height=\"30\" loading=\"lazy\" src=\"data:image/gif;base64,R0lGODlhAQABAIABAAAAAP///yH5BAEAAAEALAAAAAABAAEAQAICTAEAOw%3D%3D\" width=\"30\"/></a></span></span><span class=\"item-text\"> <a href=\"/wiki/They_Call_Her_Cloud_Retainer\" title=\"They Call Her Cloud Retainer\">They Call Her Cloud Retainer</a></span></span>: \"After Xianyun uses 1/2/3 Skyladders within one Cloud Transmogrification caused by <a href=\"/wiki/White_Clouds_at_Dawn\" title=\"White Clouds at Dawn\">White Clouds at Dawn</a>, the CRIT DMG of a Driftcloud Wave created in this instance of Cloud Transmogrification will be increased by 15%/35%/70%. Within 16s after Xianyun has used <a href=\"/wiki/Stars_Gather_at_Dusk\" title=\"Stars Gather at Dusk\">Stars Gather at Dusk</a>, White Clouds at Dawn will not enter CD. This effect will be canceled once she has used White Clouds at Dawn 8 times.\"</li>,\n",
       " <li>Constellation Level 1, <span class=\"item constellation\"><span class=\"item-image\"><span class=\"hidden\" style=\"height:20px;width:20px\"><a href=\"/wiki/Purifying_Wind\" title=\"Purifying Wind\"><img alt=\"Purifying Wind\" class=\"lazyload\" data-image-key=\"Constellation_Purifying_Wind.png\" data-image-name=\"Constellation Purifying Wind.png\" data-relevant=\"0\" data-src=\"https://static.wikia.nocookie.net/gensin-impact/images/1/15/Constellation_Purifying_Wind.png/revision/latest/scale-to-width-down/20?cb=20240131020405\" decoding=\"async\" height=\"20\" loading=\"lazy\" src=\"data:image/gif;base64,R0lGODlhAQABAIABAAAAAP///yH5BAEAAAEALAAAAAABAAEAQAICTAEAOw%3D%3D\" width=\"20\"/></a></span><span class=\"mobile-only\"><a href=\"/wiki/Purifying_Wind\" title=\"Purifying Wind\"><img alt=\"Purifying Wind\" class=\"lazyload\" data-image-key=\"Constellation_Purifying_Wind.png\" data-image-name=\"Constellation Purifying Wind.png\" data-relevant=\"0\" data-src=\"https://static.wikia.nocookie.net/gensin-impact/images/1/15/Constellation_Purifying_Wind.png/revision/latest/scale-to-width-down/30?cb=20240131020405\" decoding=\"async\" height=\"30\" loading=\"lazy\" src=\"data:image/gif;base64,R0lGODlhAQABAIABAAAAAP///yH5BAEAAAEALAAAAAABAAEAQAICTAEAOw%3D%3D\" width=\"30\"/></a></span></span><span class=\"item-text\"> <a href=\"/wiki/Purifying_Wind\" title=\"Purifying Wind\">Purifying Wind</a></span></span>: \"<a href=\"/wiki/White_Clouds_at_Dawn\" title=\"White Clouds at Dawn\">White Clouds at Dawn</a> gains 1 additional charge.\"</li>,\n",
       " <li>Constellation Level 2, <span class=\"item constellation\"><span class=\"item-image\"><span class=\"hidden\" style=\"height:20px;width:20px\"><a href=\"/wiki/Aloof_From_the_World\" title=\"Aloof From the World\"><img alt=\"Aloof From the World\" class=\"lazyload\" data-image-key=\"Constellation_Aloof_From_the_World.png\" data-image-name=\"Constellation Aloof From the World.png\" data-relevant=\"0\" data-src=\"https://static.wikia.nocookie.net/gensin-impact/images/8/87/Constellation_Aloof_From_the_World.png/revision/latest/scale-to-width-down/20?cb=20240131020355\" decoding=\"async\" height=\"20\" loading=\"lazy\" src=\"data:image/gif;base64,R0lGODlhAQABAIABAAAAAP///yH5BAEAAAEALAAAAAABAAEAQAICTAEAOw%3D%3D\" width=\"20\"/></a></span><span class=\"mobile-only\"><a href=\"/wiki/Aloof_From_the_World\" title=\"Aloof From the World\"><img alt=\"Aloof From the World\" class=\"lazyload\" data-image-key=\"Constellation_Aloof_From_the_World.png\" data-image-name=\"Constellation Aloof From the World.png\" data-relevant=\"0\" data-src=\"https://static.wikia.nocookie.net/gensin-impact/images/8/87/Constellation_Aloof_From_the_World.png/revision/latest/scale-to-width-down/30?cb=20240131020355\" decoding=\"async\" height=\"30\" loading=\"lazy\" src=\"data:image/gif;base64,R0lGODlhAQABAIABAAAAAP///yH5BAEAAAEALAAAAAABAAEAQAICTAEAOw%3D%3D\" width=\"30\"/></a></span></span><span class=\"item-text\"> <a href=\"/wiki/Aloof_From_the_World\" title=\"Aloof From the World\">Aloof From the World</a></span></span>: \"After using a Skyladder from <a href=\"/wiki/White_Clouds_at_Dawn\" title=\"White Clouds at Dawn\">White Clouds at Dawn</a>, Xianyun's ATK will be increased by 20% for 15s. Additionally, the effects of the Passive Talent '<a href=\"/wiki/Consider,_the_Adeptus_in_Her_Realm\" title=\"Consider, the Adeptus in Her Realm\">Consider, the Adeptus in Her Realm</a>' will be enhanced: When the Starwicker created by <a href=\"/wiki/Stars_Gather_at_Dusk\" title=\"Stars Gather at Dusk\">Stars Gather at Dusk</a> has Adeptal Assistance stacks, nearby active characters' Plunging Attack shockwave DMG will be increased by 400% of Xianyun's ATK. The maximum DMG increase that can be achieved this way is 18,000. Each Plunging Attack shockwave DMG instance can only apply this increased DMG effect to a single opponent. Each character can trigger this effect once every 0.4s. You must first unlock the Passive Talent 'Consider, the Adeptus in Her Realm.'\"</li>,\n",
       " <li>Constellation Level 4, <span class=\"item constellation\"><span class=\"item-image\"><span class=\"hidden\" style=\"height:20px;width:20px\"><a href=\"/wiki/Mystery_Millet_Gourmet\" title=\"Mystery Millet Gourmet\"><img alt=\"Mystery Millet Gourmet\" class=\"lazyload\" data-image-key=\"Constellation_Mystery_Millet_Gourmet.png\" data-image-name=\"Constellation Mystery Millet Gourmet.png\" data-relevant=\"0\" data-src=\"https://static.wikia.nocookie.net/gensin-impact/images/6/68/Constellation_Mystery_Millet_Gourmet.png/revision/latest/scale-to-width-down/20?cb=20240131020403\" decoding=\"async\" height=\"20\" loading=\"lazy\" src=\"data:image/gif;base64,R0lGODlhAQABAIABAAAAAP///yH5BAEAAAEALAAAAAABAAEAQAICTAEAOw%3D%3D\" width=\"20\"/></a></span><span class=\"mobile-only\"><a href=\"/wiki/Mystery_Millet_Gourmet\" title=\"Mystery Millet Gourmet\"><img alt=\"Mystery Millet Gourmet\" class=\"lazyload\" data-image-key=\"Constellation_Mystery_Millet_Gourmet.png\" data-image-name=\"Constellation Mystery Millet Gourmet.png\" data-relevant=\"0\" data-src=\"https://static.wikia.nocookie.net/gensin-impact/images/6/68/Constellation_Mystery_Millet_Gourmet.png/revision/latest/scale-to-width-down/30?cb=20240131020403\" decoding=\"async\" height=\"30\" loading=\"lazy\" src=\"data:image/gif;base64,R0lGODlhAQABAIABAAAAAP///yH5BAEAAAEALAAAAAABAAEAQAICTAEAOw%3D%3D\" width=\"30\"/></a></span></span><span class=\"item-text\"> <a href=\"/wiki/Mystery_Millet_Gourmet\" title=\"Mystery Millet Gourmet\">Mystery Millet Gourmet</a></span></span>: \"After using Skyladder 1/2/3 times during one <a href=\"/wiki/White_Clouds_at_Dawn\" title=\"White Clouds at Dawn\">White Clouds at Dawn</a> Cloud Transmogrification state, when a Driftcloud Wave unleashed during that instance hits an opponent, it will heal all nearby party members for 50%/80%/150% of Xianyun's ATK. This effect can be triggered once every 5s.\"</li>,\n",
       " <li>Constellation Level 3, <span class=\"item constellation\"><span class=\"item-image\"><span class=\"hidden\" style=\"height:20px;width:20px\"><a href=\"/wiki/Creations_of_Star_and_Moon\" title=\"Creations of Star and Moon\"><img alt=\"Creations of Star and Moon\" class=\"lazyload\" data-image-key=\"Constellation_Creations_of_Star_and_Moon.png\" data-image-name=\"Constellation Creations of Star and Moon.png\" data-relevant=\"0\" data-src=\"https://static.wikia.nocookie.net/gensin-impact/images/4/45/Constellation_Creations_of_Star_and_Moon.png/revision/latest/scale-to-width-down/20?cb=20240131020401\" decoding=\"async\" height=\"20\" loading=\"lazy\" src=\"data:image/gif;base64,R0lGODlhAQABAIABAAAAAP///yH5BAEAAAEALAAAAAABAAEAQAICTAEAOw%3D%3D\" width=\"20\"/></a></span><span class=\"mobile-only\"><a href=\"/wiki/Creations_of_Star_and_Moon\" title=\"Creations of Star and Moon\"><img alt=\"Creations of Star and Moon\" class=\"lazyload\" data-image-key=\"Constellation_Creations_of_Star_and_Moon.png\" data-image-name=\"Constellation Creations of Star and Moon.png\" data-relevant=\"0\" data-src=\"https://static.wikia.nocookie.net/gensin-impact/images/4/45/Constellation_Creations_of_Star_and_Moon.png/revision/latest/scale-to-width-down/30?cb=20240131020401\" decoding=\"async\" height=\"30\" loading=\"lazy\" src=\"data:image/gif;base64,R0lGODlhAQABAIABAAAAAP///yH5BAEAAAEALAAAAAABAAEAQAICTAEAOw%3D%3D\" width=\"30\"/></a></span></span><span class=\"item-text\"> <a href=\"/wiki/Creations_of_Star_and_Moon\" title=\"Creations of Star and Moon\">Creations of Star and Moon</a></span></span>: Increases this talent's level by 3, up to a maximum of 15.</li>,\n",
       " <li>Constellation Level 5, <span class=\"item constellation\"><span class=\"item-image\"><span class=\"hidden\" style=\"height:20px;width:20px\"><a href=\"/wiki/Astride_Rose-Colored_Clouds\" title=\"Astride Rose-Colored Clouds\"><img alt=\"Astride Rose-Colored Clouds\" class=\"lazyload\" data-image-key=\"Constellation_Astride_Rose-Colored_Clouds.png\" data-image-name=\"Constellation Astride Rose-Colored Clouds.png\" data-relevant=\"0\" data-src=\"https://static.wikia.nocookie.net/gensin-impact/images/9/92/Constellation_Astride_Rose-Colored_Clouds.png/revision/latest/scale-to-width-down/20?cb=20240131020357\" decoding=\"async\" height=\"20\" loading=\"lazy\" src=\"data:image/gif;base64,R0lGODlhAQABAIABAAAAAP///yH5BAEAAAEALAAAAAABAAEAQAICTAEAOw%3D%3D\" width=\"20\"/></a></span><span class=\"mobile-only\"><a href=\"/wiki/Astride_Rose-Colored_Clouds\" title=\"Astride Rose-Colored Clouds\"><img alt=\"Astride Rose-Colored Clouds\" class=\"lazyload\" data-image-key=\"Constellation_Astride_Rose-Colored_Clouds.png\" data-image-name=\"Constellation Astride Rose-Colored Clouds.png\" data-relevant=\"0\" data-src=\"https://static.wikia.nocookie.net/gensin-impact/images/9/92/Constellation_Astride_Rose-Colored_Clouds.png/revision/latest/scale-to-width-down/30?cb=20240131020357\" decoding=\"async\" height=\"30\" loading=\"lazy\" src=\"data:image/gif;base64,R0lGODlhAQABAIABAAAAAP///yH5BAEAAAEALAAAAAABAAEAQAICTAEAOw%3D%3D\" width=\"30\"/></a></span></span><span class=\"item-text\"> <a href=\"/wiki/Astride_Rose-Colored_Clouds\" title=\"Astride Rose-Colored Clouds\">Astride Rose-Colored Clouds</a></span></span>: Increases this talent's level by 3, up to a maximum of 15.</li>]"
      ]
     },
     "execution_count": 7,
     "metadata": {},
     "output_type": "execute_result"
    }
   ],
   "source": [
    "cons2"
   ]
  },
  {
   "cell_type": "code",
   "execution_count": 8,
   "id": "a0b4d9f1",
   "metadata": {},
   "outputs": [],
   "source": [
    "#Obtaining list of all classes used in Character's html page\n",
    "\n",
    "# class list set \n",
    "class_list = set() \n",
    "\n",
    "# Page content from Website URL \n",
    "page = requests.get(url_chara) \n",
    "\n",
    "# parse html content \n",
    "soup = BeautifulSoup(page.content , 'html.parser') \n",
    "\n",
    "# get all tags \n",
    "tags = {tag.name for tag in soup.find_all()} \n",
    "\n",
    "\n",
    "for tag in tags:                       # iterate all tags \n",
    "\n",
    "    for i in soup.find_all( tag ):     # find all element of tag \n",
    " \n",
    "        if i.has_attr( \"class\" ):      # if tag has attribute of class\n",
    "\n",
    "            if len( i['class'] ) != 0: \n",
    "                class_list.add(\" \".join( i['class'])) "
   ]
  },
  {
   "cell_type": "code",
   "execution_count": 9,
   "id": "14e39ef2",
   "metadata": {},
   "outputs": [],
   "source": [
    "#print(class_list) "
   ]
  },
  {
   "cell_type": "code",
   "execution_count": 10,
   "id": "6728f173",
   "metadata": {},
   "outputs": [],
   "source": [
    "#Creating a list of the character's constellations.\n",
    "\n",
    "cons3 = []\n",
    "\n",
    "for data in cons2:\n",
    "    \n",
    "    #soup = BeautifulSoup(data, 'html.parser')\n",
    "    #print(type(data))\n",
    "    #li_tag = data.find('li')\n",
    "    \n",
    "    if data:\n",
    "        data = data.text.strip()\n",
    "        #print(data)\n",
    "        cons3.append(data)\n",
    "    else:\n",
    "        print(\"No tag found.\")"
   ]
  },
  {
   "cell_type": "code",
   "execution_count": 11,
   "id": "cba53668",
   "metadata": {},
   "outputs": [
    {
     "name": "stdout",
     "output_type": "stream",
     "text": [
      "['Constellation Level 6,  They Call Her Cloud Retainer: \"After Xianyun uses 1/2/3 Skyladders within one Cloud Transmogrification caused by White Clouds at Dawn, the CRIT DMG of a Driftcloud Wave created in this instance of Cloud Transmogrification will be increased by 15%/35%/70%. Within 16s after Xianyun has used Stars Gather at Dusk, White Clouds at Dawn will not enter CD. This effect will be canceled once she has used White Clouds at Dawn 8 times.\"', 'Constellation Level 1,  Purifying Wind: \"White Clouds at Dawn gains 1 additional charge.\"', 'Constellation Level 2,  Aloof From the World: \"After using a Skyladder from White Clouds at Dawn, Xianyun\\'s ATK will be increased by 20% for 15s. Additionally, the effects of the Passive Talent \\'Consider, the Adeptus in Her Realm\\' will be enhanced: When the Starwicker created by Stars Gather at Dusk has Adeptal Assistance stacks, nearby active characters\\' Plunging Attack shockwave DMG will be increased by 400% of Xianyun\\'s ATK. The maximum DMG increase that can be achieved this way is 18,000. Each Plunging Attack shockwave DMG instance can only apply this increased DMG effect to a single opponent. Each character can trigger this effect once every 0.4s. You must first unlock the Passive Talent \\'Consider, the Adeptus in Her Realm.\\'\"', 'Constellation Level 4,  Mystery Millet Gourmet: \"After using Skyladder 1/2/3 times during one White Clouds at Dawn Cloud Transmogrification state, when a Driftcloud Wave unleashed during that instance hits an opponent, it will heal all nearby party members for 50%/80%/150% of Xianyun\\'s ATK. This effect can be triggered once every 5s.\"', \"Constellation Level 3,  Creations of Star and Moon: Increases this talent's level by 3, up to a maximum of 15.\", \"Constellation Level 5,  Astride Rose-Colored Clouds: Increases this talent's level by 3, up to a maximum of 15.\"]\n"
     ]
    }
   ],
   "source": [
    "print(cons3)"
   ]
  },
  {
   "cell_type": "code",
   "execution_count": 12,
   "id": "16ae2235",
   "metadata": {},
   "outputs": [
    {
     "name": "stdout",
     "output_type": "stream",
     "text": [
      "Release Date: 2024-01-31\n"
     ]
    }
   ],
   "source": [
    "#Obtaining the release date of the Character\n",
    "\n",
    "release_date_div = soup_chara.find('div', {'data-source': 'releaseDate'})\n",
    "\n",
    "#print(release_date_div)\n",
    "\n",
    "\n",
    "if release_date_div:\n",
    "    release_date_text = release_date_div.find('div', class_='pi-data-value')\n",
    "    release_date_text = release_date_text.get_text(strip=True).split(' ')\n",
    "    \n",
    "    #print(release_date_text)\n",
    "    #str(release_date_text)\n",
    "        \n",
    "    output = release_date_text[0:3]\n",
    "    \n",
    "    if len(output) >= 3:  # Check if there are at least 3 elements in the list\n",
    "        output[2] = output[2][:-1]\n",
    "\n",
    "    output = ' '.join(output)\n",
    "    output = datetime.strptime(output, \"%B %d, %Y\").date()\n",
    "    \n",
    "    #output\n",
    "    \n",
    "    print(\"Release Date:\", output)\n",
    "    \n",
    "else:\n",
    "    print(\"No release date found.\")"
   ]
  },
  {
   "cell_type": "code",
   "execution_count": null,
   "id": "4cc4f811",
   "metadata": {},
   "outputs": [],
   "source": []
  }
 ],
 "metadata": {
  "kernelspec": {
   "display_name": "Python 3 (ipykernel)",
   "language": "python",
   "name": "python3"
  },
  "language_info": {
   "codemirror_mode": {
    "name": "ipython",
    "version": 3
   },
   "file_extension": ".py",
   "mimetype": "text/x-python",
   "name": "python",
   "nbconvert_exporter": "python",
   "pygments_lexer": "ipython3",
   "version": "3.9.13"
  }
 },
 "nbformat": 4,
 "nbformat_minor": 5
}
