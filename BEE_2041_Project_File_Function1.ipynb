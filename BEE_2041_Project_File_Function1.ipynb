{
 "cells": [
  {
   "cell_type": "code",
   "execution_count": 60,
   "id": "6392af7c",
   "metadata": {},
   "outputs": [],
   "source": [
    "from bs4 import BeautifulSoup\n",
    "from urllib.request import urlopen\n",
    "import numpy as np\n",
    "import pandas as pd\n",
    "import matplotlib.pyplot as plt\n",
    "from datetime import datetime\n",
    "import requests"
   ]
  },
  {
   "cell_type": "markdown",
   "id": "0eb7684f",
   "metadata": {},
   "source": [
    "### Obtaining all Names (Wikia)"
   ]
  },
  {
   "cell_type": "code",
   "execution_count": 50,
   "id": "8ad02c34",
   "metadata": {},
   "outputs": [],
   "source": [
    "#urlnames = \"https://game8.co/games/Genshin-Impact/archives/296707\"\n",
    "\n",
    "#Web scraping the wikia for Genshin's playable character list.\n",
    "\n",
    "urlnames_wk = \"https://genshin-impact.fandom.com/wiki/Category:Playable_Characters\"\n",
    "\n",
    "pagenames_wk = requests.get(urlnames_wk)\n",
    "\n",
    "soupname_wk = BeautifulSoup(pagenames_wk.text, \"html.parser\")"
   ]
  },
  {
   "cell_type": "code",
   "execution_count": 51,
   "id": "a05a2ec1",
   "metadata": {},
   "outputs": [],
   "source": [
    "#Scraping through to get the html, identifying which class and identifier to find the names\n",
    "\n",
    "imgtag_wk = soupname_wk.find_all(\"a\", class_=\"category-page__member-link\")\n",
    "#imgtag"
   ]
  },
  {
   "cell_type": "code",
   "execution_count": 53,
   "id": "f326d3b5",
   "metadata": {},
   "outputs": [
    {
     "name": "stdout",
     "output_type": "stream",
     "text": [
      "['Albedo', 'Alhaitham', 'Aloy', 'Amber', 'Arataki_Itto', 'Baizhu', 'Barbara', 'Beidou', 'Bennett', 'Candace', 'Charlotte', 'Chevreuse', 'Chiori', 'Chongyun', 'Collei', 'Cyno', 'Dehya', 'Diluc', 'Diona', 'Dori', 'Eula', 'Faruzan', 'Fischl', 'Freminet', 'Furina', 'Gaming', 'Ganyu', 'Gorou', 'Hu_Tao', 'Jean', 'Kaedehara_Kazuha', 'Kaeya', 'Kamisato_Ayaka', 'Kamisato_Ayato', 'Kaveh', 'Keqing', 'Kirara', 'Klee', 'Kujou_Sara', 'Kuki_Shinobu', 'Layla', 'Lisa', 'Lumine', 'Lynette', 'Lyney', 'Mika', 'Mona', 'Nahida', 'Navia', 'Neuvillette', 'Nilou', 'Ningguang', 'Noelle', 'Qiqi', 'Raiden_Shogun', 'Razor', 'Rosaria', 'Sangonomiya_Kokomi', 'Sayu', 'Shenhe', 'Shikanoin_Heizou', 'Sucrose', 'Tartaglia', 'Thoma', 'Tighnari', 'Traveler', 'Traveler_(Anemo)', 'Traveler_(Dendro)', 'Traveler_(Electro)', 'Traveler_(Geo)', 'Traveler_(Hydro)', 'Traveler_(Unaligned)', 'Venti', 'Wanderer', 'Wriothesley', 'Xiangling', 'Xianyun', 'Xiao', 'Xingqiu', 'Xinyan', 'Yae_Miko', 'Yanfei', 'Yaoyao', 'Yelan', 'Yoimiya', 'Yun_Jin', 'Zhongli']\n"
     ]
    }
   ],
   "source": [
    "#Converting the soup into a usable List\n",
    "\n",
    "type(imgtag_wk)\n",
    "\n",
    "titles = [tag['title'] for tag in imgtag_wk]\n",
    "characters = titles[6:]\n",
    "#display(characters)\n",
    "type(characters)\n",
    "\n",
    "\n",
    "#Replacing spaces with underscores for it to be usable in iterating through the wikia pages\n",
    "\n",
    "converter = lambda x: x.replace(' ', '_')\n",
    "characters_wk = list(map(converter, characters_wk))\n",
    "print(characters_wk)"
   ]
  },
  {
   "cell_type": "markdown",
   "id": "4cd05956",
   "metadata": {},
   "source": [
    "### Obtaining All Names (gg)"
   ]
  },
  {
   "cell_type": "code",
   "execution_count": 49,
   "id": "bc5fffcd",
   "metadata": {},
   "outputs": [],
   "source": [
    "#Web scraping the wikia for Genshin's playable character list.\n",
    "\n",
    "urlnames_gg = \"https://genshin.gg/\"\n",
    "\n",
    "pagenames_gg = requests.get(urlnames_gg)\n",
    "\n",
    "soupname_gg = BeautifulSoup(pagenames_gg.text, \"html.parser\")"
   ]
  },
  {
   "cell_type": "code",
   "execution_count": 57,
   "id": "ff9e584f",
   "metadata": {},
   "outputs": [],
   "source": [
    "#Scraping through to get the html, identifying which class and identifier to find the names\n",
    "\n",
    "imgtag_gg = soupname_gg.find_all(\"h2\", class_= \"character-name\")\n",
    "#imgtag_gg"
   ]
  },
  {
   "cell_type": "code",
   "execution_count": 59,
   "id": "509af59a",
   "metadata": {},
   "outputs": [
    {
     "name": "stdout",
     "output_type": "stream",
     "text": [
      "['albedo', 'alhaitham', 'aloy', 'ayaka', 'ayato', 'baizhu', 'childe', 'chiori', 'cyno', 'dehya', 'diluc', 'eula', 'furina', 'ganyu', 'hutao', 'itto', 'jean', 'kazuha', 'keqing', 'klee', 'kokomi', 'lyney', 'mona', 'nahida', 'navia', 'neuvillette', 'nilou', 'qiqi', 'raiden', 'shenhe', 'tighnari', 'traveler(anemo)', 'traveler(dendro)', 'traveler(electro)', 'traveler(geo)', 'traveler(hydro)', 'venti', 'wanderer', 'wriothesley', 'xianyun', 'xiao', 'yaemiko', 'yelan', 'yoimiya', 'zhongli', 'amber', 'barbara', 'beidou', 'bennett', 'candace', 'charlotte', 'chevreuse', 'chongyun', 'collei', 'diona', 'dori', 'faruzan', 'fischl', 'freminet', 'gaming', 'gorou', 'heizou', 'kaeya', 'kaveh', 'kirara', 'kukishinobu', 'layla', 'lisa', 'lynette', 'mika', 'ningguang', 'noelle', 'razor', 'rosaria', 'sara', 'sayu', 'sucrose', 'thoma', 'xiangling', 'xingqiu', 'xinyan', 'yanfei', 'yaoyao', 'yunjin']\n"
     ]
    }
   ],
   "source": [
    "characters_gg = [element.get_text() for element in imgtag_gg]\n",
    "#characters\n",
    "\n",
    "def process_names(names_list):\n",
    "    return [name.replace(\" \", \"\").lower() for name in names_list]\n",
    "\n",
    "characters_gg = process_names(characters_gg)\n",
    "print(characters_gg)"
   ]
  },
  {
   "cell_type": "markdown",
   "id": "19c8c0ce",
   "metadata": {},
   "source": [
    "### Testing with characters how to scrape the constellation data"
   ]
  },
  {
   "cell_type": "code",
   "execution_count": 61,
   "id": "a8c1266e",
   "metadata": {},
   "outputs": [
    {
     "ename": "TypeError",
     "evalue": "'str' object does not support item assignment",
     "output_type": "error",
     "traceback": [
      "\u001b[0;31m---------------------------------------------------------------------------\u001b[0m",
      "\u001b[0;31mTypeError\u001b[0m                                 Traceback (most recent call last)",
      "Input \u001b[0;32mIn [61]\u001b[0m, in \u001b[0;36m<cell line: 6>\u001b[0;34m()\u001b[0m\n\u001b[1;32m     37\u001b[0m     output \u001b[38;5;241m=\u001b[39m release_date_text[\u001b[38;5;241m0\u001b[39m:\u001b[38;5;241m3\u001b[39m]\n\u001b[1;32m     39\u001b[0m \u001b[38;5;28;01mif\u001b[39;00m \u001b[38;5;28mlen\u001b[39m(output) \u001b[38;5;241m>\u001b[39m\u001b[38;5;241m=\u001b[39m \u001b[38;5;241m3\u001b[39m:  \u001b[38;5;66;03m# Check if there are at least 3 elements in the list\u001b[39;00m\n\u001b[0;32m---> 40\u001b[0m     output[\u001b[38;5;241m2\u001b[39m] \u001b[38;5;241m=\u001b[39m output[\u001b[38;5;241m2\u001b[39m][:\u001b[38;5;241m-\u001b[39m\u001b[38;5;241m1\u001b[39m]\n\u001b[1;32m     42\u001b[0m     output \u001b[38;5;241m=\u001b[39m \u001b[38;5;124m'\u001b[39m\u001b[38;5;124m \u001b[39m\u001b[38;5;124m'\u001b[39m\u001b[38;5;241m.\u001b[39mjoin(output)\n\u001b[1;32m     43\u001b[0m     output \u001b[38;5;241m=\u001b[39m datetime\u001b[38;5;241m.\u001b[39mstrptime(output, \u001b[38;5;124m\"\u001b[39m\u001b[38;5;124m%\u001b[39m\u001b[38;5;124mB \u001b[39m\u001b[38;5;132;01m%d\u001b[39;00m\u001b[38;5;124m, \u001b[39m\u001b[38;5;124m%\u001b[39m\u001b[38;5;124mY\u001b[39m\u001b[38;5;124m\"\u001b[39m)\u001b[38;5;241m.\u001b[39mdate()\n",
      "\u001b[0;31mTypeError\u001b[0m: 'str' object does not support item assignment"
     ]
    }
   ],
   "source": [
    "#Web scraping and parsing the character's site. Utilise regex and loop.functions in the final to complete.\n",
    "\n",
    "characters_test = characters[0:15]\n",
    "cons_dict = {}\n",
    "\n",
    "for names in characters_test:\n",
    "    \n",
    "    url_chara = \"https://genshin-impact.fandom.com/wiki/\"+names\n",
    "    page_chara = requests.get(url_chara)\n",
    "    soup_chara = BeautifulSoup(page_chara.content, \"html.parser\")\n",
    " \n",
    "    #Obtaining the constellation html info\n",
    "\n",
    "    cons1 = soup_chara.find_all(class_ = \"item constellation\")\n",
    "    cons2 = [con.find_parents(\"li\")[0] for con in cons1]\n",
    "    cons2 = list(set(cons2))\n",
    "    \n",
    "    cons3 = []\n",
    "\n",
    "    for data in cons2:    \n",
    "#        if data:\n",
    "        data = data.text.strip()\n",
    "        \n",
    "        cons3.append(data)\n",
    "#        else:\n",
    "#            print(\"No tag found.\")\n",
    "    \n",
    "    \n",
    "    \n",
    "    #Obtaining the release date of the Character\n",
    "\n",
    "    release_date_div = soup_chara.find('div', {'data-source': 'releaseDate'})\n",
    "\n",
    "    if release_date_div:\n",
    "        release_date_text = release_date_div.find('div', class_='pi-data-value')\n",
    "        release_date_text = release_date_text.get_text(strip=True).split(' ')\n",
    "        output = release_date_text[0:3]\n",
    "    \n",
    "    if len(output) >= 3:  # Check if there are at least 3 elements in the list\n",
    "        output[2] = output[2][:-1]\n",
    "\n",
    "        output = ' '.join(output)\n",
    "        output = datetime.strptime(output, \"%B %d, %Y\").date()\n",
    "        \n",
    "#    else:\n",
    "#        print(\"No release date found.\")\n",
    "    \n",
    "        cons_dict.update({output: cons3})"
   ]
  },
  {
   "cell_type": "code",
   "execution_count": 43,
   "id": "aa2760ff",
   "metadata": {},
   "outputs": [
    {
     "data": {
      "text/plain": [
       "{datetime.date(2020, 12, 23): ['Constellation Level 1,  Flower of Eden: \"Transient Blossoms generated by Albedo\\'s Abiogenesis: Solar Isotoma regenerate 1.2 Energy for Albedo.\"',\n",
       "  'Constellation Level 6,  Dust of Purification: \"Active party members within the Solar Isotoma field who are protected by a shield created by Crystallize have their DMG increased by 17%.\"',\n",
       "  'Constellation Level 4,  Descent of Divinity: \"Active party members within the Solar Isotoma field have their Plunging Attack DMG increased by 30%.\"',\n",
       "  \"Constellation Level 2,  Opening of Phanerozoic: Albedo gains one stack of Fatal Reckoning for each Transient Blossom generated from Abiogenesis: Solar Isotoma, up to a maximum of 4 stacks. Upon using Rite of Progeniture: Tectonic Tide, all stacks of Fatal Reckoning are consumed, with each stack consumed increasing all damage dealt by Rite of Progeniture: Tectonic Tide (including Fatal Blossom damage) by 30% of Albedo's DEF.\",\n",
       "  \"Constellation Level 5,  Tide of Hadean: Increases this talent's level by 3, up to a maximum of 15.\",\n",
       "  \"Constellation Level 3,  Grace of Helios: Increases this talent's level by 3, up to a maximum of 15.\",\n",
       "  \"Constellation Level 2,  Opening of Phanerozoic: Albedo gains one stack of Fatal Reckoning for each Transient Blossom generated from Abiogenesis: Solar Isotoma, up to a maximum of 4 stacks. Upon using Rite of Progeniture: Tectonic Tide, all stacks of Fatal Reckoning are consumed, with each stack consumed increasing all damage dealt by Rite of Progeniture: Tectonic Tide (including Fatal Blossom damage) by 30% of Albedo's DEF.\"],\n",
       " datetime.date(2023, 1, 18): ['Constellation Level 1,  Intuition: \"When a Projection Attack hits an opponent, Universality: An Elaboration on Form\\'s CD is decreased by 1.2s. This effect can be triggered once every 1s.\"',\n",
       "  'Constellation Level 4,  Elucidation: After casting this talent, grants nearby party members 30 Elemental Mastery per Chisel-Light Mirror consumed and Alhaitham 10% Dendro DMG Bonus per Mirror generated. These buffs last for 15 seconds after the Mirrors are consumed or generated.',\n",
       "  \"Constellation Level 3,  Negation: Increases this talent's level by 3, up to a maximum of 15.\",\n",
       "  \"Constellation Level 5,  Sagacity: Increases this talent's level by 3, up to a maximum of 15.\",\n",
       "  \"Constellation Level 6,  Structuration: Changes the number of Chisel-Light Mirrors generated after casting this talent to always be 3, regardless of how many were consumed.\\nAdditionally, generating Chisel-Light Mirrors when 3 already exist will now increase Alhaitham's CRIT Rate and CRIT DMG by 10% and 70% respectively for 6s.\",\n",
       "  'Constellation Level 6,  Structuration: \"Alhaitham gains the following effects:2 seconds after Particular Field: Fetters of Phenomena is unleashed, he will generate 3 Chisel-Light Mirrors regardless of the number of mirrors consumed.If Alhaitham generates Chisel-Light Mirrors when their numbers have already maxed out, his CRIT Rate and CRIT DMG will increase by 10% and 70% respectively for 6s. If this effect is triggered again during its initial duration, the duration remaining will be increased by 6s.\"',\n",
       "  'Constellation Level 2,  Debate: \"When Alhaitham generates a Chisel-Light Mirror, his Elemental Mastery will be increased by 50 for 8 seconds, max 4 stacks. Each stack\\'s duration is counted independently. This effect can be triggered even when the maximum number of Chisel-Light Mirrors has been reached.\"'],\n",
       " datetime.date(2021, 9, 1): [],\n",
       " datetime.date(2020, 9, 28): ['Constellation Level 1,  One Arrow to Rule Them All: \"Fires 2 arrows per Aimed Shot. The second arrow deals 20% of the first arrow\\'s DMG.\"',\n",
       "  \"Constellation Level 5,  It's Baron Bunny!: Increases this talent's level by 3, up to a maximum of 15.\",\n",
       "  'Constellation Level 2,  Bunny Triggered: \"Baron Bunny, new and improved! Hitting Baron Bunny\\'s foot with a fully-charged Aimed Shot manually detonates it. Explosion via manual detonation deals 200% additional DMG.\"',\n",
       "  'Constellation Level 4,  It\\'s Not Just Any Doll...: \"Decreases Explosive Puppet\\'s CD by 20%. Adds 1 additional charge.\"',\n",
       "  \"Constellation Level 3,  It Burns!: Increases this talent's level by 3, up to a maximum of 15.\",\n",
       "  'Constellation Level 6,  Wildfire: \"Fiery Rain increases all party members\\' Movement SPD by 15% and ATK by 15% for 10s.\"'],\n",
       " datetime.date(2021, 12, 14): ['Constellation Level 6,  Arataki Itto, Present!: \"Arataki Itto\\'s Charged Attacks deal +70% Crit DMG. Additionally, when he uses Arataki Kesagiri, he has a 50% chance to not consume stacks of Superlative Superstrength.\"',\n",
       "  \"Constellation Level 3,  Horns Lowered, Coming Through: Increases this talent's level by 3, up to a maximum of 15.\",\n",
       "  'Constellation Level 4,  Jailhouse Bread and Butter: \"When the Raging Oni King state caused by Royal Descent: Behold, Itto the Evil! ends, all nearby party members gain 20% DEF and 20% ATK for 10s.\"',\n",
       "  \"Constellation Level 5,  10 Years of Hanamizaka Fame: Increases this talent's level by 3, up to a maximum of 15.\",\n",
       "  'Constellation Level 2,  Gather \\'Round, It\\'s a Brawl!: \"After using Royal Descent: Behold, Itto the Evil!, each party member whose Element is Geo will decrease that skill\\'s CD by 1.5s and restore 6 Energy to Arataki Itto. CD can be decreased by up to 4.5s in this manner. Max 18 Energy can be restored in this manner.\"',\n",
       "  'Constellation Level 1,  Stay a While and Listen Up: \"After using Royal Descent: Behold, Itto the Evil!, Arataki Itto gains 2 stacks of Superlative Superstrength. After 1s, Itto will gain 1 stack of Superlative Superstrength every 0.5s for 1.5s.\"']}"
      ]
     },
     "execution_count": 43,
     "metadata": {},
     "output_type": "execute_result"
    }
   ],
   "source": [
    "cons_dict"
   ]
  },
  {
   "cell_type": "code",
   "execution_count": 22,
   "id": "32d7072a",
   "metadata": {},
   "outputs": [
    {
     "data": {
      "text/plain": [
       "87"
      ]
     },
     "execution_count": 22,
     "metadata": {},
     "output_type": "execute_result"
    }
   ],
   "source": [
    "#cons2\n",
    "len(characters)"
   ]
  },
  {
   "cell_type": "markdown",
   "id": "c0fd8759",
   "metadata": {},
   "source": [
    "### Obtaining list of all classes used in Character's html page\n",
    "\n",
    "#class list set \n",
    "class_list = set() \n",
    "\n",
    "#Page content from Website URL \n",
    "page = requests.get(url_chara) \n",
    "\n",
    "#parse html content \n",
    "soup = BeautifulSoup(page.content , 'html.parser') \n",
    "\n",
    "#get all tags \n",
    "tags = {tag.name for tag in soup.find_all()} \n",
    "\n",
    "\n",
    "for tag in tags:                       # iterate all tags \n",
    "\n",
    "    for i in soup.find_all( tag ):     # find all element of tag \n",
    " \n",
    "        if i.has_attr( \"class\" ):      # if tag has attribute of class\n",
    "\n",
    "            if len( i['class'] ) != 0: \n",
    "                class_list.add(\" \".join( i['class'])) "
   ]
  },
  {
   "cell_type": "markdown",
   "id": "33da5d22",
   "metadata": {},
   "source": [
    "#print(class_list) "
   ]
  },
  {
   "cell_type": "code",
   "execution_count": 10,
   "id": "6728f173",
   "metadata": {},
   "outputs": [],
   "source": [
    "#Creating a list of the character's constellations.\n",
    "\n",
    "cons3 = []\n",
    "\n",
    "for data in cons2:\n",
    "    \n",
    "    #soup = BeautifulSoup(data, 'html.parser')\n",
    "    #print(type(data))\n",
    "    #li_tag = data.find('li')\n",
    "    \n",
    "    if data:\n",
    "        data = data.text.strip()\n",
    "        #print(data)\n",
    "        cons3.append(data)\n",
    "    else:\n",
    "        print(\"No tag found.\")"
   ]
  },
  {
   "cell_type": "code",
   "execution_count": 11,
   "id": "0e0a2142",
   "metadata": {},
   "outputs": [
    {
     "name": "stdout",
     "output_type": "stream",
     "text": [
      "['Constellation Level 6,  Chrysos, Bounty of Dominator: \"When the Jade Shield takes DMG, 40% of that incoming DMG is converted to HP for the current character. A single instance of regeneration cannot exceed 8% of that character\\'s Max HP.\"', 'Constellation Level 2,  Stone, the Cradle of Jade: \"Planet Befall grants nearby characters on the field a Jade Shield when it descends.\"', \"Constellation Level 5,  Lazuli, Herald of the Order: Increases this talent's level by 3, up to a maximum of 15.\", \"Constellation Level 3,  Jade, Shimmering through Darkness: Increases this talent's level by 3, up to a maximum of 15.\", 'Constellation Level 4,  Topaz, Unbreakable and Fearless: \"Increases Planet Befall\\'s AoE by 20% and increases the duration of Planet Befall\\'s Petrification effect by 2s.\"', 'Constellation Level 1,  Rock, the Backbone of Earth: \"Increases the maximum number of Stone Steles created by Dominus Lapidis that may exist simultaneously to 2.\"']\n"
     ]
    }
   ],
   "source": [
    "print(cons3)"
   ]
  },
  {
   "cell_type": "code",
   "execution_count": 14,
   "id": "16ae2235",
   "metadata": {},
   "outputs": [
    {
     "name": "stdout",
     "output_type": "stream",
     "text": [
      "Release Date: 2020-12-01\n"
     ]
    }
   ],
   "source": [
    "#Obtaining the release date of the Character\n",
    "\n",
    "release_date_div = soup_chara.find('div', {'data-source': 'releaseDate'})\n",
    "\n",
    "#print(release_date_div)\n",
    "\n",
    "\n",
    "if release_date_div:\n",
    "    release_date_text = release_date_div.find('div', class_='pi-data-value')\n",
    "    release_date_text = release_date_text.get_text(strip=True).split(' ')\n",
    "    \n",
    "    #print(release_date_text)\n",
    "    #str(release_date_text)\n",
    "        \n",
    "    output = release_date_text[0:3]\n",
    "    \n",
    "    if len(output) >= 3:  # Check if there are at least 3 elements in the list\n",
    "        output[2] = output[2][:-1]\n",
    "\n",
    "    output = ' '.join(output)\n",
    "    output = datetime.strptime(output, \"%B %d, %Y\").date()\n",
    "    \n",
    "    #output\n",
    "    \n",
    "    print(\"Release Date:\", output)\n",
    "    \n",
    "else:\n",
    "    print(\"No release date found.\")"
   ]
  },
  {
   "cell_type": "code",
   "execution_count": 19,
   "id": "61cec5ac",
   "metadata": {},
   "outputs": [
    {
     "data": {
      "text/plain": [
       "{datetime.date(2020, 12, 1): ['Constellation Level 6,  Chrysos, Bounty of Dominator: \"When the Jade Shield takes DMG, 40% of that incoming DMG is converted to HP for the current character. A single instance of regeneration cannot exceed 8% of that character\\'s Max HP.\"',\n",
       "  'Constellation Level 2,  Stone, the Cradle of Jade: \"Planet Befall grants nearby characters on the field a Jade Shield when it descends.\"',\n",
       "  \"Constellation Level 5,  Lazuli, Herald of the Order: Increases this talent's level by 3, up to a maximum of 15.\",\n",
       "  \"Constellation Level 3,  Jade, Shimmering through Darkness: Increases this talent's level by 3, up to a maximum of 15.\",\n",
       "  'Constellation Level 4,  Topaz, Unbreakable and Fearless: \"Increases Planet Befall\\'s AoE by 20% and increases the duration of Planet Befall\\'s Petrification effect by 2s.\"',\n",
       "  'Constellation Level 1,  Rock, the Backbone of Earth: \"Increases the maximum number of Stone Steles created by Dominus Lapidis that may exist simultaneously to 2.\"']}"
      ]
     },
     "execution_count": 19,
     "metadata": {},
     "output_type": "execute_result"
    }
   ],
   "source": [
    "cons_dict = {output: cons3}\n",
    "cons_dict"
   ]
  },
  {
   "cell_type": "code",
   "execution_count": 41,
   "id": "30da660a",
   "metadata": {},
   "outputs": [
    {
     "name": "stdout",
     "output_type": "stream",
     "text": [
      "0\n"
     ]
    }
   ],
   "source": [
    "str1 = \"Constellation Level 2,  Opening of Phanerozoic: Albedo gains one stack of Fatal Reckoning for each Transient Blossom generated from Abiogenesis: Solar Isotoma, up to a maximum of 4 stacks. Upon using Rite of Progeniture: Tectonic Tide, all stacks of Fatal Reckoning are consumed, with each stack consumed increasing all damage dealt by Rite of Progeniture: Tectonic Tide (including Fatal Blossom damage) by 30% of Albedo's DEF.\"\n",
    "\n",
    "str2 = \"Constellation Level 2,  Opening of Phanerozoic: Albedo gains one stack of Fatal Reckoning for each Transient Blossom generated from Abiogenesis: Solar Isotoma, up to a maximum of 4 stacks. Upon using Rite of Progeniture: Tectonic Tide, all stacks of Fatal Reckoning are consumed, with each stack consumed increasing all damage dealt by Rite of Progeniture: Tectonic Tide (including Fatal Blossom damage) by 30% of Albedo's DEF.\"\n",
    "\n",
    "def string_difference(str1, str2):\n",
    "    count = 0\n",
    "    for i in range(min(len(str1), len(str2))):\n",
    "        if str1[i] != str2[i]:\n",
    "            count += 1\n",
    "    count += abs(len(str1) - len(str2))\n",
    "    return count\n",
    "\n",
    "print(string_difference(str1, str2))  # Output: 1"
   ]
  },
  {
   "cell_type": "code",
   "execution_count": 64,
   "id": "e1bdc762",
   "metadata": {},
   "outputs": [],
   "source": [
    "#Web Scraping Constellation Data from Genshin.gg - Complete\n",
    "\n",
    "characters_gg_test = characters_gg[2:5]\n",
    "cons_full = []\n",
    "\n",
    "for names in characters_gg_test:\n",
    "    \n",
    "    url_chara_gg = \"https://genshin.gg/characters/\"+names+\"/\"\n",
    "    page_chara_gg = requests.get(url_chara_gg)\n",
    "    soup_chara_gg = BeautifulSoup(page_chara_gg.content, \"html.parser\")\n",
    " \n",
    "\n",
    "    #Obtaining the constellation html info\n",
    "    \n",
    "    if soup_chara_gg.find(\"div\", id='constellations') != None:\n",
    "        cons1 = soup_chara_gg.find(\"div\", id=\"constellations\").find_all(\"div\", class_=\"character-skill-description\")\n",
    "        cons2 = [con.get_text() for con in cons1]\n",
    "        cons2 = \" \".join(cons2)\n",
    "        #print(cons2)\n",
    "        cons_full.append(cons2)\n",
    "    \n",
    "    else:\n",
    "        #print(\"No Constellations\")\n",
    "        notext = \"This character has no constellations.\"\n",
    "        cons_full.append(notext)"
   ]
  },
  {
   "cell_type": "code",
   "execution_count": 65,
   "id": "364c8e88",
   "metadata": {},
   "outputs": [
    {
     "data": {
      "text/plain": [
       "['This character has no constellations.',\n",
       " \"When Kamisato Ayaka's Normal or Charged Attacks deal Cryo DMG to opponents, it has a 50% chance of decreasing the CD of Kamisato Art: Hyouka by 0.3s. This effect can occur once every 0.1s. When casting Kamisato Art: Soumetsu, unleashes 2 smaller additional Frostflake Seki no To, each dealing 20% of the original storm's DMG. Increases the Level of Kamisato Art: Soumetsu by 3. Maximum upgrade level is 15. Opponents damaged by Kamisato Art: Soumetsu's Frostflake Seki no To will have their DEF decreased by 30% for 6s. Increase the Level of Kamisato Art: Hyouka by 3. Maximum upgrade level is 15. Kamisato Ayaka gains Usurahi Butou every 10s, increasing her Charged Attack DMG by 298%. This buff will be cleared 0.5s after Ayaka's Charged ATK hits an opponent, after which the timer for this ability will restart.\",\n",
       " \"Shunsuiken DMG is increased by 40% against opponents with 50% HP or less. Namisen's maximum stack count is increased to 5. When Kamisato Ayato has at least 3 Namisen stacks, his Max HP is increased by 50%. Increases the Level of Kamisato Art: Kyouka by 3. Maximum upgrade level is 15. After using Kamisato Art: Suiyuu, all nearby party members will have 15% increased Normal Attack SPD for 15s. Increase the Level of Kamisato Art: Suiyuu by 3. Maximum upgrade level is 15. After using Kamisato Art: Kyouka, Ayato's next Shunsuiken attack will create 2 extra Shunsuiken strikes when they hit opponents, each one dealing 450% of Ayato's ATK as DMG. Both these Shunsuiken attacks will not be affected by Namisen.\"]"
      ]
     },
     "execution_count": 65,
     "metadata": {},
     "output_type": "execute_result"
    }
   ],
   "source": [
    "cons_full"
   ]
  },
  {
   "cell_type": "code",
   "execution_count": null,
   "id": "acac42fc",
   "metadata": {},
   "outputs": [],
   "source": []
  }
 ],
 "metadata": {
  "kernelspec": {
   "display_name": "Python 3 (ipykernel)",
   "language": "python",
   "name": "python3"
  },
  "language_info": {
   "codemirror_mode": {
    "name": "ipython",
    "version": 3
   },
   "file_extension": ".py",
   "mimetype": "text/x-python",
   "name": "python",
   "nbconvert_exporter": "python",
   "pygments_lexer": "ipython3",
   "version": "3.9.13"
  }
 },
 "nbformat": 4,
 "nbformat_minor": 5
}
