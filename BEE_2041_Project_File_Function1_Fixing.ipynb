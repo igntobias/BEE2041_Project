{
 "cells": [
  {
   "cell_type": "code",
   "execution_count": 1,
   "id": "6392af7c",
   "metadata": {},
   "outputs": [],
   "source": [
    "from bs4 import BeautifulSoup\n",
    "from urllib.request import urlopen\n",
    "import numpy as np\n",
    "import pandas as pd\n",
    "import matplotlib.pyplot as plt\n",
    "from datetime import datetime\n",
    "import requests\n",
    "from collections import Counter\n",
    "from collections import defaultdict\n",
    "import seaborn as sns"
   ]
  },
  {
   "cell_type": "markdown",
   "id": "4cd05956",
   "metadata": {},
   "source": [
    "### Obtaining All Names (gg)"
   ]
  },
  {
   "cell_type": "code",
   "execution_count": 2,
   "id": "bc5fffcd",
   "metadata": {},
   "outputs": [],
   "source": [
    "#Web scraping the wikia for Genshin's playable character list.\n",
    "\n",
    "urlnames_gg = \"https://genshin.gg/\"\n",
    "\n",
    "pagenames_gg = requests.get(urlnames_gg)\n",
    "\n",
    "soupname_gg = BeautifulSoup(pagenames_gg.text, \"html.parser\")"
   ]
  },
  {
   "cell_type": "code",
   "execution_count": 3,
   "id": "ff9e584f",
   "metadata": {},
   "outputs": [],
   "source": [
    "#Scraping through to get the html, identifying which class and identifier to find the names\n",
    "\n",
    "imgtag_gg = soupname_gg.find_all(\"h2\", class_= \"character-name\")\n",
    "#imgtag_gg"
   ]
  },
  {
   "cell_type": "code",
   "execution_count": 4,
   "id": "509af59a",
   "metadata": {},
   "outputs": [
    {
     "name": "stdout",
     "output_type": "stream",
     "text": [
      "['albedo', 'alhaitham', 'aloy', 'amber', 'ayaka', 'ayato', 'baizhu', 'barbara', 'beidou', 'bennett', 'candace', 'charlotte', 'chevreuse', 'childe', 'chiori', 'chongyun', 'collei', 'cyno', 'dehya', 'diluc', 'diona', 'dori', 'eula', 'faruzan', 'fischl', 'freminet', 'furina', 'gaming', 'ganyu', 'gorou', 'heizou', 'hutao', 'itto', 'jean', 'kaeya', 'kaveh', 'kazuha', 'keqing', 'kirara', 'klee', 'kokomi', 'kukishinobu', 'layla', 'lisa', 'lynette', 'lyney', 'mika', 'mona', 'nahida', 'navia', 'neuvillette', 'nilou', 'ningguang', 'noelle', 'qiqi', 'raiden', 'razor', 'rosaria', 'sara', 'sayu', 'shenhe', 'sucrose', 'thoma', 'tighnari', 'traveler(anemo)', 'traveler(dendro)', 'traveler(electro)', 'traveler(geo)', 'traveler(hydro)', 'venti', 'wanderer', 'wriothesley', 'xiangling', 'xianyun', 'xiao', 'xingqiu', 'xinyan', 'yaemiko', 'yanfei', 'yaoyao', 'yelan', 'yoimiya', 'yunjin', 'zhongli']\n"
     ]
    }
   ],
   "source": [
    "characters_gg = [element.get_text() for element in imgtag_gg]\n",
    "#characters\n",
    "\n",
    "def process_names(names_list):\n",
    "    return [name.replace(\" \", \"\").lower() for name in names_list]\n",
    "\n",
    "characters_gg = process_names(characters_gg)\n",
    "characters_gg = sorted(characters_gg)\n",
    "\n",
    "print(characters_gg)"
   ]
  },
  {
   "cell_type": "markdown",
   "id": "0eabaa30",
   "metadata": {},
   "source": [
    "### Tidying Up Names"
   ]
  },
  {
   "cell_type": "code",
   "execution_count": 5,
   "id": "3561a264",
   "metadata": {},
   "outputs": [
    {
     "name": "stdout",
     "output_type": "stream",
     "text": [
      "['albedo', 'alhaitham', 'aloy', 'amber', 'baizhu', 'barbara', 'beidou', 'bennett', 'candace', 'charlotte', 'chevreuse', 'chiori', 'chongyun', 'collei', 'cyno', 'dehya', 'diluc', 'diona', 'dori', 'eula', 'faruzan', 'fischl', 'freminet', 'furina', 'gaming', 'ganyu', 'gorou', 'hutao', 'jean', 'kaeya', 'kaveh', 'keqing', 'kirara', 'klee', 'kukishinobu', 'layla', 'lisa', 'lynette', 'lyney', 'mika', 'mona', 'nahida', 'navia', 'neuvillette', 'nilou', 'ningguang', 'noelle', 'qiqi', 'raiden', 'razor', 'rosaria', 'sayu', 'shenhe', 'sucrose', 'thoma', 'tighnari', 'traveler(anemo)', 'traveler(dendro)', 'traveler(electro)', 'traveler(geo)', 'traveler(hydro)', 'venti', 'wanderer', 'wriothesley', 'xiangling', 'xianyun', 'xiao', 'xingqiu', 'xinyan', 'yaemiko', 'yanfei', 'yaoyao', 'yelan', 'yoimiya', 'yunjin', 'zhongli', 'itto', 'kazuha', 'heizou', 'sara', 'childe', 'ayato', 'ayaka', 'kokomi']\n"
     ]
    }
   ],
   "source": [
    "remove_gg = [\"itto\", \"kazuha\", \"heizou\", \"sara\", \"childe\", \"ayato\", \"ayaka\", \"kokomi\"]\n",
    "\n",
    "\n",
    "characters_gg = [item for item in characters_gg if item not in remove_gg]\n",
    "characters_gg = characters_gg + remove_gg\n",
    "print(characters_gg)"
   ]
  },
  {
   "cell_type": "markdown",
   "id": "19c8c0ce",
   "metadata": {},
   "source": [
    "### Scraping Constellation Data"
   ]
  },
  {
   "cell_type": "code",
   "execution_count": 6,
   "id": "a8c1266e",
   "metadata": {},
   "outputs": [],
   "source": [
    "#Web Scraping Constellation Data from Genshin.gg - Complete\n",
    "\n",
    "characters_gg_test = characters_gg[2:5]\n",
    "cons_full = []\n",
    "\n",
    "for names in characters_gg_test:\n",
    "    \n",
    "    url_chara_gg = \"https://genshin.gg/characters/\"+names+\"/\"\n",
    "    page_chara_gg = requests.get(url_chara_gg)\n",
    "    soup_chara_gg = BeautifulSoup(page_chara_gg.content, \"html.parser\")\n",
    " \n",
    "\n",
    "    #Obtaining the constellation html info\n",
    "    \n",
    "    if soup_chara_gg.find(\"div\", id='constellations') != None:\n",
    "        cons1 = soup_chara_gg.find(\"div\", id=\"constellations\").find_all(\"div\", class_=\"character-skill-description\")\n",
    "        cons2 = [con.get_text() for con in cons1]\n",
    "        cons2 = \" \".join(cons2)\n",
    "        #print(cons2)\n",
    "        cons_full.append(cons2)\n",
    "    \n",
    "    else:\n",
    "        #print(\"No Constellations\")\n",
    "        notext = \"This character has no constellations.\"\n",
    "        cons_full.append(notext)"
   ]
  },
  {
   "cell_type": "code",
   "execution_count": 7,
   "id": "aa2760ff",
   "metadata": {},
   "outputs": [],
   "source": [
    "#cons_full"
   ]
  },
  {
   "cell_type": "markdown",
   "id": "baf7f758",
   "metadata": {},
   "source": [
    "# Data Retry, with g8 instead of wk"
   ]
  },
  {
   "cell_type": "code",
   "execution_count": 8,
   "id": "8ef56f7e",
   "metadata": {},
   "outputs": [],
   "source": [
    "url_g8 = \"https://game8.co/games/Genshin-Impact/archives/307054\""
   ]
  },
  {
   "cell_type": "code",
   "execution_count": 9,
   "id": "607899b2",
   "metadata": {},
   "outputs": [],
   "source": [
    "#page_chara_g8 = requests.get(url_g8)\n",
    "#soup_chara_g8 = BeautifulSoup(page_chara_g8.content, \"html.parser\")\n",
    "#soup_chara_g8.find_all(\"a\")\n",
    "#pandas_table_g8[9]"
   ]
  },
  {
   "cell_type": "code",
   "execution_count": 10,
   "id": "a3e3c5db",
   "metadata": {},
   "outputs": [],
   "source": [
    "#Using the Built-in Pandas html reader\n",
    "\n",
    "pandas_table_g8 = pd.read_html(url_g8)"
   ]
  },
  {
   "cell_type": "markdown",
   "id": "5779365c",
   "metadata": {},
   "source": [
    "# COMPLETE NAME SCRAPING WITH RELEASE DATES"
   ]
  },
  {
   "cell_type": "code",
   "execution_count": 11,
   "id": "6df9b195",
   "metadata": {},
   "outputs": [],
   "source": [
    "url_g8 = \"https://game8.co/games/Genshin-Impact/archives/307054\"\n",
    "\n",
    "\n",
    "#Using the Built-in Pandas html reader\n",
    "pandas_table_g8 = pd.read_html(url_g8)\n",
    "\n",
    "dates_full_g8 = pandas_table_g8[7]        #Selecting the correct table with the release date from the scrape\n",
    "\n",
    "#Removing the irrelevant data\n",
    "dates_full_g8 = dates_full_g8.drop(columns = ['Element'])\n",
    "dates_full_g8 = dates_full_g8.dropna()\n",
    "\n",
    "#Sorting values\n",
    "dates_full_g8 = dates_full_g8.sort_values(by = [\"Character\"], axis = 0)\n",
    "dates_full_g8.reset_index(drop=True, inplace=True)\n",
    "\n",
    "\n",
    "#Fixing Aloy and Childe - specific characters with unique issues with the naming and release date conventions\n",
    "dates_full_g8.loc[2, 'Release Date'] = \"10/13/2021\"\n",
    "dates_full_g8.loc[44, 'Character'] = \"childe\"\n",
    "\n",
    "#Fixing Rarity Tag\n",
    "dates_full_g8['Rarity'] = dates_full_g8['Rarity'].str.replace(r'★ (\\d+)', r'\\1star', regex=True)    #use Regex\n",
    "\n",
    "#Fixing Release Date\n",
    "dates_full_g8['Release Date'] = pd.to_datetime(dates_full_g8['Release Date'])\n",
    "\n",
    "#print(dates_full_g8)\n",
    "\n",
    "\n",
    "\n",
    "#Converting character names into simpler format and obtaining information on missing (\"Day One\") Characters\n",
    "characters_g8 = dates_full_g8['Character'].tolist()\n",
    "characters_g8 = [x.lower() for x in characters_g8]        #Similar to previous action with gg\n",
    "characters_g8 = process_names(characters_g8)        #Use Previous function to remove spaces\n",
    "\n",
    "#print(len(characters_g8))\n",
    "#print(characters_g8)\n",
    "\n",
    "\n",
    "\n",
    "#Listing out Missing Characters, comparing complete set from gg and the incomplete from g8\n",
    "characters_gg_g8 = list(set(characters_gg) - set(characters_g8))\n",
    "\n",
    "#print(characters_gg_g8)\n",
    "\n",
    "\n",
    "\n",
    "#Isolating Day 1 Characters into g8\n",
    "characters_gg_g8 = list(set(characters_gg_g8) - set('kukishinobu'))    #kukishinobu will be added back later\n",
    "\n",
    "#print(characters_gg_g8)\n",
    "\n",
    "\n",
    "\n",
    "#Creating 5star (legendary) and 4star (epic) dataframes for concatenation\n",
    "Legendary = ['diluc', 'jean', 'traveler(geo)', 'traveler(electro)', \n",
    "             'traveler(hydro)','traveler(anemo)', 'traveler(dendro)', \n",
    "             'qiqi', 'mona', 'keqing']\n",
    "Epic = list(set(characters_gg_g8) - set(Legendary))        #Manual action is listing Day One Legendary characters\n",
    "\n",
    "\n",
    "\n",
    "#Converting Epic list into DataFrame\n",
    "df_Epic = pd.DataFrame(Epic, columns=['Character'])\n",
    "df_Epic['Rarity'] = '4star'\n",
    "df_Epic['Release Date'] = '2020/9/28'\n",
    "df_Epic['Release Date'] = pd.to_datetime(df_Epic['Release Date'])\n",
    "\n",
    "kuki = pd.DataFrame([{'Character': 'kukishinobu',         #Adding back kukishinobu manually\n",
    "                      'Rarity': '4star', \n",
    "                      'Release Date': '21/6/2022'}])\n",
    "kuki['Release Date'] = pd.to_datetime(kuki['Release Date'])\n",
    "\n",
    "\n",
    "df_Epic = pd.concat([df_Epic, kuki])\n",
    "df_Epic.reset_index(drop = True, inplace = True)\n",
    "\n",
    "#print(df_Epic)\n",
    "\n",
    "\n",
    "\n",
    "#Converting Legendary list into DataFrame\n",
    "df_Legend = pd.DataFrame(Legendary, columns=['Character'])\n",
    "df_Legend['Rarity'] = '5star'\n",
    "df_Legend['Release Date'] = '2020/9/28'\n",
    "df_Legend['Release Date'] = pd.to_datetime(df_Epic['Release Date'])\n",
    "\n",
    "#print(df_Legend)\n",
    "\n",
    "\n",
    "\n",
    "#Combining the 5s and 4s dataframes for the Day One Characters (and kukishinobu)\n",
    "df_Day1 = pd.concat([df_Epic, df_Legend])\n",
    "df_Day1.reset_index(drop = True, inplace = True)\n",
    "\n",
    "#print(df_Day1)\n",
    "\n",
    "\n",
    "\n",
    "#Combining the Day One Characters with the Initial dates_full_g8 Frame\n",
    "dates_full_g8 = pd.concat([dates_full_g8, df_Day1])\n",
    "dates_full_g8.reset_index(inplace = True, drop = True)"
   ]
  },
  {
   "cell_type": "code",
   "execution_count": 12,
   "id": "df2c7432",
   "metadata": {
    "scrolled": false
   },
   "outputs": [
    {
     "name": "stdout",
     "output_type": "stream",
     "text": [
      "86\n"
     ]
    }
   ],
   "source": [
    "print(len(dates_full_g8))\n",
    "#dates_full_g8"
   ]
  },
  {
   "cell_type": "code",
   "execution_count": 13,
   "id": "9c2f4636",
   "metadata": {
    "scrolled": false
   },
   "outputs": [],
   "source": [
    "characters_g8 = dates_full_g8['Character'].tolist()\n",
    "characters_g8 = [x.lower() for x in characters_g8]\n",
    "characters_g8 = process_names(characters_g8)\n",
    "\n",
    "#print(len(characters_g8))\n",
    "#characters_g8"
   ]
  },
  {
   "cell_type": "code",
   "execution_count": 14,
   "id": "8b802463",
   "metadata": {},
   "outputs": [],
   "source": [
    "#Web Scraping Constellation Data from Genshin.gg - Complete\n",
    "\n",
    "characters_gg_test = characters_g8#[0:60]\n",
    "cons_full_g8 = []\n",
    "\n",
    "for names in characters_gg_test:\n",
    "    \n",
    "    url_chara_gg = \"https://genshin.gg/characters/\"+names+\"/\"\n",
    "    page_chara_gg = requests.get(url_chara_gg)\n",
    "    soup_chara_gg = BeautifulSoup(page_chara_gg.content, \"html.parser\")\n",
    " \n",
    "\n",
    "    #Obtaining the constellation html info\n",
    "    \n",
    "    if soup_chara_gg.find(\"div\", id='constellations') != None:\n",
    "        cons1 = soup_chara_gg.find(\"div\", id=\"constellations\").find_all(\"div\", class_=\"character-skill-description\")\n",
    "        cons2 = [con.get_text() for con in cons1]\n",
    "        cons2 = \" \".join(cons2)\n",
    "        #print(cons2)\n",
    "        cons_full_g8.append(cons2)\n",
    "    \n",
    "    else:\n",
    "        #print(\"No Constellations\")\n",
    "        notext = \"This character has no constellations.\"\n",
    "        cons_full_g8.append(notext)"
   ]
  },
  {
   "cell_type": "code",
   "execution_count": 15,
   "id": "3e4d9575",
   "metadata": {},
   "outputs": [
    {
     "data": {
      "text/plain": [
       "86"
      ]
     },
     "execution_count": 15,
     "metadata": {},
     "output_type": "execute_result"
    }
   ],
   "source": [
    "len(cons_full_g8)\n",
    "\n",
    "#cons_full_g8"
   ]
  },
  {
   "cell_type": "code",
   "execution_count": 16,
   "id": "9395f77e",
   "metadata": {},
   "outputs": [
    {
     "data": {
      "text/html": [
       "<div>\n",
       "<style scoped>\n",
       "    .dataframe tbody tr th:only-of-type {\n",
       "        vertical-align: middle;\n",
       "    }\n",
       "\n",
       "    .dataframe tbody tr th {\n",
       "        vertical-align: top;\n",
       "    }\n",
       "\n",
       "    .dataframe thead th {\n",
       "        text-align: right;\n",
       "    }\n",
       "</style>\n",
       "<table border=\"1\" class=\"dataframe\">\n",
       "  <thead>\n",
       "    <tr style=\"text-align: right;\">\n",
       "      <th></th>\n",
       "      <th>Release Date</th>\n",
       "      <th>Character</th>\n",
       "      <th>Rarity</th>\n",
       "      <th>Constellation Description</th>\n",
       "    </tr>\n",
       "  </thead>\n",
       "  <tbody>\n",
       "    <tr>\n",
       "      <th>0</th>\n",
       "      <td>2020-12-23</td>\n",
       "      <td>Albedo</td>\n",
       "      <td>5star</td>\n",
       "      <td>Transient Blossoms generated by Albedo's Abiog...</td>\n",
       "    </tr>\n",
       "    <tr>\n",
       "      <th>1</th>\n",
       "      <td>2023-01-18</td>\n",
       "      <td>Alhaitham</td>\n",
       "      <td>5star</td>\n",
       "      <td>When a Projection Attack hits an opponent, Uni...</td>\n",
       "    </tr>\n",
       "    <tr>\n",
       "      <th>2</th>\n",
       "      <td>2021-10-13</td>\n",
       "      <td>Aloy</td>\n",
       "      <td>5star</td>\n",
       "      <td>This character has no constellations.</td>\n",
       "    </tr>\n",
       "    <tr>\n",
       "      <th>3</th>\n",
       "      <td>2021-07-01</td>\n",
       "      <td>Ayaka</td>\n",
       "      <td>5star</td>\n",
       "      <td>When Kamisato Ayaka's Normal or Charged Attack...</td>\n",
       "    </tr>\n",
       "    <tr>\n",
       "      <th>4</th>\n",
       "      <td>2022-03-30</td>\n",
       "      <td>Ayato</td>\n",
       "      <td>5star</td>\n",
       "      <td>Shunsuiken DMG is increased by 40% against opp...</td>\n",
       "    </tr>\n",
       "    <tr>\n",
       "      <th>...</th>\n",
       "      <td>...</td>\n",
       "      <td>...</td>\n",
       "      <td>...</td>\n",
       "      <td>...</td>\n",
       "    </tr>\n",
       "    <tr>\n",
       "      <th>81</th>\n",
       "      <td>2020-09-28</td>\n",
       "      <td>traveler(anemo)</td>\n",
       "      <td>5star</td>\n",
       "      <td>Palm Vortex pulls in enemies within a 5m radiu...</td>\n",
       "    </tr>\n",
       "    <tr>\n",
       "      <th>82</th>\n",
       "      <td>2020-09-28</td>\n",
       "      <td>traveler(dendro)</td>\n",
       "      <td>5star</td>\n",
       "      <td>After Razorgrass Blade hits an opponent, it wi...</td>\n",
       "    </tr>\n",
       "    <tr>\n",
       "      <th>83</th>\n",
       "      <td>2020-09-28</td>\n",
       "      <td>qiqi</td>\n",
       "      <td>5star</td>\n",
       "      <td>When the Herald of Frost hits an enemy marked ...</td>\n",
       "    </tr>\n",
       "    <tr>\n",
       "      <th>84</th>\n",
       "      <td>2020-09-28</td>\n",
       "      <td>mona</td>\n",
       "      <td>5star</td>\n",
       "      <td>The effects of Hydro-related Elemental Reactio...</td>\n",
       "    </tr>\n",
       "    <tr>\n",
       "      <th>85</th>\n",
       "      <td>2020-09-28</td>\n",
       "      <td>keqing</td>\n",
       "      <td>5star</td>\n",
       "      <td>Recasting Stellar Restoration while a Lightnin...</td>\n",
       "    </tr>\n",
       "  </tbody>\n",
       "</table>\n",
       "<p>86 rows × 4 columns</p>\n",
       "</div>"
      ],
      "text/plain": [
       "   Release Date         Character Rarity  \\\n",
       "0    2020-12-23            Albedo  5star   \n",
       "1    2023-01-18         Alhaitham  5star   \n",
       "2    2021-10-13              Aloy  5star   \n",
       "3    2021-07-01             Ayaka  5star   \n",
       "4    2022-03-30             Ayato  5star   \n",
       "..          ...               ...    ...   \n",
       "81   2020-09-28   traveler(anemo)  5star   \n",
       "82   2020-09-28  traveler(dendro)  5star   \n",
       "83   2020-09-28              qiqi  5star   \n",
       "84   2020-09-28              mona  5star   \n",
       "85   2020-09-28            keqing  5star   \n",
       "\n",
       "                            Constellation Description  \n",
       "0   Transient Blossoms generated by Albedo's Abiog...  \n",
       "1   When a Projection Attack hits an opponent, Uni...  \n",
       "2               This character has no constellations.  \n",
       "3   When Kamisato Ayaka's Normal or Charged Attack...  \n",
       "4   Shunsuiken DMG is increased by 40% against opp...  \n",
       "..                                                ...  \n",
       "81  Palm Vortex pulls in enemies within a 5m radiu...  \n",
       "82  After Razorgrass Blade hits an opponent, it wi...  \n",
       "83  When the Herald of Frost hits an enemy marked ...  \n",
       "84  The effects of Hydro-related Elemental Reactio...  \n",
       "85  Recasting Stellar Restoration while a Lightnin...  \n",
       "\n",
       "[86 rows x 4 columns]"
      ]
     },
     "execution_count": 16,
     "metadata": {},
     "output_type": "execute_result"
    }
   ],
   "source": [
    "dates_full_g8['Constellation Description'] = cons_full_g8\n",
    "dates_full_g8"
   ]
  },
  {
   "cell_type": "code",
   "execution_count": 17,
   "id": "3f5393a8",
   "metadata": {},
   "outputs": [
    {
     "name": "stdout",
     "output_type": "stream",
     "text": [
      "[141, 252, 5, 138, 121, 167, 143, 196, 224, 303, 205, 255, 242, 136, 160, 121, 180, 123, 338, 116, 146, 193, 155, 188, 164, 121, 149, 219, 125, 175, 230, 100, 149, 172, 234, 240, 236, 183, 171, 96, 111, 193, 135, 5, 143, 110, 149, 119, 271, 358, 263, 106, 109, 106, 102, 201, 155, 135, 84, 106, 129, 66, 111, 116, 86, 142, 112, 111, 93, 145, 120, 106, 117, 92, 108, 145, 139, 110, 124, 123, 180, 80, 126, 102, 165, 137]\n"
     ]
    },
    {
     "data": {
      "text/plain": [
       "86"
      ]
     },
     "execution_count": 17,
     "metadata": {},
     "output_type": "execute_result"
    }
   ],
   "source": [
    "#Generating a simple word count from the constellation descriptions.\n",
    "\n",
    "List_count_g8 = []\n",
    "\n",
    "for paragraph in cons_full_g8:\n",
    "    words = paragraph.split()\n",
    "    word_count = sum(Counter(words).values())\n",
    "    List_count_g8.append(word_count)\n",
    "\n",
    "print(List_count_g8)\n",
    "len(List_count_g8)"
   ]
  },
  {
   "cell_type": "code",
   "execution_count": 18,
   "id": "7c33a31a",
   "metadata": {},
   "outputs": [
    {
     "data": {
      "text/html": [
       "<div>\n",
       "<style scoped>\n",
       "    .dataframe tbody tr th:only-of-type {\n",
       "        vertical-align: middle;\n",
       "    }\n",
       "\n",
       "    .dataframe tbody tr th {\n",
       "        vertical-align: top;\n",
       "    }\n",
       "\n",
       "    .dataframe thead th {\n",
       "        text-align: right;\n",
       "    }\n",
       "</style>\n",
       "<table border=\"1\" class=\"dataframe\">\n",
       "  <thead>\n",
       "    <tr style=\"text-align: right;\">\n",
       "      <th></th>\n",
       "      <th>Release Date</th>\n",
       "      <th>Character</th>\n",
       "      <th>Rarity</th>\n",
       "      <th>Constellation Description</th>\n",
       "      <th>Word Count</th>\n",
       "    </tr>\n",
       "  </thead>\n",
       "  <tbody>\n",
       "    <tr>\n",
       "      <th>0</th>\n",
       "      <td>2020-12-23</td>\n",
       "      <td>Albedo</td>\n",
       "      <td>5star</td>\n",
       "      <td>Transient Blossoms generated by Albedo's Abiog...</td>\n",
       "      <td>141</td>\n",
       "    </tr>\n",
       "    <tr>\n",
       "      <th>1</th>\n",
       "      <td>2023-01-18</td>\n",
       "      <td>Alhaitham</td>\n",
       "      <td>5star</td>\n",
       "      <td>When a Projection Attack hits an opponent, Uni...</td>\n",
       "      <td>252</td>\n",
       "    </tr>\n",
       "    <tr>\n",
       "      <th>2</th>\n",
       "      <td>2021-10-13</td>\n",
       "      <td>Aloy</td>\n",
       "      <td>5star</td>\n",
       "      <td>This character has no constellations.</td>\n",
       "      <td>5</td>\n",
       "    </tr>\n",
       "    <tr>\n",
       "      <th>3</th>\n",
       "      <td>2021-07-01</td>\n",
       "      <td>Ayaka</td>\n",
       "      <td>5star</td>\n",
       "      <td>When Kamisato Ayaka's Normal or Charged Attack...</td>\n",
       "      <td>138</td>\n",
       "    </tr>\n",
       "    <tr>\n",
       "      <th>4</th>\n",
       "      <td>2022-03-30</td>\n",
       "      <td>Ayato</td>\n",
       "      <td>5star</td>\n",
       "      <td>Shunsuiken DMG is increased by 40% against opp...</td>\n",
       "      <td>121</td>\n",
       "    </tr>\n",
       "    <tr>\n",
       "      <th>...</th>\n",
       "      <td>...</td>\n",
       "      <td>...</td>\n",
       "      <td>...</td>\n",
       "      <td>...</td>\n",
       "      <td>...</td>\n",
       "    </tr>\n",
       "    <tr>\n",
       "      <th>81</th>\n",
       "      <td>2020-09-28</td>\n",
       "      <td>traveler(anemo)</td>\n",
       "      <td>5star</td>\n",
       "      <td>Palm Vortex pulls in enemies within a 5m radiu...</td>\n",
       "      <td>80</td>\n",
       "    </tr>\n",
       "    <tr>\n",
       "      <th>82</th>\n",
       "      <td>2020-09-28</td>\n",
       "      <td>traveler(dendro)</td>\n",
       "      <td>5star</td>\n",
       "      <td>After Razorgrass Blade hits an opponent, it wi...</td>\n",
       "      <td>126</td>\n",
       "    </tr>\n",
       "    <tr>\n",
       "      <th>83</th>\n",
       "      <td>2020-09-28</td>\n",
       "      <td>qiqi</td>\n",
       "      <td>5star</td>\n",
       "      <td>When the Herald of Frost hits an enemy marked ...</td>\n",
       "      <td>102</td>\n",
       "    </tr>\n",
       "    <tr>\n",
       "      <th>84</th>\n",
       "      <td>2020-09-28</td>\n",
       "      <td>mona</td>\n",
       "      <td>5star</td>\n",
       "      <td>The effects of Hydro-related Elemental Reactio...</td>\n",
       "      <td>165</td>\n",
       "    </tr>\n",
       "    <tr>\n",
       "      <th>85</th>\n",
       "      <td>2020-09-28</td>\n",
       "      <td>keqing</td>\n",
       "      <td>5star</td>\n",
       "      <td>Recasting Stellar Restoration while a Lightnin...</td>\n",
       "      <td>137</td>\n",
       "    </tr>\n",
       "  </tbody>\n",
       "</table>\n",
       "<p>86 rows × 5 columns</p>\n",
       "</div>"
      ],
      "text/plain": [
       "   Release Date         Character Rarity  \\\n",
       "0    2020-12-23            Albedo  5star   \n",
       "1    2023-01-18         Alhaitham  5star   \n",
       "2    2021-10-13              Aloy  5star   \n",
       "3    2021-07-01             Ayaka  5star   \n",
       "4    2022-03-30             Ayato  5star   \n",
       "..          ...               ...    ...   \n",
       "81   2020-09-28   traveler(anemo)  5star   \n",
       "82   2020-09-28  traveler(dendro)  5star   \n",
       "83   2020-09-28              qiqi  5star   \n",
       "84   2020-09-28              mona  5star   \n",
       "85   2020-09-28            keqing  5star   \n",
       "\n",
       "                            Constellation Description  Word Count  \n",
       "0   Transient Blossoms generated by Albedo's Abiog...         141  \n",
       "1   When a Projection Attack hits an opponent, Uni...         252  \n",
       "2               This character has no constellations.           5  \n",
       "3   When Kamisato Ayaka's Normal or Charged Attack...         138  \n",
       "4   Shunsuiken DMG is increased by 40% against opp...         121  \n",
       "..                                                ...         ...  \n",
       "81  Palm Vortex pulls in enemies within a 5m radiu...          80  \n",
       "82  After Razorgrass Blade hits an opponent, it wi...         126  \n",
       "83  When the Herald of Frost hits an enemy marked ...         102  \n",
       "84  The effects of Hydro-related Elemental Reactio...         165  \n",
       "85  Recasting Stellar Restoration while a Lightnin...         137  \n",
       "\n",
       "[86 rows x 5 columns]"
      ]
     },
     "execution_count": 18,
     "metadata": {},
     "output_type": "execute_result"
    }
   ],
   "source": [
    "dates_full_g8['Word Count'] = List_count_g8\n",
    "dates_full_g8"
   ]
  },
  {
   "cell_type": "code",
   "execution_count": 19,
   "id": "9c220577",
   "metadata": {},
   "outputs": [
    {
     "data": {
      "image/png": "[encoded data removed]",
      "text/plain": [
       "<Figure size 640x480 with 1 Axes>"
      ]
     },
     "metadata": {},
     "output_type": "display_data"
    }
   ],
   "source": [
    "#Creating plots with the new data frame.\n",
    "\n",
    "dates_full_g8.plot.scatter(x='Release Date', y='Word Count', color='blue',\n",
    "                 marker='o', edgecolor='black', alpha = 0.20, s=550)\n",
    "\n",
    "# Adding labels and title\n",
    "plt.xlabel('Date')\n",
    "plt.ylabel('Word Count')\n",
    "plt.title('Word Count of Constellations Over Time')\n",
    "\n",
    "# Formatting x-axis ticks as dates\n",
    "plt.xticks(rotation=30, ha='right')\n",
    "\n",
    "# Display the plot\n",
    "plt.grid(True)\n",
    "plt.tight_layout()\n",
    "plt.show()"
   ]
  },
  {
   "cell_type": "code",
   "execution_count": null,
   "id": "ec4071d1",
   "metadata": {},
   "outputs": [],
   "source": []
  }
 ],
 "metadata": {
  "kernelspec": {
   "display_name": "Python 3 (ipykernel)",
   "language": "python",
   "name": "python3"
  },
  "language_info": {
   "codemirror_mode": {
    "name": "ipython",
    "version": 3
   },
   "file_extension": ".py",
   "mimetype": "text/x-python",
   "name": "python",
   "nbconvert_exporter": "python",
   "pygments_lexer": "ipython3",
   "version": "3.9.13"
  }
 },
 "nbformat": 4,
 "nbformat_minor": 5
}
