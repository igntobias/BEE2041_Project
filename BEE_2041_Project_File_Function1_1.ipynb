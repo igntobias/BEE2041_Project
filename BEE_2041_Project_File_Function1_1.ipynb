{
 "cells": [
  {
   "cell_type": "code",
   "execution_count": 1,
   "id": "6392af7c",
   "metadata": {},
   "outputs": [],
   "source": [
    "from bs4 import BeautifulSoup\n",
    "from urllib.request import urlopen\n",
    "import numpy as np\n",
    "import pandas as pd\n",
    "import matplotlib.pyplot as plt\n",
    "from datetime import datetime\n",
    "import requests"
   ]
  },
  {
   "cell_type": "markdown",
   "id": "0eb7684f",
   "metadata": {},
   "source": [
    "### Obtaining all Names (Wikia)"
   ]
  },
  {
   "cell_type": "code",
   "execution_count": 35,
   "id": "8ad02c34",
   "metadata": {},
   "outputs": [],
   "source": [
    "#urlnames = \"https://game8.co/games/Genshin-Impact/archives/296707\"\n",
    "\n",
    "#Web scraping the wikia for Genshin's playable character list.\n",
    "\n",
    "urlnames_wk = \"https://genshin-impact.fandom.com/wiki/Category:Playable_Characters\"\n",
    "\n",
    "pagenames_wk = requests.get(urlnames_wk)\n",
    "\n",
    "soupname_wk = BeautifulSoup(pagenames_wk.text, \"html.parser\")"
   ]
  },
  {
   "cell_type": "code",
   "execution_count": 36,
   "id": "a05a2ec1",
   "metadata": {},
   "outputs": [],
   "source": [
    "#Scraping through to get the html, identifying which class and identifier to find the names\n",
    "\n",
    "imgtag_wk = soupname_wk.find_all(\"a\", class_=\"category-page__member-link\")\n",
    "#imgtag"
   ]
  },
  {
   "cell_type": "code",
   "execution_count": 37,
   "id": "f326d3b5",
   "metadata": {},
   "outputs": [
    {
     "name": "stdout",
     "output_type": "stream",
     "text": [
      "['Albedo', 'Alhaitham', 'Aloy', 'Amber', 'Arataki_Itto', 'Baizhu', 'Barbara', 'Beidou', 'Bennett', 'Candace', 'Charlotte', 'Chevreuse', 'Chiori', 'Chongyun', 'Collei', 'Cyno', 'Dehya', 'Diluc', 'Diona', 'Dori', 'Eula', 'Faruzan', 'Fischl', 'Freminet', 'Furina', 'Gaming', 'Ganyu', 'Gorou', 'Hu_Tao', 'Jean', 'Kaedehara_Kazuha', 'Kaeya', 'Kamisato_Ayaka', 'Kamisato_Ayato', 'Kaveh', 'Keqing', 'Kirara', 'Klee', 'Kujou_Sara', 'Kuki_Shinobu', 'Layla', 'Lisa', 'Lynette', 'Lyney', 'Mika', 'Mona', 'Nahida', 'Navia', 'Neuvillette', 'Nilou', 'Ningguang', 'Noelle', 'Qiqi', 'Raiden_Shogun', 'Razor', 'Rosaria', 'Sangonomiya_Kokomi', 'Sayu', 'Shenhe', 'Shikanoin_Heizou', 'Sucrose', 'Tartaglia', 'Thoma', 'Tighnari', 'Traveler_(Anemo)', 'Traveler_(Dendro)', 'Traveler_(Electro)', 'Traveler_(Geo)', 'Traveler_(Hydro)', 'Venti', 'Wanderer', 'Wriothesley', 'Xiangling', 'Xianyun', 'Xiao', 'Xingqiu', 'Xinyan', 'Yae_Miko', 'Yanfei', 'Yaoyao', 'Yelan', 'Yoimiya', 'Yun_Jin', 'Zhongli']\n"
     ]
    }
   ],
   "source": [
    "#Converting the soup into a usable List\n",
    "\n",
    "type(imgtag_wk)\n",
    "\n",
    "titles = [tag['title'] for tag in imgtag_wk]\n",
    "characters_wk = titles[6:]\n",
    "\n",
    "#Replacing spaces with underscores for it to be usable in iterating through the wikia pages\n",
    "\n",
    "converter = lambda x: x.replace(' ', '_')\n",
    "characters_wk = list(map(converter, characters_wk))\n",
    "characters_wk = sorted(characters_wk)\n",
    "\n",
    "\n",
    "remove = [\"Lumine\", \"Traveler_(Unaligned)\", \"Traveler\"]    #These characters are extras\n",
    "\n",
    "characters_wk = [item for item in characters_wk if item not in remove]\n",
    "\n",
    "print(characters_wk)"
   ]
  },
  {
   "cell_type": "markdown",
   "id": "4cd05956",
   "metadata": {},
   "source": [
    "### Obtaining All Names (gg)"
   ]
  },
  {
   "cell_type": "code",
   "execution_count": 38,
   "id": "bc5fffcd",
   "metadata": {},
   "outputs": [],
   "source": [
    "#Web scraping the wikia for Genshin's playable character list.\n",
    "\n",
    "urlnames_gg = \"https://genshin.gg/\"\n",
    "\n",
    "pagenames_gg = requests.get(urlnames_gg)\n",
    "\n",
    "soupname_gg = BeautifulSoup(pagenames_gg.text, \"html.parser\")"
   ]
  },
  {
   "cell_type": "code",
   "execution_count": 39,
   "id": "ff9e584f",
   "metadata": {},
   "outputs": [],
   "source": [
    "#Scraping through to get the html, identifying which class and identifier to find the names\n",
    "\n",
    "imgtag_gg = soupname_gg.find_all(\"h2\", class_= \"character-name\")\n",
    "#imgtag_gg"
   ]
  },
  {
   "cell_type": "code",
   "execution_count": 40,
   "id": "509af59a",
   "metadata": {},
   "outputs": [
    {
     "name": "stdout",
     "output_type": "stream",
     "text": [
      "['albedo', 'alhaitham', 'aloy', 'amber', 'ayaka', 'ayato', 'baizhu', 'barbara', 'beidou', 'bennett', 'candace', 'charlotte', 'chevreuse', 'childe', 'chiori', 'chongyun', 'collei', 'cyno', 'dehya', 'diluc', 'diona', 'dori', 'eula', 'faruzan', 'fischl', 'freminet', 'furina', 'gaming', 'ganyu', 'gorou', 'heizou', 'hutao', 'itto', 'jean', 'kaeya', 'kaveh', 'kazuha', 'keqing', 'kirara', 'klee', 'kokomi', 'kukishinobu', 'layla', 'lisa', 'lynette', 'lyney', 'mika', 'mona', 'nahida', 'navia', 'neuvillette', 'nilou', 'ningguang', 'noelle', 'qiqi', 'raiden', 'razor', 'rosaria', 'sara', 'sayu', 'shenhe', 'sucrose', 'thoma', 'tighnari', 'traveler(anemo)', 'traveler(dendro)', 'traveler(electro)', 'traveler(geo)', 'traveler(hydro)', 'venti', 'wanderer', 'wriothesley', 'xiangling', 'xianyun', 'xiao', 'xingqiu', 'xinyan', 'yaemiko', 'yanfei', 'yaoyao', 'yelan', 'yoimiya', 'yunjin', 'zhongli']\n"
     ]
    }
   ],
   "source": [
    "characters_gg = [element.get_text() for element in imgtag_gg]\n",
    "#characters\n",
    "\n",
    "def process_names(names_list):\n",
    "    return [name.replace(\" \", \"\").lower() for name in names_list]\n",
    "\n",
    "characters_gg = process_names(characters_gg)\n",
    "characters_gg = sorted(characters_gg)\n",
    "print(characters_gg)"
   ]
  },
  {
   "cell_type": "markdown",
   "id": "e5787a96",
   "metadata": {},
   "source": [
    "### Tidying Up Names"
   ]
  },
  {
   "cell_type": "code",
   "execution_count": 41,
   "id": "ebeafbc4",
   "metadata": {},
   "outputs": [],
   "source": [
    "#len(characters_wk)\n",
    "#len(characters_gg)\n",
    "\n",
    "#[characters_gg, characters_wk]\n",
    "#names = arr(characters_gg & characters_wk)\n",
    "#names"
   ]
  },
  {
   "cell_type": "code",
   "execution_count": 42,
   "id": "cd47e587",
   "metadata": {},
   "outputs": [],
   "source": [
    "#print(characters_gg)"
   ]
  },
  {
   "cell_type": "code",
   "execution_count": 43,
   "id": "bc69f8cb",
   "metadata": {
    "scrolled": true
   },
   "outputs": [],
   "source": [
    "#print(characters_wk)"
   ]
  },
  {
   "cell_type": "code",
   "execution_count": 44,
   "id": "c829a51e",
   "metadata": {},
   "outputs": [
    {
     "name": "stdout",
     "output_type": "stream",
     "text": [
      "['Albedo', 'Alhaitham', 'Aloy', 'Amber', 'Baizhu', 'Barbara', 'Beidou', 'Bennett', 'Candace', 'Charlotte', 'Chevreuse', 'Chiori', 'Chongyun', 'Collei', 'Cyno', 'Dehya', 'Diluc', 'Diona', 'Dori', 'Eula', 'Faruzan', 'Fischl', 'Freminet', 'Furina', 'Gaming', 'Ganyu', 'Gorou', 'Hu_Tao', 'Jean', 'Kaeya', 'Kaveh', 'Keqing', 'Kirara', 'Klee', 'Kuki_Shinobu', 'Layla', 'Lisa', 'Lynette', 'Lyney', 'Mika', 'Mona', 'Nahida', 'Navia', 'Neuvillette', 'Nilou', 'Ningguang', 'Noelle', 'Qiqi', 'Raiden_Shogun', 'Razor', 'Rosaria', 'Sayu', 'Shenhe', 'Sucrose', 'Thoma', 'Tighnari', 'Traveler_(Anemo)', 'Traveler_(Dendro)', 'Traveler_(Electro)', 'Traveler_(Geo)', 'Traveler_(Hydro)', 'Venti', 'Wanderer', 'Wriothesley', 'Xiangling', 'Xianyun', 'Xiao', 'Xingqiu', 'Xinyan', 'Yae_Miko', 'Yanfei', 'Yaoyao', 'Yelan', 'Yoimiya', 'Yun_Jin', 'Zhongli', 'Arataki_Itto', 'Kaedehara_Kazuha', 'Shikanoin_Heizou', 'Kujou_Sara', 'Tartaglia', 'Kamisato_Ayato', 'Kamisato_Ayaka', 'Sangonomiya_Kokomi']\n",
      "['albedo', 'alhaitham', 'aloy', 'amber', 'baizhu', 'barbara', 'beidou', 'bennett', 'candace', 'charlotte', 'chevreuse', 'chiori', 'chongyun', 'collei', 'cyno', 'dehya', 'diluc', 'diona', 'dori', 'eula', 'faruzan', 'fischl', 'freminet', 'furina', 'gaming', 'ganyu', 'gorou', 'hutao', 'jean', 'kaeya', 'kaveh', 'keqing', 'kirara', 'klee', 'kukishinobu', 'layla', 'lisa', 'lynette', 'lyney', 'mika', 'mona', 'nahida', 'navia', 'neuvillette', 'nilou', 'ningguang', 'noelle', 'qiqi', 'raiden', 'razor', 'rosaria', 'sayu', 'shenhe', 'sucrose', 'thoma', 'tighnari', 'traveler(anemo)', 'traveler(dendro)', 'traveler(electro)', 'traveler(geo)', 'traveler(hydro)', 'venti', 'wanderer', 'wriothesley', 'xiangling', 'xianyun', 'xiao', 'xingqiu', 'xinyan', 'yaemiko', 'yanfei', 'yaoyao', 'yelan', 'yoimiya', 'yunjin', 'zhongli', 'itto', 'kazuha', 'heizou', 'sara', 'childe', 'ayato', 'ayaka', 'kokomi']\n"
     ]
    }
   ],
   "source": [
    "remove_wk = [\"Arataki_Itto\", \"Kaedehara_Kazuha\", \"Shikanoin_Heizou\", \"Kujou_Sara\", \"Tartaglia\",\n",
    "         \"Kamisato_Ayato\", \"Kamisato_Ayaka\", \"Sangonomiya_Kokomi\"]\n",
    "remove_gg = [\"itto\", \"kazuha\", \"heizou\", \"sara\", \"childe\", \"ayato\", \"ayaka\", \"kokomi\"]\n",
    "\n",
    "characters_wk = [item for item in characters_wk if item not in remove_wk]\n",
    "characters_wk = characters_wk + remove_wk\n",
    "print(characters_wk)\n",
    "\n",
    "characters_gg = [item for item in characters_gg if item not in remove_gg]\n",
    "characters_gg = characters_gg + remove_gg\n",
    "print(characters_gg)"
   ]
  },
  {
   "cell_type": "code",
   "execution_count": 14,
   "id": "982e8837",
   "metadata": {},
   "outputs": [],
   "source": [
    "#for i in range(50,80):\n",
    "#    print(characters_gg2[i])\n",
    "#    print(characters_wk2[i])"
   ]
  },
  {
   "cell_type": "markdown",
   "id": "19c8c0ce",
   "metadata": {},
   "source": [
    "### Scraping Constellation Data"
   ]
  },
  {
   "cell_type": "code",
   "execution_count": 15,
   "id": "a8c1266e",
   "metadata": {},
   "outputs": [],
   "source": [
    "#Web Scraping Constellation Data from Genshin.gg - Complete\n",
    "\n",
    "characters_gg_test = characters_gg[2:5]\n",
    "cons_full = []\n",
    "\n",
    "for names in characters_gg_test:\n",
    "    \n",
    "    url_chara_gg = \"https://genshin.gg/characters/\"+names+\"/\"\n",
    "    page_chara_gg = requests.get(url_chara_gg)\n",
    "    soup_chara_gg = BeautifulSoup(page_chara_gg.content, \"html.parser\")\n",
    " \n",
    "\n",
    "    #Obtaining the constellation html info\n",
    "    \n",
    "    if soup_chara_gg.find(\"div\", id='constellations') != None:\n",
    "        cons1 = soup_chara_gg.find(\"div\", id=\"constellations\").find_all(\"div\", class_=\"character-skill-description\")\n",
    "        cons2 = [con.get_text() for con in cons1]\n",
    "        #print(cons2)\n",
    "        cons_full.append(cons2)\n",
    "    \n",
    "    else:\n",
    "        #print(\"No Constellations\")\n",
    "        notext = \"This character has no constellations.\"\n",
    "        cons_full.append(notext)"
   ]
  },
  {
   "cell_type": "code",
   "execution_count": 17,
   "id": "aa2760ff",
   "metadata": {},
   "outputs": [],
   "source": [
    "#cons_full"
   ]
  },
  {
   "cell_type": "markdown",
   "id": "33cdb8ab",
   "metadata": {},
   "source": [
    "### Scraping Dates Data"
   ]
  },
  {
   "cell_type": "code",
   "execution_count": 87,
   "id": "08f9d481",
   "metadata": {},
   "outputs": [
    {
     "name": "stdout",
     "output_type": "stream",
     "text": [
      "<class 'bs4.element.Tag'>\n",
      "<class 'bs4.element.Tag'>\n",
      "<class 'bs4.element.Tag'>\n",
      "<class 'bs4.element.Tag'>\n",
      "<class 'bs4.element.Tag'>\n",
      "<class 'bs4.element.Tag'>\n",
      "<class 'bs4.element.Tag'>\n",
      "<class 'bs4.element.Tag'>\n",
      "<class 'bs4.element.Tag'>\n",
      "<class 'bs4.element.Tag'>\n"
     ]
    }
   ],
   "source": [
    "#Obtaining the release date of the Character\n",
    "\n",
    "characters_wk_test = characters_wk[74:83]\n",
    "dates_full = []\n",
    "\n",
    "for names in characters_wk_test:\n",
    "\n",
    "    url_chara_wk = \"https://genshin-impact.fandom.com/wiki/\"+names\n",
    "    page_chara_wk = requests.get(url_chara_wk)\n",
    "    soup_chara_wk = BeautifulSoup(page_chara_wk.content, \"html.parser\")\n",
    "    \n",
    "    \n",
    "    release_date_div = soup_chara_wk.find('div', {'data-source': 'releaseDate'})\n",
    "    print(type(release_date_div))\n",
    "    \n",
    "    output = release_date_div.find('div', class_='pi-data-value').get_text(strip=True).split()[0:3]\n",
    "    output[2] = output[2][:4]\n",
    "    \n",
    "    output = ' '.join(output)\n",
    "    output = datetime.strptime(output, \"%B %d, %Y\").date()\n",
    "    \n",
    "    dates_full.append(output)\n"
   ]
  },
  {
   "cell_type": "code",
   "execution_count": 88,
   "id": "c5c9c6aa",
   "metadata": {},
   "outputs": [
    {
     "data": {
      "text/plain": [
       "[datetime.date(2022, 1, 5),\n",
       " datetime.date(2020, 12, 1),\n",
       " datetime.date(2021, 12, 14),\n",
       " datetime.date(2021, 6, 29),\n",
       " datetime.date(2022, 7, 13),\n",
       " datetime.date(2021, 9, 1),\n",
       " datetime.date(2020, 11, 11),\n",
       " datetime.date(2022, 3, 30),\n",
       " datetime.date(2021, 7, 21),\n",
       " datetime.date(2021, 9, 21)]"
      ]
     },
     "execution_count": 88,
     "metadata": {},
     "output_type": "execute_result"
    }
   ],
   "source": [
    "dates_full"
   ]
  },
  {
   "cell_type": "markdown",
   "id": "e5901a36",
   "metadata": {},
   "source": [
    "### Combining the Functions"
   ]
  },
  {
   "cell_type": "code",
   "execution_count": 94,
   "id": "69663be8",
   "metadata": {},
   "outputs": [
    {
     "data": {
      "text/plain": [
       "{datetime.date(2024, 1, 9): ['When the active character with the \"Coordinated Tactics\" status (not including Chevreuse herself) triggers the Overloaded reaction, they will recover 6 Energy. This effect can be triggered once every 10s. You must first unlock the Passive Talent \"Vanguard\\'s Coordinated Tactics.\"',\n",
       "  \"After Holding Short-Range Rapid Interdiction Fire and hitting a target, 2 chain explosions will be triggered near the location where said target is hit. Each explosion deals Pyro DMG equal to 120% of Chevreuse's ATK. This effect can be triggered up to once every 10s, and DMG dealt this way is considered Elemental Skill DMG.\",\n",
       "  'Increases the Level of Short-Range Rapid Interdiction Fire by 3. Maximum upgrade level is 15.',\n",
       "  'After using Ring of Bursting Grenades, the Hold mode of Short-Range Rapid Interdiction Fire will not go on cooldown when Chevreuse uses it. This effect is removed after Short-Range Rapid Interdiction Fire has been fired twice using Hold or after 6s.',\n",
       "  'Increases the Level of Ring of Bursting Grenades by 3. Maximum upgrade level is 15.',\n",
       "  \"After 12s of the healing effect from Short-Range Rapid Interdiction Fire, all nearby party members recover HP equivalent to 10% of Chevreuse's Max HP once. After a party member is healed by Short-Range Rapid Interdiction Fire, they gain a 20% Pyro DMG Bonus and Electro DMG Bonus for 8s. Max 3 stacks. Each stack's duration is counted independently.\"],\n",
       " datetime.date(2024, 3, 13): ['The AoE of the automaton doll \"Tamoto\" summoned by Fluttering Hasode is increased by 50%. Additionally, if there is a Geo party member other than Chiori, Fluttering Hasode will trigger the following after the dash is completed: Summon an additional Tamoto. Only one additional Tamoto can exist at the same time, whether summoned by Chiori this way or through the presence of a Geo Construct. Triggers the Passive Talent \"The Finishing Touch.\" This effect requires you to first unlock the Passive Talent \"The Finishing Touch.\"',\n",
       "  'For 10s after using Hiyoku: Twin Blades, a simplified automaton doll, \"Kinu,\" will be summoned next to your active character every 3s. Kinu will attack nearby opponents, dealing AoE Geo DMG equivalent to 170% of Tamoto\\'s DMG. DMG dealt this way is considered Elemental Skill DMG. Kinu will leave the field after 1 attack or after lasting 3s.',\n",
       "  'Increases the Level of Fluttering Hasode by 3. Maximum upgrade level is 15.',\n",
       "  'For 8s after triggering either follow-up effect of the Passive Talent \"Tailor-Made,\" when your current active character\\'s Normal, Charged, or Plunging Attacks hit a nearby opponent, a simplified automaton doll, \"Kinu,\" will be summoned near this opponent. You can summon 1 Kinu every 1s in this way, and up to 3 Kinu may be summoned this way during each instance of \"Tailor-Made\"\\'s Seize the Moment or Tailoring effect. The above effect can be triggered up to once every 15s. Must unlock the Passive Talent \"Tailor-Made\" first.',\n",
       "  'Increases the Level of Hiyoku: Twin Blades by 3. Maximum upgrade level is 15.',\n",
       "  'After triggering a follow-up effect of the Passive Talent \"Tailor-Made,\" Chiori\\'s own Fluttering Hasode\\'s CD is decreased by 12s. Must unlock the Passive \"Tailor-Made\" first. In addition, the DMG dealt by Chiori\\'s own Normal Attacks is increased by an amount equal to 235% of her own DEF.'],\n",
       " datetime.date(2020, 9, 28): [\"The last attack of Chongyun's Normal Attack combo releases 3 ice blades. Each blade deals 50% of Chongyun's ATK as Cryo DMG to all enemies in its path.\",\n",
       "  \"Elemental Skills and Elemental Bursts cast within the Frost Field created by Spirit Blade - Chongyun's Layered Frost have their CD time decreased by 15%.\",\n",
       "  'Increases the Level of Spirit Blade - Cloud-parting Star by 3. Maximum upgrade level is 15.',\n",
       "  'Chongyun regenerates 1 Energy every time he hits an enemy affected by Cold or Frozen status effects. This effect can only occur once every 2s.',\n",
       "  \"Increases the level of Spirit Blade - Chongyun's Layered Frost by 3. Maximum upgrade level is 15.\",\n",
       "  'Spirit Blade - Cloud-parting Star deals 15% more DMG to enemies with a lower percentage of their Max HP remaining than Chongyun. This skill will also summon 1 additional spirt blade.'],\n",
       " datetime.date(2022, 8, 24): [\"When in the party and not on the field, Collei's Energy Recharge is increased by 20%.\",\n",
       "  \"The Passive Talent Floral Sidewinder is changed to this: The Floral Ring will grant the character the Sprout effect from Floral Sidewinder upon return, dealing 40% of Collei's ATK as Dendro DMG to nearby opponents for 3s. From the moment of using Floral Brush to the moment when this instance of Sprout effect ends, if any of your party members triggers Burning, Quicken, Aggravate, Spread, Bloom, Hyperbloom, or Burgeon reactions, the Sprout effect will be extended by 3s. The Sprout effect can only be extended this way once. If another Sprout effect is triggered during its initial duration, the initial effect will be removed. Requires you to have unlocked the Floral Sidewinder Passive Talent.\",\n",
       "  'Increases the Level of Floral Brush by 3. Maximum upgrade level is 15.',\n",
       "  \"Using Trump-Card Kitty will increase all nearby characters' Elemental Mastery by 60 for 12s (not including Collei herself).\",\n",
       "  'Increase the Level of Trump-Card Kitty by 3. Maximum upgrade level is 15.',\n",
       "  \"When the Floral Ring hits, it will create a miniature Cuilein-Anbar that will deal 200% of Collei's ATK as Dendro DMG. Each Floral Brush can only create one such miniature Cuilein-Anbar.\"],\n",
       " datetime.date(2022, 9, 28): ['After using Sacred Rite: Wolf\\'s Swiftness, Cyno\\'s Normal Attack SPD will be increased by 20% for 10s. If the Judication effect of his Passive Talent Featherfall Judgment is triggered during Secret Rite: Chasmic Soulfarer, the duration of this increase will be refreshed. You need to unlock the Passive Talent \"Featherfall Judgement.\"',\n",
       "  \"When Cyno's Normal Attacks hit opponents, his Electro DMG Bonus will increase by 10% for 4s. This effect can be triggered once every 0.1s. Max 5 stacks.\",\n",
       "  \"Increases the Level of Sacred Rite: Wolf's Swiftness by 3. Maximum upgrade level is 15.\",\n",
       "  \"When Cyno is in the Pactsworn Pathclearer state triggered by Sacred Rite: Wolf's Swiftness, after he triggers Electro-Charged, Superconduct, Overloaded, Quicken, Aggravate, Hyperbloom, or an Electro Swirl reaction, he will restore 3 Elemental Energy for all nearby party members (except himself.) This effect can occur 5 times within one use of Sacred Rite: Wolf’s Swiftness.\",\n",
       "  'Increase the Level of Secret Rite: Chasmic Soulfarer by 3. Maximum upgrade level is 15.',\n",
       "  'After using Sacred Rite: Wolf\\'s Swiftness or triggering the Judication effect of the Passive Talent \"Featherfall Judgment,\" Cyno will gain 4 stacks of the \"Day of the Jackal\" effect. When he hits opponents with Normal Attacks, he will consume 1 stack of \"Day of the Jackal\" to fire off one Duststalker Bolt. \"Day of the Jackal\" lasts for 8s. Max 8 stacks. It will be canceled once Pactsworn Pathclearer ends. A maximum of 1 Duststalker Bolt can be unleashed this way every 0.4s. You must first unlock the Passive Talent \"Featherfall Judgment.\"']}"
      ]
     },
     "execution_count": 94,
     "metadata": {},
     "output_type": "execute_result"
    }
   ],
   "source": [
    "characters_wk_test = characters_wk[10:15]\n",
    "characters_gg_test = characters_gg[10:15]\n",
    "cons_full = []\n",
    "dates_full = []\n",
    "\n",
    "for names in characters_gg_test:\n",
    "    \n",
    "    url_chara_gg = \"https://genshin.gg/characters/\"+names+\"/\"\n",
    "    page_chara_gg = requests.get(url_chara_gg)\n",
    "    soup_chara_gg = BeautifulSoup(page_chara_gg.content, \"html.parser\")\n",
    " \n",
    "\n",
    "    #Obtaining the constellation html info\n",
    "    \n",
    "    if soup_chara_gg.find(\"div\", id='constellations') != None:\n",
    "        cons1 = soup_chara_gg.find(\"div\", id=\"constellations\").find_all(\"div\", class_=\"character-skill-description\")\n",
    "        cons2 = [con.get_text() for con in cons1]\n",
    "        #print(cons2)\n",
    "        cons_full.append(cons2)\n",
    "    \n",
    "    else:\n",
    "        #print(\"No Constellations\")\n",
    "        notext = \"This character has no constellations.\"\n",
    "        cons_full.append(notext)\n",
    "        \n",
    "        \n",
    "for names in characters_wk_test:\n",
    "\n",
    "    url_chara_wk = \"https://genshin-impact.fandom.com/wiki/\"+names\n",
    "    page_chara_wk = requests.get(url_chara_wk)\n",
    "    soup_chara_wk = BeautifulSoup(page_chara_wk.content, \"html.parser\")\n",
    "    \n",
    "    \n",
    "    release_date_div = soup_chara_wk.find('div', {'data-source': 'releaseDate'})\n",
    "    \n",
    "    output = release_date_div.find('div', class_='pi-data-value').get_text(strip=True).split()[0:3]\n",
    "    output[2] = output[2][:4]\n",
    "    \n",
    "    output = ' '.join(output)\n",
    "    output = datetime.strptime(output, \"%B %d, %Y\").date()\n",
    "    \n",
    "    dates_full.append(output)\n",
    "    \n",
    "pairs = zip(dates_full, cons_full)\n",
    "my_dict = dict(pairs)\n",
    "my_dict"
   ]
  },
  {
   "cell_type": "code",
   "execution_count": 92,
   "id": "d92a9f7d",
   "metadata": {},
   "outputs": [
    {
     "data": {
      "text/plain": [
       "{datetime.date(2021, 9, 1): 'This character has no constellations.',\n",
       " datetime.date(2020, 9, 28): [\"Fires 2 arrows per Aimed Shot. The second arrow deals 20% of the first arrow's DMG.\",\n",
       "  \"Baron Bunny, new and improved! Hitting Baron Bunny's foot with a fully-charged Aimed Shot manually detonates it. Explosion via manual detonation deals 200% additional DMG.\",\n",
       "  'Increases the Level of Fiery Rain by 3. Maximum upgrade level is 15.',\n",
       "  \"Decreases Explosive Puppet's CD by 20%. Adds 1 additional charge.\",\n",
       "  'Increase the Level of Explosive Puppet by 3. Maximum upgrade level is 15.',\n",
       "  \"Fiery Rain increases Amber's Movement SPD by 15% and Base ATK by 15% for 10s.\"],\n",
       " datetime.date(2023, 5, 2): ['Universal Diagnosis gains 1 additional charge.',\n",
       "  \"When your own active character hits a nearby opponent with their attacks, Baizhu will unleash a Gossamer Sprite: Splice. Gossamer Sprite: Splice will initiate 1 attack before returning, dealing 250% of Baizhu's ATK as Dendro DMG and healing for 20% of Universal Diagnosis's Gossamer Sprite's normal healing. DMG dealt this way is considered Elemental Skill DMG. This effect can be triggered once every 5s.\",\n",
       "  'Increases the Level of Holistic Revivification by 3. Maximum upgrade level is 15.',\n",
       "  \"For 15s after Holistic Revivification is used, Baizhu will increase all nearby party members' Elemental Mastery by 80.\",\n",
       "  'Increase the Level of Universal Diagnosis by 3. Maximum upgrade level is 15.',\n",
       "  \"Increases the DMG dealt by Holistic Revivification's Spiritveins by 8% of Baizhu's Max HP. Additionally, when a Gossamer Sprite or Gossamer Sprite: Splice hits opponents, there is a 100% chance of generating one of Holistic Revivification's Seamless Shields. This effect can only be triggered once by each Gossamer Sprite or Gossamer Sprite: Splice.\"]}"
      ]
     },
     "execution_count": 92,
     "metadata": {},
     "output_type": "execute_result"
    }
   ],
   "source": [
    "#print(dates_full)\n",
    "#print(cons_full)\n",
    "\n",
    "# Using zip to combine the two lists into a list of tuples\n",
    "pairs = zip(dates_full, cons_full)\n",
    "\n",
    "# Converting the list of tuples into a dictionary\n",
    "my_dict = dict(pairs)\n",
    "\n",
    "my_dict"
   ]
  },
  {
   "cell_type": "code",
   "execution_count": null,
   "id": "2ece8ad2",
   "metadata": {},
   "outputs": [],
   "source": [
    "    #if release_date_div:\n",
    "    #    release_date_text = release_date_div.find('div', class_='pi-data-value')\n",
    "    #    release_date_text = release_date_text.get_text(strip=True).split(' ')\n",
    "    #    output = release_date_text[0:3]\n",
    "    \n",
    "    #    if len(output) >= 3:                  # Check if there are at least 3 elements in the list\n",
    "    #        output[2] = output[2][:4]\n",
    "\n",
    "        #output = ' '.join(output)\n",
    "        #output = datetime.strptime(output, \"%B %d, %Y\").date()\n",
    "    #    dates_full.append(output)\n",
    "        \n",
    "    #else:\n",
    "    #    print(\"No release date found.\")"
   ]
  },
  {
   "cell_type": "code",
   "execution_count": 48,
   "id": "2bdda974",
   "metadata": {},
   "outputs": [
    {
     "data": {
      "text/plain": [
       "'Sangonomiya_Kokomi'"
      ]
     },
     "execution_count": 48,
     "metadata": {},
     "output_type": "execute_result"
    }
   ],
   "source": [
    "characters_wk[83]"
   ]
  },
  {
   "cell_type": "code",
   "execution_count": 64,
   "id": "b9189a80",
   "metadata": {},
   "outputs": [],
   "source": [
    "url_chara_wk = \"https://genshin-impact.fandom.com/wiki/\"+characters_wk[83]\n",
    "page_chara_wk = requests.get(url_chara_wk)\n",
    "soup_chara_wk = BeautifulSoup(page_chara_wk.content, \"html.parser\")"
   ]
  },
  {
   "cell_type": "code",
   "execution_count": 65,
   "id": "4259e9bb",
   "metadata": {},
   "outputs": [
    {
     "data": {
      "text/plain": [
       "<div class=\"pi-item pi-data pi-item-spacing pi-border-color\" data-source=\"releaseDate\">\n",
       "<h3 class=\"pi-data-label pi-secondary-font\"><a href=\"/wiki/Character/List#Characters_by_Release_Date\" title=\"Character/List\">Release Date</a></h3>\n",
       "<div class=\"pi-data-value pi-font\">September 21, 2021<br/>2 years, 6 months ago</div>\n",
       "</div>"
      ]
     },
     "execution_count": 65,
     "metadata": {},
     "output_type": "execute_result"
    }
   ],
   "source": [
    "release_date_div = soup_chara_wk.find('div', {'data-source': 'releaseDate'})\n",
    "release_date_div"
   ]
  },
  {
   "cell_type": "code",
   "execution_count": 66,
   "id": "5e564b90",
   "metadata": {},
   "outputs": [
    {
     "data": {
      "text/plain": [
       "datetime.date(2021, 9, 21)"
      ]
     },
     "execution_count": 66,
     "metadata": {},
     "output_type": "execute_result"
    }
   ],
   "source": [
    "output = release_date_div.find('div', class_='pi-data-value').get_text(strip=True).split()[0:3]\n",
    "output[2] = output[2][:4]\n",
    "\n",
    "output = ' '.join(output)\n",
    "output = datetime.strptime(output, \"%B %d, %Y\").date()\n",
    "\n",
    "output"
   ]
  },
  {
   "cell_type": "code",
   "execution_count": 86,
   "id": "a0cce34c",
   "metadata": {},
   "outputs": [
    {
     "name": "stdout",
     "output_type": "stream",
     "text": [
      "<div class=\"pi-item pi-data pi-item-spacing pi-border-color\" data-source=\"releaseDate\">\n",
      "<h3 class=\"pi-data-label pi-secondary-font\"><a href=\"/wiki/Character/List#Characters_by_Release_Date\" title=\"Character/List\">Release Date</a></h3>\n",
      "<div class=\"pi-data-value pi-font\">August 10, 2021<br/>2 years, 8 months ago</div>\n",
      "</div>\n",
      "<div class=\"pi-item pi-data pi-item-spacing pi-border-color\" data-source=\"releaseDate\">\n",
      "<h3 class=\"pi-data-label pi-secondary-font\"><a href=\"/wiki/Character/List#Characters_by_Release_Date\" title=\"Character/List\">Release Date</a></h3>\n",
      "<div class=\"pi-data-value pi-font\">January 05, 2022<br/>2 years, 3 months ago</div>\n",
      "</div>\n"
     ]
    }
   ],
   "source": [
    "characters_wk_test = characters_wk[73:75]\n",
    "dates_full = []\n",
    "\n",
    "for names in characters_wk_test:\n",
    "\n",
    "    url_chara_wk = \"https://genshin-impact.fandom.com/wiki/\"+names\n",
    "    page_chara_wk = requests.get(url_chara_wk)\n",
    "    soup_chara_wk = BeautifulSoup(page_chara_wk.content, \"html.parser\")\n",
    "    \n",
    "    release_date_div = soup_chara_wk.find('div', {'data-source': 'releaseDate'})\n",
    "    print(release_date_div)"
   ]
  },
  {
   "cell_type": "code",
   "execution_count": 83,
   "id": "ff3369e2",
   "metadata": {},
   "outputs": [
    {
     "data": {
      "text/plain": [
       "<div class=\"pi-item pi-data pi-item-spacing pi-border-color\" data-source=\"releaseDate\">\n",
       "<h3 class=\"pi-data-label pi-secondary-font\"><a href=\"/wiki/Character/List#Characters_by_Release_Date\" title=\"Character/List\">Release Date</a></h3>\n",
       "<div class=\"pi-data-value pi-font\">January 05, 2022<br/>2 years, 3 months ago</div>\n",
       "</div>"
      ]
     },
     "execution_count": 83,
     "metadata": {},
     "output_type": "execute_result"
    }
   ],
   "source": [
    "url_chara_wk = \"https://genshin-impact.fandom.com/wiki/\"+characters_wk[74]\n",
    "page_chara_wk = requests.get(url_chara_wk)\n",
    "soup_chara_wk = BeautifulSoup(page_chara_wk.content, \"html.parser\")\n",
    "\n",
    "release_date_div = soup_chara_wk.find('div', {'data-source': 'releaseDate'})\n",
    "release_date_div"
   ]
  },
  {
   "cell_type": "markdown",
   "id": "c0fd8759",
   "metadata": {},
   "source": [
    "### Obtaining list of all classes used in Character's html page\n",
    "\n",
    "#class list set \n",
    "class_list = set() \n",
    "\n",
    "#Page content from Website URL \n",
    "page = requests.get(url_chara) \n",
    "\n",
    "#parse html content \n",
    "soup = BeautifulSoup(page.content , 'html.parser') \n",
    "\n",
    "#get all tags \n",
    "tags = {tag.name for tag in soup.find_all()} \n",
    "\n",
    "\n",
    "for tag in tags:                       # iterate all tags \n",
    "\n",
    "    for i in soup.find_all( tag ):     # find all element of tag \n",
    " \n",
    "        if i.has_attr( \"class\" ):      # if tag has attribute of class\n",
    "\n",
    "            if len( i['class'] ) != 0: \n",
    "                class_list.add(\" \".join( i['class'])) "
   ]
  },
  {
   "cell_type": "markdown",
   "id": "33da5d22",
   "metadata": {},
   "source": [
    "#print(class_list) "
   ]
  },
  {
   "cell_type": "code",
   "execution_count": null,
   "id": "6728f173",
   "metadata": {},
   "outputs": [],
   "source": [
    "#Creating a list of the character's constellations.\n",
    "\n",
    "cons3 = []\n",
    "\n",
    "for data in cons2:\n",
    "    \n",
    "    #soup = BeautifulSoup(data, 'html.parser')\n",
    "    #print(type(data))\n",
    "    #li_tag = data.find('li')\n",
    "    \n",
    "    if data:\n",
    "        data = data.text.strip()\n",
    "        #print(data)\n",
    "        cons3.append(data)\n",
    "    else:\n",
    "        print(\"No tag found.\")"
   ]
  },
  {
   "cell_type": "code",
   "execution_count": null,
   "id": "0e0a2142",
   "metadata": {},
   "outputs": [],
   "source": [
    "print(cons3)"
   ]
  },
  {
   "cell_type": "code",
   "execution_count": 29,
   "id": "16ae2235",
   "metadata": {},
   "outputs": [
    {
     "name": "stdout",
     "output_type": "stream",
     "text": [
      "Release Date: May 02, 2023\n"
     ]
    }
   ],
   "source": [
    "#Obtaining the release date of the Character\n",
    "\n",
    "#print(release_date_div)\n",
    "\n",
    "\n",
    "url_chara_wk = \"https://genshin-impact.fandom.com/wiki/\"+characters_wk[4]\n",
    "page_chara_wk = requests.get(url_chara_wk)\n",
    "soup_chara_wk = BeautifulSoup(page_chara_wk.content, \"html.parser\")\n",
    "\n",
    "\n",
    "release_date_div = soup_chara_wk.find('div', {'data-source': 'releaseDate'})\n",
    "\n",
    "\n",
    "if release_date_div:\n",
    "    release_date_text = release_date_div.find('div', class_='pi-data-value')\n",
    "    release_date_text = release_date_text.get_text(strip=True).split(' ')\n",
    "    \n",
    "    #print(release_date_text)\n",
    "    #str(release_date_text)\n",
    "        \n",
    "    output = release_date_text[0:3]\n",
    "    \n",
    "    if len(output) >= 3:  # Check if there are at least 3 elements in the list\n",
    "        output[2] = output[2][:4]\n",
    "\n",
    "    output = ' '.join(output)\n",
    "    #output = datetime.strptime(output, \"%B %d, %Y\").date()\n",
    "    \n",
    "    #output\n",
    "    \n",
    "    print(\"Release Date:\", output)\n",
    "    \n",
    "else:\n",
    "    print(\"No release date found.\")"
   ]
  },
  {
   "cell_type": "code",
   "execution_count": 28,
   "id": "52d84877",
   "metadata": {},
   "outputs": [
    {
     "data": {
      "text/plain": [
       "'2023'"
      ]
     },
     "execution_count": 28,
     "metadata": {},
     "output_type": "execute_result"
    }
   ],
   "source": [
    "output = release_date_text[0:3]\n",
    "output[2][:4]"
   ]
  },
  {
   "cell_type": "code",
   "execution_count": null,
   "id": "117aa985",
   "metadata": {},
   "outputs": [],
   "source": [
    "#string_to_remove = ['itto', 'kazuha', 'sara', 'kokomi', 'ayato', 'ayaka', 'childe']\n",
    "#filtered_list1 = [item for item in characters_gg if item != string_to_remove]\n",
    "\n",
    "#'Arataki_Itto', 'Kaedehara_Kazuha', \"Sangonomiya_Kokomi\", \"Kujo_Sara\", 'Kamisato_Ayato', 'Kamisato_Ayaka', \n",
    "#'Lumine', 'Traveler_(Unaligned)', Tartaglia\n",
    "\n",
    "#filtered_list1"
   ]
  },
  {
   "cell_type": "code",
   "execution_count": null,
   "id": "2ca2fd06",
   "metadata": {},
   "outputs": [],
   "source": []
  }
 ],
 "metadata": {
  "kernelspec": {
   "display_name": "Python 3 (ipykernel)",
   "language": "python",
   "name": "python3"
  },
  "language_info": {
   "codemirror_mode": {
    "name": "ipython",
    "version": 3
   },
   "file_extension": ".py",
   "mimetype": "text/x-python",
   "name": "python",
   "nbconvert_exporter": "python",
   "pygments_lexer": "ipython3",
   "version": "3.9.13"
  }
 },
 "nbformat": 4,
 "nbformat_minor": 5
}
