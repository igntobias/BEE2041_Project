{
 "cells": [
  {
   "cell_type": "code",
   "execution_count": 224,
   "id": "6392af7c",
   "metadata": {},
   "outputs": [],
   "source": [
    "from bs4 import BeautifulSoup\n",
    "from urllib.request import urlopen\n",
    "import numpy as np\n",
    "import pandas as pd\n",
    "import matplotlib.pyplot as plt\n",
    "from datetime import datetime\n",
    "import requests\n",
    "from collections import Counter\n",
    "from collections import defaultdict"
   ]
  },
  {
   "cell_type": "markdown",
   "id": "0eb7684f",
   "metadata": {},
   "source": [
    "### Obtaining all Names (Wikia)"
   ]
  },
  {
   "cell_type": "code",
   "execution_count": 113,
   "id": "8ad02c34",
   "metadata": {},
   "outputs": [],
   "source": [
    "#urlnames = \"https://game8.co/games/Genshin-Impact/archives/296707\"\n",
    "\n",
    "#Web scraping the wikia for Genshin's playable character list.\n",
    "\n",
    "urlnames_wk = \"https://genshin-impact.fandom.com/wiki/Category:Playable_Characters\"\n",
    "\n",
    "pagenames_wk = requests.get(urlnames_wk)\n",
    "\n",
    "soupname_wk = BeautifulSoup(pagenames_wk.text, \"html.parser\")"
   ]
  },
  {
   "cell_type": "code",
   "execution_count": 114,
   "id": "a05a2ec1",
   "metadata": {},
   "outputs": [],
   "source": [
    "#Scraping through to get the html, identifying which class and identifier to find the names\n",
    "\n",
    "imgtag_wk = soupname_wk.find_all(\"a\", class_=\"category-page__member-link\")\n",
    "#imgtag"
   ]
  },
  {
   "cell_type": "code",
   "execution_count": 116,
   "id": "f326d3b5",
   "metadata": {},
   "outputs": [
    {
     "name": "stdout",
     "output_type": "stream",
     "text": [
      "['Albedo', 'Alhaitham', 'Aloy', 'Amber', 'Arataki_Itto', 'Baizhu', 'Barbara', 'Beidou', 'Bennett', 'Candace', 'Charlotte', 'Chevreuse', 'Chiori', 'Chongyun', 'Collei', 'Cyno', 'Dehya', 'Diluc', 'Diona', 'Dori', 'Eula', 'Faruzan', 'Fischl', 'Freminet', 'Furina', 'Gaming', 'Ganyu', 'Gorou', 'Hu_Tao', 'Jean', 'Kaedehara_Kazuha', 'Kaeya', 'Kamisato_Ayaka', 'Kamisato_Ayato', 'Kaveh', 'Keqing', 'Kirara', 'Klee', 'Kujou_Sara', 'Kuki_Shinobu', 'Layla', 'Lisa', 'Lynette', 'Lyney', 'Mika', 'Mona', 'Nahida', 'Navia', 'Neuvillette', 'Nilou', 'Ningguang', 'Noelle', 'Qiqi', 'Raiden_Shogun', 'Razor', 'Rosaria', 'Sangonomiya_Kokomi', 'Sayu', 'Shenhe', 'Shikanoin_Heizou', 'Sucrose', 'Tartaglia', 'Thoma', 'Tighnari', 'Traveler_(Anemo)', 'Traveler_(Dendro)', 'Traveler_(Electro)', 'Traveler_(Geo)', 'Traveler_(Hydro)', 'Venti', 'Wanderer', 'Wriothesley', 'Xiangling', 'Xianyun', 'Xiao', 'Xingqiu', 'Xinyan', 'Yae_Miko', 'Yanfei', 'Yaoyao', 'Yelan', 'Yoimiya', 'Yun_Jin', 'Zhongli']\n"
     ]
    }
   ],
   "source": [
    "#Converting the soup into a usable List\n",
    "\n",
    "type(imgtag_wk)\n",
    "\n",
    "titles = [tag['title'] for tag in imgtag_wk]\n",
    "characters_wk = titles[6:]\n",
    "\n",
    "#Replacing spaces with underscores for it to be usable in iterating through the wikia pages\n",
    "\n",
    "converter = lambda x: x.replace(' ', '_')\n",
    "characters_wk = list(map(converter, characters_wk))\n",
    "characters_wk = sorted(characters_wk)\n",
    "\n",
    "\n",
    "remove = [\"Lumine\", \"Traveler_(Unaligned)\", \"Traveler\"]    #These characters are extras\n",
    "characters_wk = [item for item in characters_wk if item not in remove]\n",
    "\n",
    "print(characters_wk)"
   ]
  },
  {
   "cell_type": "markdown",
   "id": "4cd05956",
   "metadata": {},
   "source": [
    "### Obtaining All Names (gg)"
   ]
  },
  {
   "cell_type": "code",
   "execution_count": 117,
   "id": "bc5fffcd",
   "metadata": {},
   "outputs": [],
   "source": [
    "#Web scraping the wikia for Genshin's playable character list.\n",
    "\n",
    "urlnames_gg = \"https://genshin.gg/\"\n",
    "\n",
    "pagenames_gg = requests.get(urlnames_gg)\n",
    "\n",
    "soupname_gg = BeautifulSoup(pagenames_gg.text, \"html.parser\")"
   ]
  },
  {
   "cell_type": "code",
   "execution_count": 118,
   "id": "ff9e584f",
   "metadata": {},
   "outputs": [],
   "source": [
    "#Scraping through to get the html, identifying which class and identifier to find the names\n",
    "\n",
    "imgtag_gg = soupname_gg.find_all(\"h2\", class_= \"character-name\")\n",
    "#imgtag_gg"
   ]
  },
  {
   "cell_type": "code",
   "execution_count": 119,
   "id": "509af59a",
   "metadata": {},
   "outputs": [
    {
     "name": "stdout",
     "output_type": "stream",
     "text": [
      "['albedo', 'alhaitham', 'aloy', 'amber', 'ayaka', 'ayato', 'baizhu', 'barbara', 'beidou', 'bennett', 'candace', 'charlotte', 'chevreuse', 'childe', 'chiori', 'chongyun', 'collei', 'cyno', 'dehya', 'diluc', 'diona', 'dori', 'eula', 'faruzan', 'fischl', 'freminet', 'furina', 'gaming', 'ganyu', 'gorou', 'heizou', 'hutao', 'itto', 'jean', 'kaeya', 'kaveh', 'kazuha', 'keqing', 'kirara', 'klee', 'kokomi', 'kukishinobu', 'layla', 'lisa', 'lynette', 'lyney', 'mika', 'mona', 'nahida', 'navia', 'neuvillette', 'nilou', 'ningguang', 'noelle', 'qiqi', 'raiden', 'razor', 'rosaria', 'sara', 'sayu', 'shenhe', 'sucrose', 'thoma', 'tighnari', 'traveler(anemo)', 'traveler(dendro)', 'traveler(electro)', 'traveler(geo)', 'traveler(hydro)', 'venti', 'wanderer', 'wriothesley', 'xiangling', 'xianyun', 'xiao', 'xingqiu', 'xinyan', 'yaemiko', 'yanfei', 'yaoyao', 'yelan', 'yoimiya', 'yunjin', 'zhongli']\n"
     ]
    }
   ],
   "source": [
    "characters_gg = [element.get_text() for element in imgtag_gg]\n",
    "#characters\n",
    "\n",
    "def process_names(names_list):\n",
    "    return [name.replace(\" \", \"\").lower() for name in names_list]\n",
    "\n",
    "characters_gg = process_names(characters_gg)\n",
    "characters_gg = sorted(characters_gg)\n",
    "\n",
    "print(characters_gg)"
   ]
  },
  {
   "cell_type": "markdown",
   "id": "a3790128",
   "metadata": {},
   "source": [
    "### Tidying Up Names"
   ]
  },
  {
   "cell_type": "code",
   "execution_count": 41,
   "id": "68569c06",
   "metadata": {},
   "outputs": [],
   "source": [
    "#len(characters_wk)\n",
    "#len(characters_gg)\n",
    "\n",
    "#[characters_gg, characters_wk]\n",
    "#names = arr(characters_gg & characters_wk)\n",
    "#names"
   ]
  },
  {
   "cell_type": "code",
   "execution_count": 42,
   "id": "b4158028",
   "metadata": {},
   "outputs": [],
   "source": [
    "#print(characters_gg)"
   ]
  },
  {
   "cell_type": "code",
   "execution_count": 43,
   "id": "d4ae19af",
   "metadata": {
    "scrolled": true
   },
   "outputs": [],
   "source": [
    "#print(characters_wk)"
   ]
  },
  {
   "cell_type": "code",
   "execution_count": 120,
   "id": "be4cd472",
   "metadata": {},
   "outputs": [
    {
     "name": "stdout",
     "output_type": "stream",
     "text": [
      "['Albedo', 'Alhaitham', 'Aloy', 'Amber', 'Baizhu', 'Barbara', 'Beidou', 'Bennett', 'Candace', 'Charlotte', 'Chevreuse', 'Chiori', 'Chongyun', 'Collei', 'Cyno', 'Dehya', 'Diluc', 'Diona', 'Dori', 'Eula', 'Faruzan', 'Fischl', 'Freminet', 'Furina', 'Gaming', 'Ganyu', 'Gorou', 'Hu_Tao', 'Jean', 'Kaeya', 'Kaveh', 'Keqing', 'Kirara', 'Klee', 'Kuki_Shinobu', 'Layla', 'Lisa', 'Lynette', 'Lyney', 'Mika', 'Mona', 'Nahida', 'Navia', 'Neuvillette', 'Nilou', 'Ningguang', 'Noelle', 'Qiqi', 'Raiden_Shogun', 'Razor', 'Rosaria', 'Sayu', 'Shenhe', 'Sucrose', 'Thoma', 'Tighnari', 'Traveler_(Anemo)', 'Traveler_(Dendro)', 'Traveler_(Electro)', 'Traveler_(Geo)', 'Traveler_(Hydro)', 'Venti', 'Wanderer', 'Wriothesley', 'Xiangling', 'Xianyun', 'Xiao', 'Xingqiu', 'Xinyan', 'Yae_Miko', 'Yanfei', 'Yaoyao', 'Yelan', 'Yoimiya', 'Yun_Jin', 'Zhongli', 'Arataki_Itto', 'Kaedehara_Kazuha', 'Shikanoin_Heizou', 'Kujou_Sara', 'Tartaglia', 'Kamisato_Ayato', 'Kamisato_Ayaka', 'Sangonomiya_Kokomi']\n",
      "['albedo', 'alhaitham', 'aloy', 'amber', 'baizhu', 'barbara', 'beidou', 'bennett', 'candace', 'charlotte', 'chevreuse', 'chiori', 'chongyun', 'collei', 'cyno', 'dehya', 'diluc', 'diona', 'dori', 'eula', 'faruzan', 'fischl', 'freminet', 'furina', 'gaming', 'ganyu', 'gorou', 'hutao', 'jean', 'kaeya', 'kaveh', 'keqing', 'kirara', 'klee', 'kukishinobu', 'layla', 'lisa', 'lynette', 'lyney', 'mika', 'mona', 'nahida', 'navia', 'neuvillette', 'nilou', 'ningguang', 'noelle', 'qiqi', 'raiden', 'razor', 'rosaria', 'sayu', 'shenhe', 'sucrose', 'thoma', 'tighnari', 'traveler(anemo)', 'traveler(dendro)', 'traveler(electro)', 'traveler(geo)', 'traveler(hydro)', 'venti', 'wanderer', 'wriothesley', 'xiangling', 'xianyun', 'xiao', 'xingqiu', 'xinyan', 'yaemiko', 'yanfei', 'yaoyao', 'yelan', 'yoimiya', 'yunjin', 'zhongli', 'itto', 'kazuha', 'heizou', 'sara', 'childe', 'ayato', 'ayaka', 'kokomi']\n"
     ]
    }
   ],
   "source": [
    "remove_wk = [\"Arataki_Itto\", \"Kaedehara_Kazuha\", \"Shikanoin_Heizou\", \"Kujou_Sara\", \"Tartaglia\",\n",
    "         \"Kamisato_Ayato\", \"Kamisato_Ayaka\", \"Sangonomiya_Kokomi\"]\n",
    "remove_gg = [\"itto\", \"kazuha\", \"heizou\", \"sara\", \"childe\", \"ayato\", \"ayaka\", \"kokomi\"]\n",
    "\n",
    "characters_wk = [item for item in characters_wk if item not in remove_wk]\n",
    "characters_wk = characters_wk + remove_wk\n",
    "print(characters_wk)\n",
    "\n",
    "characters_gg = [item for item in characters_gg if item not in remove_gg]\n",
    "characters_gg = characters_gg + remove_gg\n",
    "print(characters_gg)"
   ]
  },
  {
   "cell_type": "code",
   "execution_count": 14,
   "id": "91ff2290",
   "metadata": {},
   "outputs": [],
   "source": [
    "#for i in range(50,80):\n",
    "#    print(characters_gg2[i])\n",
    "#    print(characters_wk2[i])"
   ]
  },
  {
   "cell_type": "markdown",
   "id": "19c8c0ce",
   "metadata": {},
   "source": [
    "### Scraping Constellation Data"
   ]
  },
  {
   "cell_type": "code",
   "execution_count": 100,
   "id": "a8c1266e",
   "metadata": {},
   "outputs": [],
   "source": [
    "#Web Scraping Constellation Data from Genshin.gg - Complete\n",
    "\n",
    "characters_gg_test = characters_gg[2:5]\n",
    "cons_full = []\n",
    "\n",
    "for names in characters_gg_test:\n",
    "    \n",
    "    url_chara_gg = \"https://genshin.gg/characters/\"+names+\"/\"\n",
    "    page_chara_gg = requests.get(url_chara_gg)\n",
    "    soup_chara_gg = BeautifulSoup(page_chara_gg.content, \"html.parser\")\n",
    " \n",
    "\n",
    "    #Obtaining the constellation html info\n",
    "    \n",
    "    if soup_chara_gg.find(\"div\", id='constellations') != None:\n",
    "        cons1 = soup_chara_gg.find(\"div\", id=\"constellations\").find_all(\"div\", class_=\"character-skill-description\")\n",
    "        cons2 = [con.get_text() for con in cons1]\n",
    "        cons2 = \" \".join(cons2)\n",
    "        #print(cons2)\n",
    "        cons_full.append(cons2)\n",
    "    \n",
    "    else:\n",
    "        #print(\"No Constellations\")\n",
    "        notext = \"This character has no constellations.\"\n",
    "        cons_full.append(notext)"
   ]
  },
  {
   "cell_type": "code",
   "execution_count": 101,
   "id": "aa2760ff",
   "metadata": {},
   "outputs": [
    {
     "data": {
      "text/plain": [
       "['This character has no constellations.',\n",
       " \"Fires 2 arrows per Aimed Shot. The second arrow deals 20% of the first arrow's DMG. Baron Bunny, new and improved! Hitting Baron Bunny's foot with a fully-charged Aimed Shot manually detonates it. Explosion via manual detonation deals 200% additional DMG. Increases the Level of Fiery Rain by 3. Maximum upgrade level is 15. Decreases Explosive Puppet's CD by 20%. Adds 1 additional charge. Increase the Level of Explosive Puppet by 3. Maximum upgrade level is 15. Fiery Rain increases Amber's Movement SPD by 15% and Base ATK by 15% for 10s.\",\n",
       " \"When Kamisato Ayaka's Normal or Charged Attacks deal Cryo DMG to opponents, it has a 50% chance of decreasing the CD of Kamisato Art: Hyouka by 0.3s. This effect can occur once every 0.1s. When casting Kamisato Art: Soumetsu, unleashes 2 smaller additional Frostflake Seki no To, each dealing 20% of the original storm's DMG. Increases the Level of Kamisato Art: Soumetsu by 3. Maximum upgrade level is 15. Opponents damaged by Kamisato Art: Soumetsu's Frostflake Seki no To will have their DEF decreased by 30% for 6s. Increase the Level of Kamisato Art: Hyouka by 3. Maximum upgrade level is 15. Kamisato Ayaka gains Usurahi Butou every 10s, increasing her Charged Attack DMG by 298%. This buff will be cleared 0.5s after Ayaka's Charged ATK hits an opponent, after which the timer for this ability will restart.\"]"
      ]
     },
     "execution_count": 101,
     "metadata": {},
     "output_type": "execute_result"
    }
   ],
   "source": [
    "cons_full"
   ]
  },
  {
   "cell_type": "markdown",
   "id": "c64027fc",
   "metadata": {},
   "source": [
    "### Scraping Dates Data"
   ]
  },
  {
   "cell_type": "code",
   "execution_count": 95,
   "id": "187cba3b",
   "metadata": {},
   "outputs": [],
   "source": [
    "#Obtaining the release date of the Character\n",
    "\n",
    "characters_wk_test = characters_wk[74:83]\n",
    "dates_full = []\n",
    "\n",
    "for names in characters_wk_test:\n",
    "\n",
    "    url_chara_wk = \"https://genshin-impact.fandom.com/wiki/\"+names\n",
    "    page_chara_wk = requests.get(url_chara_wk)\n",
    "    soup_chara_wk = BeautifulSoup(page_chara_wk.content, \"html.parser\")\n",
    "    \n",
    "    \n",
    "    release_date_div = soup_chara_wk.find('div', {'data-source': 'releaseDate'})\n",
    "    #print(type(release_date_div))\n",
    "    \n",
    "    output = release_date_div.find('div', class_='pi-data-value').get_text(strip=True).split()[0:3]\n",
    "    output[2] = output[2][:4]\n",
    "    \n",
    "    output = ' '.join(output)\n",
    "    output = datetime.strptime(output, \"%B %d, %Y\").date()\n",
    "    \n",
    "    dates_full.append(output)\n"
   ]
  },
  {
   "cell_type": "code",
   "execution_count": 96,
   "id": "6e178691",
   "metadata": {},
   "outputs": [],
   "source": [
    "#dates_full"
   ]
  },
  {
   "cell_type": "markdown",
   "id": "e9b88f5d",
   "metadata": {},
   "source": [
    "### Combining the Functions"
   ]
  },
  {
   "cell_type": "code",
   "execution_count": 196,
   "id": "1a280703",
   "metadata": {
    "scrolled": true
   },
   "outputs": [],
   "source": [
    "characters_wk_test = characters_wk#[0:15]\n",
    "characters_gg_test = characters_gg#[0:15]\n",
    "cons_full = []\n",
    "dates_full = []\n",
    "\n",
    "for names in characters_gg_test:\n",
    "    \n",
    "    url_chara_gg = \"https://genshin.gg/characters/\"+names+\"/\"\n",
    "    page_chara_gg = requests.get(url_chara_gg)\n",
    "    soup_chara_gg = BeautifulSoup(page_chara_gg.content, \"html.parser\")\n",
    " \n",
    "\n",
    "    #Obtaining the constellation html info\n",
    "    \n",
    "    if soup_chara_gg.find(\"div\", id='constellations') != None:\n",
    "        cons1 = soup_chara_gg.find(\"div\", id=\"constellations\").find_all(\"div\", class_=\"character-skill-description\")\n",
    "        cons2 = [con.get_text() for con in cons1]\n",
    "        cons2 = \" \".join(cons2)\n",
    "        #print(cons2)\n",
    "        cons_full.append(cons2)\n",
    "    \n",
    "    else:\n",
    "        #print(\"No Constellations\")\n",
    "        notext = \"This character has no constellations.\"\n",
    "        cons_full.append(notext)\n",
    "        \n",
    "        \n",
    "for names in characters_wk_test:\n",
    "\n",
    "    url_chara_wk = \"https://genshin-impact.fandom.com/wiki/\"+names\n",
    "    page_chara_wk = requests.get(url_chara_wk)\n",
    "    soup_chara_wk = BeautifulSoup(page_chara_wk.content, \"html.parser\")\n",
    "    \n",
    "    \n",
    "    release_date_div = soup_chara_wk.find('div', {'data-source': 'releaseDate'})\n",
    "    \n",
    "    output = release_date_div.find('div', class_='pi-data-value').get_text(strip=True).split()[0:3]\n",
    "    output[2] = output[2][:4]\n",
    "    \n",
    "    output = ' '.join(output)\n",
    "    output = datetime.strptime(output, \"%B %d, %Y\").date()\n",
    "    \n",
    "    dates_full.append(output)\n",
    "    \n",
    "#pairs = zip(dates_full, cons_full)\n",
    "#my_dict = dict(pairs)\n",
    "#my_dict"
   ]
  },
  {
   "cell_type": "code",
   "execution_count": 197,
   "id": "376b4476",
   "metadata": {},
   "outputs": [],
   "source": [
    "#len(my_dict)"
   ]
  },
  {
   "cell_type": "code",
   "execution_count": 202,
   "id": "de99bceb",
   "metadata": {},
   "outputs": [
    {
     "name": "stdout",
     "output_type": "stream",
     "text": [
      "84\n",
      "84\n"
     ]
    }
   ],
   "source": [
    "#Check Length of data\n",
    "\n",
    "print(len(cons_full))\n",
    "print(len(dates_full))"
   ]
  },
  {
   "cell_type": "code",
   "execution_count": 240,
   "id": "b54d1dd1",
   "metadata": {},
   "outputs": [],
   "source": [
    "#First Combined List, matching the release dates with the constellation descriptions\n",
    "\n",
    "cons_full\n",
    "dates_full\n",
    "\n",
    "#matched_dict = {date: paragraph for date, paragraph in zip(dates_full, cons_full)}\n",
    "#len(matched_dict)\n",
    "\n",
    "combined_list = list(zip(dates_full, cons_full))\n",
    "#combined_list"
   ]
  },
  {
   "cell_type": "code",
   "execution_count": 238,
   "id": "82fa3799",
   "metadata": {},
   "outputs": [
    {
     "data": {
      "text/plain": [
       "list"
      ]
     },
     "execution_count": 238,
     "metadata": {},
     "output_type": "execute_result"
    }
   ],
   "source": [
    "#Check Length of dictionary\n",
    "\n",
    "len(combined_list)\n",
    "type(combined_list)\n",
    "\n",
    "#dates_full"
   ]
  },
  {
   "cell_type": "code",
   "execution_count": 237,
   "id": "a550a56d",
   "metadata": {},
   "outputs": [],
   "source": [
    "#cons_full"
   ]
  },
  {
   "cell_type": "code",
   "execution_count": 241,
   "id": "003268bb",
   "metadata": {},
   "outputs": [
    {
     "name": "stdout",
     "output_type": "stream",
     "text": [
      "[141, 252, 5, 92, 167, 117, 86, 111, 143, 196, 224, 303, 142, 205, 255, 242, 139, 136, 160, 121, 180, 129, 123, 338, 116, 146, 193, 188, 110, 120, 121, 137, 219, 125, 145, 230, 106, 100, 149, 172, 165, 234, 240, 236, 183, 66, 112, 102, 171, 116, 96, 193, 135, 108, 110, 149, 80, 126, 123, 124, 180, 119, 271, 358, 93, 263, 106, 111, 109, 106, 102, 201, 155, 135, 84, 106, 164, 149, 155, 111, 143, 121, 138, 175]\n"
     ]
    },
    {
     "data": {
      "text/plain": [
       "84"
      ]
     },
     "execution_count": 241,
     "metadata": {},
     "output_type": "execute_result"
    }
   ],
   "source": [
    "#Generating a simple word count from the constellation descriptions.\n",
    "\n",
    "List_count = []\n",
    "\n",
    "for paragraph in cons_full:\n",
    "    words = paragraph.split()\n",
    "    word_count = sum(Counter(words).values())\n",
    "    List_count.append(word_count)\n",
    "\n",
    "print(List_count)\n",
    "len(List_count)"
   ]
  },
  {
   "cell_type": "code",
   "execution_count": 243,
   "id": "22cd43f9",
   "metadata": {},
   "outputs": [
    {
     "data": {
      "text/plain": [
       "84"
      ]
     },
     "execution_count": 243,
     "metadata": {},
     "output_type": "execute_result"
    }
   ],
   "source": [
    "#Creating a second combined list, this time with the Release Dates and its associated word count of con descriptions\n",
    "\n",
    "combined_list2 = list(zip(dates_full, List_count))\n",
    "len(combined_list2)\n",
    "\n",
    "#combined_list2"
   ]
  },
  {
   "cell_type": "code",
   "execution_count": 244,
   "id": "83f976e8",
   "metadata": {},
   "outputs": [
    {
     "name": "stdout",
     "output_type": "stream",
     "text": [
      "defaultdict(<class 'list'>, {datetime.date(2020, 12, 23): [141], datetime.date(2023, 1, 18): [252, 201], datetime.date(2021, 9, 1): [5, 171, 111], datetime.date(2020, 9, 28): [92, 117, 86, 111, 142, 139, 129, 110, 120, 137, 106, 165, 66, 112, 102, 116, 108, 80, 124, 119, 93, 111], datetime.date(2023, 5, 2): [167, 121], datetime.date(2022, 9, 28): [143, 255], datetime.date(2023, 11, 8): [196, 338], datetime.date(2024, 1, 9): [224], datetime.date(2024, 3, 13): [303], datetime.date(2022, 8, 24): [205, 149], datetime.date(2023, 3, 1): [242], datetime.date(2020, 11, 11): [136, 143], datetime.date(2022, 9, 9): [160], datetime.date(2021, 5, 18): [121], datetime.date(2022, 12, 7): [180, 271], datetime.date(2023, 9, 5): [123], datetime.date(2024, 1, 31): [116, 263], datetime.date(2021, 1, 12): [146], datetime.date(2021, 12, 14): [193, 164], datetime.date(2021, 3, 2): [188], datetime.date(2023, 5, 24): [219], datetime.date(2020, 10, 20): [125], datetime.date(2022, 6, 21): [145], datetime.date(2022, 11, 18): [230], datetime.date(2023, 8, 16): [100, 149, 180], datetime.date(2023, 3, 21): [172], datetime.date(2022, 11, 2): [234], datetime.date(2023, 12, 20): [240], datetime.date(2023, 9, 27): [236], datetime.date(2022, 10, 14): [183], datetime.date(2021, 4, 6): [96], datetime.date(2021, 8, 10): [193, 135], datetime.date(2022, 1, 5): [135, 84], datetime.date(2021, 11, 2): [110], datetime.date(2022, 8, 23): [126], datetime.date(2021, 7, 21): [123, 138], datetime.date(2023, 10, 17): [358], datetime.date(2021, 2, 3): [106], datetime.date(2020, 12, 1): [109, 106], datetime.date(2022, 2, 16): [106], datetime.date(2021, 4, 28): [102], datetime.date(2022, 5, 31): [155], datetime.date(2021, 6, 29): [149], datetime.date(2022, 7, 13): [155], datetime.date(2022, 3, 30): [121], datetime.date(2021, 9, 21): [175]})\n"
     ]
    }
   ],
   "source": [
    "#Note: Failed attempts at making a dict with duplicate kets.\n",
    "#Might need to try and generate an array and use data from that without creating a dict.\n",
    "\n",
    "word_count_dict = dict([(date, count) for date, count in combined_list2])\n",
    "len(word_count_dict)\n",
    "\n",
    "your_dict = defaultdict(list)\n",
    "\n",
    "# Populate the dictionary with the provided list using loop\n",
    "\n",
    "for date, count in combined_list2:\n",
    "    your_dict[date].append(count)\n",
    "\n",
    "print(your_dict)"
   ]
  },
  {
   "cell_type": "code",
   "execution_count": 247,
   "id": "f39f5447",
   "metadata": {},
   "outputs": [],
   "source": [
    "#Using numpy to create a pseudo-dictitionary\n",
    "\n",
    "list_count_array = np.array(List_count)\n",
    "dates_full_array = np.array(dates_full)\n",
    "\n",
    "your_dict_2 = np.array([list_count_array, dates_full_array])\n",
    "#your_dict_2"
   ]
  },
  {
   "cell_type": "code",
   "execution_count": 250,
   "id": "21bf8bb2",
   "metadata": {},
   "outputs": [
    {
     "data": {
      "text/html": [
       "<div>\n",
       "<style scoped>\n",
       "    .dataframe tbody tr th:only-of-type {\n",
       "        vertical-align: middle;\n",
       "    }\n",
       "\n",
       "    .dataframe tbody tr th {\n",
       "        vertical-align: top;\n",
       "    }\n",
       "\n",
       "    .dataframe thead th {\n",
       "        text-align: right;\n",
       "    }\n",
       "</style>\n",
       "<table border=\"1\" class=\"dataframe\">\n",
       "  <thead>\n",
       "    <tr style=\"text-align: right;\">\n",
       "      <th></th>\n",
       "      <th>Release_Dates</th>\n",
       "      <th>Constellation_Wordcount</th>\n",
       "    </tr>\n",
       "  </thead>\n",
       "  <tbody>\n",
       "    <tr>\n",
       "      <th>0</th>\n",
       "      <td>2020-12-23</td>\n",
       "      <td>141</td>\n",
       "    </tr>\n",
       "    <tr>\n",
       "      <th>1</th>\n",
       "      <td>2023-01-18</td>\n",
       "      <td>252</td>\n",
       "    </tr>\n",
       "    <tr>\n",
       "      <th>2</th>\n",
       "      <td>2021-09-01</td>\n",
       "      <td>5</td>\n",
       "    </tr>\n",
       "    <tr>\n",
       "      <th>3</th>\n",
       "      <td>2020-09-28</td>\n",
       "      <td>92</td>\n",
       "    </tr>\n",
       "    <tr>\n",
       "      <th>4</th>\n",
       "      <td>2023-05-02</td>\n",
       "      <td>167</td>\n",
       "    </tr>\n",
       "    <tr>\n",
       "      <th>...</th>\n",
       "      <td>...</td>\n",
       "      <td>...</td>\n",
       "    </tr>\n",
       "    <tr>\n",
       "      <th>79</th>\n",
       "      <td>2021-09-01</td>\n",
       "      <td>111</td>\n",
       "    </tr>\n",
       "    <tr>\n",
       "      <th>80</th>\n",
       "      <td>2020-11-11</td>\n",
       "      <td>143</td>\n",
       "    </tr>\n",
       "    <tr>\n",
       "      <th>81</th>\n",
       "      <td>2022-03-30</td>\n",
       "      <td>121</td>\n",
       "    </tr>\n",
       "    <tr>\n",
       "      <th>82</th>\n",
       "      <td>2021-07-21</td>\n",
       "      <td>138</td>\n",
       "    </tr>\n",
       "    <tr>\n",
       "      <th>83</th>\n",
       "      <td>2021-09-21</td>\n",
       "      <td>175</td>\n",
       "    </tr>\n",
       "  </tbody>\n",
       "</table>\n",
       "<p>84 rows × 2 columns</p>\n",
       "</div>"
      ],
      "text/plain": [
       "   Release_Dates  Constellation_Wordcount\n",
       "0     2020-12-23                      141\n",
       "1     2023-01-18                      252\n",
       "2     2021-09-01                        5\n",
       "3     2020-09-28                       92\n",
       "4     2023-05-02                      167\n",
       "..           ...                      ...\n",
       "79    2021-09-01                      111\n",
       "80    2020-11-11                      143\n",
       "81    2022-03-30                      121\n",
       "82    2021-07-21                      138\n",
       "83    2021-09-21                      175\n",
       "\n",
       "[84 rows x 2 columns]"
      ]
     },
     "execution_count": 250,
     "metadata": {},
     "output_type": "execute_result"
    }
   ],
   "source": [
    "df1 = pd.DataFrame({'Release_Dates': dates_full, 'Constellation_Wordcount': List_count})\n",
    "df1"
   ]
  },
  {
   "cell_type": "code",
   "execution_count": 254,
   "id": "17e534ce",
   "metadata": {},
   "outputs": [
    {
     "data": {
      "image/png": "[encoded data removed]",
      "text/plain": [
       "<Figure size 640x480 with 1 Axes>"
      ]
     },
     "metadata": {},
     "output_type": "display_data"
    }
   ],
   "source": [
    "#Creating plots with the new data frame.\n",
    "\n",
    "df1.plot.scatter(x='Release_Dates', y='Constellation_Wordcount', color='blue', marker='o', edgecolor='black')\n",
    "\n",
    "# Adding labels and title\n",
    "plt.xlabel('Date')\n",
    "plt.ylabel('Word Count')\n",
    "plt.title('Word Count of Constellations Over Time')\n",
    "\n",
    "# Formatting x-axis ticks as dates\n",
    "plt.xticks(rotation=45, ha='right')\n",
    "\n",
    "# Display the plot\n",
    "plt.tight_layout()\n",
    "plt.show()"
   ]
  },
  {
   "cell_type": "markdown",
   "id": "24f1d494",
   "metadata": {},
   "source": [
    "# Testing"
   ]
  },
  {
   "cell_type": "code",
   "execution_count": null,
   "id": "2615e1b1",
   "metadata": {},
   "outputs": [],
   "source": [
    "characters_wk_test = characters_wk[3]\n",
    "dates_full = []\n",
    "\n",
    "for names in characters_wk_test:\n",
    "\n",
    "    url_chara_wk = \"https://genshin-impact.fandom.com/wiki/\"+names\n",
    "    page_chara_wk = requests.get(url_chara_wk)\n",
    "    soup_chara_wk = BeautifulSoup(page_chara_wk.content, \"html.parser\")\n",
    "    \n",
    "    release_date_div = soup_chara_wk.find('div', {'data-source': 'releaseDate'})\n",
    "    print(release_date_div)"
   ]
  },
  {
   "cell_type": "code",
   "execution_count": null,
   "id": "1ce4fb1a",
   "metadata": {},
   "outputs": [],
   "source": [
    "url_chara_wk = \"https://genshin-impact.fandom.com/wiki/\"+characters_wk[74]\n",
    "page_chara_wk = requests.get(url_chara_wk)\n",
    "soup_chara_wk = BeautifulSoup(page_chara_wk.content, \"html.parser\")\n",
    "\n",
    "release_date_div = soup_chara_wk.find('div', {'data-source': 'releaseDate'})\n",
    "release_date_div"
   ]
  },
  {
   "cell_type": "code",
   "execution_count": 154,
   "id": "84167d74",
   "metadata": {},
   "outputs": [
    {
     "data": {
      "text/plain": [
       "'Amber'"
      ]
     },
     "execution_count": 154,
     "metadata": {},
     "output_type": "execute_result"
    }
   ],
   "source": [
    "characters_wk[3]"
   ]
  },
  {
   "cell_type": "code",
   "execution_count": 171,
   "id": "20df7dee",
   "metadata": {},
   "outputs": [],
   "source": [
    "url_chara_wk = \"https://genshin-impact.fandom.com/wiki/amber\"    #+characters_wk[3]\n",
    "page_chara_wk = requests.get(url_chara_wk)\n",
    "soup_chara_wk = BeautifulSoup(page_chara_wk.content, \"html.parser\")"
   ]
  },
  {
   "cell_type": "code",
   "execution_count": 172,
   "id": "28753ab3",
   "metadata": {},
   "outputs": [
    {
     "data": {
      "text/plain": [
       "<div class=\"pi-item pi-data pi-item-spacing pi-border-color\" data-source=\"releaseDate\">\n",
       "<h3 class=\"pi-data-label pi-secondary-font\"><a href=\"/wiki/Character/List#Characters_by_Release_Date\" title=\"Character/List\">Release Date</a></h3>\n",
       "<div class=\"pi-data-value pi-font\">September 28, 2020<br/>3 years, 6 months ago</div>\n",
       "</div>"
      ]
     },
     "execution_count": 172,
     "metadata": {},
     "output_type": "execute_result"
    }
   ],
   "source": [
    "release_date_div = soup_chara_wk.find('div', {'data-source': 'releaseDate'})\n",
    "release_date_div"
   ]
  },
  {
   "cell_type": "code",
   "execution_count": 176,
   "id": "1f50c392",
   "metadata": {},
   "outputs": [
    {
     "data": {
      "text/plain": [
       "datetime.date(2020, 9, 28)"
      ]
     },
     "execution_count": 176,
     "metadata": {},
     "output_type": "execute_result"
    }
   ],
   "source": [
    "output = release_date_div.find('div', class_='pi-data-value').get_text(strip=True).split()[0:3]\n",
    "output[2] = output[2][:4]\n",
    "\n",
    "output = ' '.join(output)\n",
    "output = datetime.strptime(output, \"%B %d, %Y\").date()\n",
    "\n",
    "output"
   ]
  },
  {
   "cell_type": "code",
   "execution_count": 168,
   "id": "269a9d65",
   "metadata": {},
   "outputs": [],
   "source": [
    "url_chara_gg = \"https://genshin.gg/characters/\"+characters_gg[3]+\"/\"\n",
    "page_chara_gg = requests.get(url_chara_gg)\n",
    "soup_chara_gg = BeautifulSoup(page_chara_gg.content, \"html.parser\")"
   ]
  },
  {
   "cell_type": "code",
   "execution_count": 169,
   "id": "6b632e19",
   "metadata": {},
   "outputs": [
    {
     "data": {
      "text/plain": [
       "\"Fires 2 arrows per Aimed Shot. The second arrow deals 20% of the first arrow's DMG. Baron Bunny, new and improved! Hitting Baron Bunny's foot with a fully-charged Aimed Shot manually detonates it. Explosion via manual detonation deals 200% additional DMG. Increases the Level of Fiery Rain by 3. Maximum upgrade level is 15. Decreases Explosive Puppet's CD by 20%. Adds 1 additional charge. Increase the Level of Explosive Puppet by 3. Maximum upgrade level is 15. Fiery Rain increases Amber's Movement SPD by 15% and Base ATK by 15% for 10s.\""
      ]
     },
     "execution_count": 169,
     "metadata": {},
     "output_type": "execute_result"
    }
   ],
   "source": [
    "cons1 = soup_chara_gg.find(\"div\", id=\"constellations\").find_all(\"div\", class_=\"character-skill-description\")\n",
    "cons2 = [con.get_text() for con in cons1]\n",
    "cons2 = \" \".join(cons2)\n",
    "        #print(cons2)\n",
    "        #cons_full.append(cons2)\n",
    "    \n",
    "\n",
    "        #print(\"No Constellations\")\n",
    "        #notext = \"This character has no constellations.\"\n",
    "        #cons_full.append(notext)\n",
    " \n",
    "cons2"
   ]
  },
  {
   "cell_type": "code",
   "execution_count": 181,
   "id": "a02139cd",
   "metadata": {},
   "outputs": [
    {
     "data": {
      "text/plain": [
       "{datetime.date(2020, 9, 28): \"Fires 2 arrows per Aimed Shot. The second arrow deals 20% of the first arrow's DMG. Baron Bunny, new and improved! Hitting Baron Bunny's foot with a fully-charged Aimed Shot manually detonates it. Explosion via manual detonation deals 200% additional DMG. Increases the Level of Fiery Rain by 3. Maximum upgrade level is 15. Decreases Explosive Puppet's CD by 20%. Adds 1 additional charge. Increase the Level of Explosive Puppet by 3. Maximum upgrade level is 15. Fiery Rain increases Amber's Movement SPD by 15% and Base ATK by 15% for 10s.\"}"
      ]
     },
     "execution_count": 181,
     "metadata": {},
     "output_type": "execute_result"
    }
   ],
   "source": [
    "#pairs = zip(output, cons2)\n",
    "#my_dict_test1 = dict(pairs)\n",
    "#my_dict_test1\n",
    "\n",
    "#dict(pairs)\n",
    "\n",
    "dict_test = {output: cons2}\n",
    "dict_test"
   ]
  },
  {
   "cell_type": "code",
   "execution_count": 191,
   "id": "36f3eb1b",
   "metadata": {},
   "outputs": [],
   "source": [
    "characters_wk_test = characters_wk[0:15]\n",
    "characters_gg_test = characters_gg[0:15]\n",
    "cons_full_test = []\n",
    "dates_full_test = []\n",
    "\n",
    "for names in characters_gg_test:\n",
    "    \n",
    "    url_chara_gg = \"https://genshin.gg/characters/\"+names+\"/\"\n",
    "    page_chara_gg = requests.get(url_chara_gg)\n",
    "    soup_chara_gg = BeautifulSoup(page_chara_gg.content, \"html.parser\")\n",
    " \n",
    "\n",
    "    #Obtaining the constellation html info\n",
    "    \n",
    "    if soup_chara_gg.find(\"div\", id='constellations') != None:\n",
    "        cons1 = soup_chara_gg.find(\"div\", id=\"constellations\").find_all(\"div\", class_=\"character-skill-description\")\n",
    "        cons2 = [con.get_text() for con in cons1]\n",
    "        cons2 = \" \".join(cons2)\n",
    "        #print(cons2)\n",
    "        cons_full_test.append(cons2)\n",
    "    \n",
    "    else:\n",
    "        #print(\"No Constellations\")\n",
    "        notext = \"This character has no constellations.\"\n",
    "        cons_full_test.append(notext)\n",
    "        \n",
    "        \n",
    "for names in characters_wk_test:\n",
    "\n",
    "    url_chara_wk = \"https://genshin-impact.fandom.com/wiki/\"+names\n",
    "    page_chara_wk = requests.get(url_chara_wk)\n",
    "    soup_chara_wk = BeautifulSoup(page_chara_wk.content, \"html.parser\")\n",
    "    \n",
    "    \n",
    "    release_date_div = soup_chara_wk.find('div', {'data-source': 'releaseDate'})\n",
    "    \n",
    "    output = release_date_div.find('div', class_='pi-data-value').get_text(strip=True).split()[0:3]\n",
    "    output[2] = output[2][:4]\n",
    "    \n",
    "    output = ' '.join(output)\n",
    "    output = datetime.strptime(output, \"%B %d, %Y\").date()\n",
    "    \n",
    "    dates_full_test.append(output)\n",
    "    \n",
    "#pairs = zip(dates_full, cons_full)\n",
    "#my_dict_test = dict(pairs)"
   ]
  },
  {
   "cell_type": "code",
   "execution_count": 187,
   "id": "ab25f11b",
   "metadata": {},
   "outputs": [],
   "source": [
    "#my_dict_test = {tuple(dates_full): dates_full, tuple(cons_full): dates_full}\n",
    "#len(my_dict_test)\n",
    "\n",
    "#my_dict_test"
   ]
  },
  {
   "cell_type": "code",
   "execution_count": 192,
   "id": "fdcc43f9",
   "metadata": {
    "scrolled": true
   },
   "outputs": [
    {
     "name": "stdout",
     "output_type": "stream",
     "text": [
      "[datetime.date(2020, 12, 23), datetime.date(2023, 1, 18), datetime.date(2021, 9, 1), datetime.date(2020, 9, 28), datetime.date(2023, 5, 2), datetime.date(2020, 9, 28), datetime.date(2020, 9, 28), datetime.date(2020, 9, 28), datetime.date(2022, 9, 28), datetime.date(2023, 11, 8), datetime.date(2024, 1, 9), datetime.date(2024, 3, 13), datetime.date(2020, 9, 28), datetime.date(2022, 8, 24), datetime.date(2022, 9, 28)]\n",
      "[\"Transient Blossoms generated by Albedo's Abiogenesis: Solar Isotoma regenerate 1.2 Energy for Albedo. Transient Blossoms generated by Abiogenesis: Solar Isotoma grant Albedo Fatal Reckoning for 30s: Each stack of Fatal Reckoning increases DMG by of Albedo's DEF. The effect stacks up to 4 times. Unleashing Rite of Progeniture: Tectonic Tide consumes all stacks of Fatal Reckoning, increasing the DMG dealt by the Tectonic Tide and Fatal Blossoms based on the number of stacks consumed. Increases the level of Abiogenesis: Solar Isotoma by 3. Maximum upgrade level is 15. Solar Isotoma increases Plunging Attack DMG by 30% for active party members within the AoE. Increases the level of Rite of Progeniture: Tectonic Tide by 3. Maximum upgrade level is 15. If active party members within the AoE are protected by a shield created by Crystallize, Solar Isotoma increases their DMG by 17%.\", \"When a Projection Attack hits an opponent, Universality: An Elaboration on Form's CD is decreased by 1.2s. This effect can be triggered once every 1s. When Alhaitham generates a Chisel-Light Mirror, his Elemental Mastery will be increased by 50 for 8 seconds, max 4 stacks. Each stack's duration is counted independently. This effect can be triggered even when the maximum number of Chisel-Light Mirrors has been reached. Increases the level of Universality: An Elaboration on Form by 3. Maximum upgrade level is 15. When Particular Field: Fetters of Phenomena is unleashed, the following effects will become active based on the number of Chisel-Light Mirrors consumed and created this time around: Each Mirror consumed will increase the Elemental Mastery of all other nearby party members by 30 for 15s. Each Mirror generated will grant Alhaitham a 10% Dendro DMG Bonus for 15s. The pre-existing duration of the aforementioned effects will be cleared if you use Particular Field: Fetters of Phenomena again while they are in effect. Increase the Particular Field: Fetters of Phenomena by 3. Maximum upgrade level is 15. Alhaitham gains the following effects: 2 seconds after Particular Field: Fetters of Phenomena is unleashed, he will generate 3 Chisel-Light Mirrors regardless of the number of mirrors consumed. If Alhaitham generates Chisel-Light Mirrors when their numbers have already maxed out, his CRIT Rate and CRIT DMG will increase by 10% and 70% respectively for 6s. If this effect is triggered again during its initial duration, the duration remaining will be increased by 6s.\", 'This character has no constellations.', \"Fires 2 arrows per Aimed Shot. The second arrow deals 20% of the first arrow's DMG. Baron Bunny, new and improved! Hitting Baron Bunny's foot with a fully-charged Aimed Shot manually detonates it. Explosion via manual detonation deals 200% additional DMG. Increases the Level of Fiery Rain by 3. Maximum upgrade level is 15. Decreases Explosive Puppet's CD by 20%. Adds 1 additional charge. Increase the Level of Explosive Puppet by 3. Maximum upgrade level is 15. Fiery Rain increases Amber's Movement SPD by 15% and Base ATK by 15% for 10s.\", \"Universal Diagnosis gains 1 additional charge. When your own active character hits a nearby opponent with their attacks, Baizhu will unleash a Gossamer Sprite: Splice. Gossamer Sprite: Splice will initiate 1 attack before returning, dealing 250% of Baizhu's ATK as Dendro DMG and healing for 20% of Universal Diagnosis's Gossamer Sprite's normal healing. DMG dealt this way is considered Elemental Skill DMG. This effect can be triggered once every 5s. Increases the Level of Holistic Revivification by 3. Maximum upgrade level is 15. For 15s after Holistic Revivification is used, Baizhu will increase all nearby party members' Elemental Mastery by 80. Increase the Level of Universal Diagnosis by 3. Maximum upgrade level is 15. Increases the DMG dealt by Holistic Revivification's Spiritveins by 8% of Baizhu's Max HP. Additionally, when a Gossamer Sprite or Gossamer Sprite: Splice hits opponents, there is a 100% chance of generating one of Holistic Revivification's Seamless Shields. This effect can only be triggered once by each Gossamer Sprite or Gossamer Sprite: Splice.\", \"Barbara regenerates 1 Energy every 10s. Decreases the CD of Let the Show Begin by 15%. During the ability's duration, the current character gains 15% Hydro DMG Bonus. Increases the Level of Shining Miracle by 3. Maximum upgrade level is 15. Every enemy hit by Barbara's Charged Attack regenerates 1 Energy for her. A maximum of 5 energy can be regenerated in this manner with any one Charged Attack. Increase the Level of Let the Show Begin by 3. Maximum upgrade level is 15. When Barbara is not on the field, and the character in play falls: Automatically revives this character. Fully regenerates this characters HP by 100%. This effect can only occur once every 15 mins.\", \"When Stormbreaker is used: Creates a shield that absorbs up to 16% of Beidou's Max HP for 15s. This shield absorbs Electro DMG 250% more effectively. Stormbreaker's arc lightning can jump 2 additional targets. Increases the Level of Tidecaller by 3. Maximum upgrade level is 15. Within 10s of taking DMG, Beidou's Normal Attacks gain 20% additional Electro DMG. Increase the Level of Stormbreaker by 3. Maximum upgrade level is 15. During the duration of Stormbreaker, the Electro RES of surrounding enemies is decreased by 15%.\", \"Fantastic Voyage's ATK increases no longer has an HP restriction, and gains an additional 20% Base ATK. When Bennett's HP falls below 70%, his Energy Recharge is increased by 30%. Increases the Level of Passion Overload by 3. Maximum upgrade level is 15. Using a Normal Attack when executing the second attack of Passion Overload's Charge Level 1 allows an additional attack to be performed. This additional attack does 135% of the second attack's DMG. Increase the Level of Fantastic Voyage by 3. Maximum upgrade level is 15. Sword, Claymore, or Polearm-wielding characters inside Fantastic Voyage's radius gain a 15% Pyro DMG Bonus. Normal and Charged Attacks now do Pyro DMG.\", \"The duration of Prayer of the Crimson Crown effect triggered by Sacred Rite: Wagtail's Tide is increased by 3s. When Sacred Rite: Heron's Sanctum hits opponents, Candace's Max HP will be increased by 20% for 15s. Increases the Level of Sacred Rite: Heron's Sanctum by 3. Maximum upgrade level is 15. Shortens the Hold CD of Sacred Rite: Heron's Sanctum to be the same as that of the Tapping CD. Increase the Level of Sacred Rite: Heron's Sanctum by 3. Maximum upgrade level is 15. When characters (excluding Candace herself) affected by the Prayer of the Crimson Crown caused by Sacred Rite: Wagtail's Tide deal Elemental DMG to opponents using Normal Attacks, an attack wave will be unleashed that deals AoE Hydro DMG equal to 15% of Candace's Max HP. This effect can trigger once every 2.3s and is considered Elemental Burst DMG.\", \"After Still Photo: Comprehensive Confirmation heals a character, it will mark them with Verification, which will heal them once every 2s for 80% of Charlotte's ATK. This effect lasts 6s. When using Framing: Freezing Point Composition, when Monsieur Verite hits 1/2/3 (or more) opponents, Charlotte's own ATK will be increased by 10%/20%/30% for 12s. Increases the Level of Still Photo: Comprehensive Confirmation by 3. Maximum upgrade level is 15. When Still Photo: Comprehensive Confirmation hits an opponent marked by Snappy Silhouette or Focused Impression, it will deal 10% more DMG and restore 2 Energy to Charlotte. This restoration can be triggered 5 times every 20s. Increases the Level of Framing: Freezing Point Composition by 3. Maximum upgrade level is 15. When the active character's Normal and Charged Attacks hit an opponent marked by Framing: Freezing Point Composition's Focused Impression, Monsieur Verite will initiate a coordinated attack that deals 180% of Charlotte's ATK as AoE Cryo DMG and heals active character(s) within the AoE for 42% of Charlotte's ATK. This effect can be triggered once every 6s and both DMG and healing dealt in this way will be considered as having been done by Charlotte's Elemental Burst.\", 'When the active character with the \"Coordinated Tactics\" status (not including Chevreuse herself) triggers the Overloaded reaction, they will recover 6 Energy. This effect can be triggered once every 10s. You must first unlock the Passive Talent \"Vanguard\\'s Coordinated Tactics.\" After Holding Short-Range Rapid Interdiction Fire and hitting a target, 2 chain explosions will be triggered near the location where said target is hit. Each explosion deals Pyro DMG equal to 120% of Chevreuse\\'s ATK. This effect can be triggered up to once every 10s, and DMG dealt this way is considered Elemental Skill DMG. Increases the Level of Short-Range Rapid Interdiction Fire by 3. Maximum upgrade level is 15. After using Ring of Bursting Grenades, the Hold mode of Short-Range Rapid Interdiction Fire will not go on cooldown when Chevreuse uses it. This effect is removed after Short-Range Rapid Interdiction Fire has been fired twice using Hold or after 6s. Increases the Level of Ring of Bursting Grenades by 3. Maximum upgrade level is 15. After 12s of the healing effect from Short-Range Rapid Interdiction Fire, all nearby party members recover HP equivalent to 10% of Chevreuse\\'s Max HP once. After a party member is healed by Short-Range Rapid Interdiction Fire, they gain a 20% Pyro DMG Bonus and Electro DMG Bonus for 8s. Max 3 stacks. Each stack\\'s duration is counted independently.', 'The AoE of the automaton doll \"Tamoto\" summoned by Fluttering Hasode is increased by 50%. Additionally, if there is a Geo party member other than Chiori, Fluttering Hasode will trigger the following after the dash is completed: Summon an additional Tamoto. Only one additional Tamoto can exist at the same time, whether summoned by Chiori this way or through the presence of a Geo Construct. Triggers the Passive Talent \"The Finishing Touch.\" This effect requires you to first unlock the Passive Talent \"The Finishing Touch.\" For 10s after using Hiyoku: Twin Blades, a simplified automaton doll, \"Kinu,\" will be summoned next to your active character every 3s. Kinu will attack nearby opponents, dealing AoE Geo DMG equivalent to 170% of Tamoto\\'s DMG. DMG dealt this way is considered Elemental Skill DMG. Kinu will leave the field after 1 attack or after lasting 3s. Increases the Level of Fluttering Hasode by 3. Maximum upgrade level is 15. For 8s after triggering either follow-up effect of the Passive Talent \"Tailor-Made,\" when your current active character\\'s Normal, Charged, or Plunging Attacks hit a nearby opponent, a simplified automaton doll, \"Kinu,\" will be summoned near this opponent. You can summon 1 Kinu every 1s in this way, and up to 3 Kinu may be summoned this way during each instance of \"Tailor-Made\"\\'s Seize the Moment or Tailoring effect. The above effect can be triggered up to once every 15s. Must unlock the Passive Talent \"Tailor-Made\" first. Increases the Level of Hiyoku: Twin Blades by 3. Maximum upgrade level is 15. After triggering a follow-up effect of the Passive Talent \"Tailor-Made,\" Chiori\\'s own Fluttering Hasode\\'s CD is decreased by 12s. Must unlock the Passive \"Tailor-Made\" first. In addition, the DMG dealt by Chiori\\'s own Normal Attacks is increased by an amount equal to 235% of her own DEF.', \"The last attack of Chongyun's Normal Attack combo releases 3 ice blades. Each blade deals 50% of Chongyun's ATK as Cryo DMG to all enemies in its path. Elemental Skills and Elemental Bursts cast within the Frost Field created by Spirit Blade - Chongyun's Layered Frost have their CD time decreased by 15%. Increases the Level of Spirit Blade - Cloud-parting Star by 3. Maximum upgrade level is 15. Chongyun regenerates 1 Energy every time he hits an enemy affected by Cold or Frozen status effects. This effect can only occur once every 2s. Increases the level of Spirit Blade - Chongyun's Layered Frost by 3. Maximum upgrade level is 15. Spirit Blade - Cloud-parting Star deals 15% more DMG to enemies with a lower percentage of their Max HP remaining than Chongyun. This skill will also summon 1 additional spirt blade.\", \"When in the party and not on the field, Collei's Energy Recharge is increased by 20%. The Passive Talent Floral Sidewinder is changed to this: The Floral Ring will grant the character the Sprout effect from Floral Sidewinder upon return, dealing 40% of Collei's ATK as Dendro DMG to nearby opponents for 3s. From the moment of using Floral Brush to the moment when this instance of Sprout effect ends, if any of your party members triggers Burning, Quicken, Aggravate, Spread, Bloom, Hyperbloom, or Burgeon reactions, the Sprout effect will be extended by 3s. The Sprout effect can only be extended this way once. If another Sprout effect is triggered during its initial duration, the initial effect will be removed. Requires you to have unlocked the Floral Sidewinder Passive Talent. Increases the Level of Floral Brush by 3. Maximum upgrade level is 15. Using Trump-Card Kitty will increase all nearby characters' Elemental Mastery by 60 for 12s (not including Collei herself). Increase the Level of Trump-Card Kitty by 3. Maximum upgrade level is 15. When the Floral Ring hits, it will create a miniature Cuilein-Anbar that will deal 200% of Collei's ATK as Dendro DMG. Each Floral Brush can only create one such miniature Cuilein-Anbar.\", 'After using Sacred Rite: Wolf\\'s Swiftness, Cyno\\'s Normal Attack SPD will be increased by 20% for 10s. If the Judication effect of his Passive Talent Featherfall Judgment is triggered during Secret Rite: Chasmic Soulfarer, the duration of this increase will be refreshed. You need to unlock the Passive Talent \"Featherfall Judgement.\" When Cyno\\'s Normal Attacks hit opponents, his Electro DMG Bonus will increase by 10% for 4s. This effect can be triggered once every 0.1s. Max 5 stacks. Increases the Level of Sacred Rite: Wolf\\'s Swiftness by 3. Maximum upgrade level is 15. When Cyno is in the Pactsworn Pathclearer state triggered by Sacred Rite: Wolf\\'s Swiftness, after he triggers Electro-Charged, Superconduct, Overloaded, Quicken, Aggravate, Hyperbloom, or an Electro Swirl reaction, he will restore 3 Elemental Energy for all nearby party members (except himself.) This effect can occur 5 times within one use of Sacred Rite: Wolf’s Swiftness. Increase the Level of Secret Rite: Chasmic Soulfarer by 3. Maximum upgrade level is 15. After using Sacred Rite: Wolf\\'s Swiftness or triggering the Judication effect of the Passive Talent \"Featherfall Judgment,\" Cyno will gain 4 stacks of the \"Day of the Jackal\" effect. When he hits opponents with Normal Attacks, he will consume 1 stack of \"Day of the Jackal\" to fire off one Duststalker Bolt. \"Day of the Jackal\" lasts for 8s. Max 8 stacks. It will be canceled once Pactsworn Pathclearer ends. A maximum of 1 Duststalker Bolt can be unleashed this way every 0.4s. You must first unlock the Passive Talent \"Featherfall Judgment.\"']\n"
     ]
    }
   ],
   "source": [
    "print(dates_full_test)\n",
    "print(cons_full_test)"
   ]
  },
  {
   "cell_type": "code",
   "execution_count": 195,
   "id": "ec23a814",
   "metadata": {
    "scrolled": false
   },
   "outputs": [
    {
     "data": {
      "text/plain": [
       "15"
      ]
     },
     "execution_count": 195,
     "metadata": {},
     "output_type": "execute_result"
    }
   ],
   "source": [
    "len(cons_full_test)"
   ]
  },
  {
   "cell_type": "code",
   "execution_count": 193,
   "id": "096537ae",
   "metadata": {},
   "outputs": [
    {
     "name": "stdout",
     "output_type": "stream",
     "text": [
      "['albedo', 'alhaitham', 'aloy', 'amber', 'baizhu', 'barbara', 'beidou', 'bennett', 'candace', 'charlotte', 'chevreuse', 'chiori', 'chongyun', 'collei', 'cyno', 'dehya', 'diluc', 'diona', 'dori', 'eula', 'faruzan', 'fischl', 'freminet', 'furina', 'gaming', 'ganyu', 'gorou', 'hutao', 'jean', 'kaeya', 'kaveh', 'keqing', 'kirara', 'klee', 'kukishinobu', 'layla', 'lisa', 'lynette', 'lyney', 'mika', 'mona', 'nahida', 'navia', 'neuvillette', 'nilou', 'ningguang', 'noelle', 'qiqi', 'raiden', 'razor', 'rosaria', 'sayu', 'shenhe', 'sucrose', 'thoma', 'tighnari', 'traveler(anemo)', 'traveler(dendro)', 'traveler(electro)', 'traveler(geo)', 'traveler(hydro)', 'venti', 'wanderer', 'wriothesley', 'xiangling', 'xianyun', 'xiao', 'xingqiu', 'xinyan', 'yaemiko', 'yanfei', 'yaoyao', 'yelan', 'yoimiya', 'yunjin', 'zhongli', 'itto', 'kazuha', 'heizou', 'sara', 'childe', 'ayato', 'ayaka', 'kokomi']\n"
     ]
    }
   ],
   "source": [
    "#my_dict_test\n",
    "\n",
    "print(characters_gg)"
   ]
  },
  {
   "cell_type": "markdown",
   "id": "406e06df",
   "metadata": {},
   "source": [
    "# Data Insights"
   ]
  },
  {
   "cell_type": "code",
   "execution_count": 137,
   "id": "59960148",
   "metadata": {},
   "outputs": [],
   "source": [
    "#The increase in constellation descriptions over time."
   ]
  },
  {
   "cell_type": "code",
   "execution_count": 210,
   "id": "70dd3238",
   "metadata": {},
   "outputs": [
    {
     "name": "stdout",
     "output_type": "stream",
     "text": [
      "{datetime.date(2020, 12, 23): 141, datetime.date(2023, 1, 18): 201, datetime.date(2021, 9, 1): 111, datetime.date(2020, 9, 28): 111, datetime.date(2023, 5, 2): 121, datetime.date(2022, 9, 28): 255, datetime.date(2023, 11, 8): 338, datetime.date(2024, 1, 9): 224, datetime.date(2024, 3, 13): 303, datetime.date(2022, 8, 24): 149, datetime.date(2023, 3, 1): 242, datetime.date(2020, 11, 11): 143, datetime.date(2022, 9, 9): 160, datetime.date(2021, 5, 18): 121, datetime.date(2022, 12, 7): 271, datetime.date(2023, 9, 5): 123, datetime.date(2024, 1, 31): 263, datetime.date(2021, 1, 12): 146, datetime.date(2021, 12, 14): 164, datetime.date(2021, 3, 2): 188, datetime.date(2023, 5, 24): 219, datetime.date(2020, 10, 20): 125, datetime.date(2022, 6, 21): 145, datetime.date(2022, 11, 18): 230, datetime.date(2023, 8, 16): 180, datetime.date(2023, 3, 21): 172, datetime.date(2022, 11, 2): 234, datetime.date(2023, 12, 20): 240, datetime.date(2023, 9, 27): 236, datetime.date(2022, 10, 14): 183, datetime.date(2021, 4, 6): 96, datetime.date(2021, 8, 10): 135, datetime.date(2022, 1, 5): 84, datetime.date(2021, 11, 2): 110, datetime.date(2022, 8, 23): 126, datetime.date(2021, 7, 21): 138, datetime.date(2023, 10, 17): 358, datetime.date(2021, 2, 3): 106, datetime.date(2020, 12, 1): 106, datetime.date(2022, 2, 16): 106, datetime.date(2021, 4, 28): 102, datetime.date(2022, 5, 31): 155, datetime.date(2021, 6, 29): 149, datetime.date(2022, 7, 13): 155, datetime.date(2022, 3, 30): 121, datetime.date(2021, 9, 21): 175}\n"
     ]
    }
   ],
   "source": [
    "word_count_dict = {}\n",
    "\n",
    "for date, description in my_dict.items():\n",
    "    word_count = len(description.split())\n",
    "    word_count_dict[date] = word_count\n",
    "\n",
    "print(word_count_dict)"
   ]
  },
  {
   "cell_type": "code",
   "execution_count": 222,
   "id": "bc89e61f",
   "metadata": {},
   "outputs": [
    {
     "data": {
      "image/png": "[encoded data removed]",
      "text/plain": [
       "<Figure size 1000x600 with 1 Axes>"
      ]
     },
     "metadata": {},
     "output_type": "display_data"
    }
   ],
   "source": [
    "# Extracting the x and y data\n",
    "dates = list(word_count_dict.keys())\n",
    "word_counts = list(word_count_dict.values())\n",
    "\n",
    "# Creating the scatter plot\n",
    "plt.figure(figsize=(10, 6))\n",
    "plt.scatter(dates, word_counts, color='blue')\n",
    "\n",
    "# Adding labels and title\n",
    "plt.xlabel('Date')\n",
    "plt.ylabel('Word Count')\n",
    "plt.title('Word Count of Constellations Over Time')\n",
    "\n",
    "# Formatting x-axis ticks as dates\n",
    "plt.xticks(rotation=45, ha='right')\n",
    "\n",
    "# Display the plot\n",
    "plt.tight_layout()\n",
    "plt.show()"
   ]
  },
  {
   "cell_type": "code",
   "execution_count": null,
   "id": "2cf947be",
   "metadata": {},
   "outputs": [],
   "source": []
  }
 ],
 "metadata": {
  "kernelspec": {
   "display_name": "Python 3 (ipykernel)",
   "language": "python",
   "name": "python3"
  },
  "language_info": {
   "codemirror_mode": {
    "name": "ipython",
    "version": 3
   },
   "file_extension": ".py",
   "mimetype": "text/x-python",
   "name": "python",
   "nbconvert_exporter": "python",
   "pygments_lexer": "ipython3",
   "version": "3.9.13"
  }
 },
 "nbformat": 4,
 "nbformat_minor": 5
}
