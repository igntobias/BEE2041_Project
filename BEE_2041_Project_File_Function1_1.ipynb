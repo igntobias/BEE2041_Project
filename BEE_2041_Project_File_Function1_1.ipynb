{
 "cells": [
  {
   "cell_type": "code",
   "execution_count": 139,
   "id": "6392af7c",
   "metadata": {},
   "outputs": [],
   "source": [
    "from bs4 import BeautifulSoup\n",
    "from urllib.request import urlopen\n",
    "import numpy as np\n",
    "import pandas as pd\n",
    "import matplotlib.pyplot as plt\n",
    "from datetime import datetime\n",
    "import requests\n",
    "from collections import Counter"
   ]
  },
  {
   "cell_type": "markdown",
   "id": "0eb7684f",
   "metadata": {},
   "source": [
    "### Obtaining all Names (Wikia)"
   ]
  },
  {
   "cell_type": "code",
   "execution_count": 113,
   "id": "8ad02c34",
   "metadata": {},
   "outputs": [],
   "source": [
    "#urlnames = \"https://game8.co/games/Genshin-Impact/archives/296707\"\n",
    "\n",
    "#Web scraping the wikia for Genshin's playable character list.\n",
    "\n",
    "urlnames_wk = \"https://genshin-impact.fandom.com/wiki/Category:Playable_Characters\"\n",
    "\n",
    "pagenames_wk = requests.get(urlnames_wk)\n",
    "\n",
    "soupname_wk = BeautifulSoup(pagenames_wk.text, \"html.parser\")"
   ]
  },
  {
   "cell_type": "code",
   "execution_count": 114,
   "id": "a05a2ec1",
   "metadata": {},
   "outputs": [],
   "source": [
    "#Scraping through to get the html, identifying which class and identifier to find the names\n",
    "\n",
    "imgtag_wk = soupname_wk.find_all(\"a\", class_=\"category-page__member-link\")\n",
    "#imgtag"
   ]
  },
  {
   "cell_type": "code",
   "execution_count": 116,
   "id": "f326d3b5",
   "metadata": {},
   "outputs": [
    {
     "name": "stdout",
     "output_type": "stream",
     "text": [
      "['Albedo', 'Alhaitham', 'Aloy', 'Amber', 'Arataki_Itto', 'Baizhu', 'Barbara', 'Beidou', 'Bennett', 'Candace', 'Charlotte', 'Chevreuse', 'Chiori', 'Chongyun', 'Collei', 'Cyno', 'Dehya', 'Diluc', 'Diona', 'Dori', 'Eula', 'Faruzan', 'Fischl', 'Freminet', 'Furina', 'Gaming', 'Ganyu', 'Gorou', 'Hu_Tao', 'Jean', 'Kaedehara_Kazuha', 'Kaeya', 'Kamisato_Ayaka', 'Kamisato_Ayato', 'Kaveh', 'Keqing', 'Kirara', 'Klee', 'Kujou_Sara', 'Kuki_Shinobu', 'Layla', 'Lisa', 'Lynette', 'Lyney', 'Mika', 'Mona', 'Nahida', 'Navia', 'Neuvillette', 'Nilou', 'Ningguang', 'Noelle', 'Qiqi', 'Raiden_Shogun', 'Razor', 'Rosaria', 'Sangonomiya_Kokomi', 'Sayu', 'Shenhe', 'Shikanoin_Heizou', 'Sucrose', 'Tartaglia', 'Thoma', 'Tighnari', 'Traveler_(Anemo)', 'Traveler_(Dendro)', 'Traveler_(Electro)', 'Traveler_(Geo)', 'Traveler_(Hydro)', 'Venti', 'Wanderer', 'Wriothesley', 'Xiangling', 'Xianyun', 'Xiao', 'Xingqiu', 'Xinyan', 'Yae_Miko', 'Yanfei', 'Yaoyao', 'Yelan', 'Yoimiya', 'Yun_Jin', 'Zhongli']\n"
     ]
    }
   ],
   "source": [
    "#Converting the soup into a usable List\n",
    "\n",
    "type(imgtag_wk)\n",
    "\n",
    "titles = [tag['title'] for tag in imgtag_wk]\n",
    "characters_wk = titles[6:]\n",
    "\n",
    "#Replacing spaces with underscores for it to be usable in iterating through the wikia pages\n",
    "\n",
    "converter = lambda x: x.replace(' ', '_')\n",
    "characters_wk = list(map(converter, characters_wk))\n",
    "characters_wk = sorted(characters_wk)\n",
    "\n",
    "\n",
    "remove = [\"Lumine\", \"Traveler_(Unaligned)\", \"Traveler\"]    #These characters are extras\n",
    "characters_wk = [item for item in characters_wk if item not in remove]\n",
    "\n",
    "print(characters_wk)"
   ]
  },
  {
   "cell_type": "markdown",
   "id": "4cd05956",
   "metadata": {},
   "source": [
    "### Obtaining All Names (gg)"
   ]
  },
  {
   "cell_type": "code",
   "execution_count": 117,
   "id": "bc5fffcd",
   "metadata": {},
   "outputs": [],
   "source": [
    "#Web scraping the wikia for Genshin's playable character list.\n",
    "\n",
    "urlnames_gg = \"https://genshin.gg/\"\n",
    "\n",
    "pagenames_gg = requests.get(urlnames_gg)\n",
    "\n",
    "soupname_gg = BeautifulSoup(pagenames_gg.text, \"html.parser\")"
   ]
  },
  {
   "cell_type": "code",
   "execution_count": 118,
   "id": "ff9e584f",
   "metadata": {},
   "outputs": [],
   "source": [
    "#Scraping through to get the html, identifying which class and identifier to find the names\n",
    "\n",
    "imgtag_gg = soupname_gg.find_all(\"h2\", class_= \"character-name\")\n",
    "#imgtag_gg"
   ]
  },
  {
   "cell_type": "code",
   "execution_count": 119,
   "id": "509af59a",
   "metadata": {},
   "outputs": [
    {
     "name": "stdout",
     "output_type": "stream",
     "text": [
      "['albedo', 'alhaitham', 'aloy', 'amber', 'ayaka', 'ayato', 'baizhu', 'barbara', 'beidou', 'bennett', 'candace', 'charlotte', 'chevreuse', 'childe', 'chiori', 'chongyun', 'collei', 'cyno', 'dehya', 'diluc', 'diona', 'dori', 'eula', 'faruzan', 'fischl', 'freminet', 'furina', 'gaming', 'ganyu', 'gorou', 'heizou', 'hutao', 'itto', 'jean', 'kaeya', 'kaveh', 'kazuha', 'keqing', 'kirara', 'klee', 'kokomi', 'kukishinobu', 'layla', 'lisa', 'lynette', 'lyney', 'mika', 'mona', 'nahida', 'navia', 'neuvillette', 'nilou', 'ningguang', 'noelle', 'qiqi', 'raiden', 'razor', 'rosaria', 'sara', 'sayu', 'shenhe', 'sucrose', 'thoma', 'tighnari', 'traveler(anemo)', 'traveler(dendro)', 'traveler(electro)', 'traveler(geo)', 'traveler(hydro)', 'venti', 'wanderer', 'wriothesley', 'xiangling', 'xianyun', 'xiao', 'xingqiu', 'xinyan', 'yaemiko', 'yanfei', 'yaoyao', 'yelan', 'yoimiya', 'yunjin', 'zhongli']\n"
     ]
    }
   ],
   "source": [
    "characters_gg = [element.get_text() for element in imgtag_gg]\n",
    "#characters\n",
    "\n",
    "def process_names(names_list):\n",
    "    return [name.replace(\" \", \"\").lower() for name in names_list]\n",
    "\n",
    "characters_gg = process_names(characters_gg)\n",
    "characters_gg = sorted(characters_gg)\n",
    "\n",
    "print(characters_gg)"
   ]
  },
  {
   "cell_type": "markdown",
   "id": "cdada0e9",
   "metadata": {},
   "source": [
    "### Tidying Up Names"
   ]
  },
  {
   "cell_type": "code",
   "execution_count": 41,
   "id": "088fbcc7",
   "metadata": {},
   "outputs": [],
   "source": [
    "#len(characters_wk)\n",
    "#len(characters_gg)\n",
    "\n",
    "#[characters_gg, characters_wk]\n",
    "#names = arr(characters_gg & characters_wk)\n",
    "#names"
   ]
  },
  {
   "cell_type": "code",
   "execution_count": 42,
   "id": "a2af993b",
   "metadata": {},
   "outputs": [],
   "source": [
    "#print(characters_gg)"
   ]
  },
  {
   "cell_type": "code",
   "execution_count": 43,
   "id": "bcb9307c",
   "metadata": {
    "scrolled": true
   },
   "outputs": [],
   "source": [
    "#print(characters_wk)"
   ]
  },
  {
   "cell_type": "code",
   "execution_count": 120,
   "id": "fa69f08f",
   "metadata": {},
   "outputs": [
    {
     "name": "stdout",
     "output_type": "stream",
     "text": [
      "['Albedo', 'Alhaitham', 'Aloy', 'Amber', 'Baizhu', 'Barbara', 'Beidou', 'Bennett', 'Candace', 'Charlotte', 'Chevreuse', 'Chiori', 'Chongyun', 'Collei', 'Cyno', 'Dehya', 'Diluc', 'Diona', 'Dori', 'Eula', 'Faruzan', 'Fischl', 'Freminet', 'Furina', 'Gaming', 'Ganyu', 'Gorou', 'Hu_Tao', 'Jean', 'Kaeya', 'Kaveh', 'Keqing', 'Kirara', 'Klee', 'Kuki_Shinobu', 'Layla', 'Lisa', 'Lynette', 'Lyney', 'Mika', 'Mona', 'Nahida', 'Navia', 'Neuvillette', 'Nilou', 'Ningguang', 'Noelle', 'Qiqi', 'Raiden_Shogun', 'Razor', 'Rosaria', 'Sayu', 'Shenhe', 'Sucrose', 'Thoma', 'Tighnari', 'Traveler_(Anemo)', 'Traveler_(Dendro)', 'Traveler_(Electro)', 'Traveler_(Geo)', 'Traveler_(Hydro)', 'Venti', 'Wanderer', 'Wriothesley', 'Xiangling', 'Xianyun', 'Xiao', 'Xingqiu', 'Xinyan', 'Yae_Miko', 'Yanfei', 'Yaoyao', 'Yelan', 'Yoimiya', 'Yun_Jin', 'Zhongli', 'Arataki_Itto', 'Kaedehara_Kazuha', 'Shikanoin_Heizou', 'Kujou_Sara', 'Tartaglia', 'Kamisato_Ayato', 'Kamisato_Ayaka', 'Sangonomiya_Kokomi']\n",
      "['albedo', 'alhaitham', 'aloy', 'amber', 'baizhu', 'barbara', 'beidou', 'bennett', 'candace', 'charlotte', 'chevreuse', 'chiori', 'chongyun', 'collei', 'cyno', 'dehya', 'diluc', 'diona', 'dori', 'eula', 'faruzan', 'fischl', 'freminet', 'furina', 'gaming', 'ganyu', 'gorou', 'hutao', 'jean', 'kaeya', 'kaveh', 'keqing', 'kirara', 'klee', 'kukishinobu', 'layla', 'lisa', 'lynette', 'lyney', 'mika', 'mona', 'nahida', 'navia', 'neuvillette', 'nilou', 'ningguang', 'noelle', 'qiqi', 'raiden', 'razor', 'rosaria', 'sayu', 'shenhe', 'sucrose', 'thoma', 'tighnari', 'traveler(anemo)', 'traveler(dendro)', 'traveler(electro)', 'traveler(geo)', 'traveler(hydro)', 'venti', 'wanderer', 'wriothesley', 'xiangling', 'xianyun', 'xiao', 'xingqiu', 'xinyan', 'yaemiko', 'yanfei', 'yaoyao', 'yelan', 'yoimiya', 'yunjin', 'zhongli', 'itto', 'kazuha', 'heizou', 'sara', 'childe', 'ayato', 'ayaka', 'kokomi']\n"
     ]
    }
   ],
   "source": [
    "remove_wk = [\"Arataki_Itto\", \"Kaedehara_Kazuha\", \"Shikanoin_Heizou\", \"Kujou_Sara\", \"Tartaglia\",\n",
    "         \"Kamisato_Ayato\", \"Kamisato_Ayaka\", \"Sangonomiya_Kokomi\"]\n",
    "remove_gg = [\"itto\", \"kazuha\", \"heizou\", \"sara\", \"childe\", \"ayato\", \"ayaka\", \"kokomi\"]\n",
    "\n",
    "characters_wk = [item for item in characters_wk if item not in remove_wk]\n",
    "characters_wk = characters_wk + remove_wk\n",
    "print(characters_wk)\n",
    "\n",
    "characters_gg = [item for item in characters_gg if item not in remove_gg]\n",
    "characters_gg = characters_gg + remove_gg\n",
    "print(characters_gg)"
   ]
  },
  {
   "cell_type": "code",
   "execution_count": 14,
   "id": "ab07592c",
   "metadata": {},
   "outputs": [],
   "source": [
    "#for i in range(50,80):\n",
    "#    print(characters_gg2[i])\n",
    "#    print(characters_wk2[i])"
   ]
  },
  {
   "cell_type": "markdown",
   "id": "19c8c0ce",
   "metadata": {},
   "source": [
    "### Scraping Constellation Data"
   ]
  },
  {
   "cell_type": "code",
   "execution_count": 100,
   "id": "a8c1266e",
   "metadata": {},
   "outputs": [],
   "source": [
    "#Web Scraping Constellation Data from Genshin.gg - Complete\n",
    "\n",
    "characters_gg_test = characters_gg[2:5]\n",
    "cons_full = []\n",
    "\n",
    "for names in characters_gg_test:\n",
    "    \n",
    "    url_chara_gg = \"https://genshin.gg/characters/\"+names+\"/\"\n",
    "    page_chara_gg = requests.get(url_chara_gg)\n",
    "    soup_chara_gg = BeautifulSoup(page_chara_gg.content, \"html.parser\")\n",
    " \n",
    "\n",
    "    #Obtaining the constellation html info\n",
    "    \n",
    "    if soup_chara_gg.find(\"div\", id='constellations') != None:\n",
    "        cons1 = soup_chara_gg.find(\"div\", id=\"constellations\").find_all(\"div\", class_=\"character-skill-description\")\n",
    "        cons2 = [con.get_text() for con in cons1]\n",
    "        cons2 = \" \".join(cons2)\n",
    "        #print(cons2)\n",
    "        cons_full.append(cons2)\n",
    "    \n",
    "    else:\n",
    "        #print(\"No Constellations\")\n",
    "        notext = \"This character has no constellations.\"\n",
    "        cons_full.append(notext)"
   ]
  },
  {
   "cell_type": "code",
   "execution_count": 101,
   "id": "aa2760ff",
   "metadata": {},
   "outputs": [
    {
     "data": {
      "text/plain": [
       "['This character has no constellations.',\n",
       " \"Fires 2 arrows per Aimed Shot. The second arrow deals 20% of the first arrow's DMG. Baron Bunny, new and improved! Hitting Baron Bunny's foot with a fully-charged Aimed Shot manually detonates it. Explosion via manual detonation deals 200% additional DMG. Increases the Level of Fiery Rain by 3. Maximum upgrade level is 15. Decreases Explosive Puppet's CD by 20%. Adds 1 additional charge. Increase the Level of Explosive Puppet by 3. Maximum upgrade level is 15. Fiery Rain increases Amber's Movement SPD by 15% and Base ATK by 15% for 10s.\",\n",
       " \"When Kamisato Ayaka's Normal or Charged Attacks deal Cryo DMG to opponents, it has a 50% chance of decreasing the CD of Kamisato Art: Hyouka by 0.3s. This effect can occur once every 0.1s. When casting Kamisato Art: Soumetsu, unleashes 2 smaller additional Frostflake Seki no To, each dealing 20% of the original storm's DMG. Increases the Level of Kamisato Art: Soumetsu by 3. Maximum upgrade level is 15. Opponents damaged by Kamisato Art: Soumetsu's Frostflake Seki no To will have their DEF decreased by 30% for 6s. Increase the Level of Kamisato Art: Hyouka by 3. Maximum upgrade level is 15. Kamisato Ayaka gains Usurahi Butou every 10s, increasing her Charged Attack DMG by 298%. This buff will be cleared 0.5s after Ayaka's Charged ATK hits an opponent, after which the timer for this ability will restart.\"]"
      ]
     },
     "execution_count": 101,
     "metadata": {},
     "output_type": "execute_result"
    }
   ],
   "source": [
    "cons_full"
   ]
  },
  {
   "cell_type": "markdown",
   "id": "9f0cfbc2",
   "metadata": {},
   "source": [
    "### Scraping Dates Data"
   ]
  },
  {
   "cell_type": "code",
   "execution_count": 95,
   "id": "ec8175b4",
   "metadata": {},
   "outputs": [],
   "source": [
    "#Obtaining the release date of the Character\n",
    "\n",
    "characters_wk_test = characters_wk[74:83]\n",
    "dates_full = []\n",
    "\n",
    "for names in characters_wk_test:\n",
    "\n",
    "    url_chara_wk = \"https://genshin-impact.fandom.com/wiki/\"+names\n",
    "    page_chara_wk = requests.get(url_chara_wk)\n",
    "    soup_chara_wk = BeautifulSoup(page_chara_wk.content, \"html.parser\")\n",
    "    \n",
    "    \n",
    "    release_date_div = soup_chara_wk.find('div', {'data-source': 'releaseDate'})\n",
    "    #print(type(release_date_div))\n",
    "    \n",
    "    output = release_date_div.find('div', class_='pi-data-value').get_text(strip=True).split()[0:3]\n",
    "    output[2] = output[2][:4]\n",
    "    \n",
    "    output = ' '.join(output)\n",
    "    output = datetime.strptime(output, \"%B %d, %Y\").date()\n",
    "    \n",
    "    dates_full.append(output)\n"
   ]
  },
  {
   "cell_type": "code",
   "execution_count": 96,
   "id": "d80afdde",
   "metadata": {},
   "outputs": [],
   "source": [
    "#dates_full"
   ]
  },
  {
   "cell_type": "markdown",
   "id": "0691ae69",
   "metadata": {},
   "source": [
    "### Combining the Functions"
   ]
  },
  {
   "cell_type": "code",
   "execution_count": 196,
   "id": "fa9506b8",
   "metadata": {
    "scrolled": true
   },
   "outputs": [],
   "source": [
    "characters_wk_test = characters_wk#[0:15]\n",
    "characters_gg_test = characters_gg#[0:15]\n",
    "cons_full = []\n",
    "dates_full = []\n",
    "\n",
    "for names in characters_gg_test:\n",
    "    \n",
    "    url_chara_gg = \"https://genshin.gg/characters/\"+names+\"/\"\n",
    "    page_chara_gg = requests.get(url_chara_gg)\n",
    "    soup_chara_gg = BeautifulSoup(page_chara_gg.content, \"html.parser\")\n",
    " \n",
    "\n",
    "    #Obtaining the constellation html info\n",
    "    \n",
    "    if soup_chara_gg.find(\"div\", id='constellations') != None:\n",
    "        cons1 = soup_chara_gg.find(\"div\", id=\"constellations\").find_all(\"div\", class_=\"character-skill-description\")\n",
    "        cons2 = [con.get_text() for con in cons1]\n",
    "        cons2 = \" \".join(cons2)\n",
    "        #print(cons2)\n",
    "        cons_full.append(cons2)\n",
    "    \n",
    "    else:\n",
    "        #print(\"No Constellations\")\n",
    "        notext = \"This character has no constellations.\"\n",
    "        cons_full.append(notext)\n",
    "        \n",
    "        \n",
    "for names in characters_wk_test:\n",
    "\n",
    "    url_chara_wk = \"https://genshin-impact.fandom.com/wiki/\"+names\n",
    "    page_chara_wk = requests.get(url_chara_wk)\n",
    "    soup_chara_wk = BeautifulSoup(page_chara_wk.content, \"html.parser\")\n",
    "    \n",
    "    \n",
    "    release_date_div = soup_chara_wk.find('div', {'data-source': 'releaseDate'})\n",
    "    \n",
    "    output = release_date_div.find('div', class_='pi-data-value').get_text(strip=True).split()[0:3]\n",
    "    output[2] = output[2][:4]\n",
    "    \n",
    "    output = ' '.join(output)\n",
    "    output = datetime.strptime(output, \"%B %d, %Y\").date()\n",
    "    \n",
    "    dates_full.append(output)\n",
    "    \n",
    "#pairs = zip(dates_full, cons_full)\n",
    "#my_dict = dict(pairs)\n",
    "#my_dict"
   ]
  },
  {
   "cell_type": "code",
   "execution_count": 197,
   "id": "74b62480",
   "metadata": {},
   "outputs": [],
   "source": [
    "#len(my_dict)"
   ]
  },
  {
   "cell_type": "code",
   "execution_count": 202,
   "id": "7c547463",
   "metadata": {},
   "outputs": [
    {
     "name": "stdout",
     "output_type": "stream",
     "text": [
      "84\n",
      "84\n"
     ]
    }
   ],
   "source": [
    "#Check Length of data\n",
    "\n",
    "print(len(cons_full))\n",
    "print(len(dates_full))"
   ]
  },
  {
   "cell_type": "code",
   "execution_count": 207,
   "id": "bb09e89c",
   "metadata": {},
   "outputs": [
    {
     "data": {
      "text/plain": [
       "[(datetime.date(2020, 12, 23),\n",
       "  \"Transient Blossoms generated by Albedo's Abiogenesis: Solar Isotoma regenerate 1.2 Energy for Albedo. Transient Blossoms generated by Abiogenesis: Solar Isotoma grant Albedo Fatal Reckoning for 30s: Each stack of Fatal Reckoning increases DMG by of Albedo's DEF. The effect stacks up to 4 times. Unleashing Rite of Progeniture: Tectonic Tide consumes all stacks of Fatal Reckoning, increasing the DMG dealt by the Tectonic Tide and Fatal Blossoms based on the number of stacks consumed. Increases the level of Abiogenesis: Solar Isotoma by 3. Maximum upgrade level is 15. Solar Isotoma increases Plunging Attack DMG by 30% for active party members within the AoE. Increases the level of Rite of Progeniture: Tectonic Tide by 3. Maximum upgrade level is 15. If active party members within the AoE are protected by a shield created by Crystallize, Solar Isotoma increases their DMG by 17%.\"),\n",
       " (datetime.date(2023, 1, 18),\n",
       "  \"When a Projection Attack hits an opponent, Universality: An Elaboration on Form's CD is decreased by 1.2s. This effect can be triggered once every 1s. When Alhaitham generates a Chisel-Light Mirror, his Elemental Mastery will be increased by 50 for 8 seconds, max 4 stacks. Each stack's duration is counted independently. This effect can be triggered even when the maximum number of Chisel-Light Mirrors has been reached. Increases the level of Universality: An Elaboration on Form by 3. Maximum upgrade level is 15. When Particular Field: Fetters of Phenomena is unleashed, the following effects will become active based on the number of Chisel-Light Mirrors consumed and created this time around: Each Mirror consumed will increase the Elemental Mastery of all other nearby party members by 30 for 15s. Each Mirror generated will grant Alhaitham a 10% Dendro DMG Bonus for 15s. The pre-existing duration of the aforementioned effects will be cleared if you use Particular Field: Fetters of Phenomena again while they are in effect. Increase the Particular Field: Fetters of Phenomena by 3. Maximum upgrade level is 15. Alhaitham gains the following effects: 2 seconds after Particular Field: Fetters of Phenomena is unleashed, he will generate 3 Chisel-Light Mirrors regardless of the number of mirrors consumed. If Alhaitham generates Chisel-Light Mirrors when their numbers have already maxed out, his CRIT Rate and CRIT DMG will increase by 10% and 70% respectively for 6s. If this effect is triggered again during its initial duration, the duration remaining will be increased by 6s.\"),\n",
       " (datetime.date(2021, 9, 1), 'This character has no constellations.'),\n",
       " (datetime.date(2020, 9, 28),\n",
       "  \"Fires 2 arrows per Aimed Shot. The second arrow deals 20% of the first arrow's DMG. Baron Bunny, new and improved! Hitting Baron Bunny's foot with a fully-charged Aimed Shot manually detonates it. Explosion via manual detonation deals 200% additional DMG. Increases the Level of Fiery Rain by 3. Maximum upgrade level is 15. Decreases Explosive Puppet's CD by 20%. Adds 1 additional charge. Increase the Level of Explosive Puppet by 3. Maximum upgrade level is 15. Fiery Rain increases Amber's Movement SPD by 15% and Base ATK by 15% for 10s.\"),\n",
       " (datetime.date(2023, 5, 2),\n",
       "  \"Universal Diagnosis gains 1 additional charge. When your own active character hits a nearby opponent with their attacks, Baizhu will unleash a Gossamer Sprite: Splice. Gossamer Sprite: Splice will initiate 1 attack before returning, dealing 250% of Baizhu's ATK as Dendro DMG and healing for 20% of Universal Diagnosis's Gossamer Sprite's normal healing. DMG dealt this way is considered Elemental Skill DMG. This effect can be triggered once every 5s. Increases the Level of Holistic Revivification by 3. Maximum upgrade level is 15. For 15s after Holistic Revivification is used, Baizhu will increase all nearby party members' Elemental Mastery by 80. Increase the Level of Universal Diagnosis by 3. Maximum upgrade level is 15. Increases the DMG dealt by Holistic Revivification's Spiritveins by 8% of Baizhu's Max HP. Additionally, when a Gossamer Sprite or Gossamer Sprite: Splice hits opponents, there is a 100% chance of generating one of Holistic Revivification's Seamless Shields. This effect can only be triggered once by each Gossamer Sprite or Gossamer Sprite: Splice.\"),\n",
       " (datetime.date(2020, 9, 28),\n",
       "  \"Barbara regenerates 1 Energy every 10s. Decreases the CD of Let the Show Begin by 15%. During the ability's duration, the current character gains 15% Hydro DMG Bonus. Increases the Level of Shining Miracle by 3. Maximum upgrade level is 15. Every enemy hit by Barbara's Charged Attack regenerates 1 Energy for her. A maximum of 5 energy can be regenerated in this manner with any one Charged Attack. Increase the Level of Let the Show Begin by 3. Maximum upgrade level is 15. When Barbara is not on the field, and the character in play falls: Automatically revives this character. Fully regenerates this characters HP by 100%. This effect can only occur once every 15 mins.\"),\n",
       " (datetime.date(2020, 9, 28),\n",
       "  \"When Stormbreaker is used: Creates a shield that absorbs up to 16% of Beidou's Max HP for 15s. This shield absorbs Electro DMG 250% more effectively. Stormbreaker's arc lightning can jump 2 additional targets. Increases the Level of Tidecaller by 3. Maximum upgrade level is 15. Within 10s of taking DMG, Beidou's Normal Attacks gain 20% additional Electro DMG. Increase the Level of Stormbreaker by 3. Maximum upgrade level is 15. During the duration of Stormbreaker, the Electro RES of surrounding enemies is decreased by 15%.\"),\n",
       " (datetime.date(2020, 9, 28),\n",
       "  \"Fantastic Voyage's ATK increases no longer has an HP restriction, and gains an additional 20% Base ATK. When Bennett's HP falls below 70%, his Energy Recharge is increased by 30%. Increases the Level of Passion Overload by 3. Maximum upgrade level is 15. Using a Normal Attack when executing the second attack of Passion Overload's Charge Level 1 allows an additional attack to be performed. This additional attack does 135% of the second attack's DMG. Increase the Level of Fantastic Voyage by 3. Maximum upgrade level is 15. Sword, Claymore, or Polearm-wielding characters inside Fantastic Voyage's radius gain a 15% Pyro DMG Bonus. Normal and Charged Attacks now do Pyro DMG.\"),\n",
       " (datetime.date(2022, 9, 28),\n",
       "  \"The duration of Prayer of the Crimson Crown effect triggered by Sacred Rite: Wagtail's Tide is increased by 3s. When Sacred Rite: Heron's Sanctum hits opponents, Candace's Max HP will be increased by 20% for 15s. Increases the Level of Sacred Rite: Heron's Sanctum by 3. Maximum upgrade level is 15. Shortens the Hold CD of Sacred Rite: Heron's Sanctum to be the same as that of the Tapping CD. Increase the Level of Sacred Rite: Heron's Sanctum by 3. Maximum upgrade level is 15. When characters (excluding Candace herself) affected by the Prayer of the Crimson Crown caused by Sacred Rite: Wagtail's Tide deal Elemental DMG to opponents using Normal Attacks, an attack wave will be unleashed that deals AoE Hydro DMG equal to 15% of Candace's Max HP. This effect can trigger once every 2.3s and is considered Elemental Burst DMG.\"),\n",
       " (datetime.date(2023, 11, 8),\n",
       "  \"After Still Photo: Comprehensive Confirmation heals a character, it will mark them with Verification, which will heal them once every 2s for 80% of Charlotte's ATK. This effect lasts 6s. When using Framing: Freezing Point Composition, when Monsieur Verite hits 1/2/3 (or more) opponents, Charlotte's own ATK will be increased by 10%/20%/30% for 12s. Increases the Level of Still Photo: Comprehensive Confirmation by 3. Maximum upgrade level is 15. When Still Photo: Comprehensive Confirmation hits an opponent marked by Snappy Silhouette or Focused Impression, it will deal 10% more DMG and restore 2 Energy to Charlotte. This restoration can be triggered 5 times every 20s. Increases the Level of Framing: Freezing Point Composition by 3. Maximum upgrade level is 15. When the active character's Normal and Charged Attacks hit an opponent marked by Framing: Freezing Point Composition's Focused Impression, Monsieur Verite will initiate a coordinated attack that deals 180% of Charlotte's ATK as AoE Cryo DMG and heals active character(s) within the AoE for 42% of Charlotte's ATK. This effect can be triggered once every 6s and both DMG and healing dealt in this way will be considered as having been done by Charlotte's Elemental Burst.\"),\n",
       " (datetime.date(2024, 1, 9),\n",
       "  'When the active character with the \"Coordinated Tactics\" status (not including Chevreuse herself) triggers the Overloaded reaction, they will recover 6 Energy. This effect can be triggered once every 10s. You must first unlock the Passive Talent \"Vanguard\\'s Coordinated Tactics.\" After Holding Short-Range Rapid Interdiction Fire and hitting a target, 2 chain explosions will be triggered near the location where said target is hit. Each explosion deals Pyro DMG equal to 120% of Chevreuse\\'s ATK. This effect can be triggered up to once every 10s, and DMG dealt this way is considered Elemental Skill DMG. Increases the Level of Short-Range Rapid Interdiction Fire by 3. Maximum upgrade level is 15. After using Ring of Bursting Grenades, the Hold mode of Short-Range Rapid Interdiction Fire will not go on cooldown when Chevreuse uses it. This effect is removed after Short-Range Rapid Interdiction Fire has been fired twice using Hold or after 6s. Increases the Level of Ring of Bursting Grenades by 3. Maximum upgrade level is 15. After 12s of the healing effect from Short-Range Rapid Interdiction Fire, all nearby party members recover HP equivalent to 10% of Chevreuse\\'s Max HP once. After a party member is healed by Short-Range Rapid Interdiction Fire, they gain a 20% Pyro DMG Bonus and Electro DMG Bonus for 8s. Max 3 stacks. Each stack\\'s duration is counted independently.'),\n",
       " (datetime.date(2024, 3, 13),\n",
       "  'The AoE of the automaton doll \"Tamoto\" summoned by Fluttering Hasode is increased by 50%. Additionally, if there is a Geo party member other than Chiori, Fluttering Hasode will trigger the following after the dash is completed: Summon an additional Tamoto. Only one additional Tamoto can exist at the same time, whether summoned by Chiori this way or through the presence of a Geo Construct. Triggers the Passive Talent \"The Finishing Touch.\" This effect requires you to first unlock the Passive Talent \"The Finishing Touch.\" For 10s after using Hiyoku: Twin Blades, a simplified automaton doll, \"Kinu,\" will be summoned next to your active character every 3s. Kinu will attack nearby opponents, dealing AoE Geo DMG equivalent to 170% of Tamoto\\'s DMG. DMG dealt this way is considered Elemental Skill DMG. Kinu will leave the field after 1 attack or after lasting 3s. Increases the Level of Fluttering Hasode by 3. Maximum upgrade level is 15. For 8s after triggering either follow-up effect of the Passive Talent \"Tailor-Made,\" when your current active character\\'s Normal, Charged, or Plunging Attacks hit a nearby opponent, a simplified automaton doll, \"Kinu,\" will be summoned near this opponent. You can summon 1 Kinu every 1s in this way, and up to 3 Kinu may be summoned this way during each instance of \"Tailor-Made\"\\'s Seize the Moment or Tailoring effect. The above effect can be triggered up to once every 15s. Must unlock the Passive Talent \"Tailor-Made\" first. Increases the Level of Hiyoku: Twin Blades by 3. Maximum upgrade level is 15. After triggering a follow-up effect of the Passive Talent \"Tailor-Made,\" Chiori\\'s own Fluttering Hasode\\'s CD is decreased by 12s. Must unlock the Passive \"Tailor-Made\" first. In addition, the DMG dealt by Chiori\\'s own Normal Attacks is increased by an amount equal to 235% of her own DEF.'),\n",
       " (datetime.date(2020, 9, 28),\n",
       "  \"The last attack of Chongyun's Normal Attack combo releases 3 ice blades. Each blade deals 50% of Chongyun's ATK as Cryo DMG to all enemies in its path. Elemental Skills and Elemental Bursts cast within the Frost Field created by Spirit Blade - Chongyun's Layered Frost have their CD time decreased by 15%. Increases the Level of Spirit Blade - Cloud-parting Star by 3. Maximum upgrade level is 15. Chongyun regenerates 1 Energy every time he hits an enemy affected by Cold or Frozen status effects. This effect can only occur once every 2s. Increases the level of Spirit Blade - Chongyun's Layered Frost by 3. Maximum upgrade level is 15. Spirit Blade - Cloud-parting Star deals 15% more DMG to enemies with a lower percentage of their Max HP remaining than Chongyun. This skill will also summon 1 additional spirt blade.\"),\n",
       " (datetime.date(2022, 8, 24),\n",
       "  \"When in the party and not on the field, Collei's Energy Recharge is increased by 20%. The Passive Talent Floral Sidewinder is changed to this: The Floral Ring will grant the character the Sprout effect from Floral Sidewinder upon return, dealing 40% of Collei's ATK as Dendro DMG to nearby opponents for 3s. From the moment of using Floral Brush to the moment when this instance of Sprout effect ends, if any of your party members triggers Burning, Quicken, Aggravate, Spread, Bloom, Hyperbloom, or Burgeon reactions, the Sprout effect will be extended by 3s. The Sprout effect can only be extended this way once. If another Sprout effect is triggered during its initial duration, the initial effect will be removed. Requires you to have unlocked the Floral Sidewinder Passive Talent. Increases the Level of Floral Brush by 3. Maximum upgrade level is 15. Using Trump-Card Kitty will increase all nearby characters' Elemental Mastery by 60 for 12s (not including Collei herself). Increase the Level of Trump-Card Kitty by 3. Maximum upgrade level is 15. When the Floral Ring hits, it will create a miniature Cuilein-Anbar that will deal 200% of Collei's ATK as Dendro DMG. Each Floral Brush can only create one such miniature Cuilein-Anbar.\"),\n",
       " (datetime.date(2022, 9, 28),\n",
       "  'After using Sacred Rite: Wolf\\'s Swiftness, Cyno\\'s Normal Attack SPD will be increased by 20% for 10s. If the Judication effect of his Passive Talent Featherfall Judgment is triggered during Secret Rite: Chasmic Soulfarer, the duration of this increase will be refreshed. You need to unlock the Passive Talent \"Featherfall Judgement.\" When Cyno\\'s Normal Attacks hit opponents, his Electro DMG Bonus will increase by 10% for 4s. This effect can be triggered once every 0.1s. Max 5 stacks. Increases the Level of Sacred Rite: Wolf\\'s Swiftness by 3. Maximum upgrade level is 15. When Cyno is in the Pactsworn Pathclearer state triggered by Sacred Rite: Wolf\\'s Swiftness, after he triggers Electro-Charged, Superconduct, Overloaded, Quicken, Aggravate, Hyperbloom, or an Electro Swirl reaction, he will restore 3 Elemental Energy for all nearby party members (except himself.) This effect can occur 5 times within one use of Sacred Rite: Wolf’s Swiftness. Increase the Level of Secret Rite: Chasmic Soulfarer by 3. Maximum upgrade level is 15. After using Sacred Rite: Wolf\\'s Swiftness or triggering the Judication effect of the Passive Talent \"Featherfall Judgment,\" Cyno will gain 4 stacks of the \"Day of the Jackal\" effect. When he hits opponents with Normal Attacks, he will consume 1 stack of \"Day of the Jackal\" to fire off one Duststalker Bolt. \"Day of the Jackal\" lasts for 8s. Max 8 stacks. It will be canceled once Pactsworn Pathclearer ends. A maximum of 1 Duststalker Bolt can be unleashed this way every 0.4s. You must first unlock the Passive Talent \"Featherfall Judgment.\"'),\n",
       " (datetime.date(2023, 3, 1),\n",
       "  \"Dehya's Max HP is increased by 20%, and she deals bonus DMG based on her Max HP when using the following attacks: Molten Inferno's DMG will be increased by 3.6% of her Max HP. Leonine Bite's DMG will be increased by 6% of her Max HP. When Dehya uses Molten Inferno: Ranging Flame, the duration of the recreated Fiery Sanctum field will be increased by 4s. Additionally, when a Fiery Sanctum exists on the field, DMG dealt by its next coordinated attack will be increased by 50% when active character(s) within the Fiery Sanctum field are attacked. Increases the Level of Leonine Bite by 3. Maximum upgrade level is 15. When Flame-Mane's Fist and Incineration Drive attacks unleashed during Leonine Bite hit opponents, they will restore 1.5 Energy for Dehya and 2.5% of her Max HP. This effect can be triggered once every 0.2s. Increases the Level of Molten Inferno by 3. Maximum upgrade level is 15. The CRIT Rate of Leonine Bite is increased by 10%. Additionally, after a Flame-Mane's Fist attack hits an opponent and deals CRIT Hits during a single Blazing Lioness state, it will cause the CRIT DMG of Leonine Bite to increase by 15% for the rest of Blazing Lioness's duration and extend that duration by 0.5s. This effect can be triggered every 0.2s. The duration can be extended for a maximum of 2s and CRIT DMG can be increased by a maximum of 60% this way.\"),\n",
       " (datetime.date(2020, 9, 28),\n",
       "  'Diluc deals 15% more DMG to enemies whose HP is above 50%. When Diluc takes DMG, his Base ATK increases by 10% and his ATK SPD increases by 5%. Lasts for 10s. This effect can stack up to 3 times and can only occur once every 1.5s. Increases the Level of Searing Onslaught by 3. Maximum upgrade level is 15. Casting Searing Onslaught in sequence greatly increases damage dealt. Within 2s of using Searing Onslaught, casting the next Searing Onslaught in the combo deals 40% additional DMG. This effect lasts for the next 2s. Increases the level of Dawn by 3. Maximum upgrade level is 15. After casting Searing Onslaught, the next 2 Normal Attacks within the next 6s will have their DMG and ATK SPD increased by 30%. Additionally, Searing Onslaught will not interrupt the Normal Attack combo.'),\n",
       " (datetime.date(2020, 11, 11),\n",
       "  \"Regenerates 15 Energy for Diona after the effects of Signature Mix end. Increases Icy Paws' DMG by 15%, and increases its shield's DMG Absorption by 15%. Additionally, when paws hit their targets, creates a shield for other nearby characters on the field with 50% of the Icy Paws shield's DMG Absorption for 5s. Increases the Level of Signature Mix by 3. Maximum upgrade level is 15. Within the radius of Signature Mix, Diona's charge time for aimed shots is reduced by 60%. Increases the level of Icy Paws by 3. Maximum upgrade level is 15. Characters within Signature Mix's radius will gain the following effects based on their HP amounts: Increasing Incoming Healing Bonus by 30% when HP falls below or is equal to 50%. Elemental Mastery is increased by 200 when HP is above 50%.\"),\n",
       " (datetime.date(2022, 9, 9),\n",
       "  \"The number of After-Sales Service Rounds created by Troubleshooter Shots is increased by 1. When you are in combat and the Jinni heals the character it is connected to, it will fire a Jinni Toop from that character's position that deals 50% of Dori's ATK DMG. Increases the Level of Alcazarzaray's Exactitude by 3. Maximum upgrade level is 15. The character connected to the Jinni will obtain the following buffs based on their current HP and Energy: When their HP is lower than 50%, they gain 50% Incoming Healing Bonus. When their Energy is less than 50%, they gain 30% Energy Recharge. Increases the level of Spirit-Warding Lamp: Troubleshooter Cannon by 3. Maximum upgrade level is 15. Dori gains the following effects for 3s after using Spirit-Warding Lamp: Troubleshooter Cannon: Electro Infusion. When Normal Attacks hit opponents, all nearby party members will heal HP equivalent to 4% of Dori's Max HP. This type of healing can occur once every 0.1s.\"),\n",
       " (datetime.date(2021, 5, 18),\n",
       "  \"Every time Icetide Vortex's Grimheart stacks are consumed, Eula's Physical DMG is increased by 30% for 6s. Each stack consumed will increase the duration of this effect by 6s up to a maximum of 18s. Decreases the CD of Icetide Vortex's Holding Mode, rendering it identical to Tapping CD. Increases the Level of Glacial Illumination by 3. Maximum upgrade level is 15. Lightfall Swords deal 25% increased DMG against opponents with less than 50% HP. Increases the Level of Icetide Vortex by 3. Maximum upgrade level is 15. Lightfall Swords created by Glacial Illumination start with 5 stacks of energy. Normal Attacks, Elemental Skills, and Elemental Bursts have a 50% chance to grant the Lightning Sword an additional stack of energy.\"),\n",
       " (datetime.date(2022, 12, 7),\n",
       "  \"Faruzan can fire off a maximum of 2 Hurricane Arrows using fully charged Aimed Shots while under a single Wind Realm of Nasamjnin effect. The duration of the Dazzling Polyhedron created by The Wind's Secret Ways is increased by 6s. Increases the Level of Wind Realm of Nasamjnin by 3. Maximum upgrade level is 15. The vortex created by Pressurized Collapses will restore Energy to Faruzan based on the number of opponents hit: If it hits 1 opponent, it will restore 2 Energy for Faruzan. Each additional opponent hit will restore 0.5 more Energy for Faruzan. A maximum of 4 Energy can be restored to her per vortex. Increases the Level of The Wind's Secret Ways by 3. Maximum upgrade level is 15. Characters affected by The Wind's Secret Ways' Prayerful Wind's Benefit have 40% increased CRIT DMG when they deal Anemo DMG. When the active character deals DMG while affected by Prayerful Wind's Benefit, they will apply Pressurized Collapse to the opponent damaged. This effect can be triggered once every 3s. This CD is shared between all party members.\"),\n",
       " (datetime.date(2020, 9, 28),\n",
       "  \"Even when Oz is not present in combat, he can still watch over Fischl through his raven eyes. When Fischl attacks an enemy, Oz fires a joint attack, dealing 22% of ATK DMG. When Nightrider is used, it deals an additional 200% ATK as DMG, and its AoE is increased by 50%. Increases the Level of Nightrider by 3. Maximum upgrade level is 15. When Midnight Phatasmagoria is used, it deals 222% of ATK as Electro DMG to surrounding enemies. When the skill duration ends, Fischl regenerates 20% of her HP. Increase the Level of Midnight Phantasmagoria by 3. Maximum upgrade level is 15. Increases the duration of Oz's summoning by 2s. Additionally, Oz attacks with the current character when present, dealing 30% of Fischl's ATK as Electro DMG.\"),\n",
       " (datetime.date(2023, 9, 5),\n",
       "  'The CRIT Rate of Pressurized Floe: Shattering Pressure will be increased by 15%. Unleashing Pressurized Floe: Shattering Pressure will restore 2 Energy to Freminet. If a Pressure Level 4 Shattering Pressure is unleashed, this will restore 3 Energy. Increases the Level of Normal Attack: Flowing Eddies by 3. Maximum upgrade level is 15. After Freminet triggers Frozen, Shatter, or Superconduct against opponents, his ATK will be increased by 9% for 6s. Max 2 stacks. This can be triggered once every 0.3s. Increase the Level of Pressurized Floe by 3. Maximum upgrade level is 15. After Freminet triggers Frozen, Shatter, or Superconduct against opponents, his CRIT DMG will be increased by 12% for 6s. Max 3 stacks. This can be triggered once every 0.3s.'),\n",
       " (datetime.date(2023, 11, 8),\n",
       "  'When using Let the People Rejoice, Furina will gain 150 Fanfare. Additionally, Furina\\'s Fanfare limit is increased by 100. While Let the People Rejoice lasts, Furina\\'s Fanfare gain from increases or decreases in nearby characters\\' HP is increased by 250%. Each point of Fanfare above the limit will increase Furina\\'s Max HP by 0.35%. Her maximum Max HP increase is 140%. Increases the Level of Let the People Rejoice by 3. Maximum upgrade level is 15. When the Salon Members from Salon Solitaire hit an opponent, or the Singer of Many Waters restores HP to the active character, Furina will restore 4 Energy. This effect triggers once every 5s. Increases the Level of Salon Solitaire by 3. Maximum upgrade level is 15. When using Salon Solitaire, Furina gains \"Center of Attention\" for 10s. Throughout the duration, Furina\\'s Normal Attacks, Charged Attacks, and Plunging Attacks are converted into Hydro DMG which cannot be overridden by any other elemental infusion. DMG is also increased by an amount equivalent to 18% of Furina\\'s max HP. Throughout the duration, Furina\\'s Normal Attacks (not including Arkhe: Seats Sacred and Secular Attacks), Charged Attacks, and the impact of Plunging Attacks will cause different effects up to every 0.1s after hitting opponents depending on her current Arkhe alignment: Arkhe: Ousia Every 1s, all nearby characters in the party will be healed by 4% of Furina\\'s max HP, for a duration of 2.9s. Triggering this effect again will extend its duration. Arkhe: Pneuma This Normal Attack (not including Arkhe: Seats Sacred and Secular Attacks), Charged Attack, or Plunging Attack ground impact DMG will be further increased by an amount equivalent to 25% of Furina\\'s max HP. When any of the attacks mentioned previously hit an opponent, all nearby characters in the party will consume 1% of their current HP. During the duration of each instance of \"Center of Attention,\" the above effects can be triggered up to 6 times. \"Center of Attention\" will end when its effects have triggered 6 times or when the duration expires.'),\n",
       " (datetime.date(2024, 1, 31),\n",
       "  \"When the Suanni Man Chai from Suanni's Gilded Dance meets back up with Gaming, it will heal 15% of Gaming's HP. When Gaming receives healing and this instance of healing overflows, his ATK will be increased by 20% for 5s. Increases the Level of Bestial Ascent by 3. Maximum upgrade level is 15. When Bestial Ascent's Plunging Attack: Charmed Cloudstrider hits an opponent, it will restore 2 Energy to Gaming. This effect can be triggered once every 0.2s. Increases the Level of Suanni's Gilded Dance by 3. Maximum upgrade level is 15. Bestial Ascent's Plunging Attack: Charmed Cloudstrider CRIT Rate increased by 20% and CRIT DMG increased by 40%, and its attack radius will be increased.\"),\n",
       " (datetime.date(2021, 1, 12),\n",
       "  \"Taking DMG from a Charge Level 2 Frostflake Arrow Bloom decreases opponents' Cryo RES by 15% for 6s. A hit regenerates 2 Energy for Ganyu. This effect can only occur once per Charge Level 2 Frostflake Arrow, regardless if Frostflake Arrow itself or its Bloom hit the target. Trail of the Qilin gains 1 additional charge. Increases the level of Celestial Shower by 3. Maximum upgrade level is 15. Opponents standing within the AoE of Celestial Shower take increased DMG. This effect strengthens over time. Increased DMG taken begins at 5% and increases by 5% every 3s, up to a maximum of 25%. The effect lingers for 3s after the opponent leaves the AoE. Increases the level of Trail of the Qilin by 3. Maximum upgrade level is 15. Using Trail of the Qilin causes the next Frostflake Arrow shot within 30s to not require charging.\"),\n",
       " (datetime.date(2021, 12, 14),\n",
       "  'When characters (other than Gorou) within the AoE of Gorou\\'s General\\'s War Banner or General\\'s Glory deal Geo DMG to opponents, the CD of Gorou\\'s Inuzaka All-Round Defense is decreased by 2s. This effect can occur once every 10s. While General\\'s Glory is in effect, its duration is extended by 1s when a nearby active character obtains an Elemental Shard from a Crystallize reaction. This effect can occur once every 0.1s. Max extension is 3s. Increases the level of Inuzaka All-Round Defense by 3. Maximum upgrade level is 15. When General\\'s Glory is in the \"Impregnable\" or \"Crunch\" states, it will also heal active characters within its AoE by 50% of Gorou\\'s own DEF every 1.5s. Increases the level of Juuga: Forward Unto Victory by 3. Maximum upgrade level is 15. For 12s after using Inuzaka All-Round Defense or Juuga: Forward Unto Victory, increases the CRIT DMG of all nearby party members\\' Geo DMG based on the buff level of the skill\\'s field at the time of use: \"Standing Firm\": +10% \"Impregnable\": +20% \"Crunch\": +40% This effect cannot stack and will take reference from the last instance of the effect that is triggered.'),\n",
       " (datetime.date(2021, 3, 2),\n",
       "  \"While in a Paramita Bouquet state activated by Guide to Afterlife, Hu Tao's Charge Attacks do not consume Stamina. Increases the Blood Blossom DMG by an amount equal to 10% of Hu Tao's Max HP at the time the effect is applied. Additionally, Spirit Soother will also apply the Blood Blossom effect. Increases the level of Guide to Afterlife by 3. Maximum upgrade level is 15. Upon defeating an enemy affected by a Blood Blossom that Hu Tao applied herself, all nearby allies in the party (excluding Hu Tao herself) will have their CRIT rate increased by 12% for 15s. Increases the level of Spirit Soother by 3. Maximum upgrade level is 15. Triggers when Hu Tao's HP drops below 25%, or when she suffers a lethal strike: Hu Tao will not fall as a result of the DMG sustained. Additionally, for the next 10s, all of her Elemental and Physical RES is increased by 200%, her CRIT Rate is increased by 100%, and her resistance to interruption is greatly increased. This effect triggers automatically when Hu Tao has 1 HP left. Can only occur once every 60s.\"),\n",
       " (datetime.date(2020, 9, 28),\n",
       "  'Increases the pulling speed of Gale Blade after holding for more than 1s, and increases the DMG dealt by 40%. When Jean picks up an Elemental Orb/Particle, all party members have their Movement SPD and ATK SPD increased by 15% for 15s. Increases the Level of Dandelion Breeze by 3. Maximum upgrade level is 15. Within the Field created by Dandelion Breeze, all enemies have their Anemo RES decreased by 40%. Increase the Level of Gale Blade by 3. Maximum upgrade level is 15. Incoming DMG is decreased by 35% within the Field created by Dandelion Breeze. Upon leaving the Dandelion Field, this effect lasts for 3 attacks or 10s.'),\n",
       " (datetime.date(2020, 9, 28),\n",
       "  \"The CRIT Rate of Normal Attack and Charged Attack DMG against enemies affected by the Cold or Frozen status effects is increased by 15%. Every time Glacial Waltz defeats an enemy, its duration is increased by 2.5s, up to a maximum of 15s. Increases the Level of Frostgnaw by 3. Maximum upgrade level is 15. Triggers automatically when Kaeya's HP falls below 20%: Creates a shield that absorbs damage equal to 30% of Kaeya's Max HP. Lasts for 20s. This shield absorbs Cryo DMG with 250% efficiency. Can only occur once every 60s. Increase the Level of Glacial Waltz by 3. Maximum upgrade level is 15. Glacial Waltz will generate 1 additional icicle, and will regenerate 15 Energy when cast.\"),\n",
       " (datetime.date(2023, 5, 2),\n",
       "  \"Within 3s after using Artistic Ingenuity, Kaveh's Dendro RES and Incoming Healing Bonus will be increased by 50% and 25% respectively. Kaveh's Normal Attack SPD increases by 15% during Painted Dome. Increases the level of Painted Dome by 3. Maximum upgrade level is 15. Dendro Cores created from Bloom reactions Kaveh triggers will deal 60% more DMG when they burst. Increases the level of Artistic Ingenuity by 3. Maximum upgrade level is 15. When Kaveh's Normal, Charged, or Plunging Attacks hit opponents during Painted Dome, they will unleash Pairidaeza's Light upon the opponent's position, dealing 61.8% of Kaveh's ATK as AoE Dendro DMG and causing all Dendro Cores within that AoE to burst. This effect can be triggered once every 3s.\"),\n",
       " (datetime.date(2020, 9, 28),\n",
       "  \"Recasting Stellar Restoration while a Lightning Stiletto is present causes Keqing to deal 50% of her ATK as AoE Electro DMG at the start point and terminus of her Blink. When Keqing's Normal and Charged Attack's hit enemies affected by Electro, they have a 50% chance of producing an Elemental Particle. This effect can only occur once every 5s. Increases the Level of Starward Sword by 3. Maximum upgrade level is 15. For 10s after Keqing triggers an Electro-related Elemental Reaction, her ATK is increased by 25%. Increase the Level of Stellar Restoration by 3. Maximum upgrade level is 15. When initiating a Normal Attack, Charged Attack, Elemental Skill or Elemental Burst, Keqing gains a 6% Electro DMG Bonus for 8s. Effects triggered by Normal Attacks, Charged Attacks, Elemental Skills and Elemental Bursts are considered independent entities.\"),\n",
       " (datetime.date(2023, 5, 24),\n",
       "  \"Every 8,000 Max HP Kirara possesses will cause her to create 1 extra Cat Grass Cardamom when she uses Secret Art: Surprise Dispatch. A maximum of 4 extra can be created this way. When Kirara is in the Urgent Neko Parcel state of Meow-teor Kick, she will grant other party members she crashes into Critical Transport Shields. The DMG absorption of Critical Transport Shield is 40% of the maximum absorption Meow-teor Kick's normal Shields of Safe Transport are capable of, and will absorb Dendro DMG with 250% effectiveness. Critical Transport Shields last 12s and can be triggered once on each character every 10s. Increases the Level of Meow-teor Kick by 3. Maximum upgrade level is 15. After active character(s) protected by Shields of Safe Transport or Critical Transport Shields hit opponents with Normal, Charged, or Plunging Attacks, Kirara will perform a coordinated attack with them using Small Cat Grass Cardamoms, dealing 200% of her ATK as Dendro DMG. DMG dealt this way is considered Elemental Burst DMG. This effect can be triggered once every 3.8s. This CD is shared between all party members. Increase the Level of Secret Art: Surprise Dispatch by 3. Maximum upgrade level is 15. All nearby party members will gain 12% All Elemental DMG Bonus within 15s after Kirara uses her Elemental Skill or Burst.\"),\n",
       " (datetime.date(2020, 10, 20),\n",
       "  \"Attacks and Skills have a certain chance to summon a spark that bombards enemies, dealing DMG equal to 120% of Sparks 'n' Splash's DMG. Being hit by Jumpy Dumpty's mines decreases enemy DEF by 23% for 10s. Increases the Level of Jumpy Dumpty by 3. Maximum upgrade level is 15. If Klee leaves the field during the duration of Sparks 'n' Splash, her departure triggers an explosion that deals 555% of her ATK as AoE Pyro DMG. Increase the Level of Sparks 'n' Splash by 3. Maximum upgrade level is 15. While under the effects of Sparks 'n' Splash, other members of the party will continuously regenerate Energy. When Sparks 'n' Splash is used, all party members will gain 10% Pyro DMG Bonus for 25s.\"),\n",
       " (datetime.date(2022, 6, 21),\n",
       "  \"Gyoei Narukami Kariyama Rite's AoE is increased by 50%. Grass Ring of Sanctification's duration is increased by 3s. Increases the Level of Sanctifying Ring by 3. Maximum upgrade level is 15. When the Normal, Charged, or Plunging Attacks of the character affected by Shinobu's Grass Ring of Sanctification hit opponents, a Thundergrass Mark will land on the opponent's position and deal AoE Electro DMG based on 9.7% of Shinobu's Max HP. This effect can occur once every 5s. Increase the Level of Gyoei Narukami Kariyama Rite by 3. Maximum upgrade level is 15. When Kuki Shinobu takes lethal DMG, this instance of DMG will not take her down. This effect will automatically trigger when her HP reaches 1 and will trigger once every 60s. When Shinobu's HP drops below 25%, she will gain 150 Elemental Mastery for 15s. This effect will trigger once every 60s.\"),\n",
       " (datetime.date(2022, 11, 18),\n",
       "  \"The Shield Absorption of the Curtain of Slumber generated by Nights of Formal Focus is increased by 20%. Additionally, when unleashing Nights of Formal Focus, she will generate a shield for any nearby party members who are not being protected by a Curtain of Slumber. This shield will have 35% of the absorption of a Curtain of Slumber, will last for 12s, and will absorb Cryo DMG with 250% effectiveness. When Shooting Stars from Nights of Formal Focus strike opponents, they will each restore 1 Energy to Layla. Each Shooting Star can restore Energy to her in this manner once. Increases the Level of Nights of Formal Focus by 3. Maximum upgrade level is 15. When Nights of Formal Focus starts to fire off Shooting Stars, it will grant all nearby party members the Dawn Star effect, causing their Normal and Charged Attack DMG to increase based on 5% of Layla's Max HP. Dawn Star can last up to 3s and will be removed 0.05s after dealing Normal or Charged Attack DMG. Increase the Level of Dream of the Star-Stream Shaker by 3. Maximum upgrade level is 15. Shooting Stars from Nights of Formal Focus deal 40% increased DMG, and Starlight Slugs from Dream of the Star-Stream Shaker deal 40% increased DMG. Additionally, the interval between the creation of Night Stars via Nights of Formal Focus is decreased by 20%.\"),\n",
       " (datetime.date(2020, 9, 28),\n",
       "  \"Lisa recovers 2 Energy for every opponent hit while holding Violet Arc. A maximum of 10 Energy can be regenerated in this manner at any one time. Holding Violet Arc has the following effects: Increases DEF by 25%. Increases Lisa's resistance to interruption. Increases the Level of Lightning Rose by 3. Maximum upgrade level is 15. Increases the number of lightning bolts released by Lightning Rose by 1-3. Increase the Level of Violet Arc by 3. Maximum upgrade level is 15. When Lisa takes the field, she applies 3 stacks of Violet Arc's Conductive status onto nearby enemies. This effect can only occur once every 5s.\"),\n",
       " (datetime.date(2023, 8, 16),\n",
       "  \"When Enigmatic Feint's Enigma Thrust hits an opponent with Shadowsign, a vortex will be created at that opponent's position that will pull nearby opponents in. Whenever the Bogglecat Box summoned by Magic Trick: Astonishing Shift fires a Vivid Shot, it will fire an extra Vivid Shot. Increases the Level of Magic Trick: Astonishing Shift by 3. Maximum upgrade level is 15. Increases Enigmatic Feint's charges by 1. Increase the Level of Enigmatic Feint by 3. Maximum upgrade level is 15. When Lynette uses Enigmatic Feint's Enigma Thrust, she will gain an Anemo Infusion and 20% Anemo DMG Bonus for 6s.\"),\n",
       " (datetime.date(2023, 8, 16),\n",
       "  \"Lyney can have 2 Grin-Malkin Hats present at once. Additionally, Prop Arrows will summon 2 Grin-Malkin Hats and grant Lyney 1 extra stack of Prop Surplus. This effect can occur once every 15s. When Lyney is on the field, he will gain a stack of Crisp Focus every 2s. This will increase his CRIT DMG by 20%. Max 3 stacks. This effect will be canceled when Lyney leaves the field. Increases the Level of Card Force Translocation by 3. Maximum upgrade level is 15. After an opponent is hit by Lyney's Pyro Charged Attack, this opponent's Pyro RES will be decreased by 20% for 6s. Increase the Level of Wondrous Trick: Miracle Parade by 3. Maximum upgrade level is 15. When Lyney fires a Prop Arrow, he will fire a Pyrotechnic Strike: Reprised that will deal 80% of a Pyrotechnic Strike's DMG. This DMG is considered Charged Attack DMG.\"),\n",
       " (datetime.date(2023, 3, 21),\n",
       "  'The Soulwind state of Starfrost Swirl can decrease the healing interval between instances caused by Skyfeather Song\\'s Eagleplume state. This decrease percentage is equal to the ATK SPD increase provided by Soulwind. When Starfrost Swirl\\'s Flowfrost Arrow first hits an opponent, or its Rimestar Flare hits an opponent, 1 Detector stack from Passive Talent \"Suppressive Barrage\" will be generated. You must have unlocked the Passive Talent \"Suppressive Barrage\" first. Increases the Level of Skyfeather Song by 3. Maximum upgrade level is 15. When Mika\\'s own Skyfeather Song\\'s Eagleplume state heals party members, this will restore 3 Energy to Mika. This form of Energy restoration can occur 5 times during the Eagleplume state created by 1 use of Skyfeather Song. Increase the Level of Starfrost Swirl by 3. Maximum upgrade level is 15. The maximum number of Detector stacks that Starfrost Swirl\\'s Soulwind can gain is increased by 1. You need to have unlocked the Passive Talent \"Suppressive Barrage\" first. Additionally, active characters affected by Soulwind will deal 60% more Physical CRIT DMG.'),\n",
       " (datetime.date(2020, 9, 28),\n",
       "  'The effects of Hydro-related Elemental Reactions are enhanced for 8s after a character hits an enemy affected by an Omen: Electro-Charged DMG is increased by 15%. Vaporize DMG is increased by 15%. Hydro Swirl DMG is increased by 15%. The duration for which enemies are Frozen is increased by 15%. When a Normal Attack hits, there is a 20% chance that it will be automatically followed by a Charged Attack. This effect can only occur once every 5s. Increases the Level of Stellaris Phantasm by 3. Maximum upgrade level is 15. When a character attacks an enemy affected by the Omen status effect, their CRIT Rate is increased by 15%. Increase the Level of Mirror Reflection of Doom by 3. Maximum upgrade level is 15. Upon entering Illusory Torrent, Mona gain a 60% increase to the DMG her next Charged Attack per second of movement. A maximum DMG Bonus of 180% can be achieved in this manner. The effect lasts for no more than 8s.'),\n",
       " (datetime.date(2022, 11, 2),\n",
       "  \"When the Shrine of Maya is unleashed and the Elemental Types of the party members are being tabulated, the count will add 1 to the number of Pyro, Electro, and Hydro characters respectively. Opponents that are marked by Seeds of Skandha applied by Nahida herself will be affected by the following effects: Burning, Bloom, Hyperbloom, and Burgeon Reaction DMG can score CRIT Hits. CRIT Rate and CRIT DMG are fixed at 20% and 100% respectively. Within 8s of being affected by Quicken, Aggravate, Spread, DEF is decreased by 30%. Increases the Level of All Schemes to Know by 3. Maximum upgrade level is 15. When 1/2/3/(4 or more) nearby opponents are affected by All Schemes to Know's Seeds of Skandha, Nahida's Elemental Mastery will be increased by 100/120/140/160. Increase the Level of Illusory Heart by 3. Maximum upgrade level is 15. When Nahida hits an opponent affected by All Schemes to Know's Seeds of Skandha with Normal or Charged Attacks after unleashing Illusory Heart, she will use Tri-Karma Purification: Karmic Oblivion on this opponent and all connected opponents, dealing Dendro DMG based on 200% of Nahida's ATK and 400% of her Elemental Mastery. DMG dealt by Tri-Karma Purification: Karmic Oblivion is considered Elemental Skill DMG and can be triggered once every 0.2s. This effect can last up to 10s and will be removed after Nahida has unleashed 6 instances of Tri-Karma Purification: Karmic Oblivion.\"),\n",
       " (datetime.date(2023, 12, 20),\n",
       "  'Each stack of Crystal Shrapnel consumed when Navia uses Ceremonial Crystalshot will restore 3 Energy to her and decrease the CD of As the Sunlit Sky\\'s Singing Salute by 1s. Up to 9 Energy can be gained this way, and the CD of \"As the Sunlit Sky\\'s Singing Salute\" can be decreased by up to 3s. Each stack of Crystal Shrapnel consumed will increase the CRIT Rate of this Ceremonial Crystalshot instance by 12%. CRIT Rate can be increased by up to 36% in this way. In addition, when Ceremonial Crystalshot hits an opponent, one Cannon Fire Support shot from As the Sunlit Sky\\'s Singing Salute will strike near the location of the hit. Up to one instance of Cannon Fire Support can be triggered each time Ceremonial Crystalshot is used, and DMG dealt by said Cannon Fire Support this way is considered Elemental Burst DMG. Increases the Level of Ceremonial Crystalshot by 3. Maximum upgrade level is 15. When As the Sunlit Sky\\'s Singing Salute hits an opponent, that opponent\\'s Geo RES will be decreased by 20% for 8s. Increases the Level of As the Sunlit Sky\\'s Singing Salute by 3. Maximum upgrade level is 15. If more than 3 stacks of Crystal Shrapnel are consumed when using Ceremonial Crystalshot, each stack consumed beyond the first 3 increases the CRIT DMG of that Ceremonial Crystalshot by 45%, and any stacks consumed beyond the first 3 are returned to Navia.'),\n",
       " (datetime.date(2023, 9, 27),\n",
       "  'When Neuvillette takes the field, he will obtain 1 stack of Past Draconic Glories from the Passive Talent \"Heir to the Ancient Sea\\'s Authority.\" You must first unlock the Passive Talent \"Heir to the Ancient Sea\\'s Authority.\" Additionally, his interruption resistance will be increased while using the Charged Attack Empowerment: Legal Evaluation and the Charged Attack: Equitable Judgment. The Passive Talent \"Heir to the Ancient Sea\\'s Authority\" will be enhanced: Each stack of Past Draconic Glories will increase the CRIT DMG of Charged Attack: Equitable Judgment by 14%. The maximum increase that can be achieved this way is 42%. You must first unlock the Passive Talent \"Heir to the Ancient Sea\\'s Authority.\" Increases the Level of Normal Attack: As Water Seeks Equilibrium by 3. Maximum upgrade level is 15. When Neuvillette is on the field and is healed, 1 Sourcewater Droplet will be generated. This effect can occur once every 4s. Increases the Level of O Tides, I Have Returned by 3. Maximum upgrade level is 15. When using Charged Attack: Equitable Judgment, Neuvillette can absorb nearby Sourcewater Droplets in an AoE. Each absorbed Droplet will increase the duration of Charged Attack: Equitable Judgment by 1s. Additionally, when Equitable Judgment hits opponents, it will fire off 2 additional currents every 2s, each of which will deal 10% of Neuvillette\\'s Max HP as Hydro DMG. DMG dealt this way will count as DMG dealt by Equitable Judgment.'),\n",
       " (datetime.date(2022, 10, 14),\n",
       "  'Dance of Haftkarsvar will be enhanced as follows: Luminous Illusion DMG is increased by 65%. The Tranquility Aura\\'s duration is extended by 6s. After characters affected by the Golden Chalice\\'s Bounty deal Hydro DMG to an opponent, that opponent\\'s Hydro RES will be decreased by 35% for 10s. After a triggered Bloom reaction deals DMG to opponents, their Dendro RES will be decreased by 35% for 10s. You need to have unlocked the \"Court of Dancing Petals\" Talent. Increases the Level of Dance of Abzendegi: Distant Dreams, Listening Spring by 3. Maximum upgrade level is 15. After the third dance step of Dance of Haftkarsvar\\'s Pirouette hits opponents, Nilou will gain 15 Elemental Energy, and DMG from her Dance of Abzendegi: Distant Dreams, Listening Spring will be increased by 50% for 8s. Increase the Level of Dance of Haftkarsvar by 3. Maximum upgrade level is 15. For every 1,000 points of Max HP, Nilou\\'s CRIT Rate and CRIT DMG will increase by 0.6% and 1.2% respectively. The maximum increase in CRIT Rate and CRIT DMG via this method is 30% and 60% respectively.'),\n",
       " (datetime.date(2020, 9, 28),\n",
       "  \"When a Normal Attack hits, it deals AoE DMG. When Jade Screen is shattered, its CD will reset. Can occur once every 6s. Increases the Level of Starshatter by 3. Maximum upgrade level is 15. Jade Screen increases nearby characters' Elemental RES by 10%. Increase the Level of Jade Screen by 3. Maximum upgrade level is 15. When Starshatter is used, Ningguang gains 7 Star Jades.\"),\n",
       " (datetime.date(2020, 9, 28),\n",
       "  \"While Sweeping Time and Breastplate are both in effect, the chance of Breastplate's healing effects activating is increased to 100%. Decreases the Stamina Consumption of Noelle's Charged Attacks by 20% and increases her Charged Attack DMG by 15%. Increases the Level of Breastplate by 3. Maximum upgrade level is 15. When Breastplate's duration expires or it is destroyed by DMG, it will deal 400% ATK of Geo DMG to surrounding enemies. Increase the Level of Sweeping Time by 3. Maximum upgrade level is 15. Sweeping Time increases Noelle's ATK by an additional 50% of her DEF. Additionally, every enemy defeated during the skill's duration adds 1s to the duration, up to 10s.\"),\n",
       " (datetime.date(2020, 9, 28),\n",
       "  \"When the Herald of Frost hits an enemy marked by a Fortune-Preserving Talisman, Qiqi regenerates 2 Energy. Qiqi's Normal and Charge Attack DMG against enemies affected by Cryo is increased by 15%. Increases the Level of Adeptus Art: Preserver of Fortune by 3. Maximum upgrade level is 15. Targets marked by the Fortune-Preserving Talisman have their ATK decreased by 20%. Increase the Level of Adeptus Art: Herald of Frost by 3. Maximum upgrade level is 15. Using Adeptus Art: Preserve of Fortune revives all nearby fallen characters and regenerates 50% of their HP. This effect can only occur once every 15 mins.\"),\n",
       " (datetime.date(2021, 9, 1),\n",
       "  \"Chakra Desiderata will gather Resolve even faster. When Electro characters use their Elemental Bursts, the Resolve gained is increased by 80%. When characters of other Elemental Types use their Elemental Bursts, the Resolve gained is increased by 20%. Secret Art: Musou Shinsetsu's Musou no Hitotachi and Musou Isshin attacks will ignore 60% of opponents' DEF. Increases the Level of Secret Art: Musou Shinsetsu by 3. Maximum upgrade level is 15. When the Musou Isshin state applied by Secret Art: Musou Shinsetsu expires, all nearby party members (excluding the Raiden Shogun) gain 30% bonus ATK for 10s. Increase the Level of Transcendence: Baleful Omen by 3. Maximum upgrade level is 15. While in the Musou Isshin state applied by Secret Art: Musou Shinsetsu, the Raiden Shogun's Normal, Charged, and Plunging Attacks will decrease all nearby party members' (but not including the Raiden Shogun herself) Elemental Burst CD by 1s when they hit opponents. This effect can trigger once every 1s, and can trigger a total of 5 times during the state's duration.\"),\n",
       " (datetime.date(2020, 9, 28),\n",
       "  \"Picking up an Elemental Orb or Particle increases Razor's DMG by 10% for 8s. Increases CRIT Rate against enemies with less than 30% HP by 10%. Increases the Level of Lightning Fang by 3. Maximum upgrade level is 15. When casting Claw and Thunder (Press), enemies hit will have their DEF decreased by 15% for 7s. Increase the Level of Claw and Thunder by 3. Maximum upgrade level is 15. Every 10s, Razor's sword charges up, causing the next Normal Attack to release lightning that deals 100% of Razor's ATK as Electro DMG. When Razor is not using Lightning Fang, a lightning strike on an enemy will grant Razor an Electro Sigil for Claw and Thunder.\"),\n",
       " (datetime.date(2021, 4, 6),\n",
       "  \"When Rosaria deals a CRIT Hit, her ATK SPD increases by 10% and her Normal Attack DMG increases by 10% for 4s. The duration of the Ice Lance created by Rites of Termination is increased by 4s. Increases the Level of Ravaging Confession by 3. Maximum upgrade level is 15. Ravaging Confession's CRIT Hits regenerate 5 Energy for Rosaria. Can only be triggered once each time Ravaging Confession is cast. Increase the Level of Rites of Termination by 3. Maximum upgrade level is 15. Rites of Termination's attack decreases opponents' Physical RES by 20% for 10s.\"),\n",
       " (datetime.date(2021, 8, 10),\n",
       "  \"The Muji-Muji Daruma created by Yoohoo Art: Mujina Flurry will ignore HP limits and can simultaneously attack nearby opponents and heal characters. Yoohoo Art: Fuuin Dash gains the following effects: DMG of Fuufuu Whirlwind Kick in Tapping (mobile)/Press (PC & PlayStation) Mode increased by 3.3%. Every 0.5s in the Fuufuu Windwheel state will increase the DMG of this Fuufuu Whirlwind Kick by 3.3%. The maximum DMG increase possible through this method is 66%. Increases the Level of Yoohoo Art: Mujina Flurry by 3. Maximum upgrade level is 15. Sayu recovers 1.2 Energy when she triggers a Swirl reaction. This effect occurs once every 2s. Increase the Level of Yoohoo Art: Fuuin Dash by 3. Maximum upgrade level is 15. The Muji-Muji Daruma created by Sayu's Yoohoo Art: Mujina Flurry will now also benefit from her Elemental Mastery. Each point of Sayu's Elemental Mastery will produce the following effects: Increases the damage dealt by the Muji-Muji Daruma's attacks by 0.2% ATK. A maximum of 400% ATK can be gained via this method. Increases the HP restored by the Muji-Muji Daruma by 3. A maximum of 6,000 additional HP can be restored in this manner.\"),\n",
       " (datetime.date(2022, 1, 5),\n",
       "  \"Spring Spirit Summoning can be used 1 more time. Divine Maiden's Deliverance lasts for 6 seconds longer. Active characters within the skill's field deals 15% increased Cryo CRIT DMG. Increases the Level of Spring Spirit Summoning by 3. Maximum upgrade level is 15. When characters under the effect of Icy Quill applied by Shenhe triggers its DMG Bonus effects, Shenhe will gain a Skyfrost Mantra stack: When Shenhe uses Spring Spirit Summoning, she will consume all stacks of Skyfrost Mantra, increasing the DMG of that Spring Spirit Summoning by 5% for each stack consumed. Max 50 stacks. Stacks last for 60s. Increase the Level of Divine Maiden's Deliverance by 3. Maximum upgrade level is 15. When characters trigger Icy Quill's effects using Normal and Charged Attack DMG, it does not count toward the Trigger Quota.\"),\n",
       " (datetime.date(2020, 9, 28),\n",
       "  'Astable Anemohypostasis Creation - 6308 gains 1 additional charge. The duration of Forbidden Creation - Isomer 75 / Type II is increased by 2s. Increases the Level of Astable Anemohypostasis Creation - 6308 by 3. Maximum upgrade level is 15. Every 7 Normal and Charged Attacks, Sucrose will reduce the CD of Astable Anemohypostasis Creation - 6308 by 1-7s. Increase the Level of Forbidden Creation - Isomer 75 / Type II by 3. Maximum upgrade level is 15. If Forbidden Creation - Isomer 75 / Type II triggers an Elemental Absorption, all party members gain a 20% Elemental DMG Bonus for the corresponding absorbed element during its duration.'),\n",
       " (datetime.date(2021, 11, 2),\n",
       "  \"When a character protected by Thoma's own Blazing Barrier (Thoma excluded) is attacked, Thoma's own Blazing Blessing CD is decreased by 3s, while his own Crimson Ooyoroi's CD is decreased by 3s. This effect can be triggered once every 20s. Crimson Ooyoroi's duration is increased by 3s. Increases the Level of Blazing Blessing by 3. Maximum upgrade level is 15. After using Crimson Ooyoroi, 15 Energy will be restored to Thoma. Increase the Level of Crimson Ooyoroi by 3. Maximum upgrade level is 15. When a Blazing Barrier is obtained or refreshed, the DMG dealt by all party members' Normal, Charged, and Plunging Attacks is increased by 15% for 6s.\"),\n",
       " (datetime.date(2022, 8, 24),\n",
       "  \"Tighnari's Charged Attack CRIT Rate is increased by 15%. When there are opponents within the Vijnana-Khanda Field created by Vijnana-Phala Mine, Tighnari gains 20% Dendro DMG Bonus. The effect will last up to 6s if the field's duration ends or if it no longer has opponents within it. Increases the Level of Fashioner's Tanglevine Shaft by 3. Maximum upgrade level is 15. When Fashioner's Tanglevine Shaft is unleashed, all nearby party members gain 60 Elemental Mastery for 8s. If the Fashioner's Tanglevine Shaft triggers a Burning, Bloom, Quicken, or Spread reaction, their Elemental Mastery will be further increased by 60. This latter case will also refresh the buff state's duration. Increase the Level of Vijnana-Phala Mine by 3. Maximum upgrade level is 15. Wreath Arrow's charging time is decreased by 0.9s, and will produce 1 additional Clusterbloom Arrow upon hit. This arrow deals 150% of Tighnari's ATK as DMG.\"),\n",
       " (datetime.date(2020, 9, 28),\n",
       "  'Palm Vortex pulls in enemies within a 5m radius. Increases Energy Recharge by 16%. Increases the Level of Gust Surge by 3. Maximum upgrade level is 15. Reduces DMG taken while casting Palm Vortex by 10%. Increase the Level of Palm Vortex by 3. Maximum upgrade level is 15. Targets who take DMG from Gust Surge have their Anemo RES decreased by 20%. If an Elemental Absorption occurred, then their RES towards the corresponding Element is also decreased by 20%.'),\n",
       " (datetime.date(2022, 8, 23),\n",
       "  'After Razorgrass Blade hits an opponent, it will regenerate 3.5 Energy for the Traveler. Lea Lotus Lamp\\'s duration is increased by 3s. Increases the Level of Razorgrass Blade by 3. Maximum upgrade level is 15. After the Lea Lotus Lamp triggers a Lotuslight Transfiguration, it will obtain 5 stacks of the Overflowing Lotuslight effect from the Passive Talent \"Verdant Overgrowth.\" You must have unlocked this Passive Talent first. Increase the Level of Surgent Manifestation by 3. Maximum upgrade level is 15. The Dendro DMG Bonus of the character under the effect of Overflowing Lotuslight as created by the Lea Lotus Lamp is increased by 12%. If the Lamp has experienced a Lotuslight Transfiguration previously, the character will also gain 12% DMG Bonus for the corresponding element.'),\n",
       " (datetime.date(2021, 7, 21),\n",
       "  \"The number of Abundance Amulets that can be generated using Lightning Blade is increased to 3. When Falling Thunder created by Bellowing Thunder hits an opponent, it will decrease their Electro RES by 15% for 8s. Increases the Level of Bellowing Thunder by 3. Maximum upgrade level is 15. When a character obtains Abundance Amulets generated by Lightning Blade, if this character's Energy is less than 35%, the Energy restored by the Abundance Amulets is increased by 100%. Increase the Level of Lightning Blade by 3. Maximum upgrade level is 15. Every 2 Falling Thunder attacks triggered by Bellowing Thunder will increase the DMG dealt by the next Falling Thunder by 100%, and will restore an additional 1 Energy to the current character.\"),\n",
       " (datetime.date(2020, 9, 28),\n",
       "  'Allies within the radius of Wake of Earth have their CRIT Rate increased by 10% and have increased resistance against interruption. When the meteorite created by Starfell Sword is destroyed, it will also explode, dealing additional AoE Geo DMG equal to the amount of damage dealt by Starfell Sword. Increases the Level of Wake of Earth by 3. Maximum upgrade level is 15. The shockwave triggered by Wake of Earth regenerates 5 Energy for every enemy hit. A maximum of 25 Energy can be recovered in this manner at any one time. Increase the Level of Starfell Sword by 3. Maximum upgrade level is 15. The barrier created by Wake of Earth lasts 5s longer. The meteorite created by Starfell Sword lasts 10s longer.'),\n",
       " (datetime.date(2023, 8, 16),\n",
       "  'Picking up a Sourcewater Droplet will restore 2 Energy to the Traveler. Requires the Passive Talent \"Spotless Waters.\" The Movement SPD of Rising Waters\\' bubble will be decreased by 30%, and its duration increased by 3s. Increases the Level of Aquacrest Saber by 3. Maximum upgrade level is 15. When using Aquacrest Saber, an Aquacrest Aegis that can absorb 10% of the Traveler\\'s Max HP in DMG will be created and will absorb Hydro DMG with 250% effectiveness. It will persist until the Traveler finishes using the skill. Once every 2s, after a Dewdrop hits an opponent, if the Traveler is being protected by Aquacrest Aegis, the DMG Absorption of the Aegis will be restored to 10% of the Traveler\\'s Max HP. If the Traveler is not presently being protected by an Aegis, one will be redeployed. Increase the Level of Rising Waters by 3. Maximum upgrade level is 15. When the Traveler picks up a Sourcewater Droplet, they will restore HP to the nearest party member with the lowest HP percentage remaining based on 6% of their Max HP.'),\n",
       " (datetime.date(2020, 9, 28),\n",
       "  \"Fires 2 additional arrows per Aimed Shot, each dealing 33% of the original arrow's DMG. Skyward Sonnet decreases enemy Anemo RES by 12% for 10s. Enemies launched by Skyward Sonnet suffer an additional 12% Anemo RES and Physical RES decrease while airborne. Increases the Level of Wind's Grand Ode by 3. Maximum upgrade level is 15. When Venti picks up an Elemental Orb or Particle, he receives a 25% Anemo DMG Bonus for 10s. Increase the Level of Skyward Sonnet by 3. Maximum upgrade level is 15. Targets who take DMG from Wind's Grand Ode have their Anemo RES decreased by 20%. If an Elemental Absorption occurred, then their RES towards the corresponding Element is also decreased by 20%.\"),\n",
       " (datetime.date(2022, 12, 7),\n",
       "  'When in the Windfavored state, the Attack SPD of the Wanderer\\'s Kuugo: Fushoudan and Kuugo: Toufukai is increased by 10%. Additionally, the wind arrows fired by the Passive Talent \"Gales of Reverie\" will deal an additional 25% of his ATK as DMG. You must unlock the Passive Talent \"Gales of Reverie\" first. When in the Windfavored state, Kyougen: Five Ceremonial Plays will see its DMG increased by 4% per point of difference between the max amount of Kuugoryoku Points contrasted with Kuugoryoku\\'s present capacity when using this skill. Through this method, you can increase Kyougen: Five Ceremonial Plays\\'s DMG by a maximum of 200%. Increases the Level of Kyougen: Five Ceremonial Plays by 3. Maximum upgrade level is 15. When casting Hanega: Song of the Wind, should the Passive Talent \"Jade-Claimed Flower\" be triggered, the character will gain buffs in correspondence to the contacted Elemental Type(s), and also obtain a random untriggered buff. A maximum of 3 such corresponding elemental buffs can exist simultaneously. You must unlock the Passive Talent \"Jade-Claimed Flower\" first. Increase the Level of Hanega: Song of the Wind by 3. Maximum upgrade level is 15. When the Wanderer actively hits an opponent with Kuugo: Fushoudan while in the Windfavored state, the following effects will occur: Deals an additional instance of Kuugo: Fushoudan at the position hit, dealing 40% of the attack\\'s original DMG. This DMG will be considered Normal Attack DMG. When the Wanderer falls below 40 Kuugoryoku Points, restores 4 Points to him. Kuugoryoku Points can be restored in this manner once every 0.2s. This restoration can occur up to 5 times within one Windfavored duration.'),\n",
       " (datetime.date(2023, 10, 17),\n",
       "  'The Gracious Rebuke from the Passive Talent \"There Shall Be a Plea for Justice\" is changed to this: When Wriothesley\\'s HP is less than 60% or while he is in the Chilling Penalty state caused by Icefang Rush, when the fifth attack of Repelling Fists hits, it will create a Gracious Rebuke. 1 Gracious Rebuke effect can be obtained every 2.5s. Additionally, Rebuke: Vaulting Fist will obtain the following enhancement: The DMG Bonus gained will be further increased to 200%. When it hits while Wriothesley is in the Chilling Penalty state, that state\\'s duration is extended by 4s. 1 such extension can occur per 1 Chilling Penalty duration. You must first unlock the Passive Talent \"There Shall Be a Plea for Justice.\" When using Darkgold Wolfbite, each Prosecution Edict stack from the Passive Talent \"There Shall Be a Reckoning for Sin\" will increase said ability\\'s DMG dealt by 40%. You must first unlock the Passive Talent \"There Shall Be a Reckoning for Sin.\" Increases the Level of Normal Attack: Forceful Fists of Frost by 3. Maximum upgrade level is 15. The HP restored to Wriothesley through Rebuke: Vaulting Fist will be increased to 50% of his Max HP. You must first unlock the Passive Talent \"There Shall Be a Plea for Justice.\" Additionally, when Wriothesley is healed, if the amount of healing overflows, the following effects will occur depending on whether he is on the field or not. If he is on the field, his ATK SPD will be increased by 20% for 4s. If he is off-field, all of your own party members\\' ATK SPD will be increased by 10% for 6s. These two methods of increasing ATK SPD cannot stack. Increases the Level of Darkgold Wolfbite by 3. Maximum upgrade level is 15. The CRIT Rate of Rebuke: Vaulting Fist will be increased by 10%, and its CRIT DMG by 80%. When unleashed, it will also create an additional icicle that deals 100% of Rebuke: Vaulting Fist\\'s Base DMG as Cryo DMG. DMG dealt this way is regarded as Charged Attack DMG. You must first unlock the Passive Talent \"There Shall Be a Plea for Justice.\"'),\n",
       " (datetime.date(2020, 9, 28),\n",
       "  \"Enemies hit by Guoba's attacks have their Pyro RES reduced by 15% for 6s. The last attack in a Normal Attack sequence applies the Implode status onto the enemy for 2s. An explosion will occur once this duration ends, dealing 75% of Xiangling's ATK as AoE Pyro DMG. Increases the Level of Pyronado by 3. Maximum upgrade level is 15. Pyronado's duration is increased by 40%. Increase the Level of Guoba Attack by 3. Maximum upgrade level is 15. For the duration of Pyronado, all party members receive a 15% Pyro DMG Bonus.\"),\n",
       " (datetime.date(2024, 1, 31),\n",
       "  'White Clouds at Dawn gains 1 additional charge. After using a Skyladder from White Clouds at Dawn, Xianyun\\'s ATK will be increased by 20% for 15s. Additionally, the effects of the Passive Talent \"Consider, the Adeptus in Her Realm\" will be enhanced: When the Starwicker created by Stars Gather at Dusk has Adeptal Assistance stacks, nearby active characters\\' Plunging Attack shockwave DMG will be increased by 400% of Xianyun\\'s ATK. The maximum DMG increase that can be achieved this way is 18,000. Each Plunging Attack shockwave DMG instance can only apply this increased DMG effect to a single opponent. Each character can trigger this effect once every 0.4s. You must first unlock the Passive Talent \"Consider, the Adeptus in Her Realm.\" Increases the Level of Stars Gather at Dusk by 3. Maximum upgrade level is 15. After using Skyladder 1/2/3 times during one White Clouds at Dawn Cloud Transmogrification state, when a Driftcloud Wave unleashed during that instance hits an opponent, it will heal all nearby party members for 50%/80%/150% of Xianyun\\'s ATK. This effect can be triggered once every 5s. Increases the Level of White Clouds at Dawn by 3. Maximum upgrade level is 15. After Xianyun uses 1/2/3 Skyladders within one Cloud Transmogrification caused by White Clouds at Dawn, the CRIT DMG of a Driftcloud Wave created in this instance of Cloud Transmogrification will be increased by 15%/35%/70%. Within 16s after Xianyun has used Stars Gather at Dusk, White Clouds at Dawn will not enter CD. This effect will be canceled once she has used White Clouds at Dawn 8 times.'),\n",
       " (datetime.date(2021, 2, 3),\n",
       "  \"Increases Lemniscatic Wind Cycling's charges by 1. When in party but not on the field, Xiao's Energy Recharge is increased by 25%. Increases the Level of Lemniscatic Wind Cycling by 3. Maximum upgrade level is 15. When Xiao's HP falls below 50%, he gains a 100% DEF Bonus. Increase the Level of Bane of All Evil by 3. Maximum upgrade level is 15. While under the effects of Bane of All Evil, hitting at least 2 opponents with Xiao's Plunging Attack will immediately grant him 1 charge of Lemniscatic Wind Cycling and for the next 1s, he may use Lemniscatic Wind Cycling while ignoring its CD.\"),\n",
       " (datetime.date(2020, 9, 28),\n",
       "  \"Increases the maximum number of Rain Swords by 1. Extends the duration of Guhua Sword - Raincutter by 3s. Decreases the Hydro RES of enemies hit by sword rain attacks by 15% for 4s. Increases the Level of Guhua Sword - Raincutter by 3. Maximum upgrade level is 15. Throughout the duration of Guhua Sword: Raincutter, the DMG dealt by Guhua Sword: Fatal Rainscreen is increased by 50%. Increase the Level of Guhua Sword - Fatal Rainscreen by 3. Maximum upgrade level is 15. Activating 2 of Guhua Sword - Raincutter's sword rain attacks greatly increases the DMG of the third. Xingqiu regenerates 3 Energy when sword rain attacks hit enemies.\"),\n",
       " (datetime.date(2020, 12, 1),\n",
       "  \"Upon scoring a CRIT hit, increases ATK SPD of Xinyan's Normal and Charged Attacks by 12% for 5s. Can only occur once every 5s. Riff Revolution Physical DMG has its Crit rate increased by 100%, and will form a shield at Shield Level 3: Rave when cast. Increases the Level of Sweeping Fervor by 3. Maximum upgrade level is 15. Sweeping Fervor's swing DMG decrease opponents Physical RES by 15% for 12s. Increases the Level of Riff Revolution by 3. Maximum upgrade level is 15. Decrease the stamina consumption of Xinyan Charged Attacks by 30%. Additionally, Xinyan Charged Attack gain an ATK bonus equal to 50% of her DEF.\"),\n",
       " (datetime.date(2022, 2, 16),\n",
       "  \"Each time Great Secret Art: Tenko Kenshin activates a Tenko Thunderbolt, Yae Miko will restore 8 Elemental Energy for herself. Sesshou Sakura start at Level 2 when created, their max level is increased to 4, and their attack range is increased by 60%. Increases the Level of Yakan Evocation: Sesshou Sakura by 3. Maximum upgrade level is 15. When Sesshou Sakura lightning hits opponents, the Electro DMG Bonus of all nearby party members is increased by 20% for 5s. Increases the Level of Great Secret Art: Tenko Kenshin by 3. Maximum upgrade level is 15. The Sesshou Sakura's attacks will ignore 60% of the opponent's DEF.\"),\n",
       " (datetime.date(2021, 4, 28),\n",
       "  \"When Yanfei uses her Charged Attacks,each existing Scarlet Seal additionally reduces the stamina cost of this Charged Attack by 10% and increases resistance against interruption during its release. Increases Yanfei's Charged Attack CRIT rate by 20% against enemies below 50% HP. Increases the Level of Signed Edict by 3. Maximum upgrade level is 15. When Done Deal is used: Creates a shield which absorbes upto 45% of Yanfei's Max HP for 15s. This shield absorbes Pyro DMG 250% more efficiently. Increases the Level of Done Deal by 3. Maximum upgrade level is 15. Increases the maximum number of Scarlet Seals by 1.\"),\n",
       " (datetime.date(2023, 1, 18),\n",
       "  \"When White Jade Radishes explode, active characters within their AoE will gain 15% Dendro DMG Bonus for 8s and have 15 Stamina restored to them. This form of Stamina Restoration can only be triggered every 5s. While affected by the Adeptal Legacy state caused by Moonjade Descent, if White Jade Radish explosions damage opponents, 3 Energy will be restored to Yaoyao. This form of Energy regeneration can occur once every 0.8s. Increases the Raphanus Sky Cluster by 3. Maximum upgrade level is 15. After using Raphanus Sky Cluster or Moonjade Descent, Yaoyao's Elemental Mastery will be increased based on 0.3% of her Max HP for 8s. The maximum Elemental Mastery she can gain this way is 120. Increases the Moonjade Descent by 3. Maximum upgrade level is 15. For every 2 White Jade Radishes Yuegui: Throwing Mode throws out, it will also throw a Mega Radish that will have a larger AoE than the standard White Jade Radish and have the following effects upon exploding: Deals AoE Dendro DMG based on 75% of Yaoyao's ATK. Restores HP for the active character based on 7.5% of Yaoyao's Max HP. Every Yuegei: Throwing Mode can throw out a maximum of 2 Mega Radishes.\"),\n",
       " (datetime.date(2022, 5, 31),\n",
       "  \"Lingering Lifeline gains 1 additional charge. When Exquisite Throw conducts a coordinated attack, it will fire an additional water arrow that will deal 14% of Yelan's Max HP as Hydro DMG. Increases the Level of Depth-Clarion Dice by 3. Maximum upgrade level is 15. Increases all party members' Max HP by 10% for 25s for every opponent marked by Lifeline when the Lifeline explodes. A maximum increase of 40% Max HP can be attained in this manner. Increases the Level of Lingering Lifeline by 3. Maximum upgrade level is 15. After using Depth-Clarion Dice, Yelan will enter the Mastermind state. In this state, all of Yelan's Normal Attacks will be special Breakthrough Barbs. These Breakthrough Barbs will have similar abilities to normal ones and the DMG dealt will be considered Charged Attack DMG, dealing 156% of a normal Breakthrough Barb's DMG. The Mastermind state lasts 20s and will be cleared after Yelan fires 5 arrows.\"),\n",
       " (datetime.date(2021, 8, 10),\n",
       "  \"The Auros Blaze created by Ryuukin Saxifrage lasts for an extra 4s. Additionally, when an opponent affected by Aurous Blaze is defeated within its duration, Yoimiya's ATK is increased by 20% for 20s. When Yoimiya's Pyro DMG scores a CRIT Hit, Yoimiya will gain a 25% Pyro DMG Bonus for 6s. This effect can be triggered even when Yoimiya is not the active character. Increases the Level of Niwabi Fire-Dance by 3. Maximum upgrade level is 15. When Yoimiya's own Aurous Blaze triggers an explosion, Niwabi Fire-Dance's CD is decreased by 1.2. Increases the Level of Ryuukin Saxifrage by 3. Maximum upgrade level is 15. During Niwabi Fire-Dance, Yoimiya's Normal Attacks have a 50% chance of firing an extra Kindling Arrow that deals 60% of its original DMG. This DMG is considered Normal Attack DMG.\"),\n",
       " (datetime.date(2022, 1, 5),\n",
       "  \"Opening Flourish's CD is decreased by 18%. After Cliffbreaker's Banner is unleashed, all nearby party members' Normal Attack DMG is increased by 15% for 12s. Increases the Level of Cliffbreaker's Banner by 3. Maximum upgrade level is 15. When Yun Jin triggers the Crystallize Reaction, her DEF is increased by 20% for 12s. Increases the Level of Opening Flourish by 3. Maximum upgrade level is 15. Characters under the effects of the Flying Cloud Flag Formation have their Normal ATK SPD increased by 12%.\"),\n",
       " (datetime.date(2020, 12, 1),\n",
       "  \"Increases the maximum number of Stone Steles created by Dominus Lapidis that may exist simultaneously to 2. Planet Befall grants nearby characters on the field a Jade Shield when it descends. Increases the Level of Dominus Lapidis by 3. Maximum upgrade level is 15. Increases Planet Befall's AoE by 20% and increases the duration of Planet Befall's Petrification effect by 2s. Increase the Level of Planet Befall by 3. Maximum upgrade level is 15. When the Jade Shield takes DMG, 40% of that incoming DMG is converted to HP for the current character. A single instance of regeneration cannot exceed 8% of that character's Max HP.\"),\n",
       " (datetime.date(2021, 12, 14),\n",
       "  \"After using Royal Descent: Behold, Itto the Evil!, Arataki Itto gains 2 stacks of Superlative Superstrength. After 1s, Itto will gain 1 stack of Superlative Superstrength every 0.5s for 1.5s. After using Royal Descent: Behold, Itto the Evil!, each party member whose Element is Geo will decrease that skill's CD by 1.5s and restore 6 Energy to Arataki Itto. CD can be decreased by up to 4.5s in this manner. Max 18 Energy can be restored in this manner. Increases the level of Masatsu Zetsugi: Akaushi Burst! by 3. Maximum upgrade level is 15. When the Raging Oni King state caused by Royal Descent: Behold, Itto the Evil! ends, all nearby party members gain 20% DEF and 20% ATK for 10s. Increases the level of Royal Descent: Behold, Itto the Evil! by 3. Maximum upgrade level is 15. Arataki Itto's Charged Attacks deal +70% Crit DMG. Additionally, when he uses Arataki Kesagiri, he has a 50% chance to not consume stacks of Superlative Superstrength.\"),\n",
       " (datetime.date(2021, 6, 29),\n",
       "  \"Decreases Chihayaburu's CD by 10%. Using Kazuha Slash resets the CD of Chihayaburu. The Autumn Whirlwind field created by Kazuha Slash has the following effects: Increases Kaedehara Kazuha's own Elemental Mastery by 200. Increases the Elemental Mastery of characters within the field by 200. The Elemental Mastery-increasing effects of this Constellation do not stack. Increases the Level of Chihayaburu by 3. Maximum upgrade level is 15. When Kaedehara Kazuha's Energy is lower than 45, he obtains the following effects: Pressing or Holding Chihayaburu regenerates 3 or 4 Energy for Kaedehara Kazuha, respectively. When gliding, Kaedehara Kazuha regenerates 2 Energy per second. Increase the Level of Kazuha Slash by 3. Maximum upgrade level is 15. After using Chihayaburu or Kazuha Slash, Kaedehara Kazuha gains an Anemo Infusion for 5s. Additionally, each point of Elemental Mastery will increase the DMG dealt by Kaedehara Kazuha's Normal, Charged, and Plunging Attack by 0.2%.\"),\n",
       " (datetime.date(2022, 7, 13),\n",
       "  \"For 5s after Shikanoin Heizou takes the field, his Normal Attack SPD is increased by 15%. He also gains 1 Declension stack for Heartstopper Strike. This effect can be triggered once every 10s. The pull effect of the Arresting Windtunnel created by Windmuster Kick is enhanced, and its duration is increased to 1s. Increases the level of Heartstopper Strike by 3. Maximum upgrade level is 15. The first Windmuster Iris explosion in each Windmuster Kick will regenerate 9 Elemental Energy for Shikanoin Heizou. Every subsequent explosion in that Windmuster Kick will each regenerate an additional 1.5 Energy for Heizou. One Windmuster Kick can regenerate a total of 13.5 Energy for Heizou in this manner. Increases the level of Windmuster Kick by 3. Maximum upgrade level is 15. Each Declension stack will increase the CRIT Rate of the Heartstopper Strike unleashed by 4%. When Heizou possesses Conviction, this Heartstopper Strike's CRIT DMG is increased by 32%.\"),\n",
       " (datetime.date(2021, 9, 1),\n",
       "  \"When Tengu Juurai grant characters ATK Bonuses or hits opponents, the CD of Tengu Stormcall is decreased by 1s. This effect can be triggered once every 3s. Unleashing Tengu Stormcall will leave a weaker Crowfeather at Kujou Sara's original position that will deal 30% of its original DMG. Increases the Level of Subjugation: Koukou Sendou by 3. Maximum upgrade level is 15. The number of Tengu Juurai: Stormcluster released by Subjugation: Koukou Sendou is increased to 6. Increase the Level of Tengu Stormcall by 3. Maximum upgrade level is 15. The Electro DMG of characters who have had their ATK increased by Tengu Juurai has its Crit DMG increased by 60%.\"),\n",
       " (datetime.date(2020, 11, 11),\n",
       "  \"Decreases the CD of Foul Legacy: Raging Tide by 20%. When opponents affected by Riptide are defeated, Tartaglia regenerates 4 Elemental Energy. Increases the Level of Foul Legacy: Raging Tide by 3. Maximum upgrade level is 15. If Tartaglia is in Foul Legacy: Raging Tide's Melee Stance, triggers Riptide Slash against opponents on the field affected by Riptide every 4s, otherwise, triggers Riptide Flash. Riptide Slashes and Riptide Flashes triggered by this Constellation effect are not subject to the time intervals that would typically apply to these two Riptide effects, nor do they have any effect on those time intervals. Increase the Level of Havoc: Obliteration by 3. Maximum upgrade level is 15. When Havoc: Obliteration is cast in Melee Stance, the CD of Foul Legacy: Raging Tide is reset. This effect will only take place once Tartaglia returns to his Ranged Stance.\"),\n",
       " (datetime.date(2022, 3, 30),\n",
       "  \"Shunsuiken DMG is increased by 40% against opponents with 50% HP or less. Namisen's maximum stack count is increased to 5. When Kamisato Ayato has at least 3 Namisen stacks, his Max HP is increased by 50%. Increases the Level of Kamisato Art: Kyouka by 3. Maximum upgrade level is 15. After using Kamisato Art: Suiyuu, all nearby party members will have 15% increased Normal Attack SPD for 15s. Increase the Level of Kamisato Art: Suiyuu by 3. Maximum upgrade level is 15. After using Kamisato Art: Kyouka, Ayato's next Shunsuiken attack will create 2 extra Shunsuiken strikes when they hit opponents, each one dealing 450% of Ayato's ATK as DMG. Both these Shunsuiken attacks will not be affected by Namisen.\"),\n",
       " (datetime.date(2021, 7, 21),\n",
       "  \"When Kamisato Ayaka's Normal or Charged Attacks deal Cryo DMG to opponents, it has a 50% chance of decreasing the CD of Kamisato Art: Hyouka by 0.3s. This effect can occur once every 0.1s. When casting Kamisato Art: Soumetsu, unleashes 2 smaller additional Frostflake Seki no To, each dealing 20% of the original storm's DMG. Increases the Level of Kamisato Art: Soumetsu by 3. Maximum upgrade level is 15. Opponents damaged by Kamisato Art: Soumetsu's Frostflake Seki no To will have their DEF decreased by 30% for 6s. Increase the Level of Kamisato Art: Hyouka by 3. Maximum upgrade level is 15. Kamisato Ayaka gains Usurahi Butou every 10s, increasing her Charged Attack DMG by 298%. This buff will be cleared 0.5s after Ayaka's Charged ATK hits an opponent, after which the timer for this ability will restart.\"),\n",
       " (datetime.date(2021, 9, 21),\n",
       "  \"While donning the Ceremonial Garment created by Nereid's Ascension, the final Normal Attack in Sangonomiya Kokomi's combo will unleash a swimming fish to deal 30% of her Max HP as Hydro DMG. This DMG is not considered Normal Attack DMG. Sangonomiya Kokomi gains the following Healing Bonuses with regard to characters with 50% or less HP via the following methods: Kurage's Oath Bake-Kurage: 4.5% of Kokomi's Max HP. Nereid's Ascension Normal and Charged Attacks: 0.6% of Kokomi's Max HP. Increases the Level of Nereid's Ascension by 3. Maximum upgrade level is 15. While donning the Ceremonial Garment created by Nereid's Ascension, Sangonomiya Kokomi's Normal Attack SPD is increased by 10%, and Normal Attacks that hit opponents will restore 0.8 Energy for her. This effect can occur once every 0.2s. Increase the Level of Kurage's Oath by 3. Maximum upgrade level is 15. While donning the Ceremonial Garment created by Nereid's Ascension, Sangonomiya Kokomi gains a 40% Hydro DMG Bonus for 4s after her Normal and Charged Attacks heal a character with 80% or more HP.\")]"
      ]
     },
     "execution_count": 207,
     "metadata": {},
     "output_type": "execute_result"
    }
   ],
   "source": [
    "cons_full\n",
    "dates_full\n",
    "\n",
    "#matched_dict = {date: paragraph for date, paragraph in zip(dates_full, cons_full)}\n",
    "#len(matched_dict)\n",
    "\n",
    "combined_list = list(zip(dates_full, cons_full))\n",
    "combined_list"
   ]
  },
  {
   "cell_type": "code",
   "execution_count": 211,
   "id": "c60a32a8",
   "metadata": {},
   "outputs": [
    {
     "data": {
      "text/plain": [
       "list"
      ]
     },
     "execution_count": 211,
     "metadata": {},
     "output_type": "execute_result"
    }
   ],
   "source": [
    "#Check Length of dictionary\n",
    "\n",
    "len(combined_list)\n",
    "type(combined_list)"
   ]
  },
  {
   "cell_type": "code",
   "execution_count": 214,
   "id": "5bf10d1b",
   "metadata": {},
   "outputs": [
    {
     "data": {
      "text/plain": [
       "[\"Transient Blossoms generated by Albedo's Abiogenesis: Solar Isotoma regenerate 1.2 Energy for Albedo. Transient Blossoms generated by Abiogenesis: Solar Isotoma grant Albedo Fatal Reckoning for 30s: Each stack of Fatal Reckoning increases DMG by of Albedo's DEF. The effect stacks up to 4 times. Unleashing Rite of Progeniture: Tectonic Tide consumes all stacks of Fatal Reckoning, increasing the DMG dealt by the Tectonic Tide and Fatal Blossoms based on the number of stacks consumed. Increases the level of Abiogenesis: Solar Isotoma by 3. Maximum upgrade level is 15. Solar Isotoma increases Plunging Attack DMG by 30% for active party members within the AoE. Increases the level of Rite of Progeniture: Tectonic Tide by 3. Maximum upgrade level is 15. If active party members within the AoE are protected by a shield created by Crystallize, Solar Isotoma increases their DMG by 17%.\",\n",
       " \"When a Projection Attack hits an opponent, Universality: An Elaboration on Form's CD is decreased by 1.2s. This effect can be triggered once every 1s. When Alhaitham generates a Chisel-Light Mirror, his Elemental Mastery will be increased by 50 for 8 seconds, max 4 stacks. Each stack's duration is counted independently. This effect can be triggered even when the maximum number of Chisel-Light Mirrors has been reached. Increases the level of Universality: An Elaboration on Form by 3. Maximum upgrade level is 15. When Particular Field: Fetters of Phenomena is unleashed, the following effects will become active based on the number of Chisel-Light Mirrors consumed and created this time around: Each Mirror consumed will increase the Elemental Mastery of all other nearby party members by 30 for 15s. Each Mirror generated will grant Alhaitham a 10% Dendro DMG Bonus for 15s. The pre-existing duration of the aforementioned effects will be cleared if you use Particular Field: Fetters of Phenomena again while they are in effect. Increase the Particular Field: Fetters of Phenomena by 3. Maximum upgrade level is 15. Alhaitham gains the following effects: 2 seconds after Particular Field: Fetters of Phenomena is unleashed, he will generate 3 Chisel-Light Mirrors regardless of the number of mirrors consumed. If Alhaitham generates Chisel-Light Mirrors when their numbers have already maxed out, his CRIT Rate and CRIT DMG will increase by 10% and 70% respectively for 6s. If this effect is triggered again during its initial duration, the duration remaining will be increased by 6s.\",\n",
       " 'This character has no constellations.',\n",
       " \"Fires 2 arrows per Aimed Shot. The second arrow deals 20% of the first arrow's DMG. Baron Bunny, new and improved! Hitting Baron Bunny's foot with a fully-charged Aimed Shot manually detonates it. Explosion via manual detonation deals 200% additional DMG. Increases the Level of Fiery Rain by 3. Maximum upgrade level is 15. Decreases Explosive Puppet's CD by 20%. Adds 1 additional charge. Increase the Level of Explosive Puppet by 3. Maximum upgrade level is 15. Fiery Rain increases Amber's Movement SPD by 15% and Base ATK by 15% for 10s.\",\n",
       " \"Universal Diagnosis gains 1 additional charge. When your own active character hits a nearby opponent with their attacks, Baizhu will unleash a Gossamer Sprite: Splice. Gossamer Sprite: Splice will initiate 1 attack before returning, dealing 250% of Baizhu's ATK as Dendro DMG and healing for 20% of Universal Diagnosis's Gossamer Sprite's normal healing. DMG dealt this way is considered Elemental Skill DMG. This effect can be triggered once every 5s. Increases the Level of Holistic Revivification by 3. Maximum upgrade level is 15. For 15s after Holistic Revivification is used, Baizhu will increase all nearby party members' Elemental Mastery by 80. Increase the Level of Universal Diagnosis by 3. Maximum upgrade level is 15. Increases the DMG dealt by Holistic Revivification's Spiritveins by 8% of Baizhu's Max HP. Additionally, when a Gossamer Sprite or Gossamer Sprite: Splice hits opponents, there is a 100% chance of generating one of Holistic Revivification's Seamless Shields. This effect can only be triggered once by each Gossamer Sprite or Gossamer Sprite: Splice.\",\n",
       " \"Barbara regenerates 1 Energy every 10s. Decreases the CD of Let the Show Begin by 15%. During the ability's duration, the current character gains 15% Hydro DMG Bonus. Increases the Level of Shining Miracle by 3. Maximum upgrade level is 15. Every enemy hit by Barbara's Charged Attack regenerates 1 Energy for her. A maximum of 5 energy can be regenerated in this manner with any one Charged Attack. Increase the Level of Let the Show Begin by 3. Maximum upgrade level is 15. When Barbara is not on the field, and the character in play falls: Automatically revives this character. Fully regenerates this characters HP by 100%. This effect can only occur once every 15 mins.\",\n",
       " \"When Stormbreaker is used: Creates a shield that absorbs up to 16% of Beidou's Max HP for 15s. This shield absorbs Electro DMG 250% more effectively. Stormbreaker's arc lightning can jump 2 additional targets. Increases the Level of Tidecaller by 3. Maximum upgrade level is 15. Within 10s of taking DMG, Beidou's Normal Attacks gain 20% additional Electro DMG. Increase the Level of Stormbreaker by 3. Maximum upgrade level is 15. During the duration of Stormbreaker, the Electro RES of surrounding enemies is decreased by 15%.\",\n",
       " \"Fantastic Voyage's ATK increases no longer has an HP restriction, and gains an additional 20% Base ATK. When Bennett's HP falls below 70%, his Energy Recharge is increased by 30%. Increases the Level of Passion Overload by 3. Maximum upgrade level is 15. Using a Normal Attack when executing the second attack of Passion Overload's Charge Level 1 allows an additional attack to be performed. This additional attack does 135% of the second attack's DMG. Increase the Level of Fantastic Voyage by 3. Maximum upgrade level is 15. Sword, Claymore, or Polearm-wielding characters inside Fantastic Voyage's radius gain a 15% Pyro DMG Bonus. Normal and Charged Attacks now do Pyro DMG.\",\n",
       " \"The duration of Prayer of the Crimson Crown effect triggered by Sacred Rite: Wagtail's Tide is increased by 3s. When Sacred Rite: Heron's Sanctum hits opponents, Candace's Max HP will be increased by 20% for 15s. Increases the Level of Sacred Rite: Heron's Sanctum by 3. Maximum upgrade level is 15. Shortens the Hold CD of Sacred Rite: Heron's Sanctum to be the same as that of the Tapping CD. Increase the Level of Sacred Rite: Heron's Sanctum by 3. Maximum upgrade level is 15. When characters (excluding Candace herself) affected by the Prayer of the Crimson Crown caused by Sacred Rite: Wagtail's Tide deal Elemental DMG to opponents using Normal Attacks, an attack wave will be unleashed that deals AoE Hydro DMG equal to 15% of Candace's Max HP. This effect can trigger once every 2.3s and is considered Elemental Burst DMG.\",\n",
       " \"After Still Photo: Comprehensive Confirmation heals a character, it will mark them with Verification, which will heal them once every 2s for 80% of Charlotte's ATK. This effect lasts 6s. When using Framing: Freezing Point Composition, when Monsieur Verite hits 1/2/3 (or more) opponents, Charlotte's own ATK will be increased by 10%/20%/30% for 12s. Increases the Level of Still Photo: Comprehensive Confirmation by 3. Maximum upgrade level is 15. When Still Photo: Comprehensive Confirmation hits an opponent marked by Snappy Silhouette or Focused Impression, it will deal 10% more DMG and restore 2 Energy to Charlotte. This restoration can be triggered 5 times every 20s. Increases the Level of Framing: Freezing Point Composition by 3. Maximum upgrade level is 15. When the active character's Normal and Charged Attacks hit an opponent marked by Framing: Freezing Point Composition's Focused Impression, Monsieur Verite will initiate a coordinated attack that deals 180% of Charlotte's ATK as AoE Cryo DMG and heals active character(s) within the AoE for 42% of Charlotte's ATK. This effect can be triggered once every 6s and both DMG and healing dealt in this way will be considered as having been done by Charlotte's Elemental Burst.\",\n",
       " 'When the active character with the \"Coordinated Tactics\" status (not including Chevreuse herself) triggers the Overloaded reaction, they will recover 6 Energy. This effect can be triggered once every 10s. You must first unlock the Passive Talent \"Vanguard\\'s Coordinated Tactics.\" After Holding Short-Range Rapid Interdiction Fire and hitting a target, 2 chain explosions will be triggered near the location where said target is hit. Each explosion deals Pyro DMG equal to 120% of Chevreuse\\'s ATK. This effect can be triggered up to once every 10s, and DMG dealt this way is considered Elemental Skill DMG. Increases the Level of Short-Range Rapid Interdiction Fire by 3. Maximum upgrade level is 15. After using Ring of Bursting Grenades, the Hold mode of Short-Range Rapid Interdiction Fire will not go on cooldown when Chevreuse uses it. This effect is removed after Short-Range Rapid Interdiction Fire has been fired twice using Hold or after 6s. Increases the Level of Ring of Bursting Grenades by 3. Maximum upgrade level is 15. After 12s of the healing effect from Short-Range Rapid Interdiction Fire, all nearby party members recover HP equivalent to 10% of Chevreuse\\'s Max HP once. After a party member is healed by Short-Range Rapid Interdiction Fire, they gain a 20% Pyro DMG Bonus and Electro DMG Bonus for 8s. Max 3 stacks. Each stack\\'s duration is counted independently.',\n",
       " 'The AoE of the automaton doll \"Tamoto\" summoned by Fluttering Hasode is increased by 50%. Additionally, if there is a Geo party member other than Chiori, Fluttering Hasode will trigger the following after the dash is completed: Summon an additional Tamoto. Only one additional Tamoto can exist at the same time, whether summoned by Chiori this way or through the presence of a Geo Construct. Triggers the Passive Talent \"The Finishing Touch.\" This effect requires you to first unlock the Passive Talent \"The Finishing Touch.\" For 10s after using Hiyoku: Twin Blades, a simplified automaton doll, \"Kinu,\" will be summoned next to your active character every 3s. Kinu will attack nearby opponents, dealing AoE Geo DMG equivalent to 170% of Tamoto\\'s DMG. DMG dealt this way is considered Elemental Skill DMG. Kinu will leave the field after 1 attack or after lasting 3s. Increases the Level of Fluttering Hasode by 3. Maximum upgrade level is 15. For 8s after triggering either follow-up effect of the Passive Talent \"Tailor-Made,\" when your current active character\\'s Normal, Charged, or Plunging Attacks hit a nearby opponent, a simplified automaton doll, \"Kinu,\" will be summoned near this opponent. You can summon 1 Kinu every 1s in this way, and up to 3 Kinu may be summoned this way during each instance of \"Tailor-Made\"\\'s Seize the Moment or Tailoring effect. The above effect can be triggered up to once every 15s. Must unlock the Passive Talent \"Tailor-Made\" first. Increases the Level of Hiyoku: Twin Blades by 3. Maximum upgrade level is 15. After triggering a follow-up effect of the Passive Talent \"Tailor-Made,\" Chiori\\'s own Fluttering Hasode\\'s CD is decreased by 12s. Must unlock the Passive \"Tailor-Made\" first. In addition, the DMG dealt by Chiori\\'s own Normal Attacks is increased by an amount equal to 235% of her own DEF.',\n",
       " \"The last attack of Chongyun's Normal Attack combo releases 3 ice blades. Each blade deals 50% of Chongyun's ATK as Cryo DMG to all enemies in its path. Elemental Skills and Elemental Bursts cast within the Frost Field created by Spirit Blade - Chongyun's Layered Frost have their CD time decreased by 15%. Increases the Level of Spirit Blade - Cloud-parting Star by 3. Maximum upgrade level is 15. Chongyun regenerates 1 Energy every time he hits an enemy affected by Cold or Frozen status effects. This effect can only occur once every 2s. Increases the level of Spirit Blade - Chongyun's Layered Frost by 3. Maximum upgrade level is 15. Spirit Blade - Cloud-parting Star deals 15% more DMG to enemies with a lower percentage of their Max HP remaining than Chongyun. This skill will also summon 1 additional spirt blade.\",\n",
       " \"When in the party and not on the field, Collei's Energy Recharge is increased by 20%. The Passive Talent Floral Sidewinder is changed to this: The Floral Ring will grant the character the Sprout effect from Floral Sidewinder upon return, dealing 40% of Collei's ATK as Dendro DMG to nearby opponents for 3s. From the moment of using Floral Brush to the moment when this instance of Sprout effect ends, if any of your party members triggers Burning, Quicken, Aggravate, Spread, Bloom, Hyperbloom, or Burgeon reactions, the Sprout effect will be extended by 3s. The Sprout effect can only be extended this way once. If another Sprout effect is triggered during its initial duration, the initial effect will be removed. Requires you to have unlocked the Floral Sidewinder Passive Talent. Increases the Level of Floral Brush by 3. Maximum upgrade level is 15. Using Trump-Card Kitty will increase all nearby characters' Elemental Mastery by 60 for 12s (not including Collei herself). Increase the Level of Trump-Card Kitty by 3. Maximum upgrade level is 15. When the Floral Ring hits, it will create a miniature Cuilein-Anbar that will deal 200% of Collei's ATK as Dendro DMG. Each Floral Brush can only create one such miniature Cuilein-Anbar.\",\n",
       " 'After using Sacred Rite: Wolf\\'s Swiftness, Cyno\\'s Normal Attack SPD will be increased by 20% for 10s. If the Judication effect of his Passive Talent Featherfall Judgment is triggered during Secret Rite: Chasmic Soulfarer, the duration of this increase will be refreshed. You need to unlock the Passive Talent \"Featherfall Judgement.\" When Cyno\\'s Normal Attacks hit opponents, his Electro DMG Bonus will increase by 10% for 4s. This effect can be triggered once every 0.1s. Max 5 stacks. Increases the Level of Sacred Rite: Wolf\\'s Swiftness by 3. Maximum upgrade level is 15. When Cyno is in the Pactsworn Pathclearer state triggered by Sacred Rite: Wolf\\'s Swiftness, after he triggers Electro-Charged, Superconduct, Overloaded, Quicken, Aggravate, Hyperbloom, or an Electro Swirl reaction, he will restore 3 Elemental Energy for all nearby party members (except himself.) This effect can occur 5 times within one use of Sacred Rite: Wolf’s Swiftness. Increase the Level of Secret Rite: Chasmic Soulfarer by 3. Maximum upgrade level is 15. After using Sacred Rite: Wolf\\'s Swiftness or triggering the Judication effect of the Passive Talent \"Featherfall Judgment,\" Cyno will gain 4 stacks of the \"Day of the Jackal\" effect. When he hits opponents with Normal Attacks, he will consume 1 stack of \"Day of the Jackal\" to fire off one Duststalker Bolt. \"Day of the Jackal\" lasts for 8s. Max 8 stacks. It will be canceled once Pactsworn Pathclearer ends. A maximum of 1 Duststalker Bolt can be unleashed this way every 0.4s. You must first unlock the Passive Talent \"Featherfall Judgment.\"',\n",
       " \"Dehya's Max HP is increased by 20%, and she deals bonus DMG based on her Max HP when using the following attacks: Molten Inferno's DMG will be increased by 3.6% of her Max HP. Leonine Bite's DMG will be increased by 6% of her Max HP. When Dehya uses Molten Inferno: Ranging Flame, the duration of the recreated Fiery Sanctum field will be increased by 4s. Additionally, when a Fiery Sanctum exists on the field, DMG dealt by its next coordinated attack will be increased by 50% when active character(s) within the Fiery Sanctum field are attacked. Increases the Level of Leonine Bite by 3. Maximum upgrade level is 15. When Flame-Mane's Fist and Incineration Drive attacks unleashed during Leonine Bite hit opponents, they will restore 1.5 Energy for Dehya and 2.5% of her Max HP. This effect can be triggered once every 0.2s. Increases the Level of Molten Inferno by 3. Maximum upgrade level is 15. The CRIT Rate of Leonine Bite is increased by 10%. Additionally, after a Flame-Mane's Fist attack hits an opponent and deals CRIT Hits during a single Blazing Lioness state, it will cause the CRIT DMG of Leonine Bite to increase by 15% for the rest of Blazing Lioness's duration and extend that duration by 0.5s. This effect can be triggered every 0.2s. The duration can be extended for a maximum of 2s and CRIT DMG can be increased by a maximum of 60% this way.\",\n",
       " 'Diluc deals 15% more DMG to enemies whose HP is above 50%. When Diluc takes DMG, his Base ATK increases by 10% and his ATK SPD increases by 5%. Lasts for 10s. This effect can stack up to 3 times and can only occur once every 1.5s. Increases the Level of Searing Onslaught by 3. Maximum upgrade level is 15. Casting Searing Onslaught in sequence greatly increases damage dealt. Within 2s of using Searing Onslaught, casting the next Searing Onslaught in the combo deals 40% additional DMG. This effect lasts for the next 2s. Increases the level of Dawn by 3. Maximum upgrade level is 15. After casting Searing Onslaught, the next 2 Normal Attacks within the next 6s will have their DMG and ATK SPD increased by 30%. Additionally, Searing Onslaught will not interrupt the Normal Attack combo.',\n",
       " \"Regenerates 15 Energy for Diona after the effects of Signature Mix end. Increases Icy Paws' DMG by 15%, and increases its shield's DMG Absorption by 15%. Additionally, when paws hit their targets, creates a shield for other nearby characters on the field with 50% of the Icy Paws shield's DMG Absorption for 5s. Increases the Level of Signature Mix by 3. Maximum upgrade level is 15. Within the radius of Signature Mix, Diona's charge time for aimed shots is reduced by 60%. Increases the level of Icy Paws by 3. Maximum upgrade level is 15. Characters within Signature Mix's radius will gain the following effects based on their HP amounts: Increasing Incoming Healing Bonus by 30% when HP falls below or is equal to 50%. Elemental Mastery is increased by 200 when HP is above 50%.\",\n",
       " \"The number of After-Sales Service Rounds created by Troubleshooter Shots is increased by 1. When you are in combat and the Jinni heals the character it is connected to, it will fire a Jinni Toop from that character's position that deals 50% of Dori's ATK DMG. Increases the Level of Alcazarzaray's Exactitude by 3. Maximum upgrade level is 15. The character connected to the Jinni will obtain the following buffs based on their current HP and Energy: When their HP is lower than 50%, they gain 50% Incoming Healing Bonus. When their Energy is less than 50%, they gain 30% Energy Recharge. Increases the level of Spirit-Warding Lamp: Troubleshooter Cannon by 3. Maximum upgrade level is 15. Dori gains the following effects for 3s after using Spirit-Warding Lamp: Troubleshooter Cannon: Electro Infusion. When Normal Attacks hit opponents, all nearby party members will heal HP equivalent to 4% of Dori's Max HP. This type of healing can occur once every 0.1s.\",\n",
       " \"Every time Icetide Vortex's Grimheart stacks are consumed, Eula's Physical DMG is increased by 30% for 6s. Each stack consumed will increase the duration of this effect by 6s up to a maximum of 18s. Decreases the CD of Icetide Vortex's Holding Mode, rendering it identical to Tapping CD. Increases the Level of Glacial Illumination by 3. Maximum upgrade level is 15. Lightfall Swords deal 25% increased DMG against opponents with less than 50% HP. Increases the Level of Icetide Vortex by 3. Maximum upgrade level is 15. Lightfall Swords created by Glacial Illumination start with 5 stacks of energy. Normal Attacks, Elemental Skills, and Elemental Bursts have a 50% chance to grant the Lightning Sword an additional stack of energy.\",\n",
       " \"Faruzan can fire off a maximum of 2 Hurricane Arrows using fully charged Aimed Shots while under a single Wind Realm of Nasamjnin effect. The duration of the Dazzling Polyhedron created by The Wind's Secret Ways is increased by 6s. Increases the Level of Wind Realm of Nasamjnin by 3. Maximum upgrade level is 15. The vortex created by Pressurized Collapses will restore Energy to Faruzan based on the number of opponents hit: If it hits 1 opponent, it will restore 2 Energy for Faruzan. Each additional opponent hit will restore 0.5 more Energy for Faruzan. A maximum of 4 Energy can be restored to her per vortex. Increases the Level of The Wind's Secret Ways by 3. Maximum upgrade level is 15. Characters affected by The Wind's Secret Ways' Prayerful Wind's Benefit have 40% increased CRIT DMG when they deal Anemo DMG. When the active character deals DMG while affected by Prayerful Wind's Benefit, they will apply Pressurized Collapse to the opponent damaged. This effect can be triggered once every 3s. This CD is shared between all party members.\",\n",
       " \"Even when Oz is not present in combat, he can still watch over Fischl through his raven eyes. When Fischl attacks an enemy, Oz fires a joint attack, dealing 22% of ATK DMG. When Nightrider is used, it deals an additional 200% ATK as DMG, and its AoE is increased by 50%. Increases the Level of Nightrider by 3. Maximum upgrade level is 15. When Midnight Phatasmagoria is used, it deals 222% of ATK as Electro DMG to surrounding enemies. When the skill duration ends, Fischl regenerates 20% of her HP. Increase the Level of Midnight Phantasmagoria by 3. Maximum upgrade level is 15. Increases the duration of Oz's summoning by 2s. Additionally, Oz attacks with the current character when present, dealing 30% of Fischl's ATK as Electro DMG.\",\n",
       " 'The CRIT Rate of Pressurized Floe: Shattering Pressure will be increased by 15%. Unleashing Pressurized Floe: Shattering Pressure will restore 2 Energy to Freminet. If a Pressure Level 4 Shattering Pressure is unleashed, this will restore 3 Energy. Increases the Level of Normal Attack: Flowing Eddies by 3. Maximum upgrade level is 15. After Freminet triggers Frozen, Shatter, or Superconduct against opponents, his ATK will be increased by 9% for 6s. Max 2 stacks. This can be triggered once every 0.3s. Increase the Level of Pressurized Floe by 3. Maximum upgrade level is 15. After Freminet triggers Frozen, Shatter, or Superconduct against opponents, his CRIT DMG will be increased by 12% for 6s. Max 3 stacks. This can be triggered once every 0.3s.',\n",
       " 'When using Let the People Rejoice, Furina will gain 150 Fanfare. Additionally, Furina\\'s Fanfare limit is increased by 100. While Let the People Rejoice lasts, Furina\\'s Fanfare gain from increases or decreases in nearby characters\\' HP is increased by 250%. Each point of Fanfare above the limit will increase Furina\\'s Max HP by 0.35%. Her maximum Max HP increase is 140%. Increases the Level of Let the People Rejoice by 3. Maximum upgrade level is 15. When the Salon Members from Salon Solitaire hit an opponent, or the Singer of Many Waters restores HP to the active character, Furina will restore 4 Energy. This effect triggers once every 5s. Increases the Level of Salon Solitaire by 3. Maximum upgrade level is 15. When using Salon Solitaire, Furina gains \"Center of Attention\" for 10s. Throughout the duration, Furina\\'s Normal Attacks, Charged Attacks, and Plunging Attacks are converted into Hydro DMG which cannot be overridden by any other elemental infusion. DMG is also increased by an amount equivalent to 18% of Furina\\'s max HP. Throughout the duration, Furina\\'s Normal Attacks (not including Arkhe: Seats Sacred and Secular Attacks), Charged Attacks, and the impact of Plunging Attacks will cause different effects up to every 0.1s after hitting opponents depending on her current Arkhe alignment: Arkhe: Ousia Every 1s, all nearby characters in the party will be healed by 4% of Furina\\'s max HP, for a duration of 2.9s. Triggering this effect again will extend its duration. Arkhe: Pneuma This Normal Attack (not including Arkhe: Seats Sacred and Secular Attacks), Charged Attack, or Plunging Attack ground impact DMG will be further increased by an amount equivalent to 25% of Furina\\'s max HP. When any of the attacks mentioned previously hit an opponent, all nearby characters in the party will consume 1% of their current HP. During the duration of each instance of \"Center of Attention,\" the above effects can be triggered up to 6 times. \"Center of Attention\" will end when its effects have triggered 6 times or when the duration expires.',\n",
       " \"When the Suanni Man Chai from Suanni's Gilded Dance meets back up with Gaming, it will heal 15% of Gaming's HP. When Gaming receives healing and this instance of healing overflows, his ATK will be increased by 20% for 5s. Increases the Level of Bestial Ascent by 3. Maximum upgrade level is 15. When Bestial Ascent's Plunging Attack: Charmed Cloudstrider hits an opponent, it will restore 2 Energy to Gaming. This effect can be triggered once every 0.2s. Increases the Level of Suanni's Gilded Dance by 3. Maximum upgrade level is 15. Bestial Ascent's Plunging Attack: Charmed Cloudstrider CRIT Rate increased by 20% and CRIT DMG increased by 40%, and its attack radius will be increased.\",\n",
       " \"Taking DMG from a Charge Level 2 Frostflake Arrow Bloom decreases opponents' Cryo RES by 15% for 6s. A hit regenerates 2 Energy for Ganyu. This effect can only occur once per Charge Level 2 Frostflake Arrow, regardless if Frostflake Arrow itself or its Bloom hit the target. Trail of the Qilin gains 1 additional charge. Increases the level of Celestial Shower by 3. Maximum upgrade level is 15. Opponents standing within the AoE of Celestial Shower take increased DMG. This effect strengthens over time. Increased DMG taken begins at 5% and increases by 5% every 3s, up to a maximum of 25%. The effect lingers for 3s after the opponent leaves the AoE. Increases the level of Trail of the Qilin by 3. Maximum upgrade level is 15. Using Trail of the Qilin causes the next Frostflake Arrow shot within 30s to not require charging.\",\n",
       " 'When characters (other than Gorou) within the AoE of Gorou\\'s General\\'s War Banner or General\\'s Glory deal Geo DMG to opponents, the CD of Gorou\\'s Inuzaka All-Round Defense is decreased by 2s. This effect can occur once every 10s. While General\\'s Glory is in effect, its duration is extended by 1s when a nearby active character obtains an Elemental Shard from a Crystallize reaction. This effect can occur once every 0.1s. Max extension is 3s. Increases the level of Inuzaka All-Round Defense by 3. Maximum upgrade level is 15. When General\\'s Glory is in the \"Impregnable\" or \"Crunch\" states, it will also heal active characters within its AoE by 50% of Gorou\\'s own DEF every 1.5s. Increases the level of Juuga: Forward Unto Victory by 3. Maximum upgrade level is 15. For 12s after using Inuzaka All-Round Defense or Juuga: Forward Unto Victory, increases the CRIT DMG of all nearby party members\\' Geo DMG based on the buff level of the skill\\'s field at the time of use: \"Standing Firm\": +10% \"Impregnable\": +20% \"Crunch\": +40% This effect cannot stack and will take reference from the last instance of the effect that is triggered.',\n",
       " \"While in a Paramita Bouquet state activated by Guide to Afterlife, Hu Tao's Charge Attacks do not consume Stamina. Increases the Blood Blossom DMG by an amount equal to 10% of Hu Tao's Max HP at the time the effect is applied. Additionally, Spirit Soother will also apply the Blood Blossom effect. Increases the level of Guide to Afterlife by 3. Maximum upgrade level is 15. Upon defeating an enemy affected by a Blood Blossom that Hu Tao applied herself, all nearby allies in the party (excluding Hu Tao herself) will have their CRIT rate increased by 12% for 15s. Increases the level of Spirit Soother by 3. Maximum upgrade level is 15. Triggers when Hu Tao's HP drops below 25%, or when she suffers a lethal strike: Hu Tao will not fall as a result of the DMG sustained. Additionally, for the next 10s, all of her Elemental and Physical RES is increased by 200%, her CRIT Rate is increased by 100%, and her resistance to interruption is greatly increased. This effect triggers automatically when Hu Tao has 1 HP left. Can only occur once every 60s.\",\n",
       " 'Increases the pulling speed of Gale Blade after holding for more than 1s, and increases the DMG dealt by 40%. When Jean picks up an Elemental Orb/Particle, all party members have their Movement SPD and ATK SPD increased by 15% for 15s. Increases the Level of Dandelion Breeze by 3. Maximum upgrade level is 15. Within the Field created by Dandelion Breeze, all enemies have their Anemo RES decreased by 40%. Increase the Level of Gale Blade by 3. Maximum upgrade level is 15. Incoming DMG is decreased by 35% within the Field created by Dandelion Breeze. Upon leaving the Dandelion Field, this effect lasts for 3 attacks or 10s.',\n",
       " \"The CRIT Rate of Normal Attack and Charged Attack DMG against enemies affected by the Cold or Frozen status effects is increased by 15%. Every time Glacial Waltz defeats an enemy, its duration is increased by 2.5s, up to a maximum of 15s. Increases the Level of Frostgnaw by 3. Maximum upgrade level is 15. Triggers automatically when Kaeya's HP falls below 20%: Creates a shield that absorbs damage equal to 30% of Kaeya's Max HP. Lasts for 20s. This shield absorbs Cryo DMG with 250% efficiency. Can only occur once every 60s. Increase the Level of Glacial Waltz by 3. Maximum upgrade level is 15. Glacial Waltz will generate 1 additional icicle, and will regenerate 15 Energy when cast.\",\n",
       " \"Within 3s after using Artistic Ingenuity, Kaveh's Dendro RES and Incoming Healing Bonus will be increased by 50% and 25% respectively. Kaveh's Normal Attack SPD increases by 15% during Painted Dome. Increases the level of Painted Dome by 3. Maximum upgrade level is 15. Dendro Cores created from Bloom reactions Kaveh triggers will deal 60% more DMG when they burst. Increases the level of Artistic Ingenuity by 3. Maximum upgrade level is 15. When Kaveh's Normal, Charged, or Plunging Attacks hit opponents during Painted Dome, they will unleash Pairidaeza's Light upon the opponent's position, dealing 61.8% of Kaveh's ATK as AoE Dendro DMG and causing all Dendro Cores within that AoE to burst. This effect can be triggered once every 3s.\",\n",
       " \"Recasting Stellar Restoration while a Lightning Stiletto is present causes Keqing to deal 50% of her ATK as AoE Electro DMG at the start point and terminus of her Blink. When Keqing's Normal and Charged Attack's hit enemies affected by Electro, they have a 50% chance of producing an Elemental Particle. This effect can only occur once every 5s. Increases the Level of Starward Sword by 3. Maximum upgrade level is 15. For 10s after Keqing triggers an Electro-related Elemental Reaction, her ATK is increased by 25%. Increase the Level of Stellar Restoration by 3. Maximum upgrade level is 15. When initiating a Normal Attack, Charged Attack, Elemental Skill or Elemental Burst, Keqing gains a 6% Electro DMG Bonus for 8s. Effects triggered by Normal Attacks, Charged Attacks, Elemental Skills and Elemental Bursts are considered independent entities.\",\n",
       " \"Every 8,000 Max HP Kirara possesses will cause her to create 1 extra Cat Grass Cardamom when she uses Secret Art: Surprise Dispatch. A maximum of 4 extra can be created this way. When Kirara is in the Urgent Neko Parcel state of Meow-teor Kick, she will grant other party members she crashes into Critical Transport Shields. The DMG absorption of Critical Transport Shield is 40% of the maximum absorption Meow-teor Kick's normal Shields of Safe Transport are capable of, and will absorb Dendro DMG with 250% effectiveness. Critical Transport Shields last 12s and can be triggered once on each character every 10s. Increases the Level of Meow-teor Kick by 3. Maximum upgrade level is 15. After active character(s) protected by Shields of Safe Transport or Critical Transport Shields hit opponents with Normal, Charged, or Plunging Attacks, Kirara will perform a coordinated attack with them using Small Cat Grass Cardamoms, dealing 200% of her ATK as Dendro DMG. DMG dealt this way is considered Elemental Burst DMG. This effect can be triggered once every 3.8s. This CD is shared between all party members. Increase the Level of Secret Art: Surprise Dispatch by 3. Maximum upgrade level is 15. All nearby party members will gain 12% All Elemental DMG Bonus within 15s after Kirara uses her Elemental Skill or Burst.\",\n",
       " \"Attacks and Skills have a certain chance to summon a spark that bombards enemies, dealing DMG equal to 120% of Sparks 'n' Splash's DMG. Being hit by Jumpy Dumpty's mines decreases enemy DEF by 23% for 10s. Increases the Level of Jumpy Dumpty by 3. Maximum upgrade level is 15. If Klee leaves the field during the duration of Sparks 'n' Splash, her departure triggers an explosion that deals 555% of her ATK as AoE Pyro DMG. Increase the Level of Sparks 'n' Splash by 3. Maximum upgrade level is 15. While under the effects of Sparks 'n' Splash, other members of the party will continuously regenerate Energy. When Sparks 'n' Splash is used, all party members will gain 10% Pyro DMG Bonus for 25s.\",\n",
       " \"Gyoei Narukami Kariyama Rite's AoE is increased by 50%. Grass Ring of Sanctification's duration is increased by 3s. Increases the Level of Sanctifying Ring by 3. Maximum upgrade level is 15. When the Normal, Charged, or Plunging Attacks of the character affected by Shinobu's Grass Ring of Sanctification hit opponents, a Thundergrass Mark will land on the opponent's position and deal AoE Electro DMG based on 9.7% of Shinobu's Max HP. This effect can occur once every 5s. Increase the Level of Gyoei Narukami Kariyama Rite by 3. Maximum upgrade level is 15. When Kuki Shinobu takes lethal DMG, this instance of DMG will not take her down. This effect will automatically trigger when her HP reaches 1 and will trigger once every 60s. When Shinobu's HP drops below 25%, she will gain 150 Elemental Mastery for 15s. This effect will trigger once every 60s.\",\n",
       " \"The Shield Absorption of the Curtain of Slumber generated by Nights of Formal Focus is increased by 20%. Additionally, when unleashing Nights of Formal Focus, she will generate a shield for any nearby party members who are not being protected by a Curtain of Slumber. This shield will have 35% of the absorption of a Curtain of Slumber, will last for 12s, and will absorb Cryo DMG with 250% effectiveness. When Shooting Stars from Nights of Formal Focus strike opponents, they will each restore 1 Energy to Layla. Each Shooting Star can restore Energy to her in this manner once. Increases the Level of Nights of Formal Focus by 3. Maximum upgrade level is 15. When Nights of Formal Focus starts to fire off Shooting Stars, it will grant all nearby party members the Dawn Star effect, causing their Normal and Charged Attack DMG to increase based on 5% of Layla's Max HP. Dawn Star can last up to 3s and will be removed 0.05s after dealing Normal or Charged Attack DMG. Increase the Level of Dream of the Star-Stream Shaker by 3. Maximum upgrade level is 15. Shooting Stars from Nights of Formal Focus deal 40% increased DMG, and Starlight Slugs from Dream of the Star-Stream Shaker deal 40% increased DMG. Additionally, the interval between the creation of Night Stars via Nights of Formal Focus is decreased by 20%.\",\n",
       " \"Lisa recovers 2 Energy for every opponent hit while holding Violet Arc. A maximum of 10 Energy can be regenerated in this manner at any one time. Holding Violet Arc has the following effects: Increases DEF by 25%. Increases Lisa's resistance to interruption. Increases the Level of Lightning Rose by 3. Maximum upgrade level is 15. Increases the number of lightning bolts released by Lightning Rose by 1-3. Increase the Level of Violet Arc by 3. Maximum upgrade level is 15. When Lisa takes the field, she applies 3 stacks of Violet Arc's Conductive status onto nearby enemies. This effect can only occur once every 5s.\",\n",
       " \"When Enigmatic Feint's Enigma Thrust hits an opponent with Shadowsign, a vortex will be created at that opponent's position that will pull nearby opponents in. Whenever the Bogglecat Box summoned by Magic Trick: Astonishing Shift fires a Vivid Shot, it will fire an extra Vivid Shot. Increases the Level of Magic Trick: Astonishing Shift by 3. Maximum upgrade level is 15. Increases Enigmatic Feint's charges by 1. Increase the Level of Enigmatic Feint by 3. Maximum upgrade level is 15. When Lynette uses Enigmatic Feint's Enigma Thrust, she will gain an Anemo Infusion and 20% Anemo DMG Bonus for 6s.\",\n",
       " \"Lyney can have 2 Grin-Malkin Hats present at once. Additionally, Prop Arrows will summon 2 Grin-Malkin Hats and grant Lyney 1 extra stack of Prop Surplus. This effect can occur once every 15s. When Lyney is on the field, he will gain a stack of Crisp Focus every 2s. This will increase his CRIT DMG by 20%. Max 3 stacks. This effect will be canceled when Lyney leaves the field. Increases the Level of Card Force Translocation by 3. Maximum upgrade level is 15. After an opponent is hit by Lyney's Pyro Charged Attack, this opponent's Pyro RES will be decreased by 20% for 6s. Increase the Level of Wondrous Trick: Miracle Parade by 3. Maximum upgrade level is 15. When Lyney fires a Prop Arrow, he will fire a Pyrotechnic Strike: Reprised that will deal 80% of a Pyrotechnic Strike's DMG. This DMG is considered Charged Attack DMG.\",\n",
       " 'The Soulwind state of Starfrost Swirl can decrease the healing interval between instances caused by Skyfeather Song\\'s Eagleplume state. This decrease percentage is equal to the ATK SPD increase provided by Soulwind. When Starfrost Swirl\\'s Flowfrost Arrow first hits an opponent, or its Rimestar Flare hits an opponent, 1 Detector stack from Passive Talent \"Suppressive Barrage\" will be generated. You must have unlocked the Passive Talent \"Suppressive Barrage\" first. Increases the Level of Skyfeather Song by 3. Maximum upgrade level is 15. When Mika\\'s own Skyfeather Song\\'s Eagleplume state heals party members, this will restore 3 Energy to Mika. This form of Energy restoration can occur 5 times during the Eagleplume state created by 1 use of Skyfeather Song. Increase the Level of Starfrost Swirl by 3. Maximum upgrade level is 15. The maximum number of Detector stacks that Starfrost Swirl\\'s Soulwind can gain is increased by 1. You need to have unlocked the Passive Talent \"Suppressive Barrage\" first. Additionally, active characters affected by Soulwind will deal 60% more Physical CRIT DMG.',\n",
       " 'The effects of Hydro-related Elemental Reactions are enhanced for 8s after a character hits an enemy affected by an Omen: Electro-Charged DMG is increased by 15%. Vaporize DMG is increased by 15%. Hydro Swirl DMG is increased by 15%. The duration for which enemies are Frozen is increased by 15%. When a Normal Attack hits, there is a 20% chance that it will be automatically followed by a Charged Attack. This effect can only occur once every 5s. Increases the Level of Stellaris Phantasm by 3. Maximum upgrade level is 15. When a character attacks an enemy affected by the Omen status effect, their CRIT Rate is increased by 15%. Increase the Level of Mirror Reflection of Doom by 3. Maximum upgrade level is 15. Upon entering Illusory Torrent, Mona gain a 60% increase to the DMG her next Charged Attack per second of movement. A maximum DMG Bonus of 180% can be achieved in this manner. The effect lasts for no more than 8s.',\n",
       " \"When the Shrine of Maya is unleashed and the Elemental Types of the party members are being tabulated, the count will add 1 to the number of Pyro, Electro, and Hydro characters respectively. Opponents that are marked by Seeds of Skandha applied by Nahida herself will be affected by the following effects: Burning, Bloom, Hyperbloom, and Burgeon Reaction DMG can score CRIT Hits. CRIT Rate and CRIT DMG are fixed at 20% and 100% respectively. Within 8s of being affected by Quicken, Aggravate, Spread, DEF is decreased by 30%. Increases the Level of All Schemes to Know by 3. Maximum upgrade level is 15. When 1/2/3/(4 or more) nearby opponents are affected by All Schemes to Know's Seeds of Skandha, Nahida's Elemental Mastery will be increased by 100/120/140/160. Increase the Level of Illusory Heart by 3. Maximum upgrade level is 15. When Nahida hits an opponent affected by All Schemes to Know's Seeds of Skandha with Normal or Charged Attacks after unleashing Illusory Heart, she will use Tri-Karma Purification: Karmic Oblivion on this opponent and all connected opponents, dealing Dendro DMG based on 200% of Nahida's ATK and 400% of her Elemental Mastery. DMG dealt by Tri-Karma Purification: Karmic Oblivion is considered Elemental Skill DMG and can be triggered once every 0.2s. This effect can last up to 10s and will be removed after Nahida has unleashed 6 instances of Tri-Karma Purification: Karmic Oblivion.\",\n",
       " 'Each stack of Crystal Shrapnel consumed when Navia uses Ceremonial Crystalshot will restore 3 Energy to her and decrease the CD of As the Sunlit Sky\\'s Singing Salute by 1s. Up to 9 Energy can be gained this way, and the CD of \"As the Sunlit Sky\\'s Singing Salute\" can be decreased by up to 3s. Each stack of Crystal Shrapnel consumed will increase the CRIT Rate of this Ceremonial Crystalshot instance by 12%. CRIT Rate can be increased by up to 36% in this way. In addition, when Ceremonial Crystalshot hits an opponent, one Cannon Fire Support shot from As the Sunlit Sky\\'s Singing Salute will strike near the location of the hit. Up to one instance of Cannon Fire Support can be triggered each time Ceremonial Crystalshot is used, and DMG dealt by said Cannon Fire Support this way is considered Elemental Burst DMG. Increases the Level of Ceremonial Crystalshot by 3. Maximum upgrade level is 15. When As the Sunlit Sky\\'s Singing Salute hits an opponent, that opponent\\'s Geo RES will be decreased by 20% for 8s. Increases the Level of As the Sunlit Sky\\'s Singing Salute by 3. Maximum upgrade level is 15. If more than 3 stacks of Crystal Shrapnel are consumed when using Ceremonial Crystalshot, each stack consumed beyond the first 3 increases the CRIT DMG of that Ceremonial Crystalshot by 45%, and any stacks consumed beyond the first 3 are returned to Navia.',\n",
       " 'When Neuvillette takes the field, he will obtain 1 stack of Past Draconic Glories from the Passive Talent \"Heir to the Ancient Sea\\'s Authority.\" You must first unlock the Passive Talent \"Heir to the Ancient Sea\\'s Authority.\" Additionally, his interruption resistance will be increased while using the Charged Attack Empowerment: Legal Evaluation and the Charged Attack: Equitable Judgment. The Passive Talent \"Heir to the Ancient Sea\\'s Authority\" will be enhanced: Each stack of Past Draconic Glories will increase the CRIT DMG of Charged Attack: Equitable Judgment by 14%. The maximum increase that can be achieved this way is 42%. You must first unlock the Passive Talent \"Heir to the Ancient Sea\\'s Authority.\" Increases the Level of Normal Attack: As Water Seeks Equilibrium by 3. Maximum upgrade level is 15. When Neuvillette is on the field and is healed, 1 Sourcewater Droplet will be generated. This effect can occur once every 4s. Increases the Level of O Tides, I Have Returned by 3. Maximum upgrade level is 15. When using Charged Attack: Equitable Judgment, Neuvillette can absorb nearby Sourcewater Droplets in an AoE. Each absorbed Droplet will increase the duration of Charged Attack: Equitable Judgment by 1s. Additionally, when Equitable Judgment hits opponents, it will fire off 2 additional currents every 2s, each of which will deal 10% of Neuvillette\\'s Max HP as Hydro DMG. DMG dealt this way will count as DMG dealt by Equitable Judgment.',\n",
       " 'Dance of Haftkarsvar will be enhanced as follows: Luminous Illusion DMG is increased by 65%. The Tranquility Aura\\'s duration is extended by 6s. After characters affected by the Golden Chalice\\'s Bounty deal Hydro DMG to an opponent, that opponent\\'s Hydro RES will be decreased by 35% for 10s. After a triggered Bloom reaction deals DMG to opponents, their Dendro RES will be decreased by 35% for 10s. You need to have unlocked the \"Court of Dancing Petals\" Talent. Increases the Level of Dance of Abzendegi: Distant Dreams, Listening Spring by 3. Maximum upgrade level is 15. After the third dance step of Dance of Haftkarsvar\\'s Pirouette hits opponents, Nilou will gain 15 Elemental Energy, and DMG from her Dance of Abzendegi: Distant Dreams, Listening Spring will be increased by 50% for 8s. Increase the Level of Dance of Haftkarsvar by 3. Maximum upgrade level is 15. For every 1,000 points of Max HP, Nilou\\'s CRIT Rate and CRIT DMG will increase by 0.6% and 1.2% respectively. The maximum increase in CRIT Rate and CRIT DMG via this method is 30% and 60% respectively.',\n",
       " \"When a Normal Attack hits, it deals AoE DMG. When Jade Screen is shattered, its CD will reset. Can occur once every 6s. Increases the Level of Starshatter by 3. Maximum upgrade level is 15. Jade Screen increases nearby characters' Elemental RES by 10%. Increase the Level of Jade Screen by 3. Maximum upgrade level is 15. When Starshatter is used, Ningguang gains 7 Star Jades.\",\n",
       " \"While Sweeping Time and Breastplate are both in effect, the chance of Breastplate's healing effects activating is increased to 100%. Decreases the Stamina Consumption of Noelle's Charged Attacks by 20% and increases her Charged Attack DMG by 15%. Increases the Level of Breastplate by 3. Maximum upgrade level is 15. When Breastplate's duration expires or it is destroyed by DMG, it will deal 400% ATK of Geo DMG to surrounding enemies. Increase the Level of Sweeping Time by 3. Maximum upgrade level is 15. Sweeping Time increases Noelle's ATK by an additional 50% of her DEF. Additionally, every enemy defeated during the skill's duration adds 1s to the duration, up to 10s.\",\n",
       " \"When the Herald of Frost hits an enemy marked by a Fortune-Preserving Talisman, Qiqi regenerates 2 Energy. Qiqi's Normal and Charge Attack DMG against enemies affected by Cryo is increased by 15%. Increases the Level of Adeptus Art: Preserver of Fortune by 3. Maximum upgrade level is 15. Targets marked by the Fortune-Preserving Talisman have their ATK decreased by 20%. Increase the Level of Adeptus Art: Herald of Frost by 3. Maximum upgrade level is 15. Using Adeptus Art: Preserve of Fortune revives all nearby fallen characters and regenerates 50% of their HP. This effect can only occur once every 15 mins.\",\n",
       " \"Chakra Desiderata will gather Resolve even faster. When Electro characters use their Elemental Bursts, the Resolve gained is increased by 80%. When characters of other Elemental Types use their Elemental Bursts, the Resolve gained is increased by 20%. Secret Art: Musou Shinsetsu's Musou no Hitotachi and Musou Isshin attacks will ignore 60% of opponents' DEF. Increases the Level of Secret Art: Musou Shinsetsu by 3. Maximum upgrade level is 15. When the Musou Isshin state applied by Secret Art: Musou Shinsetsu expires, all nearby party members (excluding the Raiden Shogun) gain 30% bonus ATK for 10s. Increase the Level of Transcendence: Baleful Omen by 3. Maximum upgrade level is 15. While in the Musou Isshin state applied by Secret Art: Musou Shinsetsu, the Raiden Shogun's Normal, Charged, and Plunging Attacks will decrease all nearby party members' (but not including the Raiden Shogun herself) Elemental Burst CD by 1s when they hit opponents. This effect can trigger once every 1s, and can trigger a total of 5 times during the state's duration.\",\n",
       " \"Picking up an Elemental Orb or Particle increases Razor's DMG by 10% for 8s. Increases CRIT Rate against enemies with less than 30% HP by 10%. Increases the Level of Lightning Fang by 3. Maximum upgrade level is 15. When casting Claw and Thunder (Press), enemies hit will have their DEF decreased by 15% for 7s. Increase the Level of Claw and Thunder by 3. Maximum upgrade level is 15. Every 10s, Razor's sword charges up, causing the next Normal Attack to release lightning that deals 100% of Razor's ATK as Electro DMG. When Razor is not using Lightning Fang, a lightning strike on an enemy will grant Razor an Electro Sigil for Claw and Thunder.\",\n",
       " \"When Rosaria deals a CRIT Hit, her ATK SPD increases by 10% and her Normal Attack DMG increases by 10% for 4s. The duration of the Ice Lance created by Rites of Termination is increased by 4s. Increases the Level of Ravaging Confession by 3. Maximum upgrade level is 15. Ravaging Confession's CRIT Hits regenerate 5 Energy for Rosaria. Can only be triggered once each time Ravaging Confession is cast. Increase the Level of Rites of Termination by 3. Maximum upgrade level is 15. Rites of Termination's attack decreases opponents' Physical RES by 20% for 10s.\",\n",
       " \"The Muji-Muji Daruma created by Yoohoo Art: Mujina Flurry will ignore HP limits and can simultaneously attack nearby opponents and heal characters. Yoohoo Art: Fuuin Dash gains the following effects: DMG of Fuufuu Whirlwind Kick in Tapping (mobile)/Press (PC & PlayStation) Mode increased by 3.3%. Every 0.5s in the Fuufuu Windwheel state will increase the DMG of this Fuufuu Whirlwind Kick by 3.3%. The maximum DMG increase possible through this method is 66%. Increases the Level of Yoohoo Art: Mujina Flurry by 3. Maximum upgrade level is 15. Sayu recovers 1.2 Energy when she triggers a Swirl reaction. This effect occurs once every 2s. Increase the Level of Yoohoo Art: Fuuin Dash by 3. Maximum upgrade level is 15. The Muji-Muji Daruma created by Sayu's Yoohoo Art: Mujina Flurry will now also benefit from her Elemental Mastery. Each point of Sayu's Elemental Mastery will produce the following effects: Increases the damage dealt by the Muji-Muji Daruma's attacks by 0.2% ATK. A maximum of 400% ATK can be gained via this method. Increases the HP restored by the Muji-Muji Daruma by 3. A maximum of 6,000 additional HP can be restored in this manner.\",\n",
       " \"Spring Spirit Summoning can be used 1 more time. Divine Maiden's Deliverance lasts for 6 seconds longer. Active characters within the skill's field deals 15% increased Cryo CRIT DMG. Increases the Level of Spring Spirit Summoning by 3. Maximum upgrade level is 15. When characters under the effect of Icy Quill applied by Shenhe triggers its DMG Bonus effects, Shenhe will gain a Skyfrost Mantra stack: When Shenhe uses Spring Spirit Summoning, she will consume all stacks of Skyfrost Mantra, increasing the DMG of that Spring Spirit Summoning by 5% for each stack consumed. Max 50 stacks. Stacks last for 60s. Increase the Level of Divine Maiden's Deliverance by 3. Maximum upgrade level is 15. When characters trigger Icy Quill's effects using Normal and Charged Attack DMG, it does not count toward the Trigger Quota.\",\n",
       " 'Astable Anemohypostasis Creation - 6308 gains 1 additional charge. The duration of Forbidden Creation - Isomer 75 / Type II is increased by 2s. Increases the Level of Astable Anemohypostasis Creation - 6308 by 3. Maximum upgrade level is 15. Every 7 Normal and Charged Attacks, Sucrose will reduce the CD of Astable Anemohypostasis Creation - 6308 by 1-7s. Increase the Level of Forbidden Creation - Isomer 75 / Type II by 3. Maximum upgrade level is 15. If Forbidden Creation - Isomer 75 / Type II triggers an Elemental Absorption, all party members gain a 20% Elemental DMG Bonus for the corresponding absorbed element during its duration.',\n",
       " \"When a character protected by Thoma's own Blazing Barrier (Thoma excluded) is attacked, Thoma's own Blazing Blessing CD is decreased by 3s, while his own Crimson Ooyoroi's CD is decreased by 3s. This effect can be triggered once every 20s. Crimson Ooyoroi's duration is increased by 3s. Increases the Level of Blazing Blessing by 3. Maximum upgrade level is 15. After using Crimson Ooyoroi, 15 Energy will be restored to Thoma. Increase the Level of Crimson Ooyoroi by 3. Maximum upgrade level is 15. When a Blazing Barrier is obtained or refreshed, the DMG dealt by all party members' Normal, Charged, and Plunging Attacks is increased by 15% for 6s.\",\n",
       " \"Tighnari's Charged Attack CRIT Rate is increased by 15%. When there are opponents within the Vijnana-Khanda Field created by Vijnana-Phala Mine, Tighnari gains 20% Dendro DMG Bonus. The effect will last up to 6s if the field's duration ends or if it no longer has opponents within it. Increases the Level of Fashioner's Tanglevine Shaft by 3. Maximum upgrade level is 15. When Fashioner's Tanglevine Shaft is unleashed, all nearby party members gain 60 Elemental Mastery for 8s. If the Fashioner's Tanglevine Shaft triggers a Burning, Bloom, Quicken, or Spread reaction, their Elemental Mastery will be further increased by 60. This latter case will also refresh the buff state's duration. Increase the Level of Vijnana-Phala Mine by 3. Maximum upgrade level is 15. Wreath Arrow's charging time is decreased by 0.9s, and will produce 1 additional Clusterbloom Arrow upon hit. This arrow deals 150% of Tighnari's ATK as DMG.\",\n",
       " 'Palm Vortex pulls in enemies within a 5m radius. Increases Energy Recharge by 16%. Increases the Level of Gust Surge by 3. Maximum upgrade level is 15. Reduces DMG taken while casting Palm Vortex by 10%. Increase the Level of Palm Vortex by 3. Maximum upgrade level is 15. Targets who take DMG from Gust Surge have their Anemo RES decreased by 20%. If an Elemental Absorption occurred, then their RES towards the corresponding Element is also decreased by 20%.',\n",
       " 'After Razorgrass Blade hits an opponent, it will regenerate 3.5 Energy for the Traveler. Lea Lotus Lamp\\'s duration is increased by 3s. Increases the Level of Razorgrass Blade by 3. Maximum upgrade level is 15. After the Lea Lotus Lamp triggers a Lotuslight Transfiguration, it will obtain 5 stacks of the Overflowing Lotuslight effect from the Passive Talent \"Verdant Overgrowth.\" You must have unlocked this Passive Talent first. Increase the Level of Surgent Manifestation by 3. Maximum upgrade level is 15. The Dendro DMG Bonus of the character under the effect of Overflowing Lotuslight as created by the Lea Lotus Lamp is increased by 12%. If the Lamp has experienced a Lotuslight Transfiguration previously, the character will also gain 12% DMG Bonus for the corresponding element.',\n",
       " \"The number of Abundance Amulets that can be generated using Lightning Blade is increased to 3. When Falling Thunder created by Bellowing Thunder hits an opponent, it will decrease their Electro RES by 15% for 8s. Increases the Level of Bellowing Thunder by 3. Maximum upgrade level is 15. When a character obtains Abundance Amulets generated by Lightning Blade, if this character's Energy is less than 35%, the Energy restored by the Abundance Amulets is increased by 100%. Increase the Level of Lightning Blade by 3. Maximum upgrade level is 15. Every 2 Falling Thunder attacks triggered by Bellowing Thunder will increase the DMG dealt by the next Falling Thunder by 100%, and will restore an additional 1 Energy to the current character.\",\n",
       " 'Allies within the radius of Wake of Earth have their CRIT Rate increased by 10% and have increased resistance against interruption. When the meteorite created by Starfell Sword is destroyed, it will also explode, dealing additional AoE Geo DMG equal to the amount of damage dealt by Starfell Sword. Increases the Level of Wake of Earth by 3. Maximum upgrade level is 15. The shockwave triggered by Wake of Earth regenerates 5 Energy for every enemy hit. A maximum of 25 Energy can be recovered in this manner at any one time. Increase the Level of Starfell Sword by 3. Maximum upgrade level is 15. The barrier created by Wake of Earth lasts 5s longer. The meteorite created by Starfell Sword lasts 10s longer.',\n",
       " 'Picking up a Sourcewater Droplet will restore 2 Energy to the Traveler. Requires the Passive Talent \"Spotless Waters.\" The Movement SPD of Rising Waters\\' bubble will be decreased by 30%, and its duration increased by 3s. Increases the Level of Aquacrest Saber by 3. Maximum upgrade level is 15. When using Aquacrest Saber, an Aquacrest Aegis that can absorb 10% of the Traveler\\'s Max HP in DMG will be created and will absorb Hydro DMG with 250% effectiveness. It will persist until the Traveler finishes using the skill. Once every 2s, after a Dewdrop hits an opponent, if the Traveler is being protected by Aquacrest Aegis, the DMG Absorption of the Aegis will be restored to 10% of the Traveler\\'s Max HP. If the Traveler is not presently being protected by an Aegis, one will be redeployed. Increase the Level of Rising Waters by 3. Maximum upgrade level is 15. When the Traveler picks up a Sourcewater Droplet, they will restore HP to the nearest party member with the lowest HP percentage remaining based on 6% of their Max HP.',\n",
       " \"Fires 2 additional arrows per Aimed Shot, each dealing 33% of the original arrow's DMG. Skyward Sonnet decreases enemy Anemo RES by 12% for 10s. Enemies launched by Skyward Sonnet suffer an additional 12% Anemo RES and Physical RES decrease while airborne. Increases the Level of Wind's Grand Ode by 3. Maximum upgrade level is 15. When Venti picks up an Elemental Orb or Particle, he receives a 25% Anemo DMG Bonus for 10s. Increase the Level of Skyward Sonnet by 3. Maximum upgrade level is 15. Targets who take DMG from Wind's Grand Ode have their Anemo RES decreased by 20%. If an Elemental Absorption occurred, then their RES towards the corresponding Element is also decreased by 20%.\",\n",
       " 'When in the Windfavored state, the Attack SPD of the Wanderer\\'s Kuugo: Fushoudan and Kuugo: Toufukai is increased by 10%. Additionally, the wind arrows fired by the Passive Talent \"Gales of Reverie\" will deal an additional 25% of his ATK as DMG. You must unlock the Passive Talent \"Gales of Reverie\" first. When in the Windfavored state, Kyougen: Five Ceremonial Plays will see its DMG increased by 4% per point of difference between the max amount of Kuugoryoku Points contrasted with Kuugoryoku\\'s present capacity when using this skill. Through this method, you can increase Kyougen: Five Ceremonial Plays\\'s DMG by a maximum of 200%. Increases the Level of Kyougen: Five Ceremonial Plays by 3. Maximum upgrade level is 15. When casting Hanega: Song of the Wind, should the Passive Talent \"Jade-Claimed Flower\" be triggered, the character will gain buffs in correspondence to the contacted Elemental Type(s), and also obtain a random untriggered buff. A maximum of 3 such corresponding elemental buffs can exist simultaneously. You must unlock the Passive Talent \"Jade-Claimed Flower\" first. Increase the Level of Hanega: Song of the Wind by 3. Maximum upgrade level is 15. When the Wanderer actively hits an opponent with Kuugo: Fushoudan while in the Windfavored state, the following effects will occur: Deals an additional instance of Kuugo: Fushoudan at the position hit, dealing 40% of the attack\\'s original DMG. This DMG will be considered Normal Attack DMG. When the Wanderer falls below 40 Kuugoryoku Points, restores 4 Points to him. Kuugoryoku Points can be restored in this manner once every 0.2s. This restoration can occur up to 5 times within one Windfavored duration.',\n",
       " 'The Gracious Rebuke from the Passive Talent \"There Shall Be a Plea for Justice\" is changed to this: When Wriothesley\\'s HP is less than 60% or while he is in the Chilling Penalty state caused by Icefang Rush, when the fifth attack of Repelling Fists hits, it will create a Gracious Rebuke. 1 Gracious Rebuke effect can be obtained every 2.5s. Additionally, Rebuke: Vaulting Fist will obtain the following enhancement: The DMG Bonus gained will be further increased to 200%. When it hits while Wriothesley is in the Chilling Penalty state, that state\\'s duration is extended by 4s. 1 such extension can occur per 1 Chilling Penalty duration. You must first unlock the Passive Talent \"There Shall Be a Plea for Justice.\" When using Darkgold Wolfbite, each Prosecution Edict stack from the Passive Talent \"There Shall Be a Reckoning for Sin\" will increase said ability\\'s DMG dealt by 40%. You must first unlock the Passive Talent \"There Shall Be a Reckoning for Sin.\" Increases the Level of Normal Attack: Forceful Fists of Frost by 3. Maximum upgrade level is 15. The HP restored to Wriothesley through Rebuke: Vaulting Fist will be increased to 50% of his Max HP. You must first unlock the Passive Talent \"There Shall Be a Plea for Justice.\" Additionally, when Wriothesley is healed, if the amount of healing overflows, the following effects will occur depending on whether he is on the field or not. If he is on the field, his ATK SPD will be increased by 20% for 4s. If he is off-field, all of your own party members\\' ATK SPD will be increased by 10% for 6s. These two methods of increasing ATK SPD cannot stack. Increases the Level of Darkgold Wolfbite by 3. Maximum upgrade level is 15. The CRIT Rate of Rebuke: Vaulting Fist will be increased by 10%, and its CRIT DMG by 80%. When unleashed, it will also create an additional icicle that deals 100% of Rebuke: Vaulting Fist\\'s Base DMG as Cryo DMG. DMG dealt this way is regarded as Charged Attack DMG. You must first unlock the Passive Talent \"There Shall Be a Plea for Justice.\"',\n",
       " \"Enemies hit by Guoba's attacks have their Pyro RES reduced by 15% for 6s. The last attack in a Normal Attack sequence applies the Implode status onto the enemy for 2s. An explosion will occur once this duration ends, dealing 75% of Xiangling's ATK as AoE Pyro DMG. Increases the Level of Pyronado by 3. Maximum upgrade level is 15. Pyronado's duration is increased by 40%. Increase the Level of Guoba Attack by 3. Maximum upgrade level is 15. For the duration of Pyronado, all party members receive a 15% Pyro DMG Bonus.\",\n",
       " 'White Clouds at Dawn gains 1 additional charge. After using a Skyladder from White Clouds at Dawn, Xianyun\\'s ATK will be increased by 20% for 15s. Additionally, the effects of the Passive Talent \"Consider, the Adeptus in Her Realm\" will be enhanced: When the Starwicker created by Stars Gather at Dusk has Adeptal Assistance stacks, nearby active characters\\' Plunging Attack shockwave DMG will be increased by 400% of Xianyun\\'s ATK. The maximum DMG increase that can be achieved this way is 18,000. Each Plunging Attack shockwave DMG instance can only apply this increased DMG effect to a single opponent. Each character can trigger this effect once every 0.4s. You must first unlock the Passive Talent \"Consider, the Adeptus in Her Realm.\" Increases the Level of Stars Gather at Dusk by 3. Maximum upgrade level is 15. After using Skyladder 1/2/3 times during one White Clouds at Dawn Cloud Transmogrification state, when a Driftcloud Wave unleashed during that instance hits an opponent, it will heal all nearby party members for 50%/80%/150% of Xianyun\\'s ATK. This effect can be triggered once every 5s. Increases the Level of White Clouds at Dawn by 3. Maximum upgrade level is 15. After Xianyun uses 1/2/3 Skyladders within one Cloud Transmogrification caused by White Clouds at Dawn, the CRIT DMG of a Driftcloud Wave created in this instance of Cloud Transmogrification will be increased by 15%/35%/70%. Within 16s after Xianyun has used Stars Gather at Dusk, White Clouds at Dawn will not enter CD. This effect will be canceled once she has used White Clouds at Dawn 8 times.',\n",
       " \"Increases Lemniscatic Wind Cycling's charges by 1. When in party but not on the field, Xiao's Energy Recharge is increased by 25%. Increases the Level of Lemniscatic Wind Cycling by 3. Maximum upgrade level is 15. When Xiao's HP falls below 50%, he gains a 100% DEF Bonus. Increase the Level of Bane of All Evil by 3. Maximum upgrade level is 15. While under the effects of Bane of All Evil, hitting at least 2 opponents with Xiao's Plunging Attack will immediately grant him 1 charge of Lemniscatic Wind Cycling and for the next 1s, he may use Lemniscatic Wind Cycling while ignoring its CD.\",\n",
       " \"Increases the maximum number of Rain Swords by 1. Extends the duration of Guhua Sword - Raincutter by 3s. Decreases the Hydro RES of enemies hit by sword rain attacks by 15% for 4s. Increases the Level of Guhua Sword - Raincutter by 3. Maximum upgrade level is 15. Throughout the duration of Guhua Sword: Raincutter, the DMG dealt by Guhua Sword: Fatal Rainscreen is increased by 50%. Increase the Level of Guhua Sword - Fatal Rainscreen by 3. Maximum upgrade level is 15. Activating 2 of Guhua Sword - Raincutter's sword rain attacks greatly increases the DMG of the third. Xingqiu regenerates 3 Energy when sword rain attacks hit enemies.\",\n",
       " \"Upon scoring a CRIT hit, increases ATK SPD of Xinyan's Normal and Charged Attacks by 12% for 5s. Can only occur once every 5s. Riff Revolution Physical DMG has its Crit rate increased by 100%, and will form a shield at Shield Level 3: Rave when cast. Increases the Level of Sweeping Fervor by 3. Maximum upgrade level is 15. Sweeping Fervor's swing DMG decrease opponents Physical RES by 15% for 12s. Increases the Level of Riff Revolution by 3. Maximum upgrade level is 15. Decrease the stamina consumption of Xinyan Charged Attacks by 30%. Additionally, Xinyan Charged Attack gain an ATK bonus equal to 50% of her DEF.\",\n",
       " \"Each time Great Secret Art: Tenko Kenshin activates a Tenko Thunderbolt, Yae Miko will restore 8 Elemental Energy for herself. Sesshou Sakura start at Level 2 when created, their max level is increased to 4, and their attack range is increased by 60%. Increases the Level of Yakan Evocation: Sesshou Sakura by 3. Maximum upgrade level is 15. When Sesshou Sakura lightning hits opponents, the Electro DMG Bonus of all nearby party members is increased by 20% for 5s. Increases the Level of Great Secret Art: Tenko Kenshin by 3. Maximum upgrade level is 15. The Sesshou Sakura's attacks will ignore 60% of the opponent's DEF.\",\n",
       " \"When Yanfei uses her Charged Attacks,each existing Scarlet Seal additionally reduces the stamina cost of this Charged Attack by 10% and increases resistance against interruption during its release. Increases Yanfei's Charged Attack CRIT rate by 20% against enemies below 50% HP. Increases the Level of Signed Edict by 3. Maximum upgrade level is 15. When Done Deal is used: Creates a shield which absorbes upto 45% of Yanfei's Max HP for 15s. This shield absorbes Pyro DMG 250% more efficiently. Increases the Level of Done Deal by 3. Maximum upgrade level is 15. Increases the maximum number of Scarlet Seals by 1.\",\n",
       " \"When White Jade Radishes explode, active characters within their AoE will gain 15% Dendro DMG Bonus for 8s and have 15 Stamina restored to them. This form of Stamina Restoration can only be triggered every 5s. While affected by the Adeptal Legacy state caused by Moonjade Descent, if White Jade Radish explosions damage opponents, 3 Energy will be restored to Yaoyao. This form of Energy regeneration can occur once every 0.8s. Increases the Raphanus Sky Cluster by 3. Maximum upgrade level is 15. After using Raphanus Sky Cluster or Moonjade Descent, Yaoyao's Elemental Mastery will be increased based on 0.3% of her Max HP for 8s. The maximum Elemental Mastery she can gain this way is 120. Increases the Moonjade Descent by 3. Maximum upgrade level is 15. For every 2 White Jade Radishes Yuegui: Throwing Mode throws out, it will also throw a Mega Radish that will have a larger AoE than the standard White Jade Radish and have the following effects upon exploding: Deals AoE Dendro DMG based on 75% of Yaoyao's ATK. Restores HP for the active character based on 7.5% of Yaoyao's Max HP. Every Yuegei: Throwing Mode can throw out a maximum of 2 Mega Radishes.\",\n",
       " \"Lingering Lifeline gains 1 additional charge. When Exquisite Throw conducts a coordinated attack, it will fire an additional water arrow that will deal 14% of Yelan's Max HP as Hydro DMG. Increases the Level of Depth-Clarion Dice by 3. Maximum upgrade level is 15. Increases all party members' Max HP by 10% for 25s for every opponent marked by Lifeline when the Lifeline explodes. A maximum increase of 40% Max HP can be attained in this manner. Increases the Level of Lingering Lifeline by 3. Maximum upgrade level is 15. After using Depth-Clarion Dice, Yelan will enter the Mastermind state. In this state, all of Yelan's Normal Attacks will be special Breakthrough Barbs. These Breakthrough Barbs will have similar abilities to normal ones and the DMG dealt will be considered Charged Attack DMG, dealing 156% of a normal Breakthrough Barb's DMG. The Mastermind state lasts 20s and will be cleared after Yelan fires 5 arrows.\",\n",
       " \"The Auros Blaze created by Ryuukin Saxifrage lasts for an extra 4s. Additionally, when an opponent affected by Aurous Blaze is defeated within its duration, Yoimiya's ATK is increased by 20% for 20s. When Yoimiya's Pyro DMG scores a CRIT Hit, Yoimiya will gain a 25% Pyro DMG Bonus for 6s. This effect can be triggered even when Yoimiya is not the active character. Increases the Level of Niwabi Fire-Dance by 3. Maximum upgrade level is 15. When Yoimiya's own Aurous Blaze triggers an explosion, Niwabi Fire-Dance's CD is decreased by 1.2. Increases the Level of Ryuukin Saxifrage by 3. Maximum upgrade level is 15. During Niwabi Fire-Dance, Yoimiya's Normal Attacks have a 50% chance of firing an extra Kindling Arrow that deals 60% of its original DMG. This DMG is considered Normal Attack DMG.\",\n",
       " \"Opening Flourish's CD is decreased by 18%. After Cliffbreaker's Banner is unleashed, all nearby party members' Normal Attack DMG is increased by 15% for 12s. Increases the Level of Cliffbreaker's Banner by 3. Maximum upgrade level is 15. When Yun Jin triggers the Crystallize Reaction, her DEF is increased by 20% for 12s. Increases the Level of Opening Flourish by 3. Maximum upgrade level is 15. Characters under the effects of the Flying Cloud Flag Formation have their Normal ATK SPD increased by 12%.\",\n",
       " \"Increases the maximum number of Stone Steles created by Dominus Lapidis that may exist simultaneously to 2. Planet Befall grants nearby characters on the field a Jade Shield when it descends. Increases the Level of Dominus Lapidis by 3. Maximum upgrade level is 15. Increases Planet Befall's AoE by 20% and increases the duration of Planet Befall's Petrification effect by 2s. Increase the Level of Planet Befall by 3. Maximum upgrade level is 15. When the Jade Shield takes DMG, 40% of that incoming DMG is converted to HP for the current character. A single instance of regeneration cannot exceed 8% of that character's Max HP.\",\n",
       " \"After using Royal Descent: Behold, Itto the Evil!, Arataki Itto gains 2 stacks of Superlative Superstrength. After 1s, Itto will gain 1 stack of Superlative Superstrength every 0.5s for 1.5s. After using Royal Descent: Behold, Itto the Evil!, each party member whose Element is Geo will decrease that skill's CD by 1.5s and restore 6 Energy to Arataki Itto. CD can be decreased by up to 4.5s in this manner. Max 18 Energy can be restored in this manner. Increases the level of Masatsu Zetsugi: Akaushi Burst! by 3. Maximum upgrade level is 15. When the Raging Oni King state caused by Royal Descent: Behold, Itto the Evil! ends, all nearby party members gain 20% DEF and 20% ATK for 10s. Increases the level of Royal Descent: Behold, Itto the Evil! by 3. Maximum upgrade level is 15. Arataki Itto's Charged Attacks deal +70% Crit DMG. Additionally, when he uses Arataki Kesagiri, he has a 50% chance to not consume stacks of Superlative Superstrength.\",\n",
       " \"Decreases Chihayaburu's CD by 10%. Using Kazuha Slash resets the CD of Chihayaburu. The Autumn Whirlwind field created by Kazuha Slash has the following effects: Increases Kaedehara Kazuha's own Elemental Mastery by 200. Increases the Elemental Mastery of characters within the field by 200. The Elemental Mastery-increasing effects of this Constellation do not stack. Increases the Level of Chihayaburu by 3. Maximum upgrade level is 15. When Kaedehara Kazuha's Energy is lower than 45, he obtains the following effects: Pressing or Holding Chihayaburu regenerates 3 or 4 Energy for Kaedehara Kazuha, respectively. When gliding, Kaedehara Kazuha regenerates 2 Energy per second. Increase the Level of Kazuha Slash by 3. Maximum upgrade level is 15. After using Chihayaburu or Kazuha Slash, Kaedehara Kazuha gains an Anemo Infusion for 5s. Additionally, each point of Elemental Mastery will increase the DMG dealt by Kaedehara Kazuha's Normal, Charged, and Plunging Attack by 0.2%.\",\n",
       " \"For 5s after Shikanoin Heizou takes the field, his Normal Attack SPD is increased by 15%. He also gains 1 Declension stack for Heartstopper Strike. This effect can be triggered once every 10s. The pull effect of the Arresting Windtunnel created by Windmuster Kick is enhanced, and its duration is increased to 1s. Increases the level of Heartstopper Strike by 3. Maximum upgrade level is 15. The first Windmuster Iris explosion in each Windmuster Kick will regenerate 9 Elemental Energy for Shikanoin Heizou. Every subsequent explosion in that Windmuster Kick will each regenerate an additional 1.5 Energy for Heizou. One Windmuster Kick can regenerate a total of 13.5 Energy for Heizou in this manner. Increases the level of Windmuster Kick by 3. Maximum upgrade level is 15. Each Declension stack will increase the CRIT Rate of the Heartstopper Strike unleashed by 4%. When Heizou possesses Conviction, this Heartstopper Strike's CRIT DMG is increased by 32%.\",\n",
       " \"When Tengu Juurai grant characters ATK Bonuses or hits opponents, the CD of Tengu Stormcall is decreased by 1s. This effect can be triggered once every 3s. Unleashing Tengu Stormcall will leave a weaker Crowfeather at Kujou Sara's original position that will deal 30% of its original DMG. Increases the Level of Subjugation: Koukou Sendou by 3. Maximum upgrade level is 15. The number of Tengu Juurai: Stormcluster released by Subjugation: Koukou Sendou is increased to 6. Increase the Level of Tengu Stormcall by 3. Maximum upgrade level is 15. The Electro DMG of characters who have had their ATK increased by Tengu Juurai has its Crit DMG increased by 60%.\",\n",
       " \"Decreases the CD of Foul Legacy: Raging Tide by 20%. When opponents affected by Riptide are defeated, Tartaglia regenerates 4 Elemental Energy. Increases the Level of Foul Legacy: Raging Tide by 3. Maximum upgrade level is 15. If Tartaglia is in Foul Legacy: Raging Tide's Melee Stance, triggers Riptide Slash against opponents on the field affected by Riptide every 4s, otherwise, triggers Riptide Flash. Riptide Slashes and Riptide Flashes triggered by this Constellation effect are not subject to the time intervals that would typically apply to these two Riptide effects, nor do they have any effect on those time intervals. Increase the Level of Havoc: Obliteration by 3. Maximum upgrade level is 15. When Havoc: Obliteration is cast in Melee Stance, the CD of Foul Legacy: Raging Tide is reset. This effect will only take place once Tartaglia returns to his Ranged Stance.\",\n",
       " \"Shunsuiken DMG is increased by 40% against opponents with 50% HP or less. Namisen's maximum stack count is increased to 5. When Kamisato Ayato has at least 3 Namisen stacks, his Max HP is increased by 50%. Increases the Level of Kamisato Art: Kyouka by 3. Maximum upgrade level is 15. After using Kamisato Art: Suiyuu, all nearby party members will have 15% increased Normal Attack SPD for 15s. Increase the Level of Kamisato Art: Suiyuu by 3. Maximum upgrade level is 15. After using Kamisato Art: Kyouka, Ayato's next Shunsuiken attack will create 2 extra Shunsuiken strikes when they hit opponents, each one dealing 450% of Ayato's ATK as DMG. Both these Shunsuiken attacks will not be affected by Namisen.\",\n",
       " \"When Kamisato Ayaka's Normal or Charged Attacks deal Cryo DMG to opponents, it has a 50% chance of decreasing the CD of Kamisato Art: Hyouka by 0.3s. This effect can occur once every 0.1s. When casting Kamisato Art: Soumetsu, unleashes 2 smaller additional Frostflake Seki no To, each dealing 20% of the original storm's DMG. Increases the Level of Kamisato Art: Soumetsu by 3. Maximum upgrade level is 15. Opponents damaged by Kamisato Art: Soumetsu's Frostflake Seki no To will have their DEF decreased by 30% for 6s. Increase the Level of Kamisato Art: Hyouka by 3. Maximum upgrade level is 15. Kamisato Ayaka gains Usurahi Butou every 10s, increasing her Charged Attack DMG by 298%. This buff will be cleared 0.5s after Ayaka's Charged ATK hits an opponent, after which the timer for this ability will restart.\",\n",
       " \"While donning the Ceremonial Garment created by Nereid's Ascension, the final Normal Attack in Sangonomiya Kokomi's combo will unleash a swimming fish to deal 30% of her Max HP as Hydro DMG. This DMG is not considered Normal Attack DMG. Sangonomiya Kokomi gains the following Healing Bonuses with regard to characters with 50% or less HP via the following methods: Kurage's Oath Bake-Kurage: 4.5% of Kokomi's Max HP. Nereid's Ascension Normal and Charged Attacks: 0.6% of Kokomi's Max HP. Increases the Level of Nereid's Ascension by 3. Maximum upgrade level is 15. While donning the Ceremonial Garment created by Nereid's Ascension, Sangonomiya Kokomi's Normal Attack SPD is increased by 10%, and Normal Attacks that hit opponents will restore 0.8 Energy for her. This effect can occur once every 0.2s. Increase the Level of Kurage's Oath by 3. Maximum upgrade level is 15. While donning the Ceremonial Garment created by Nereid's Ascension, Sangonomiya Kokomi gains a 40% Hydro DMG Bonus for 4s after her Normal and Charged Attacks heal a character with 80% or more HP.\"]"
      ]
     },
     "execution_count": 214,
     "metadata": {},
     "output_type": "execute_result"
    }
   ],
   "source": [
    "cons_full"
   ]
  },
  {
   "cell_type": "code",
   "execution_count": 216,
   "id": "b472264d",
   "metadata": {},
   "outputs": [
    {
     "name": "stdout",
     "output_type": "stream",
     "text": [
      "[141, 252, 5, 92, 167, 117, 86, 111, 143, 196, 224, 303, 142, 205, 255, 242, 139, 136, 160, 121, 180, 129, 123, 338, 116, 146, 193, 188, 110, 120, 121, 137, 219, 125, 145, 230, 106, 100, 149, 172, 165, 234, 240, 236, 183, 66, 112, 102, 171, 116, 96, 193, 135, 108, 110, 149, 80, 126, 123, 124, 180, 119, 271, 358, 93, 263, 106, 111, 109, 106, 102, 201, 155, 135, 84, 106, 164, 149, 155, 111, 143, 121, 138, 175]\n"
     ]
    },
    {
     "data": {
      "text/plain": [
       "84"
      ]
     },
     "execution_count": 216,
     "metadata": {},
     "output_type": "execute_result"
    }
   ],
   "source": [
    "List_count = []\n",
    "\n",
    "for paragraph in cons_full:\n",
    "    words = paragraph.split()\n",
    "    word_count = sum(Counter(words).values())\n",
    "    List_count.append(word_count)\n",
    "\n",
    "print(List_count)\n",
    "len(List_count)"
   ]
  },
  {
   "cell_type": "code",
   "execution_count": 219,
   "id": "a0ce93ea",
   "metadata": {},
   "outputs": [],
   "source": [
    "combined_list2 = list(zip(dates_full, List_count))\n",
    "#combined_list2"
   ]
  },
  {
   "cell_type": "code",
   "execution_count": 221,
   "id": "c5220036",
   "metadata": {},
   "outputs": [
    {
     "data": {
      "text/plain": [
       "{datetime.date(2020, 12, 23): 141,\n",
       " datetime.date(2023, 1, 18): 201,\n",
       " datetime.date(2021, 9, 1): 111,\n",
       " datetime.date(2020, 9, 28): 111,\n",
       " datetime.date(2023, 5, 2): 121,\n",
       " datetime.date(2022, 9, 28): 255,\n",
       " datetime.date(2023, 11, 8): 338,\n",
       " datetime.date(2024, 1, 9): 224,\n",
       " datetime.date(2024, 3, 13): 303,\n",
       " datetime.date(2022, 8, 24): 149,\n",
       " datetime.date(2023, 3, 1): 242,\n",
       " datetime.date(2020, 11, 11): 143,\n",
       " datetime.date(2022, 9, 9): 160,\n",
       " datetime.date(2021, 5, 18): 121,\n",
       " datetime.date(2022, 12, 7): 271,\n",
       " datetime.date(2023, 9, 5): 123,\n",
       " datetime.date(2024, 1, 31): 263,\n",
       " datetime.date(2021, 1, 12): 146,\n",
       " datetime.date(2021, 12, 14): 164,\n",
       " datetime.date(2021, 3, 2): 188,\n",
       " datetime.date(2023, 5, 24): 219,\n",
       " datetime.date(2020, 10, 20): 125,\n",
       " datetime.date(2022, 6, 21): 145,\n",
       " datetime.date(2022, 11, 18): 230,\n",
       " datetime.date(2023, 8, 16): 180,\n",
       " datetime.date(2023, 3, 21): 172,\n",
       " datetime.date(2022, 11, 2): 234,\n",
       " datetime.date(2023, 12, 20): 240,\n",
       " datetime.date(2023, 9, 27): 236,\n",
       " datetime.date(2022, 10, 14): 183,\n",
       " datetime.date(2021, 4, 6): 96,\n",
       " datetime.date(2021, 8, 10): 135,\n",
       " datetime.date(2022, 1, 5): 84,\n",
       " datetime.date(2021, 11, 2): 110,\n",
       " datetime.date(2022, 8, 23): 126,\n",
       " datetime.date(2021, 7, 21): 138,\n",
       " datetime.date(2023, 10, 17): 358,\n",
       " datetime.date(2021, 2, 3): 106,\n",
       " datetime.date(2020, 12, 1): 106,\n",
       " datetime.date(2022, 2, 16): 106,\n",
       " datetime.date(2021, 4, 28): 102,\n",
       " datetime.date(2022, 5, 31): 155,\n",
       " datetime.date(2021, 6, 29): 149,\n",
       " datetime.date(2022, 7, 13): 155,\n",
       " datetime.date(2022, 3, 30): 121,\n",
       " datetime.date(2021, 9, 21): 175}"
      ]
     },
     "execution_count": 221,
     "metadata": {},
     "output_type": "execute_result"
    }
   ],
   "source": [
    "word_count_dict = dict([(date, count) for date, count in combined_list2])\n",
    "word_count_dict"
   ]
  },
  {
   "cell_type": "markdown",
   "id": "75709dd2",
   "metadata": {},
   "source": [
    "# Testing"
   ]
  },
  {
   "cell_type": "code",
   "execution_count": null,
   "id": "b8f28a19",
   "metadata": {},
   "outputs": [],
   "source": [
    "characters_wk_test = characters_wk[3]\n",
    "dates_full = []\n",
    "\n",
    "for names in characters_wk_test:\n",
    "\n",
    "    url_chara_wk = \"https://genshin-impact.fandom.com/wiki/\"+names\n",
    "    page_chara_wk = requests.get(url_chara_wk)\n",
    "    soup_chara_wk = BeautifulSoup(page_chara_wk.content, \"html.parser\")\n",
    "    \n",
    "    release_date_div = soup_chara_wk.find('div', {'data-source': 'releaseDate'})\n",
    "    print(release_date_div)"
   ]
  },
  {
   "cell_type": "code",
   "execution_count": null,
   "id": "8be20293",
   "metadata": {},
   "outputs": [],
   "source": [
    "url_chara_wk = \"https://genshin-impact.fandom.com/wiki/\"+characters_wk[74]\n",
    "page_chara_wk = requests.get(url_chara_wk)\n",
    "soup_chara_wk = BeautifulSoup(page_chara_wk.content, \"html.parser\")\n",
    "\n",
    "release_date_div = soup_chara_wk.find('div', {'data-source': 'releaseDate'})\n",
    "release_date_div"
   ]
  },
  {
   "cell_type": "code",
   "execution_count": 154,
   "id": "5ec5306b",
   "metadata": {},
   "outputs": [
    {
     "data": {
      "text/plain": [
       "'Amber'"
      ]
     },
     "execution_count": 154,
     "metadata": {},
     "output_type": "execute_result"
    }
   ],
   "source": [
    "characters_wk[3]"
   ]
  },
  {
   "cell_type": "code",
   "execution_count": 171,
   "id": "d7d7be3d",
   "metadata": {},
   "outputs": [],
   "source": [
    "url_chara_wk = \"https://genshin-impact.fandom.com/wiki/amber\"    #+characters_wk[3]\n",
    "page_chara_wk = requests.get(url_chara_wk)\n",
    "soup_chara_wk = BeautifulSoup(page_chara_wk.content, \"html.parser\")"
   ]
  },
  {
   "cell_type": "code",
   "execution_count": 172,
   "id": "5ec53ae3",
   "metadata": {},
   "outputs": [
    {
     "data": {
      "text/plain": [
       "<div class=\"pi-item pi-data pi-item-spacing pi-border-color\" data-source=\"releaseDate\">\n",
       "<h3 class=\"pi-data-label pi-secondary-font\"><a href=\"/wiki/Character/List#Characters_by_Release_Date\" title=\"Character/List\">Release Date</a></h3>\n",
       "<div class=\"pi-data-value pi-font\">September 28, 2020<br/>3 years, 6 months ago</div>\n",
       "</div>"
      ]
     },
     "execution_count": 172,
     "metadata": {},
     "output_type": "execute_result"
    }
   ],
   "source": [
    "release_date_div = soup_chara_wk.find('div', {'data-source': 'releaseDate'})\n",
    "release_date_div"
   ]
  },
  {
   "cell_type": "code",
   "execution_count": 176,
   "id": "3549d110",
   "metadata": {},
   "outputs": [
    {
     "data": {
      "text/plain": [
       "datetime.date(2020, 9, 28)"
      ]
     },
     "execution_count": 176,
     "metadata": {},
     "output_type": "execute_result"
    }
   ],
   "source": [
    "output = release_date_div.find('div', class_='pi-data-value').get_text(strip=True).split()[0:3]\n",
    "output[2] = output[2][:4]\n",
    "\n",
    "output = ' '.join(output)\n",
    "output = datetime.strptime(output, \"%B %d, %Y\").date()\n",
    "\n",
    "output"
   ]
  },
  {
   "cell_type": "code",
   "execution_count": 168,
   "id": "82e1cbbd",
   "metadata": {},
   "outputs": [],
   "source": [
    "url_chara_gg = \"https://genshin.gg/characters/\"+characters_gg[3]+\"/\"\n",
    "page_chara_gg = requests.get(url_chara_gg)\n",
    "soup_chara_gg = BeautifulSoup(page_chara_gg.content, \"html.parser\")"
   ]
  },
  {
   "cell_type": "code",
   "execution_count": 169,
   "id": "a3ca1b32",
   "metadata": {},
   "outputs": [
    {
     "data": {
      "text/plain": [
       "\"Fires 2 arrows per Aimed Shot. The second arrow deals 20% of the first arrow's DMG. Baron Bunny, new and improved! Hitting Baron Bunny's foot with a fully-charged Aimed Shot manually detonates it. Explosion via manual detonation deals 200% additional DMG. Increases the Level of Fiery Rain by 3. Maximum upgrade level is 15. Decreases Explosive Puppet's CD by 20%. Adds 1 additional charge. Increase the Level of Explosive Puppet by 3. Maximum upgrade level is 15. Fiery Rain increases Amber's Movement SPD by 15% and Base ATK by 15% for 10s.\""
      ]
     },
     "execution_count": 169,
     "metadata": {},
     "output_type": "execute_result"
    }
   ],
   "source": [
    "cons1 = soup_chara_gg.find(\"div\", id=\"constellations\").find_all(\"div\", class_=\"character-skill-description\")\n",
    "cons2 = [con.get_text() for con in cons1]\n",
    "cons2 = \" \".join(cons2)\n",
    "        #print(cons2)\n",
    "        #cons_full.append(cons2)\n",
    "    \n",
    "\n",
    "        #print(\"No Constellations\")\n",
    "        #notext = \"This character has no constellations.\"\n",
    "        #cons_full.append(notext)\n",
    " \n",
    "cons2"
   ]
  },
  {
   "cell_type": "code",
   "execution_count": 181,
   "id": "04cf1c69",
   "metadata": {},
   "outputs": [
    {
     "data": {
      "text/plain": [
       "{datetime.date(2020, 9, 28): \"Fires 2 arrows per Aimed Shot. The second arrow deals 20% of the first arrow's DMG. Baron Bunny, new and improved! Hitting Baron Bunny's foot with a fully-charged Aimed Shot manually detonates it. Explosion via manual detonation deals 200% additional DMG. Increases the Level of Fiery Rain by 3. Maximum upgrade level is 15. Decreases Explosive Puppet's CD by 20%. Adds 1 additional charge. Increase the Level of Explosive Puppet by 3. Maximum upgrade level is 15. Fiery Rain increases Amber's Movement SPD by 15% and Base ATK by 15% for 10s.\"}"
      ]
     },
     "execution_count": 181,
     "metadata": {},
     "output_type": "execute_result"
    }
   ],
   "source": [
    "#pairs = zip(output, cons2)\n",
    "#my_dict_test1 = dict(pairs)\n",
    "#my_dict_test1\n",
    "\n",
    "#dict(pairs)\n",
    "\n",
    "dict_test = {output: cons2}\n",
    "dict_test"
   ]
  },
  {
   "cell_type": "code",
   "execution_count": 191,
   "id": "88ba3a3a",
   "metadata": {},
   "outputs": [],
   "source": [
    "characters_wk_test = characters_wk[0:15]\n",
    "characters_gg_test = characters_gg[0:15]\n",
    "cons_full_test = []\n",
    "dates_full_test = []\n",
    "\n",
    "for names in characters_gg_test:\n",
    "    \n",
    "    url_chara_gg = \"https://genshin.gg/characters/\"+names+\"/\"\n",
    "    page_chara_gg = requests.get(url_chara_gg)\n",
    "    soup_chara_gg = BeautifulSoup(page_chara_gg.content, \"html.parser\")\n",
    " \n",
    "\n",
    "    #Obtaining the constellation html info\n",
    "    \n",
    "    if soup_chara_gg.find(\"div\", id='constellations') != None:\n",
    "        cons1 = soup_chara_gg.find(\"div\", id=\"constellations\").find_all(\"div\", class_=\"character-skill-description\")\n",
    "        cons2 = [con.get_text() for con in cons1]\n",
    "        cons2 = \" \".join(cons2)\n",
    "        #print(cons2)\n",
    "        cons_full_test.append(cons2)\n",
    "    \n",
    "    else:\n",
    "        #print(\"No Constellations\")\n",
    "        notext = \"This character has no constellations.\"\n",
    "        cons_full_test.append(notext)\n",
    "        \n",
    "        \n",
    "for names in characters_wk_test:\n",
    "\n",
    "    url_chara_wk = \"https://genshin-impact.fandom.com/wiki/\"+names\n",
    "    page_chara_wk = requests.get(url_chara_wk)\n",
    "    soup_chara_wk = BeautifulSoup(page_chara_wk.content, \"html.parser\")\n",
    "    \n",
    "    \n",
    "    release_date_div = soup_chara_wk.find('div', {'data-source': 'releaseDate'})\n",
    "    \n",
    "    output = release_date_div.find('div', class_='pi-data-value').get_text(strip=True).split()[0:3]\n",
    "    output[2] = output[2][:4]\n",
    "    \n",
    "    output = ' '.join(output)\n",
    "    output = datetime.strptime(output, \"%B %d, %Y\").date()\n",
    "    \n",
    "    dates_full_test.append(output)\n",
    "    \n",
    "#pairs = zip(dates_full, cons_full)\n",
    "#my_dict_test = dict(pairs)"
   ]
  },
  {
   "cell_type": "code",
   "execution_count": 187,
   "id": "f067fb4e",
   "metadata": {},
   "outputs": [],
   "source": [
    "#my_dict_test = {tuple(dates_full): dates_full, tuple(cons_full): dates_full}\n",
    "#len(my_dict_test)\n",
    "\n",
    "#my_dict_test"
   ]
  },
  {
   "cell_type": "code",
   "execution_count": 192,
   "id": "be629b09",
   "metadata": {
    "scrolled": true
   },
   "outputs": [
    {
     "name": "stdout",
     "output_type": "stream",
     "text": [
      "[datetime.date(2020, 12, 23), datetime.date(2023, 1, 18), datetime.date(2021, 9, 1), datetime.date(2020, 9, 28), datetime.date(2023, 5, 2), datetime.date(2020, 9, 28), datetime.date(2020, 9, 28), datetime.date(2020, 9, 28), datetime.date(2022, 9, 28), datetime.date(2023, 11, 8), datetime.date(2024, 1, 9), datetime.date(2024, 3, 13), datetime.date(2020, 9, 28), datetime.date(2022, 8, 24), datetime.date(2022, 9, 28)]\n",
      "[\"Transient Blossoms generated by Albedo's Abiogenesis: Solar Isotoma regenerate 1.2 Energy for Albedo. Transient Blossoms generated by Abiogenesis: Solar Isotoma grant Albedo Fatal Reckoning for 30s: Each stack of Fatal Reckoning increases DMG by of Albedo's DEF. The effect stacks up to 4 times. Unleashing Rite of Progeniture: Tectonic Tide consumes all stacks of Fatal Reckoning, increasing the DMG dealt by the Tectonic Tide and Fatal Blossoms based on the number of stacks consumed. Increases the level of Abiogenesis: Solar Isotoma by 3. Maximum upgrade level is 15. Solar Isotoma increases Plunging Attack DMG by 30% for active party members within the AoE. Increases the level of Rite of Progeniture: Tectonic Tide by 3. Maximum upgrade level is 15. If active party members within the AoE are protected by a shield created by Crystallize, Solar Isotoma increases their DMG by 17%.\", \"When a Projection Attack hits an opponent, Universality: An Elaboration on Form's CD is decreased by 1.2s. This effect can be triggered once every 1s. When Alhaitham generates a Chisel-Light Mirror, his Elemental Mastery will be increased by 50 for 8 seconds, max 4 stacks. Each stack's duration is counted independently. This effect can be triggered even when the maximum number of Chisel-Light Mirrors has been reached. Increases the level of Universality: An Elaboration on Form by 3. Maximum upgrade level is 15. When Particular Field: Fetters of Phenomena is unleashed, the following effects will become active based on the number of Chisel-Light Mirrors consumed and created this time around: Each Mirror consumed will increase the Elemental Mastery of all other nearby party members by 30 for 15s. Each Mirror generated will grant Alhaitham a 10% Dendro DMG Bonus for 15s. The pre-existing duration of the aforementioned effects will be cleared if you use Particular Field: Fetters of Phenomena again while they are in effect. Increase the Particular Field: Fetters of Phenomena by 3. Maximum upgrade level is 15. Alhaitham gains the following effects: 2 seconds after Particular Field: Fetters of Phenomena is unleashed, he will generate 3 Chisel-Light Mirrors regardless of the number of mirrors consumed. If Alhaitham generates Chisel-Light Mirrors when their numbers have already maxed out, his CRIT Rate and CRIT DMG will increase by 10% and 70% respectively for 6s. If this effect is triggered again during its initial duration, the duration remaining will be increased by 6s.\", 'This character has no constellations.', \"Fires 2 arrows per Aimed Shot. The second arrow deals 20% of the first arrow's DMG. Baron Bunny, new and improved! Hitting Baron Bunny's foot with a fully-charged Aimed Shot manually detonates it. Explosion via manual detonation deals 200% additional DMG. Increases the Level of Fiery Rain by 3. Maximum upgrade level is 15. Decreases Explosive Puppet's CD by 20%. Adds 1 additional charge. Increase the Level of Explosive Puppet by 3. Maximum upgrade level is 15. Fiery Rain increases Amber's Movement SPD by 15% and Base ATK by 15% for 10s.\", \"Universal Diagnosis gains 1 additional charge. When your own active character hits a nearby opponent with their attacks, Baizhu will unleash a Gossamer Sprite: Splice. Gossamer Sprite: Splice will initiate 1 attack before returning, dealing 250% of Baizhu's ATK as Dendro DMG and healing for 20% of Universal Diagnosis's Gossamer Sprite's normal healing. DMG dealt this way is considered Elemental Skill DMG. This effect can be triggered once every 5s. Increases the Level of Holistic Revivification by 3. Maximum upgrade level is 15. For 15s after Holistic Revivification is used, Baizhu will increase all nearby party members' Elemental Mastery by 80. Increase the Level of Universal Diagnosis by 3. Maximum upgrade level is 15. Increases the DMG dealt by Holistic Revivification's Spiritveins by 8% of Baizhu's Max HP. Additionally, when a Gossamer Sprite or Gossamer Sprite: Splice hits opponents, there is a 100% chance of generating one of Holistic Revivification's Seamless Shields. This effect can only be triggered once by each Gossamer Sprite or Gossamer Sprite: Splice.\", \"Barbara regenerates 1 Energy every 10s. Decreases the CD of Let the Show Begin by 15%. During the ability's duration, the current character gains 15% Hydro DMG Bonus. Increases the Level of Shining Miracle by 3. Maximum upgrade level is 15. Every enemy hit by Barbara's Charged Attack regenerates 1 Energy for her. A maximum of 5 energy can be regenerated in this manner with any one Charged Attack. Increase the Level of Let the Show Begin by 3. Maximum upgrade level is 15. When Barbara is not on the field, and the character in play falls: Automatically revives this character. Fully regenerates this characters HP by 100%. This effect can only occur once every 15 mins.\", \"When Stormbreaker is used: Creates a shield that absorbs up to 16% of Beidou's Max HP for 15s. This shield absorbs Electro DMG 250% more effectively. Stormbreaker's arc lightning can jump 2 additional targets. Increases the Level of Tidecaller by 3. Maximum upgrade level is 15. Within 10s of taking DMG, Beidou's Normal Attacks gain 20% additional Electro DMG. Increase the Level of Stormbreaker by 3. Maximum upgrade level is 15. During the duration of Stormbreaker, the Electro RES of surrounding enemies is decreased by 15%.\", \"Fantastic Voyage's ATK increases no longer has an HP restriction, and gains an additional 20% Base ATK. When Bennett's HP falls below 70%, his Energy Recharge is increased by 30%. Increases the Level of Passion Overload by 3. Maximum upgrade level is 15. Using a Normal Attack when executing the second attack of Passion Overload's Charge Level 1 allows an additional attack to be performed. This additional attack does 135% of the second attack's DMG. Increase the Level of Fantastic Voyage by 3. Maximum upgrade level is 15. Sword, Claymore, or Polearm-wielding characters inside Fantastic Voyage's radius gain a 15% Pyro DMG Bonus. Normal and Charged Attacks now do Pyro DMG.\", \"The duration of Prayer of the Crimson Crown effect triggered by Sacred Rite: Wagtail's Tide is increased by 3s. When Sacred Rite: Heron's Sanctum hits opponents, Candace's Max HP will be increased by 20% for 15s. Increases the Level of Sacred Rite: Heron's Sanctum by 3. Maximum upgrade level is 15. Shortens the Hold CD of Sacred Rite: Heron's Sanctum to be the same as that of the Tapping CD. Increase the Level of Sacred Rite: Heron's Sanctum by 3. Maximum upgrade level is 15. When characters (excluding Candace herself) affected by the Prayer of the Crimson Crown caused by Sacred Rite: Wagtail's Tide deal Elemental DMG to opponents using Normal Attacks, an attack wave will be unleashed that deals AoE Hydro DMG equal to 15% of Candace's Max HP. This effect can trigger once every 2.3s and is considered Elemental Burst DMG.\", \"After Still Photo: Comprehensive Confirmation heals a character, it will mark them with Verification, which will heal them once every 2s for 80% of Charlotte's ATK. This effect lasts 6s. When using Framing: Freezing Point Composition, when Monsieur Verite hits 1/2/3 (or more) opponents, Charlotte's own ATK will be increased by 10%/20%/30% for 12s. Increases the Level of Still Photo: Comprehensive Confirmation by 3. Maximum upgrade level is 15. When Still Photo: Comprehensive Confirmation hits an opponent marked by Snappy Silhouette or Focused Impression, it will deal 10% more DMG and restore 2 Energy to Charlotte. This restoration can be triggered 5 times every 20s. Increases the Level of Framing: Freezing Point Composition by 3. Maximum upgrade level is 15. When the active character's Normal and Charged Attacks hit an opponent marked by Framing: Freezing Point Composition's Focused Impression, Monsieur Verite will initiate a coordinated attack that deals 180% of Charlotte's ATK as AoE Cryo DMG and heals active character(s) within the AoE for 42% of Charlotte's ATK. This effect can be triggered once every 6s and both DMG and healing dealt in this way will be considered as having been done by Charlotte's Elemental Burst.\", 'When the active character with the \"Coordinated Tactics\" status (not including Chevreuse herself) triggers the Overloaded reaction, they will recover 6 Energy. This effect can be triggered once every 10s. You must first unlock the Passive Talent \"Vanguard\\'s Coordinated Tactics.\" After Holding Short-Range Rapid Interdiction Fire and hitting a target, 2 chain explosions will be triggered near the location where said target is hit. Each explosion deals Pyro DMG equal to 120% of Chevreuse\\'s ATK. This effect can be triggered up to once every 10s, and DMG dealt this way is considered Elemental Skill DMG. Increases the Level of Short-Range Rapid Interdiction Fire by 3. Maximum upgrade level is 15. After using Ring of Bursting Grenades, the Hold mode of Short-Range Rapid Interdiction Fire will not go on cooldown when Chevreuse uses it. This effect is removed after Short-Range Rapid Interdiction Fire has been fired twice using Hold or after 6s. Increases the Level of Ring of Bursting Grenades by 3. Maximum upgrade level is 15. After 12s of the healing effect from Short-Range Rapid Interdiction Fire, all nearby party members recover HP equivalent to 10% of Chevreuse\\'s Max HP once. After a party member is healed by Short-Range Rapid Interdiction Fire, they gain a 20% Pyro DMG Bonus and Electro DMG Bonus for 8s. Max 3 stacks. Each stack\\'s duration is counted independently.', 'The AoE of the automaton doll \"Tamoto\" summoned by Fluttering Hasode is increased by 50%. Additionally, if there is a Geo party member other than Chiori, Fluttering Hasode will trigger the following after the dash is completed: Summon an additional Tamoto. Only one additional Tamoto can exist at the same time, whether summoned by Chiori this way or through the presence of a Geo Construct. Triggers the Passive Talent \"The Finishing Touch.\" This effect requires you to first unlock the Passive Talent \"The Finishing Touch.\" For 10s after using Hiyoku: Twin Blades, a simplified automaton doll, \"Kinu,\" will be summoned next to your active character every 3s. Kinu will attack nearby opponents, dealing AoE Geo DMG equivalent to 170% of Tamoto\\'s DMG. DMG dealt this way is considered Elemental Skill DMG. Kinu will leave the field after 1 attack or after lasting 3s. Increases the Level of Fluttering Hasode by 3. Maximum upgrade level is 15. For 8s after triggering either follow-up effect of the Passive Talent \"Tailor-Made,\" when your current active character\\'s Normal, Charged, or Plunging Attacks hit a nearby opponent, a simplified automaton doll, \"Kinu,\" will be summoned near this opponent. You can summon 1 Kinu every 1s in this way, and up to 3 Kinu may be summoned this way during each instance of \"Tailor-Made\"\\'s Seize the Moment or Tailoring effect. The above effect can be triggered up to once every 15s. Must unlock the Passive Talent \"Tailor-Made\" first. Increases the Level of Hiyoku: Twin Blades by 3. Maximum upgrade level is 15. After triggering a follow-up effect of the Passive Talent \"Tailor-Made,\" Chiori\\'s own Fluttering Hasode\\'s CD is decreased by 12s. Must unlock the Passive \"Tailor-Made\" first. In addition, the DMG dealt by Chiori\\'s own Normal Attacks is increased by an amount equal to 235% of her own DEF.', \"The last attack of Chongyun's Normal Attack combo releases 3 ice blades. Each blade deals 50% of Chongyun's ATK as Cryo DMG to all enemies in its path. Elemental Skills and Elemental Bursts cast within the Frost Field created by Spirit Blade - Chongyun's Layered Frost have their CD time decreased by 15%. Increases the Level of Spirit Blade - Cloud-parting Star by 3. Maximum upgrade level is 15. Chongyun regenerates 1 Energy every time he hits an enemy affected by Cold or Frozen status effects. This effect can only occur once every 2s. Increases the level of Spirit Blade - Chongyun's Layered Frost by 3. Maximum upgrade level is 15. Spirit Blade - Cloud-parting Star deals 15% more DMG to enemies with a lower percentage of their Max HP remaining than Chongyun. This skill will also summon 1 additional spirt blade.\", \"When in the party and not on the field, Collei's Energy Recharge is increased by 20%. The Passive Talent Floral Sidewinder is changed to this: The Floral Ring will grant the character the Sprout effect from Floral Sidewinder upon return, dealing 40% of Collei's ATK as Dendro DMG to nearby opponents for 3s. From the moment of using Floral Brush to the moment when this instance of Sprout effect ends, if any of your party members triggers Burning, Quicken, Aggravate, Spread, Bloom, Hyperbloom, or Burgeon reactions, the Sprout effect will be extended by 3s. The Sprout effect can only be extended this way once. If another Sprout effect is triggered during its initial duration, the initial effect will be removed. Requires you to have unlocked the Floral Sidewinder Passive Talent. Increases the Level of Floral Brush by 3. Maximum upgrade level is 15. Using Trump-Card Kitty will increase all nearby characters' Elemental Mastery by 60 for 12s (not including Collei herself). Increase the Level of Trump-Card Kitty by 3. Maximum upgrade level is 15. When the Floral Ring hits, it will create a miniature Cuilein-Anbar that will deal 200% of Collei's ATK as Dendro DMG. Each Floral Brush can only create one such miniature Cuilein-Anbar.\", 'After using Sacred Rite: Wolf\\'s Swiftness, Cyno\\'s Normal Attack SPD will be increased by 20% for 10s. If the Judication effect of his Passive Talent Featherfall Judgment is triggered during Secret Rite: Chasmic Soulfarer, the duration of this increase will be refreshed. You need to unlock the Passive Talent \"Featherfall Judgement.\" When Cyno\\'s Normal Attacks hit opponents, his Electro DMG Bonus will increase by 10% for 4s. This effect can be triggered once every 0.1s. Max 5 stacks. Increases the Level of Sacred Rite: Wolf\\'s Swiftness by 3. Maximum upgrade level is 15. When Cyno is in the Pactsworn Pathclearer state triggered by Sacred Rite: Wolf\\'s Swiftness, after he triggers Electro-Charged, Superconduct, Overloaded, Quicken, Aggravate, Hyperbloom, or an Electro Swirl reaction, he will restore 3 Elemental Energy for all nearby party members (except himself.) This effect can occur 5 times within one use of Sacred Rite: Wolf’s Swiftness. Increase the Level of Secret Rite: Chasmic Soulfarer by 3. Maximum upgrade level is 15. After using Sacred Rite: Wolf\\'s Swiftness or triggering the Judication effect of the Passive Talent \"Featherfall Judgment,\" Cyno will gain 4 stacks of the \"Day of the Jackal\" effect. When he hits opponents with Normal Attacks, he will consume 1 stack of \"Day of the Jackal\" to fire off one Duststalker Bolt. \"Day of the Jackal\" lasts for 8s. Max 8 stacks. It will be canceled once Pactsworn Pathclearer ends. A maximum of 1 Duststalker Bolt can be unleashed this way every 0.4s. You must first unlock the Passive Talent \"Featherfall Judgment.\"']\n"
     ]
    }
   ],
   "source": [
    "print(dates_full_test)\n",
    "print(cons_full_test)"
   ]
  },
  {
   "cell_type": "code",
   "execution_count": 195,
   "id": "c41d0442",
   "metadata": {
    "scrolled": false
   },
   "outputs": [
    {
     "data": {
      "text/plain": [
       "15"
      ]
     },
     "execution_count": 195,
     "metadata": {},
     "output_type": "execute_result"
    }
   ],
   "source": [
    "len(cons_full_test)"
   ]
  },
  {
   "cell_type": "code",
   "execution_count": 193,
   "id": "2e17eb5f",
   "metadata": {},
   "outputs": [
    {
     "name": "stdout",
     "output_type": "stream",
     "text": [
      "['albedo', 'alhaitham', 'aloy', 'amber', 'baizhu', 'barbara', 'beidou', 'bennett', 'candace', 'charlotte', 'chevreuse', 'chiori', 'chongyun', 'collei', 'cyno', 'dehya', 'diluc', 'diona', 'dori', 'eula', 'faruzan', 'fischl', 'freminet', 'furina', 'gaming', 'ganyu', 'gorou', 'hutao', 'jean', 'kaeya', 'kaveh', 'keqing', 'kirara', 'klee', 'kukishinobu', 'layla', 'lisa', 'lynette', 'lyney', 'mika', 'mona', 'nahida', 'navia', 'neuvillette', 'nilou', 'ningguang', 'noelle', 'qiqi', 'raiden', 'razor', 'rosaria', 'sayu', 'shenhe', 'sucrose', 'thoma', 'tighnari', 'traveler(anemo)', 'traveler(dendro)', 'traveler(electro)', 'traveler(geo)', 'traveler(hydro)', 'venti', 'wanderer', 'wriothesley', 'xiangling', 'xianyun', 'xiao', 'xingqiu', 'xinyan', 'yaemiko', 'yanfei', 'yaoyao', 'yelan', 'yoimiya', 'yunjin', 'zhongli', 'itto', 'kazuha', 'heizou', 'sara', 'childe', 'ayato', 'ayaka', 'kokomi']\n"
     ]
    }
   ],
   "source": [
    "#my_dict_test\n",
    "\n",
    "print(characters_gg)"
   ]
  },
  {
   "cell_type": "markdown",
   "id": "a7154de9",
   "metadata": {},
   "source": [
    "# Data Insights"
   ]
  },
  {
   "cell_type": "code",
   "execution_count": 137,
   "id": "32c2ebbc",
   "metadata": {},
   "outputs": [],
   "source": [
    "#The increase in constellation descriptions over time."
   ]
  },
  {
   "cell_type": "code",
   "execution_count": 210,
   "id": "a0dce70a",
   "metadata": {},
   "outputs": [
    {
     "name": "stdout",
     "output_type": "stream",
     "text": [
      "{datetime.date(2020, 12, 23): 141, datetime.date(2023, 1, 18): 201, datetime.date(2021, 9, 1): 111, datetime.date(2020, 9, 28): 111, datetime.date(2023, 5, 2): 121, datetime.date(2022, 9, 28): 255, datetime.date(2023, 11, 8): 338, datetime.date(2024, 1, 9): 224, datetime.date(2024, 3, 13): 303, datetime.date(2022, 8, 24): 149, datetime.date(2023, 3, 1): 242, datetime.date(2020, 11, 11): 143, datetime.date(2022, 9, 9): 160, datetime.date(2021, 5, 18): 121, datetime.date(2022, 12, 7): 271, datetime.date(2023, 9, 5): 123, datetime.date(2024, 1, 31): 263, datetime.date(2021, 1, 12): 146, datetime.date(2021, 12, 14): 164, datetime.date(2021, 3, 2): 188, datetime.date(2023, 5, 24): 219, datetime.date(2020, 10, 20): 125, datetime.date(2022, 6, 21): 145, datetime.date(2022, 11, 18): 230, datetime.date(2023, 8, 16): 180, datetime.date(2023, 3, 21): 172, datetime.date(2022, 11, 2): 234, datetime.date(2023, 12, 20): 240, datetime.date(2023, 9, 27): 236, datetime.date(2022, 10, 14): 183, datetime.date(2021, 4, 6): 96, datetime.date(2021, 8, 10): 135, datetime.date(2022, 1, 5): 84, datetime.date(2021, 11, 2): 110, datetime.date(2022, 8, 23): 126, datetime.date(2021, 7, 21): 138, datetime.date(2023, 10, 17): 358, datetime.date(2021, 2, 3): 106, datetime.date(2020, 12, 1): 106, datetime.date(2022, 2, 16): 106, datetime.date(2021, 4, 28): 102, datetime.date(2022, 5, 31): 155, datetime.date(2021, 6, 29): 149, datetime.date(2022, 7, 13): 155, datetime.date(2022, 3, 30): 121, datetime.date(2021, 9, 21): 175}\n"
     ]
    }
   ],
   "source": [
    "word_count_dict = {}\n",
    "\n",
    "for date, description in my_dict.items():\n",
    "    word_count = len(description.split())\n",
    "    word_count_dict[date] = word_count\n",
    "\n",
    "print(word_count_dict)"
   ]
  },
  {
   "cell_type": "code",
   "execution_count": 222,
   "id": "563219c5",
   "metadata": {},
   "outputs": [
    {
     "data": {
      "image/png": "[encoded data removed]",
      "text/plain": [
       "<Figure size 1000x600 with 1 Axes>"
      ]
     },
     "metadata": {},
     "output_type": "display_data"
    }
   ],
   "source": [
    "# Extracting the x and y data\n",
    "dates = list(word_count_dict.keys())\n",
    "word_counts = list(word_count_dict.values())\n",
    "\n",
    "# Creating the scatter plot\n",
    "plt.figure(figsize=(10, 6))\n",
    "plt.scatter(dates, word_counts, color='blue')\n",
    "\n",
    "# Adding labels and title\n",
    "plt.xlabel('Date')\n",
    "plt.ylabel('Word Count')\n",
    "plt.title('Word Count of Constellations Over Time')\n",
    "\n",
    "# Formatting x-axis ticks as dates\n",
    "plt.xticks(rotation=45, ha='right')\n",
    "\n",
    "# Display the plot\n",
    "plt.tight_layout()\n",
    "plt.show()"
   ]
  },
  {
   "cell_type": "code",
   "execution_count": null,
   "id": "6f38be98",
   "metadata": {},
   "outputs": [],
   "source": []
  }
 ],
 "metadata": {
  "kernelspec": {
   "display_name": "Python 3 (ipykernel)",
   "language": "python",
   "name": "python3"
  },
  "language_info": {
   "codemirror_mode": {
    "name": "ipython",
    "version": 3
   },
   "file_extension": ".py",
   "mimetype": "text/x-python",
   "name": "python",
   "nbconvert_exporter": "python",
   "pygments_lexer": "ipython3",
   "version": "3.9.13"
  }
 },
 "nbformat": 4,
 "nbformat_minor": 5
}
